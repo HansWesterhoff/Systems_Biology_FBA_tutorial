{
 "cells": [
  {
   "cell_type": "markdown",
   "metadata": {},
   "source": [
    "# Systems Biology and Medicine Practical: Flux Balance Analysis in Python\n",
    "<p>**Authors**: Thierry D.G.A Mondeel, Stefania Astrologo, Ewelina Weglarz-Tomczak & Hans V. Westerhoff <br/>\n",
    "University of Amsterdam <br/>2016-2018\n",
    "</p>\n",
    "\n",
    "### Your work is not automatically saved!\n",
    "These notebooks will remain online during the course (and after). \n",
    "\n",
    "**Note:** ONCE YOU LOG OUT (or click away the tab in your browser) YOUR WORK IS NOT SAVED!\n",
    "\n",
    "### Two ways to save your work\n",
    "If you wish to keep these notebooks with the adjustments you make you have two options: \n",
    "- \"File -> Download as -> Html\". You will get a webpage that you may open later in your browser that looks exactly as this webpage does but you will not be able to execute the code. \n",
    "- \"File -> Download as -> Notebook\". When you open this tutorial at a later date you can upload your saved notebooks in the \"Tree view\" (where you end up after clicking the Binder image on the initial website). Simply click the \"Upload\" button in the top-right corner in Tree view and upload your saved notebook. \n",
    "\n",
    "### Assignments\n",
    "Through the various notebooks we have set up some assignments for you to complete. These will be highlighted in red, with a time estimate for how long you should spend on this, as follows:\n",
    "\n",
    "<span style=\"color:red\">**Assignment (2 min):**</span> Read the introduction section below.\n",
    "\n",
    "## Introduction\n",
    "This notebook serves as the hub for the flux balance analysis practicals. The aim of this tutorial is to introduce you to constraint-based modeling and the applications of the human metabolic reconstruction RECON2. At the bottom you will find a the table of contents linking to all the various subjects and assignments spread over various notebooks. Return here when you finish each one. \n",
    "\n",
    "**<span style=\"color:red\">Golden rule:</span>** Ask one of the teaching assistants if anything is unclear!\n",
    "\n",
    "There are various software packages that enable the user to perform COnstraint-Based Reconstruction and Analysis (COBRA). We will use the Python based: [Cobrapy](https://github.com/opencobra/cobrapy). \n",
    "\n",
    "<span style=\"color:red\">**Assignment (1 min):**</span> Browse the [COBRA website](https://opencobra.github.io/)\n",
    "\n",
    "To perform flux balance analysis with Cobrapy you need to understand at least the basics of python. Therefore, the first two tutorials will cover the basics of the Jupyter interface and Python. If you already have experience with Python feel free to skim (not skip) the first part. Even if you already have some experience there may be some tips and tricks in the first part that will come in handy later.\n",
    "\n",
    "After the Python introduction we will introduce Cobrapy and how to do computational analysis on the human metabolic reconstruction.\n",
    "\n",
    "Happy learning!\n",
    "\n",
    "\n",
    "## Table of Contents\n",
    "The links below will take you to various parts of this tutorial. \n",
    "\n",
    "**Tutorial Day 1**\n",
    "- [Getting to know the Jupyter notebook interface](./FBA_tutorials/0_running_code_in_notebook.ipynb) ~ 30 min\n",
    "- [Python Essentials](./FBA_tutorials/1_introduction_to_python.ipynb) ~ 60 min\n",
    "- [A crash course on flux balance analysis](./FBA_tutorials/2_introduction_to_FBA_FVA_RECON2.ipynb) ~ 120 min\n",
    "\n",
    "**Tutorial Day 2**\n",
    "- Make sure you finish the material from session 1\n",
    "- [Investigating phenylketonuria on the human metabolic map](./FBA_tutorials/3_Phenylketonuria_network_illustration.ipynb) ~ 60 min\n",
    "- [The biomarker prediction method by Shlomi et al.](./FBA_tutorials/4_biomarker_prediction_Schlomi_example.ipynb) ~ 30 min\n",
    "- [Predicting biomarkers for phenylketonuria](./FBA_tutorials/5_biomarker_prediction_PKU.ipynb) ~ 60 min\n",
    "\n",
    "\n",
    "**Additional material: projects** (for the brave/curious/student project)\n",
    "Not complete, purposefully. These might serve as student projects at the end of the course.\n",
    "- [Playing with the e. coli core model](./FBA_tutorials/extra_exploring_ecoli_core.ipynb) **Note:** this may also be performed with a core model for rhodospirillum rubrum (ask your TA!)"
   ]
  },
  {
   "cell_type": "markdown",
   "metadata": {},
   "source": [
    "## Concluding remarks\n",
    "We hope this tutorial achieved its aims to:\n",
    "* Introduce you to programming with Python\n",
    "* Illustrated the uses and pitfalls of flux balance analysis\n",
    "* Show you some real life examples of using metabolic maps and flux balance analysis\n",
    "* Illustrate how genome-wide metabolic maps may be used to go beyond \"textbook understanding\" of pathways and show novel unexpected alternative ways to achieve metabolic tasks.\n",
    "* Highlighted one interesting way to use metabolic maps for biomarker prediction in tissues and biofluids."
   ]
  }
 ],
 "metadata": {
  "kernelspec": {
   "display_name": "Python 3",
   "language": "python",
   "name": "python3"
  },
  "language_info": {
   "codemirror_mode": {
    "name": "ipython",
    "version": 3
   },
   "file_extension": ".py",
   "mimetype": "text/x-python",
   "name": "python",
   "nbconvert_exporter": "python",
   "pygments_lexer": "ipython3",
   "version": "3.6.1"
  }
 },
 "nbformat": 4,
 "nbformat_minor": 2
}
