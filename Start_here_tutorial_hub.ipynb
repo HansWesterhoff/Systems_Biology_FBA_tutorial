{
 "cells": [
  {
   "cell_type": "markdown",
   "metadata": {},
   "source": [
    "# Systems medicine practice: Flux Balance Analysis & Python (2017)\n",
    "<p>**Authors**: Thierry D.G.A Mondeel, Stefania Astrologo, Ewelina Weglarz-Tomczak & Hans V. Westerhoff <br/>\n",
    "University of Amsterdam <br/>2017\n",
    "</p>\n",
    "\n",
    "This notebook serves as the hub for the flux balance analysis practicals. Read the introduction below. At the bottom you will find a the table of contents linking to all the various subjects and assignments spread over various notebooks. Return here when you finish each one. \n",
    "\n",
    "## Introduction\n",
    "Now that you have your own space to work we can start the tutorial. The aim of this tutorial is to introduce you to constraint-based modeling and the applications of the human metabolic reconstruction RECON2. \n",
    "\n",
    "**Note of warning:** this is the first time we give this tutorial on this platform so please forgive us for any mistakes/shortcomings. The website might be a bit slow at times, be patient please. \n",
    "\n",
    "**Ask one of the teaching assistants if anything is unclear!**\n",
    "\n",
    "There are various software packages that enable the user to perform constraint-based~modeling. We will use the Python based: [Cobrapy](https://github.com/opencobra/cobrapy). To perform flux balance analysis with this you need to understand at least some basics of python which is what we will start the tutorial with. If you already have experience with Python feel free to skim (not skip) the first part. Even if you already have some experience there may be some tips and tricks in the first part that will come in handy later.\n",
    "\n",
    "After the Python introduction we will introduce Cobrapy and how to do computational analysis on the human metabolic reconstruction.\n",
    "\n",
    "### Saving your work\n",
    "These notebooks will remain online during the course. \n",
    "\n",
    "If you wish to keep these notebooks with the adjustments you make, the best thing to do is to use file -> download as -> Html. You will get a webpage that you may open later in your browser that looks exactly as this webpage does but you will not be able to execute the code. \n",
    "\n",
    "Alternatively, download the notebook itself through the \"download as\" menu. But this will require you to install all the necessary python packages to open the notebook on your own computer. If you want to take this route, ask one of the teaching assistants to help you get started with the installation. \n",
    "\n",
    "### Assignments\n",
    "Through the various notebooks we have set up some assignments for you to complete. These will be highlighted in red, with a time estimate for how long you should spend on this, as follows:\n",
    "\n",
    "<span style=\"color:red\">**Assignment (1 min):**</span> Complete this assignment.\n",
    "\n",
    "Happy computing!\n",
    "\n",
    "\n",
    "\n",
    "## Table of Contents\n",
    "The links below will take you to various parts of this tutorial. \n",
    "\n",
    "**Tutorial Session 1**\n",
    "- [Getting to know the Jupyter notebook interface](./tutorials/0_running_code_in_notebook.ipynb) ~ 30 min\n",
    "- [Python Essentials](./tutorials/1_introduction_to_python.ipynb) ~ 60 min\n",
    "- [A crash course on flux balance analysis](./tutorials/2_introduction_to_FBA_FVA_RECON2.ipynb) ~ 120 min\n",
    "\n",
    "**Tutorial Session 2**\n",
    "- [Investigating phenylketonuria on the human metabolic map](./tutorials/3_Phenylketonuria_network_illustration.ipynb) ~ 60 min\n",
    "- [The biomarker prediction method by Shlomi et al.](./tutorials/4_biomarker_prediction_Schlomi_example.ipynb) ~ 30 min\n",
    "- [Predicting biomarkers for phenylketonuria](./tutorials/5_biomarker_prediction_PKU.ipynb) ~ 60 min\n",
    "\n",
    "\n",
    "**Additional material** (for the brave/curious/student project)\n",
    "Not complete, purposefully. These might serve as student projects at the end of the course.\n",
    "- [Playing with the e. coli core model](tutorials/extra_exploring_ecoli_core.ipynb) **Note:** this may also be performed with a core model rhodospirillum rubrum (ask your TA!)\n",
    "- [Metabolomics prediction using flux variability analysis on (Geenen,2012)](tutorials/extra_metabolomics_on_Geenen_2012.ipynb)\n",
    "- [Metabolomics prediction using flux variability analysis on RECON 2](tutorials/extra_glutathione_paracetamol_metabolomics_recon2.ipynb)"
   ]
  },
  {
   "cell_type": "markdown",
   "metadata": {
    "collapsed": true
   },
   "source": [
    "## Concluding remarks\n",
    "We hope this tutorial achieved its aims to:\n",
    "* Introduce you to programming with Python\n",
    "* Illustrated the uses and pitfalls of flux balance analysis\n",
    "* Show you some real life examples of using metabolic maps and flux balance analysis\n",
    "* Illustrate how genome-wide metabolic maps may be used to go beyond \"textbook understanding\" of pathways and show novel unexpected alternative ways to achieve metabolic tasks.\n",
    "* Highlighted one interesting way to use metabolic maps for biomarker prediction in tissues and biofluids."
   ]
  },
  {
   "cell_type": "code",
   "execution_count": null,
   "metadata": {
    "collapsed": true
   },
   "outputs": [],
   "source": []
  }
 ],
 "metadata": {
  "kernelspec": {
   "display_name": "Python 3",
   "language": "python",
   "name": "python3"
  },
  "language_info": {
   "codemirror_mode": {
    "name": "ipython",
    "version": 3
   },
   "file_extension": ".py",
   "mimetype": "text/x-python",
   "name": "python",
   "nbconvert_exporter": "python",
   "pygments_lexer": "ipython3",
   "version": "3.5.2"
  }
 },
 "nbformat": 4,
 "nbformat_minor": 1
}
