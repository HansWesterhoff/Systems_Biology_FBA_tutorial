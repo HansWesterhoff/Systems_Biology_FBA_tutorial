{
 "cells": [
  {
   "cell_type": "markdown",
   "metadata": {},
   "source": [
    "# Reproducing the example in Figure 1 of Shlomi et al. 2009\n",
    "This code reproduces the network and biomarker predictions in the example from (Schlomi,2009).\n",
    "You can read the paper here: http://www.ncbi.nlm.nih.gov/pmc/articles/PMC2683725/ \n",
    "\n",
    "To follow this tutorial be sure you have read the following parts of paper:\n",
    "- abstract\n",
    "- We reproduced essential parts of the method description in this notebook below. \n",
    "\n",
    "We will use cobrapy itself for this without the overarching framework of cameo. Many of the commands will be similar or the same since Cameo is built on top of Cobrapy."
   ]
  },
  {
   "cell_type": "code",
   "execution_count": 1,
   "metadata": {
    "collapsed": false
   },
   "outputs": [],
   "source": [
    "import cobra\n",
    "from cobra import Model, Reaction, Metabolite\n",
    "from cobrapyTools import * # collection of my own scripts\n",
    "import pandas as pd"
   ]
  },
  {
   "cell_type": "markdown",
   "metadata": {},
   "source": [
    "We already made the example network shown in Figure A from the original publication below. "
   ]
  },
  {
   "cell_type": "code",
   "execution_count": 2,
   "metadata": {
    "collapsed": true
   },
   "outputs": [],
   "source": [
    "model = cobra.io.read_sbml_model(\"models/Shlomi_example.xml\")"
   ]
  },
  {
   "cell_type": "markdown",
   "metadata": {},
   "source": [
    "### The method\n",
    "** This is a selective copy/paste from the original paper: http://www.ncbi.nlm.nih.gov/pmc/articles/PMC2683725/**\n",
    "\n",
    "We present a new computational approach for systematically predicting the pattern of metabolic biomarkers characterizing each metabolic disorder whose causative gene is included in the human metabolic network model (Duarte et al, 2007). Let a boundary metabolite denote a metabolite that is known to be taken-up or secreted between the intracellular and extracellular compartments (as indicated in the network model). Let an exchange interval denote a possible range of uptake and secretion fluxes of a given boundary exchange interval. For each metabolic disorder and each boundary metabolite, we predict its exchange interval between human tissues and biofluids, for both healthy and disease cases (Materials and methods). This exchange interval is computed through a CBM method called flux variability analysis (FVA) (Mahadevan and Schilling, 2003), which accounts for the entire space of feasible flux states that satisfy mass-balance stoichiometric constraints and reaction directionality constraints (embedded in the model of (Duarte et al, 2007)). For the healthy case, the exchange interval is computed while the reactions affected by the disease are constrained to be active, whereas for the disease case, they are constrained to be inactive. By comparing the predicted exchange interval between the healthy state and the disease state for each boundary metabolite, one can determine whether the pertaining boundary metabolite concentration in biofluids (termed biomarker) is expected to be elevated, reduced or unchanged (see Materials and methods). If the predicted changes are marked such that there is no overlap between the exchange intervals of the healthy case and the disease case, the predicted biomarker change is considered to be highly confident.\n",
    "\n",
    "An illustrative example of the predicted biomarker changes' ranges and their underlying rationale for the healthy state and some disease state is depicted in Figures 1A and B. The predicted exchange intervals of metabolite M1 (M2) suggest that its extracellular concentration is elevated (reduced) in the disease case. The disjoint exchange intervals obtained for the healthy case and the disease case for both M1 and M2 render these predictions as highly confident. The exchange intervals of metabolite M6 (M4) suggest that their extracellular concentrations are elevated (reduced) in the disease case. Examining, for example, the exchange interval of metabolite M6 shows that in the healthy case, M6 can be either taken-up from biofluids or secreted in a lower rate (as some of it is required in the healthy state; Supplementary Figure 1). In the disease case, M6 (synthesized through M5) can only be secreted to biofluids. It should be noted that mass-balance stoichiometric constraints that play an important role in determining the exchange intervals of different metabolites and are accounted for by the CBM method (and as will be shown, play an important role in determining biomarker changes in addition to the network topology) are not depicted in this kind of illustration."
   ]
  },
  {
   "cell_type": "markdown",
   "metadata": {},
   "source": [
    "<img src=\"images/shlomi_example.png\">"
   ]
  },
  {
   "cell_type": "markdown",
   "metadata": {},
   "source": [
    "### Assignment\n",
    "Make sure you understand why, if flux variablity analysis predicts an exchange interval of metabolite X to become more positive,\n",
    "this \"predicts\" that the metabolite builds up in the biofluids! And vice versa."
   ]
  },
  {
   "cell_type": "markdown",
   "metadata": {},
   "source": [
    "### Assignment\n",
    "Make sure you agree that we have reconstructed the network in Figure 1A correctly. Write a for loop that prints all reactions in the model and check that they are correct."
   ]
  },
  {
   "cell_type": "code",
   "execution_count": null,
   "metadata": {
    "collapsed": true
   },
   "outputs": [],
   "source": []
  },
  {
   "cell_type": "markdown",
   "metadata": {},
   "source": [
    "### Reproducing figure B\n",
    "We have written a python function that implements the entire method proposed by Shlomi et al in the \"findBiomarkers()\" function. For now we will simply check to see if it produces the same qualitative results as the original paper. "
   ]
  },
  {
   "cell_type": "markdown",
   "metadata": {},
   "source": [
    "We have reconstructed the network in Figure 1A. We will now block reaction 1 and show that we predict what is in Figure 1B. "
   ]
  },
  {
   "cell_type": "code",
   "execution_count": 3,
   "metadata": {
    "collapsed": false
   },
   "outputs": [
    {
     "name": "stdout",
     "output_type": "stream",
     "text": [
      "Working on the following reactions:\n",
      "   Description             Reaction\n",
      "R1          R1  M1 + M3 --> M2 + M4\n",
      "\n"
     ]
    },
    {
     "data": {
      "text/html": [
       "<div>\n",
       "<table border=\"1\" class=\"dataframe\">\n",
       "  <thead>\n",
       "    <tr style=\"text-align: right;\">\n",
       "      <th></th>\n",
       "      <th>Biomarker ID</th>\n",
       "      <th>Biomarker name</th>\n",
       "      <th>Reaction</th>\n",
       "      <th>Serum lvl</th>\n",
       "      <th>WT interval</th>\n",
       "      <th>mutant interval</th>\n",
       "      <th>Score</th>\n",
       "    </tr>\n",
       "  </thead>\n",
       "  <tbody>\n",
       "    <tr>\n",
       "      <th>0</th>\n",
       "      <td>M1</td>\n",
       "      <td>None</td>\n",
       "      <td>EX_M1</td>\n",
       "      <td>H.C. Elevated</td>\n",
       "      <td>[-1000.0, -1.0]</td>\n",
       "      <td>[0.0, 0.0]</td>\n",
       "      <td>2000.000000</td>\n",
       "    </tr>\n",
       "    <tr>\n",
       "      <th>1</th>\n",
       "      <td>M2</td>\n",
       "      <td>None</td>\n",
       "      <td>EX_M2</td>\n",
       "      <td>H.C. Reduced</td>\n",
       "      <td>[1.0, 1000.0]</td>\n",
       "      <td>[0.0, 0.0]</td>\n",
       "      <td>1000.000000</td>\n",
       "    </tr>\n",
       "    <tr>\n",
       "      <th>3</th>\n",
       "      <td>M6</td>\n",
       "      <td>None</td>\n",
       "      <td>EX_M6</td>\n",
       "      <td>Elevated</td>\n",
       "      <td>[-1000.0, 999.0]</td>\n",
       "      <td>[0.0, 1000.0]</td>\n",
       "      <td>997.000000</td>\n",
       "    </tr>\n",
       "    <tr>\n",
       "      <th>2</th>\n",
       "      <td>M4</td>\n",
       "      <td>None</td>\n",
       "      <td>EX_M4</td>\n",
       "      <td>Reduced</td>\n",
       "      <td>[1.0, 1000.0]</td>\n",
       "      <td>[0.0, 1000.0]</td>\n",
       "      <td>996.000000</td>\n",
       "    </tr>\n",
       "    <tr>\n",
       "      <th>4</th>\n",
       "      <td>M7</td>\n",
       "      <td>None</td>\n",
       "      <td>EX_M7</td>\n",
       "      <td>Reduced</td>\n",
       "      <td>[-999.0, 0.0]</td>\n",
       "      <td>[-1000.0, 0.0]</td>\n",
       "      <td>0.001001</td>\n",
       "    </tr>\n",
       "  </tbody>\n",
       "</table>\n",
       "</div>"
      ],
      "text/plain": [
       "  Biomarker ID Biomarker name Reaction      Serum lvl       WT interval mutant interval        Score\n",
       "0           M1           None    EX_M1  H.C. Elevated   [-1000.0, -1.0]      [0.0, 0.0]  2000.000000\n",
       "1           M2           None    EX_M2   H.C. Reduced     [1.0, 1000.0]      [0.0, 0.0]  1000.000000\n",
       "3           M6           None    EX_M6       Elevated  [-1000.0, 999.0]   [0.0, 1000.0]   997.000000\n",
       "2           M4           None    EX_M4        Reduced     [1.0, 1000.0]   [0.0, 1000.0]   996.000000\n",
       "4           M7           None    EX_M7        Reduced     [-999.0, 0.0]  [-1000.0, 0.0]     0.001001"
      ]
     },
     "execution_count": 3,
     "metadata": {},
     "output_type": "execute_result"
    }
   ],
   "source": [
    "exchanges = [ rxn for rxn in model.reactions if rxn.products == [] \n",
    "             and rxn.boundary == 'system_boundary']\n",
    "exchangesIds = [rxn.id for rxn in exchanges]\n",
    "T = findBiomarkers(model,[model.reactions.R1.id],exchangesIds,eps=1); T"
   ]
  },
  {
   "cell_type": "markdown",
   "metadata": {
    "collapsed": true
   },
   "source": [
    "Note the difference between the data we produced and figure B regarding M7. We predict reduced extracellular levels while Shlomi et al predict no change. This is due to the fact the Shlomi et al put in a threshold of at least 10% change before they consider something a biomarker. We just show the raw data here."
   ]
  },
  {
   "cell_type": "code",
   "execution_count": null,
   "metadata": {
    "collapsed": true
   },
   "outputs": [],
   "source": []
  }
 ],
 "metadata": {
  "kernelspec": {
   "display_name": "Python 2",
   "language": "python",
   "name": "python2"
  },
  "language_info": {
   "codemirror_mode": {
    "name": "ipython",
    "version": 2
   },
   "file_extension": ".py",
   "mimetype": "text/x-python",
   "name": "python",
   "nbconvert_exporter": "python",
   "pygments_lexer": "ipython2",
   "version": "2.7.12"
  }
 },
 "nbformat": 4,
 "nbformat_minor": 0
}
