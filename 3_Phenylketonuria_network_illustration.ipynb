{
 "cells": [
  {
   "cell_type": "markdown",
   "metadata": {},
   "source": [
    "# Phenylketonuria predictions with the human metabolic map RECON2\n",
    "Authors: Thierry D.G.A. Mondeel, Vivian Ogundipe & Hans V. Westerhoff <br />\n",
    "University of Amsterdam"
   ]
  },
  {
   "cell_type": "markdown",
   "metadata": {},
   "source": [
    "### Aim of this notebook\n",
    "In this notebook we will aim to reproduce the inborn error of metabolism phenylketonuria (PKU). \n",
    "In the previous tutorial we already looked at the reaction converting phenylalanine into tyrosine. \n",
    "In patients with PKU this enzyme is not functional. "
   ]
  },
  {
   "cell_type": "markdown",
   "metadata": {},
   "source": [
    "### Setup\n",
    "We start by setting up the python environment and loading RECON2. This part me take 10 seconds or so. "
   ]
  },
  {
   "cell_type": "code",
   "execution_count": null,
   "metadata": {
    "collapsed": false
   },
   "outputs": [],
   "source": [
    "import cameo\n",
    "from cobrapyTools import *\n",
    "import pandas as pd\n",
    "pd.set_option('display.max_colwidth',-1); pd.set_option('display.max_rows', 10000) # Show everything\n",
    "import escher\n",
    "escher_colors = [{'type': 'min', 'color': '#cccccc', 'size': 5},\n",
    "                                       {'type': 'mean', 'color': '#458b74', 'size': 15},\n",
    "                                       {'type': 'max', 'color': '#ff7f24', 'size': 25}]\n",
    "\n",
    "# importing RECON2\n",
    "M = cameo.load_model(\"models/Recon2.v04_pythonComp.json\",sanitize=False)\n",
    "model = M.copy()\n",
    "model"
   ]
  },
  {
   "cell_type": "markdown",
   "metadata": {},
   "source": [
    "To investigate PKU we will ask the model for growth before and after the mutation in the PHETHPTOX2 gene. \n",
    "\n",
    "We require that there is always a base level of growth (0.5, arbitrary) so that the model is forced to predict a flux distribution in which growth is occuring.\n",
    "\n",
    "We also made a so-called escher map on which to visualize our results. This makes it a bit more intuitive to see what is going on."
   ]
  },
  {
   "cell_type": "markdown",
   "metadata": {},
   "source": [
    "### Assignment \n",
    "Take look at the escher map we draw centered around the phenylalanine to tyrosine reaction. \n",
    "\n",
    "Note: This is only a subset of the reactions in RECON2. There are many more side branches we could draw here. We tried to emulate here the classical textbook we of representing the pathway.\n",
    "\n",
    "Can you see from the map how PKU might lead to brain development issues?"
   ]
  },
  {
   "cell_type": "code",
   "execution_count": null,
   "metadata": {
    "collapsed": false
   },
   "outputs": [],
   "source": [
    "pathway = escher.Builder(map_name='escher_map_RECON2_AA_metabolism', reaction_scale=escher_colors, \n",
    "                         reaction_data={}, reaction_styles=['color', 'size', 'text','abs'])\n",
    "pathway.save_html('./predictions/empty_map.html',overwrite=True,enable_editing=False)\n",
    "pathway.display_in_notebook()"
   ]
  },
  {
   "cell_type": "markdown",
   "metadata": {},
   "source": [
    "In the following we will make various alterations to the model and visualize te flux distribution it predicts. We will project the results from flux balance analysis onto the escher map and print in text the flux variability analysis results for a couple key reactions.\n",
    "\n",
    "Remember that flux balance analysis gives us one flux distribution that achieves the optimal values for the objective reaction. In contrast, flux variability analysis gives us the minimal and maximal flux possible through the reaction while maintaining steady-state balance. "
   ]
  },
  {
   "cell_type": "markdown",
   "metadata": {},
   "source": [
    "### When the medium includes tyrosine and phenylalanine"
   ]
  },
  {
   "cell_type": "code",
   "execution_count": null,
   "metadata": {
    "collapsed": true
   },
   "outputs": [],
   "source": [
    "model.reactions.biomass_reaction.lower_bound = 0.5\n",
    "model.reactions.EX_tyr_L_e.lower_bound = -1\n",
    "\n",
    "rxnsOfInterest = [ model.reactions.biomass_reaction, model.reactions.EX_phe_L_e, model.reactions.EX_tyr_L_e, model.reactions.PHETHPTOX2, \\\n",
    "                  model.reactions.r0399 ]"
   ]
  },
  {
   "cell_type": "code",
   "execution_count": null,
   "metadata": {
    "collapsed": false
   },
   "outputs": [],
   "source": [
    "fbasol = cameo.pfba(model)\n",
    "fvasol = cameo.flux_variability_analysis(model,reactions=rxnsOfInterest,fraction_of_optimum=0)\n",
    "print fvasol.data_frame\n",
    "\n",
    "pathway = escher.Builder(map_name='escher_map_RECON2_AA_metabolism', reaction_scale=escher_colors, \n",
    "                         reaction_data={reaction: flux for reaction, flux in fbasol.fluxes.items() }, reaction_styles=['color', 'size', 'text','abs'])\n",
    "pathway.save_html('./predictions/PKU_default.html',overwrite=True,enable_editing=False)\n",
    "pathway.display_in_notebook()"
   ]
  },
  {
   "cell_type": "markdown",
   "metadata": {},
   "source": [
    "### Question\n",
    "Do you get why the enzyme catalyzing conversion of phenylalanine to tyrosine is not active here? "
   ]
  },
  {
   "cell_type": "markdown",
   "metadata": {},
   "source": [
    "## Medium without tyrosine \n"
   ]
  },
  {
   "cell_type": "code",
   "execution_count": null,
   "metadata": {
    "collapsed": false
   },
   "outputs": [],
   "source": [
    "model.reactions.EX_tyr_L_e.lower_bound = 0\n",
    "\n",
    "fbasol = cameo.pfba(model)\n",
    "fvasol = cameo.flux_variability_analysis(model,reactions=rxnsOfInterest,fraction_of_optimum=0)\n",
    "print fvasol.data_frame\n",
    "\n",
    "pathway = escher.Builder(map_name='escher_map_RECON2_AA_metabolism', reaction_scale=escher_colors, \n",
    "                         reaction_data={reaction: flux for reaction, flux in fbasol.fluxes.items() }, reaction_styles=['color', 'size', 'text','abs'])\n",
    "pathway.save_html('./predictions/PKU_noTyrosine.html',overwrite=True)\n",
    "pathway.display_in_notebook()"
   ]
  },
  {
   "cell_type": "markdown",
   "metadata": {},
   "source": [
    "### Question \n",
    "* How is it possible that there is still equal biomass reaction flux?\n",
    "* The flux variability result shows us the interval for EX_phe_L_e is entirely negative. What does this mean?\n",
    "* Why is PHETHPTOX2 not essential here? I.e. why does FVA allow its minimu to be zero?\n",
    "\n",
    "Note: The recycling pathway of biopterin."
   ]
  },
  {
   "cell_type": "markdown",
   "metadata": {},
   "source": [
    "## Can we knock  out one of the two conversion enzymes and get the other one?"
   ]
  },
  {
   "cell_type": "code",
   "execution_count": null,
   "metadata": {
    "collapsed": false
   },
   "outputs": [],
   "source": [
    "model.reactions.r0399.upper_bound = 0;\n",
    "\n",
    "fbasol = cameo.pfba(model)\n",
    "fvasol = cameo.flux_variability_analysis(model,reactions=rxnsOfInterest,fraction_of_optimum=0,remove_cycles=True)\n",
    "print fvasol.data_frame\n",
    "\n",
    "pathway = escher.Builder(map_name='escher_map_RECON2_AA_metabolism', reaction_scale=escher_colors, \n",
    "                         reaction_data={reaction: flux for reaction, flux in fbasol.fluxes.items() }, reaction_styles=['color', 'size', 'text','abs'])\n",
    "pathway.save_html('./predictions/PKU_noTyrosine_nor0399.html',overwrite=True)\n",
    "pathway.display_in_notebook()"
   ]
  },
  {
   "cell_type": "markdown",
   "metadata": {},
   "source": [
    "### Question\n",
    "Is PHETHPTOX2 now essential? ie. is it required to carry flux to get growth?"
   ]
  },
  {
   "cell_type": "markdown",
   "metadata": {},
   "source": [
    "## knockout PAH and its alternative reaction by knocking out the gene"
   ]
  },
  {
   "cell_type": "code",
   "execution_count": null,
   "metadata": {
    "collapsed": false
   },
   "outputs": [],
   "source": [
    "model.reactions.PHETHPTOX2.genes"
   ]
  },
  {
   "cell_type": "markdown",
   "metadata": {},
   "source": [
    "### ASSIGNMENT\n",
    "In the cell below add the code to knockout the gene and see what happens. Does the result make sense?"
   ]
  },
  {
   "cell_type": "code",
   "execution_count": null,
   "metadata": {
    "collapsed": false
   },
   "outputs": [],
   "source": [
    "### KNOCKOUT THE GENE HERE\n",
    "\n",
    "fbasol = cameo.pfba(model)\n",
    "fvasol = cameo.flux_variability_analysis(model,reactions=rxnsOfInterest,fraction_of_optimum=0,remove_cycles=True)\n",
    "print fvasol.data_frame\n",
    "\n",
    "pathway = escher.Builder(map_name='escher_map_RECON2_AA_metabolism', reaction_scale=escher_colors, \n",
    "                         reaction_data={reaction: flux for reaction, flux in fbasol.fluxes.items() }, reaction_styles=['color', 'size', 'text','abs'])\n",
    "pathway.save_html('./predictions/PKU_noTyrosine_nor0399_noPhethptox2.html',overwrite=True)\n",
    "pathway.display_in_notebook()"
   ]
  },
  {
   "cell_type": "markdown",
   "metadata": {},
   "source": [
    "## Can we restore life through food?\n",
    "* before we were missing the backward step from 34hpp (hydroxy phenyl pyruvate): it was not present in the medium by assumption\n",
    "* Allowing this metabolite in the medium restores growth capability since the metabolic map allows the side branch pathway to run in reverse\n",
    "* The thermodynamics of this reaction are questionable"
   ]
  },
  {
   "cell_type": "code",
   "execution_count": null,
   "metadata": {
    "collapsed": false
   },
   "outputs": [],
   "source": [
    "model = M.copy()\n",
    "model.reactions.EX_34hpp.lower_bound = -1; \n",
    "rxnsOfInterest = [ model.reactions.biomass_reaction, model.reactions.EX_phe_L_e, model.reactions.EX_tyr_L_e, model.reactions.PHETHPTOX2, \\\n",
    "                  model.reactions.r0399, model.reactions.EX_34hpp]\n",
    "\n",
    "model.genes.g1573.knock_out()\n",
    "\n",
    "fbasol = cameo.pfba(model)\n",
    "fvasol = cameo.flux_variability_analysis(model,reactions=rxnsOfInterest,fraction_of_optimum=0)\n",
    "print fvasol.data_frame\n",
    "\n",
    "pathway = escher.Builder(map_name='escher_map_RECON2_AA_metabolism', reaction_scale=escher_colors, \n",
    "                         reaction_data={reaction: flux for reaction, flux in fbasol.fluxes.items() }, reaction_styles=['color', 'size', 'text','abs'])\n",
    "pathway.save_html('./predictions/PKU_noTyrosine_nor0399_noPhethptox2_34hpp.html',overwrite=True)\n",
    "pathway.display_in_notebook()"
   ]
  },
  {
   "cell_type": "markdown",
   "metadata": {},
   "source": [
    "### Discuss \n",
    "Even though this may be a simple example what does it teach us about the potential utility of the human metabolic map? \n",
    "\n",
    "Can you envision a future in which each individual has his or her genetic mutations mapped onto such a model?\n",
    "Could we use similar tricks like discussed above to find ways (with food and drugs) around the blockages such mutations generatate?"
   ]
  },
  {
   "cell_type": "code",
   "execution_count": null,
   "metadata": {
    "collapsed": true
   },
   "outputs": [],
   "source": []
  }
 ],
 "metadata": {
  "kernelspec": {
   "display_name": "Python 2 (Ubuntu, plain)",
   "language": "python",
   "name": "python2-ubuntu"
  },
  "language_info": {
   "codemirror_mode": {
    "name": "ipython",
    "version": 2
   },
   "file_extension": ".py",
   "mimetype": "text/x-python",
   "name": "python",
   "nbconvert_exporter": "python",
   "pygments_lexer": "ipython2",
   "version": "2.7.10"
  }
 },
 "nbformat": 4,
 "nbformat_minor": 0
}
