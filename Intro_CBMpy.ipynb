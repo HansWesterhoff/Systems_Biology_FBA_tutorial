{
 "cells": [
  {
   "cell_type": "code",
   "execution_count": 24,
   "metadata": {
    "collapsed": false
   },
   "outputs": [
    {
     "name": "stdout",
     "output_type": "stream",
     "text": [
      "\n",
      "########################################################################\n",
      "#                                                                      #\n",
      "#            Welcome to the interactive VoNDA environment              #\n",
      "#                                                                      #\n",
      "########################################################################\n",
      "#  VoNDA: Visualization of Network DAta (2013-2014)                    #\n",
      "#  http://vonda.sf.net                                                 #\n",
      "#  Copyright (C) T.R Maarleveld, J. Boele, F.J. Bruggeman, B. Teusink  #\n",
      "#  Email: tmd200@users.sourceforge.net                                 #\n",
      "#  Centrum Wiskunde Informatica, Amsterdam, Netherlands                #\n",
      "#  VU University, Amsterdam, Netherlands                               #\n",
      "#  VoNDA is distributed under the BSD licence.                         #\n",
      "########################################################################\n",
      "\n",
      "Version 0.6.0\n",
      "Output Directory: /Users/thierry/Vonda\n",
      "Map Directory: /Users/thierry/Vonda/interactive_map\n",
      "Model Directory: /Users/thierry/Vonda/models\n"
     ]
    }
   ],
   "source": [
    "import vonda\n",
    "import cbmpy as cbm\n",
    "from cobrapyTools import *"
   ]
  },
  {
   "cell_type": "markdown",
   "metadata": {},
   "source": [
    "## CBMpy INTRO"
   ]
  },
  {
   "cell_type": "code",
   "execution_count": 5,
   "metadata": {
    "collapsed": false
   },
   "outputs": [
    {
     "name": "stdout",
     "output_type": "stream",
     "text": [
      "FBC version: 2\n",
      "M.getNumReactions: 790\n",
      "M.getNumSpecies: 698\n",
      "FBC.getNumObjectives: 1\n",
      "FBC.getNumParameters: 6\n",
      "FBC.getNumGeneProducts: 637\n",
      "Zero dimension compartment detected: c\n",
      "Zero dimension compartment detected: e\n",
      "INFO: Active objective: obj\n",
      "Adding objective: obj\n",
      "\n",
      "SBML3 load time: 1.323\n",
      "\n"
     ]
    }
   ],
   "source": [
    "model = cbm.CBRead.readSBML3FBC('../SYNPOL/clostridium_ljungdahlii/models/nagarajan_2013/c_ljungdahlii_nagarajan_2013_update.xml')"
   ]
  },
  {
   "cell_type": "code",
   "execution_count": 10,
   "metadata": {
    "collapsed": false
   },
   "outputs": [
    {
     "data": {
      "text/plain": [
       "'R_DM_mththf_c'"
      ]
     },
     "execution_count": 10,
     "metadata": {},
     "output_type": "execute_result"
    }
   ],
   "source": [
    "model.reactions[1].getId()"
   ]
  },
  {
   "cell_type": "code",
   "execution_count": 17,
   "metadata": {
    "collapsed": false
   },
   "outputs": [
    {
     "name": "stdout",
     "output_type": "stream",
     "text": [
      "\n",
      "cplx_constructLPfromFBA time: 0.0764138698578\n",
      "\n",
      "\n",
      "cplx_analyzeModel FBA --> LP time: 0.0769600868225\n",
      "\n",
      "Tried aggregator 1 time.\n",
      "LP Presolve eliminated 295 rows and 320 columns.\n",
      "Aggregator did 267 substitutions.\n",
      "Reduced LP has 136 rows, 203 columns, and 1134 nonzeros.\n",
      "Presolve time = 0.00 sec. (0.74 ticks)\n",
      "Initializing dual steep norms . . .\n",
      "\n",
      "Iteration log . . .\n",
      "Iteration:     1   Dual objective     =          1000.000000\n",
      "Perturbation started.\n",
      "Iteration:    51   Dual objective     =          1000.000000\n",
      "Removing perturbation.\n",
      "INFO: Model is optimal: 1\n",
      "Solution status =  1 : optimal\n",
      "Solution method =  2 : dual\n",
      "Objective value =  0.75\n",
      "Model is optimal\n",
      "Status: LPS_OPT\n",
      "Model is optimal\n",
      "Model is optimal\n",
      "\n",
      "analyzeModel objective value: 0.75\n",
      "\n"
     ]
    }
   ],
   "source": [
    "sol = cbm.CBSolver.analyzeModel(model,return_lp_obj = True)"
   ]
  },
  {
   "cell_type": "code",
   "execution_count": 21,
   "metadata": {
    "collapsed": false
   },
   "outputs": [],
   "source": [
    "cbm.CBCPLEX.cplx_MinimizeNumActiveFluxes(model)"
   ]
  },
  {
   "cell_type": "code",
   "execution_count": 37,
   "metadata": {
    "collapsed": false
   },
   "outputs": [],
   "source": [
    "cbm.CBModelTools.printSolution(model)"
   ]
  },
  {
   "cell_type": "markdown",
   "metadata": {},
   "source": [
    "## VONDA INTRO\n",
    "Standard vizualization with pre-made data"
   ]
  },
  {
   "cell_type": "code",
   "execution_count": 25,
   "metadata": {
    "collapsed": false
   },
   "outputs": [
    {
     "name": "stdout",
     "output_type": "stream",
     "text": [
      "Info: The reaction suffix is R_. Make sure this is correct. If not modify the reaction suffix via (1) setReactionSuffix() or (2) by re-using this functionality with as additonal argument reaction_suffix\n",
      "Info: The species suffix is M_. Make sure this is correct. If not modify the species suffix via (1) setSpeciesSuffix() or (2) by re-using this functionality with as additonal argument species_suffix\n",
      "Visualization results can be found at /Users/thierry/Vonda/Synechocystis_reactions.svg\n",
      "Visualization results can be found at /Users/thierry/Vonda/Synechocystis_reactions_high.svg\n"
     ]
    },
    {
     "data": {
      "text/plain": [
       "'/Users/thierry/Vonda'"
      ]
     },
     "execution_count": 25,
     "metadata": {},
     "output_type": "execute_result"
    }
   ],
   "source": [
    "vmod = vonda.PVisualizer('Synechocystis.svg')\n",
    "D_fluxes = vmod.importKeyValueData(\"iTM686_FBA.txt\")\n",
    "vmod.doMapReactions(D_fluxes)\n",
    "vmod.doMapReactions(D_fluxes,valuesRange=['higher',0.01],\n",
    "    filename_out = \"Synechocystis_reactions_high\")\n",
    "vmod.output_dir"
   ]
  },
  {
   "cell_type": "markdown",
   "metadata": {},
   "source": [
    "The last simulation done above"
   ]
  },
  {
   "cell_type": "code",
   "execution_count": 39,
   "metadata": {
    "collapsed": false
   },
   "outputs": [
    {
     "name": "stdout",
     "output_type": "stream",
     "text": [
      "Info: The reaction suffix is R_. Make sure this is correct. If not modify the reaction suffix via (1) setReactionSuffix() or (2) by re-using this functionality with as additonal argument reaction_suffix\n",
      "Info: The species suffix is M_. Make sure this is correct. If not modify the species suffix via (1) setSpeciesSuffix() or (2) by re-using this functionality with as additonal argument species_suffix\n",
      "Visualization results can be found at /Users/thierry/Vonda/Synechocystis_reactions.svg\n",
      "Visualization results can be found at /Users/thierry/Vonda/Synechocystis_reactions_high.svg\n"
     ]
    },
    {
     "data": {
      "text/plain": [
       "'/Users/thierry/Vonda'"
      ]
     },
     "execution_count": 39,
     "metadata": {},
     "output_type": "execute_result"
    }
   ],
   "source": [
    "vmod = vonda.PVisualizer('Synechocystis.svg')\n",
    "D_fluxes = model.getReactionValues()\n",
    "vmod.doMapReactions(D_fluxes)\n",
    "vmod.doMapReactions(D_fluxes,valuesRange=['higher',0.01],\n",
    "    filename_out = \"Synechocystis_reactions_high\")\n",
    "vmod.output_dir\n"
   ]
  },
  {
   "cell_type": "code",
   "execution_count": 36,
   "metadata": {
    "collapsed": false
   },
   "outputs": [
    {
     "data": {
      "text/plain": [
       "'iHN637'"
      ]
     },
     "execution_count": 36,
     "metadata": {},
     "output_type": "execute_result"
    }
   ],
   "source": [
    "model.getId()"
   ]
  },
  {
   "cell_type": "code",
   "execution_count": null,
   "metadata": {
    "collapsed": true
   },
   "outputs": [],
   "source": []
  }
 ],
 "metadata": {
  "kernelspec": {
   "display_name": "Python 2",
   "language": "python",
   "name": "python2"
  },
  "language_info": {
   "codemirror_mode": {
    "name": "ipython",
    "version": 2
   },
   "file_extension": ".py",
   "mimetype": "text/x-python",
   "name": "python",
   "nbconvert_exporter": "python",
   "pygments_lexer": "ipython2",
   "version": "2.7.12"
  }
 },
 "nbformat": 4,
 "nbformat_minor": 0
}
