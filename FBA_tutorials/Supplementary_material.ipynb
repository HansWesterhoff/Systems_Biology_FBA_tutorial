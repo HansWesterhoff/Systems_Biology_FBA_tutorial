{
 "cells": [
  {
   "cell_type": "markdown",
   "metadata": {},
   "source": [
    "# Supplementary material for the brave and curious"
   ]
  },
  {
   "cell_type": "markdown",
   "metadata": {},
   "source": [
    "## About Jupyter notebooks\n",
    "<span style=\"color:red\">**Assignment (1 min):**</span> Visit the [Jupyter Project website](https://jupyter.org/index.html). Scroll down on the homepage to the section \"Currently in use at\". Recognize any companies and/or institutions?  \n",
    "\n",
    "<span style=\"color:red\">**Assignment (5 min):**</span> For some additional motivation that you can do cool stuff with Jupyter notebooks, visit [A gallery of interesting Jupyter Notebooks](https://github.com/jupyter/jupyter/wiki/A-gallery-of-interesting-Jupyter-Notebooks).\n",
    "\n",
    "**Noteworthy examples (TA's opinion):**\n",
    "- [Lung Cancer Post-Translational Modification and Gene Expression Regulation¶\n",
    "](http://nbviewer.jupyter.org/github/MaayanLab/CST_Lung_Cancer_Viz/blob/master/notebooks/CST_Data_Viz.ipynb?flush_cache=true)\n",
    "- [2010 US Census data](https://anaconda.org/jbednar/census/notebook)\n",
    " \n",
    " \n",
    "<span style=\"color:red\">**Assignment (1 min):**</span> Can you come up with some arguments to support the statement: \"Jupyter notebooks will revolutionize computational science?\"\n",
    "\n",
    "**Hint:** See [The Paper of the Future by Alyssa Goodman et al. (Authorea Preprint, 2017)](https://dx.doi.org/10.22541/au.148769949.92783646). This article explains and shows with demonstrations how scholarly \"papers\" can morph into long-lasting rich records of scientific discourse, enriched with deep data and code linkages, interactive figures, audio, video, and commenting. It includes an interactive d3.js visualization and has an astronomical data figure with an IPYthon Notebook \"behind\" it."
   ]
  },
  {
   "cell_type": "markdown",
   "metadata": {},
   "source": [
    "## Restarting the kernels manually\n",
    "\n",
    "The kernel maintains the state of a notebook's computations. You can reset this state by restarting the kernel. This is done by clicking on the <button class='btn btn-default btn-xs'><i class='fa fa-repeat icon-repeat'></i></button> in the toolbar above. \n",
    "\n",
    "**Note:** Restarting the kernel whipes the memory clean. \n",
    "\n",
    "<span style=\"color:red\">**Assignment (2 min):**</span>\n",
    "1. Execute the cell below. This will save the variable dna_seq, containing a short string of DNA sequence, in the memory. \n",
    "2. Now restart the kernel manually as described above. \n",
    "3. In the second cell below try showing the contents of dna_seq. \n",
    "\n",
    "Does python still know what dna_seq is? "
   ]
  },
  {
   "cell_type": "markdown",
   "metadata": {},
   "source": [
    "## All you need to know\n",
    "Some words of wisdom by Tim Peters, i.e. the Zen of Python."
   ]
  },
  {
   "cell_type": "code",
   "execution_count": 1,
   "metadata": {},
   "outputs": [
    {
     "name": "stdout",
     "output_type": "stream",
     "text": [
      "The Zen of Python, by Tim Peters\n",
      "\n",
      "Beautiful is better than ugly.\n",
      "Explicit is better than implicit.\n",
      "Simple is better than complex.\n",
      "Complex is better than complicated.\n",
      "Flat is better than nested.\n",
      "Sparse is better than dense.\n",
      "Readability counts.\n",
      "Special cases aren't special enough to break the rules.\n",
      "Although practicality beats purity.\n",
      "Errors should never pass silently.\n",
      "Unless explicitly silenced.\n",
      "In the face of ambiguity, refuse the temptation to guess.\n",
      "There should be one-- and preferably only one --obvious way to do it.\n",
      "Although that way may not be obvious at first unless you're Dutch.\n",
      "Now is better than never.\n",
      "Although never is often better than *right* now.\n",
      "If the implementation is hard to explain, it's a bad idea.\n",
      "If the implementation is easy to explain, it may be a good idea.\n",
      "Namespaces are one honking great idea -- let's do more of those!\n"
     ]
    }
   ],
   "source": [
    "# ignore the first two lines: they allow you to show multiple outputs per cell\n",
    "from IPython.core.interactiveshell import InteractiveShell\n",
    "InteractiveShell.ast_node_interactivity = \"all\" \n",
    "\n",
    "import this"
   ]
  },
  {
   "cell_type": "markdown",
   "metadata": {},
   "source": [
    "## Strings, lists and dictionaries\n",
    "An example for each of the most important types in python"
   ]
  },
  {
   "cell_type": "code",
   "execution_count": 2,
   "metadata": {},
   "outputs": [
    {
     "name": "stdout",
     "output_type": "stream",
     "text": [
      "<class 'str'>\n",
      "One definition of systems biology: the study of the interactions between the components of biological systems, and how these interactions give rise to the function and behavior of that system (for example, the enzymes and metabolites in a metabolic pathway or the heart beats)\n",
      "\n",
      "<class 'list'>\n",
      "[0.5, 2, 24]\n",
      "The (rough) cell cycle time of e.coli = 0.5 hrs, of yeast = 2 hrs, of a human cell 24 hrs\n",
      "\n",
      "<class 'dict'>\n",
      "{'e. coli': 5, 'yeast': 12, 'human': 2900.0}\n",
      "The genome size of e.coli = 5 Mbp, of yeast = 12 Mbp, of a human cell 2900.0 Mbp\n"
     ]
    }
   ],
   "source": [
    "x = 'One definition of systems biology: the study of the interactions between the components of biological systems, \\\n",
    "and how these interactions give rise to the function and behavior of that system (for example, the enzymes and \\\n",
    "metabolites in a metabolic pathway or the heart beats)' # string\n",
    "print(type(x))\n",
    "print(x)\n",
    "print()\n",
    "\n",
    "x = [0.5,2,24] # list\n",
    "print(type(x))\n",
    "print(x)\n",
    "print('The (rough) cell cycle time of e.coli =',x[0],'hrs, of yeast =',x[1],'hrs, of a human cell',x[2],'hrs')\n",
    "print()\n",
    "\n",
    "x = {'e. coli':5,'yeast':12,'human':2.9e3} # dictionary\n",
    "print(type(x))\n",
    "print(x)\n",
    "print('The genome size of e.coli =',x['e. coli'],'Mbp, of yeast =', x['yeast'],'Mbp, of a human cell',x['human'],'Mbp')"
   ]
  },
  {
   "cell_type": "markdown",
   "metadata": {},
   "source": [
    "\n",
    "## For the brave\n",
    "Mathematically, this can be concisely summarized as\n",
    "\\begin{align*}\n",
    "\\text{Maximize } Z &=c^T v, \\text{ such that } \\\\\n",
    "Sv &= 0 \\\\\n",
    "\\alpha_k \\leq & ~ v_k \\leq \\beta_k, \\text{ for all k}.\n",
    "\\end{align*}\n",
    "Here $Z$ is the objective, $c$ is a column vector with coefficients for reactions in the objecte, $v$ is the column vector of fluxes representing all reactions in the model. As such $c^T v$ is a linear combination of fluxes, the objective. $S$ is the stoichiometry matrix, $\\alpha_k$ is the lower bound for reaction $k$ and similarly $\\beta_k$ is the upper bound for reaction $k$.\n",
    "\n",
    "This can be thought of as first constraining all possible solutions to the ones that allow a steady state and satisfy the bounds ( this results in a multi dimensional cone within the null space of S) and then finding the optimal solution among the remaining degrees of freedom."
   ]
  },
  {
   "cell_type": "code",
   "execution_count": null,
   "metadata": {},
   "outputs": [],
   "source": []
  }
 ],
 "metadata": {
  "kernelspec": {
   "display_name": "Python 3",
   "language": "python",
   "name": "python3"
  },
  "language_info": {
   "codemirror_mode": {
    "name": "ipython",
    "version": 3
   },
   "file_extension": ".py",
   "mimetype": "text/x-python",
   "name": "python",
   "nbconvert_exporter": "python",
   "pygments_lexer": "ipython3",
   "version": "3.6.1"
  },
  "toc": {
   "nav_menu": {},
   "number_sections": true,
   "sideBar": true,
   "skip_h1_title": false,
   "toc_cell": false,
   "toc_position": {},
   "toc_section_display": "block",
   "toc_window_display": false
  }
 },
 "nbformat": 4,
 "nbformat_minor": 2
}
