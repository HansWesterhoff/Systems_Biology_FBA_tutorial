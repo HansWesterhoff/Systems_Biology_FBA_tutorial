{
 "cells": [
  {
   "cell_type": "markdown",
   "metadata": {},
   "source": [
    "# Supplementary material for the brave and curious"
   ]
  },
  {
   "cell_type": "markdown",
   "metadata": {},
   "source": [
    "## About Jupyter notebooks\n",
    "<span style=\"color:red\">**Assignment (1 min):**</span> Visit the [Jupyter Project website](https://jupyter.org/index.html). Scroll down on the homepage to the section \"Currently in use at\". Recognize any companies and/or institutions?  \n",
    "\n",
    "<span style=\"color:red\">**Assignment (5 min):**</span> For some additional motivation that you can do cool stuff with Jupyter notebooks, visit [A gallery of interesting Jupyter Notebooks](https://github.com/jupyter/jupyter/wiki/A-gallery-of-interesting-Jupyter-Notebooks).\n",
    "\n",
    "**Noteworthy examples (TA's opinion):**\n",
    "- [Lung Cancer Post-Translational Modification and Gene Expression Regulation¶\n",
    "](http://nbviewer.jupyter.org/github/MaayanLab/CST_Lung_Cancer_Viz/blob/master/notebooks/CST_Data_Viz.ipynb?flush_cache=true)\n",
    "- [2010 US Census data](https://anaconda.org/jbednar/census/notebook)\n",
    " \n",
    " \n",
    "<span style=\"color:red\">**Assignment (1 min):**</span> Can you come up with some arguments to support the statement: \"Jupyter notebooks will revolutionize computational science?\"\n",
    "\n",
    "**Hint:** See [The Paper of the Future by Alyssa Goodman et al. (Authorea Preprint, 2017)](https://dx.doi.org/10.22541/au.148769949.92783646). This article explains and shows with demonstrations how scholarly \"papers\" can morph into long-lasting rich records of scientific discourse, enriched with deep data and code linkages, interactive figures, audio, video, and commenting. It includes an interactive d3.js visualization and has an astronomical data figure with an IPYthon Notebook \"behind\" it."
   ]
  },
  {
   "cell_type": "code",
   "execution_count": null,
   "metadata": {},
   "outputs": [],
   "source": []
  }
 ],
 "metadata": {
  "kernelspec": {
   "display_name": "Python 3",
   "language": "python",
   "name": "python3"
  },
  "language_info": {
   "codemirror_mode": {
    "name": "ipython",
    "version": 3
   },
   "file_extension": ".py",
   "mimetype": "text/x-python",
   "name": "python",
   "nbconvert_exporter": "python",
   "pygments_lexer": "ipython3",
   "version": "3.6.1"
  },
  "toc": {
   "nav_menu": {},
   "number_sections": true,
   "sideBar": true,
   "skip_h1_title": false,
   "toc_cell": false,
   "toc_position": {},
   "toc_section_display": "block",
   "toc_window_display": false
  }
 },
 "nbformat": 4,
 "nbformat_minor": 2
}
