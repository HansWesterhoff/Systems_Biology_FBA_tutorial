{
 "cells": [
  {
   "cell_type": "markdown",
   "metadata": {},
   "source": [
    "# Predicting biomarkers for depletion of glutathione upon use of paracetamol in RECON 2\n",
    "Thierry D.G.A. Mondeel & Hans V. Westerhoff <br />\n",
    "University of Amsterdam 2017\n",
    "\n",
    "--- \n",
    "\n",
    "This is for advanced students or student projects. \n",
    "\n",
    "<span style=\"color:red\">**Assignment:**</span> Read the (Geenen, 2012) publication. \n",
    "\n",
    "<span style=\"color:red\">**Assignment:**</span> The teaching assistants can supply you with the kinetic model that works in Copasi. Try reproducing some of the results shown in the publication. Especially, the relationship between paracetamol increase and ophthalmic acid and oxoproline. \n",
    "\n",
    "<span style=\"color:red\">**Assignment:**</span> The main goal here is to see what we can say about metabolic changes upon paracetamol influx (or modeled as a drain on glutathione for simplicity). Specifically, given the Shlomi et al method. "
   ]
  },
  {
   "cell_type": "markdown",
   "metadata": {},
   "source": [
    "Set up Python, load RECON 2, add opthalmic acid reactions (check if needed for RECON 2.2!), add demand reaction for glutathione."
   ]
  },
  {
   "cell_type": "code",
   "execution_count": null,
   "metadata": {},
   "outputs": [],
   "source": [
    "import cobra\n",
    "from cobra.solvers import get_solver_name\n",
    "from cobra import Model, Reaction, Metabolite\n",
    "from cobra.flux_analysis import parsimonious\n",
    "from utils import show_map, findBiomarkers\n",
    "\n",
    "# Load Recon2\n",
    "M = cobra.io.load_json_model(\"models/recon_2_2_simple_medium.json\")\n",
    "\n",
    "\n",
    "# Adding the opthalmic acid pathway to RECON 2\n",
    "opa_e = Metabolite('opa_e')\n",
    "opa_e.name = 'Ophthalmic acid'\n",
    "opa_c = Metabolite('opa_c')\n",
    "opa_c.name = 'Ophthalmic acid'\n",
    "\n",
    "# exchange reaction\n",
    "EX_opa_e = Reaction('EX_opa_e')\n",
    "EX_opa_e.add_metabolites({opa_e: -1.0})\n",
    "EX_opa_e.lower_bound = 0; EX_opa_e.upper_bound = 1000\n",
    "\n",
    "# transport reaction going outward\n",
    "OPAtrs = Reaction('OPAtrs')\n",
    "OPAtrs.add_metabolites({opa_e: 1.0,opa_c: -1.0})\n",
    "OPAtrs.lower_bound = -1000; OPAtrs.upper_bound = 1000\n",
    "\n",
    "# glutathione synthase: OPA <-> gluAB (CE1661)\n",
    "gluABs = Reaction('gluABs')\n",
    "gluABs.add_metabolites({opa_c: -1.0,M.metabolites.gly_c:-1.0,M.metabolites.CE1661_c: 1.0})\n",
    "gluABs.lower_bound = -1000; gluABs.upper_bound = 1000\n",
    "\n",
    "M.add_reactions([EX_opa_e,OPAtrs,gluABs])\n",
    "\n",
    "# Find all exchange and transport reactions\n",
    "exchanges = [rxn for rxn in M.reactions if rxn.products == [] ]\n",
    "exchangesIds = [rxn.id for rxn in exchanges]\n",
    "transport = [rxn for rxn in M.reactions if len(rxn.get_compartments()) > 1]\n",
    "\n",
    "# make all exchanges in/out have a bound of 0/1000\n",
    "for rxn in exchanges:\n",
    "    if rxn.lower_bound < 0:\n",
    "        rxn.lower_bound = 0\n",
    "    \n",
    "    rxn.upper_bound = 1000     \n",
    "        \n",
    "# Add reactions to the model\n",
    "# demand reaction for gthrd[c] \n",
    "DM_gthrd_c = Reaction('DM_gthrd_c')\n",
    "DM_gthrd_c.add_metabolites({M.metabolites.gthrd_c: -1.0})\n",
    "# ATP reaction\n",
    "atp_synthetase_c = Reaction('atp_synthetase_c')\n",
    "atp_synthetase_c.add_metabolites({M.metabolites.atp_c: -1.0, M.metabolites.adp_c:1.0, \n",
    "                                  M.metabolites.pi_c:1.0})\n",
    "atp_synthetase_c.lower_bound = -1000; atp_synthetase_c.upper_bound = 1000;\n",
    "\n",
    "M.add_reactions([atp_synthetase_c,DM_gthrd_c])\n",
    "\n",
    "# set objective\n",
    "M.reactions.DM_gthrd_c.upper_bound = 1 \n",
    "M.objective = M.reactions.DM_gthrd_c"
   ]
  },
  {
   "cell_type": "code",
   "execution_count": null,
   "metadata": {},
   "outputs": [],
   "source": [
    "model = M.copy()\n",
    "model.objective = model.reactions.biomass_reaction \n",
    "\n",
    "df = findBiomarkers(model,['EX_5oxpro_e','EX_opa_e','EX_glu_L_e',\n",
    "                          'EX_cys_L_e','EX_gly_e'],mode='drug',mods=['DM_gthrd_c'],cutoff=0); df"
   ]
  },
  {
   "cell_type": "code",
   "execution_count": null,
   "metadata": {
    "collapsed": true
   },
   "outputs": [],
   "source": []
  }
 ],
 "metadata": {
  "kernelspec": {
   "display_name": "Python 2",
   "language": "python",
   "name": "python2"
  },
  "language_info": {
   "codemirror_mode": {
    "name": "ipython",
    "version": 2
   },
   "file_extension": ".py",
   "mimetype": "text/x-python",
   "name": "python",
   "nbconvert_exporter": "python",
   "pygments_lexer": "ipython2",
   "version": "2.7.12"
  }
 },
 "nbformat": 4,
 "nbformat_minor": 1
}
