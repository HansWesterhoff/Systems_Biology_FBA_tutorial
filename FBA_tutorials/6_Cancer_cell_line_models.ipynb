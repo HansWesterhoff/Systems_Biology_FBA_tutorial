{
 "cells": [
  {
   "cell_type": "markdown",
   "metadata": {},
   "source": [
    "# Integrating transcriptomics data to reconstruct cancer cell line models\n",
    "**Authors:**\n",
    "Thierry D.G.A Mondeel, Stefania Astrologo, Ewelina Weglarz-Tomczak & Hans V. Westerhoff <br/>\n",
    "University of Amsterdam <br/>\n",
    "2016 - 2018\n",
    "\n",
    "In this part of the tutorial we will make use of the previously introduced human metabolic network (Recon 3) and apply cancer cell line transcriptomics to constrain the fluxes. \n",
    "\n",
    "**Objectives**\n",
    "- Learn about ER+ cancer cell lines\n",
    "- See an example of how (transcriptomics) data can be integrated with the human metabolic reconstruction\n",
    "- Investigate if the data integrated network can teach you anything new about the cell lines\n",
    "- Can cell types change their metabolic phenotypes? Such as in cancer cells and monocytes (the talk by: Mihai Netea last sunday).\n",
    "\n",
    "<span style=\"color:red\">**Preliminary question:**</span>\n",
    "**What do you think**: will the integration of transcriptomics and the metabolic network teach us more than the transcriptomics alone?\n",
    "\n",
    "## Setting up the Python environment\n",
    "<span style=\"color:red\">**Assignment:**</span> Execute the cell below to set up our Python environment"
   ]
  },
  {
   "cell_type": "code",
   "execution_count": null,
   "metadata": {},
   "outputs": [],
   "source": [
    "# FBA tools\n",
    "import cobra\n",
    "from cobra.flux_analysis import pfba\n",
    "\n",
    "# Pandas tables\n",
    "import numpy as np\n",
    "import pandas as pd # for tables\n",
    "pd.set_option('display.max_colwidth', -1) # don't constrain the content of the tables\n",
    "pd.options.display.max_rows = 9999\n",
    "\n",
    "# import plotting capabilities\n",
    "from bokeh.layouts import gridplot\n",
    "from bokeh.plotting import figure, show, output_notebook\n",
    "from bokeh.models import Range1d\n",
    "output_notebook() # Run once to get inline figuresimport matplotlib.pyplot as plt\n",
    "\n",
    "import matplotlib.pyplot as plt\n",
    "%matplotlib inline\n",
    "from utils import show_map\n",
    "import escher\n",
    "map_loc = './maps/escher_map_RECON3D_energy_metabolism.json' # the escher map used below\n",
    "\n",
    "import pickle\n",
    "\n",
    "# required functions for the radar plot\n",
    "from utils.file_list_function import file_list\n",
    "from utils.flux_pattern_function import flux_pattern\n",
    "from utils.df_plot_function import df_plot\n",
    "from utils.flux_pie_plot_function import flux_pie_plot\n",
    "\n",
    "# Venn plots\n",
    "from utils import venn\n",
    "\n",
    "# show all output in each cell\n",
    "from IPython.core.interactiveshell import InteractiveShell\n",
    "InteractiveShell.ast_node_interactivity = \"last_expr\" # all, last_expr\n",
    "\n",
    "import pickle\n",
    "with open('models/Recon3D_301/Recon3DModel_301_simple_medium','rb') as f:\n",
    "    WT_r3_orig = pickle.load(f)\n",
    "WT_r3 = WT_r3_orig.copy()"
   ]
  },
  {
   "cell_type": "markdown",
   "metadata": {},
   "source": [
    "## Introduction to ER+ Breast Cancer \n",
    "<span style=\"color:red\">**Assignment (5 min):**</span> Read the following general overview about ER+ cancer subtypes and the 4 cell lines we will be investigating.\n",
    "\n",
    "> <span style=\"color:blue\">**About Breast Cancer**:</span>\n",
    "\n",
    ">According to the **World Health Organization**, breast cancer is the most common cancer among women worldwide, claiming the lives of hundreds of thousands of women each year and affecting countries at all levels of modernization.\n",
    "\n",
    ">There are **four** main intrinsic or **molecular subtypes** of breast cancer that are based on the genes a cancer cell expresses. \n",
    ">Breast cancer is a heterogeneous disease that can be classified using a variety of clinical and pathological features. Classification may help in prognostication and targeting of treatment to those most likely to benefit. \n",
    "\n",
    ">- **Luminal 1** (Luminal A) breast cancer is hormone-receptor positive ER+ or PR+ (estrogen-receptor and/or progesterone-receptor positive), HER2 negative (HER2 -), and has low levels of the protein Ki-67, which is correlated with how fast cancer cells grow. Luminal 1 cancers are low-grade, tend to grow slowly and have the best prognosis.\n",
    "\n",
    ">- **Luminal 2** (Luminal B) breast cancer is hormone-receptor positive (estrogen-receptor and/or progesterone-receptor positive), and either HER2 positive or HER2 negative with high levels of Ki-67. Luminal 2 cancers generally grow slightly faster than luminal A cancers and their prognosis is slightly worse.\n",
    "\n",
    ">- **HER2-enriched** breast cancer is hormone-receptor negative (estrogen-receptor and progesterone-receptor negative) and HER2 positive. HER2-enriched cancers tend to grow faster than luminal cancers and can have a worse prognosis, but they are often successfully treated with targeted therapies aimed at the HER2 protein, such as Herceptin (chemical name: trastuzumab), Perjeta (chemical name: pertuzumab), Tykerb (chemical name: lapatinib), and Kadcyla (chemical name: T-DM1 or ado-trastuzumab emtansine).\n",
    "\n",
    ">- **Triple-negative/basal-like** (ER- /PR- / HER2-) breast cancer is hormone-receptor negative (estrogen-receptor and progesterone-receptor negative) and HER2 negative. This type of cancer is more common in women with BRCA1 gene mutations. Researchers aren’t sure why, but this type of cancer also is more common among younger and African-American women.\n",
    "\n",
    "><img src=\"images/BC_subtypes.png\" width=\"600\" height=\"600\" align=\"center\"/><br/>\n",
    ">[Click here to see the original Figure](https://doi.org/10.1371/journal.pmed.1000279.g001)\n",
    "\n",
    ">Among the different molecular subtypes of breast cancer, **ER+ breast cancer comprises ~75% of all breast cancers**. Thus, the ER status has become the most important discriminator of breast cancer molecular subtypes, resulting in primary treatment options through targeting the estrogen synthesis or the ER functions. This kind of treatment is generally known as _**endocrine therapy**_.\n",
    "\n",
    ">--------\n",
    "\n",
    "> <span style=\"color:blue\">**About endrocrine therapy in ER+ Breast Cancer**:</span>\n",
    ">\n",
    "\n",
    "\n",
    "\n",
    "> Endocrine therapy medicines treat hormone-receptor-positive breast cancers in two ways:\n",
    "- <span style=\"color:blue\">- by **lowering** the amount of the hormone estrogen in the body;</span>\n",
    "- <span style=\"color:blue\">- by **blocking** the action of estrogen on breast cancer cells;</span>\n",
    "\n",
    "\n",
    ">The main types of **endrocrine therapy** are the following: \n",
    "- Selective estrogen-receptor response modulators **(SERMs)**: <span style=\"color:red\">Tamoxifen</span>, Evista, Fareston\n",
    "- Selective Estrogen-receptor degrader or downregulator **(SERDs)**: <span style=\"color:orange\">Fulvestrant</span>\n",
    "- Aromatase inhibitors **(AIs)**: Anastrozole, Exemestane, Letrozole.\n",
    "\n",
    ">--------\n",
    "> <span style=\"color:blue\">**About Drug Resistance in Breast Cancer**:</span>\n",
    "\n",
    "> Although endocrine therapy has dramatically improved survival in breast cancer patients over the past several decades, **resistance** to these therapies remains one of the major causes of breast cancer mortality today. Late recurrence and death from estrogen receptor positive (ER+) breast cancer can occur for at least 20 years after the original diagnosis even after 5 years of adjuvant endocrine therapy. \n",
    "\n",
    ">Identifying mechanisms of resistance and strategies by which to combat these mechanisms is paramount to patient survival. [(Mills et al., 2018)](https://www.sciencedirect.com/science/article/pii/S147148921830002X?via%3Dihub)\n",
    "\n",
    ">--------\n",
    "\n",
    "> <span style=\"color:blue\">**About Endocrine Therapy-Resistant (ETR) cell-lines:**</span>\n",
    "\n",
    "> Although endocrine therapies are all designed to block estrogen-driven proliferation, the development of resistance may follow distinct routes and generate alternative phenotypes to each agent. To test this hypothesis, a series of  cell-lines resistant to single agents (**Endocrine Therapy-Resistant cell-lines**) were developed by Magnani's Lab at Imperial College in London.  ETR cell-lines may help to understand the connection between the acquisition of drug-resistance and breast cancer progression.\n",
    "\n",
    ">**MCF7** is an ER+ Breast Cancer cell-line (**Estradiol-dependent**) and sensitive to any treatment targeting the estrogen receptor network.\n",
    "\n",
    "> <span style=\"color:red\">**MCF7-T**</span> is a Tamoxifen resistant cell-line derived from MCF7.\n",
    "\n",
    "> <span style=\"color:orange\">**MCF7-F**</span> is a Fulvestrant resistant cell-line derived from MCF7.\n",
    "\n",
    "> <span style=\"color:blueviolet\">**LTED**</span> is a resistant cell-line derived from MCF7, that has been deprived of estradiol for a long period of time and potentially recapitulates the Aromatase Inhibitor resistance (**Estradiol-independent**).\n",
    "\n",
    "<img src=\"images/Cell_lines.png\" width=\"600\" height=\"600\" align=\"center\"/>\n",
    "\n",
    "### The RNA-seq data on Endocrine Therapy-Resistant  (ETR) cell-lines\n",
    "\n",
    ">Here we will use _**transcriptomics data**_ from [Nguyen et al. 2015](https://www.nature.com/articles/ncomms10044) for four breast cancer cell lines: **MCF7**, <span style=\"color:red\">**MCF7-T**</span>, <span style=\"color:orange\">**MCF7-F**</span> and <span style=\"color:blueviolet\">**LTED**</span>\n"
   ]
  },
  {
   "cell_type": "markdown",
   "metadata": {},
   "source": [
    "Let's first have a look at the dataset. Below we load a subset of the genome-wide transcriptomics dataset for all genes that encode a protein that is a metabolic enzyme that occurs in Recon 3. We print the first 5 such genes (identified by their Entrez identifier). \n",
    "\n",
    "The values that are reported in the dataset are the FPKM values: Fragments Per Kilobase of exon per Million reads mapped: i.e. the number of reads is normalized by the length of the gene and per million total reads."
   ]
  },
  {
   "cell_type": "code",
   "execution_count": null,
   "metadata": {},
   "outputs": [],
   "source": [
    "dataset = pd.read_pickle('models/Recon3D_301/Recon3_cell_line_models/data/total_dataset')\n",
    "print('The dataset tracks:', len(dataset), 'genes that encode metabolic enzymes.')\n",
    "dataset.head()"
   ]
  },
  {
   "cell_type": "markdown",
   "metadata": {},
   "source": [
    "<span style=\"color:red\">**Question:**</span> Do the resistance mechanisms lead to changes in metabolism and therefore metabolic enzyme expression?\n",
    "\n",
    "Let's investigate if this is true, below.  "
   ]
  },
  {
   "cell_type": "markdown",
   "metadata": {},
   "source": [
    "<span style=\"color:red\">**Assignment:**</span> We might expect that non-resistant cancer cells (MCF7) have downregulated most of their metabolism, focusing solely on glycolysis (this is known as the Warburg effect in tumors). \n",
    "\n",
    "Based on the histogram plot below, how many genes are roughly not expressed in each cell line? Note that you will not see the actual number of exact zeros (due to the bins)."
   ]
  },
  {
   "cell_type": "code",
   "execution_count": null,
   "metadata": {},
   "outputs": [],
   "source": [
    "sub_dataset = dataset[dataset < 1] # zoom in on low expression genes\n",
    "p = sub_dataset['MCF7'].plot(kind='hist',xlim=[0,1],bins=25,alpha=0.3,figsize=(12,5))\n",
    "p.set_xlabel('FPKM values');"
   ]
  },
  {
   "cell_type": "markdown",
   "metadata": {},
   "source": [
    "<span style=\"color:red\">**Assignment:**</span> Now confirm your answer above by looking at the percentage of actual zeros below. Is the percentage surprising to you? Might these all be the same enzymes since all four cell lines are cancer cell lines?"
   ]
  },
  {
   "cell_type": "code",
   "execution_count": null,
   "metadata": {},
   "outputs": [],
   "source": [
    "print(round((dataset['MCF7'] == 0).sum(axis=0)/len(dataset['MCF7'])*100,3),'% of genes are not expressed.')"
   ]
  },
  {
   "cell_type": "markdown",
   "metadata": {},
   "source": [
    "<span style=\"color:red\">**Assignment:**</span> Look at the output of the cell below: it prints the number of genes involved in the glycolysis/gluconeogenesis subsystem and how many of them are expressed. "
   ]
  },
  {
   "cell_type": "markdown",
   "metadata": {},
   "source": [
    "Surprisingly, all MCF7 is using about 80% of all the metabolic enzymes known to occur in human metabolism. Let's look at the other cell lines that have acquired resitance. We might expect these cell lines to have focused completely on resistance pathways and therefore have downregulated most of the rest of metabolism. Let's look. "
   ]
  },
  {
   "cell_type": "code",
   "execution_count": null,
   "metadata": {},
   "outputs": [],
   "source": [
    "(dataset < 1e-3).sum(axis=0)/len(dataset)*100"
   ]
  },
  {
   "cell_type": "markdown",
   "metadata": {},
   "source": [
    "Not at all! All four cell lines have downregulated only 20% of metabolism. \n",
    "\n",
    "<span style=\"color:red\">**Assignment:**</span> Below we plot the overlap of expressed (>0) genes between all cell lines as a Venn diagram. Are the \"expressed enzymes\" all the same enzymes or are there lots of different genes turned off in each cell line?"
   ]
  },
  {
   "cell_type": "code",
   "execution_count": null,
   "metadata": {},
   "outputs": [],
   "source": [
    "labels = venn.get_labels([dataset[dataset['MCF7'] > 0].index.values,\n",
    "                              dataset[dataset['MCF7_F'] > 0].index.values,        \n",
    "                              dataset[dataset['MCF7_T'] > 0].index.values, \n",
    "                              dataset[dataset['LTED'] > 0].index.values ],\n",
    "                              fill=['number'])\n",
    "    \n",
    "fig, ax = venn.venn4(labels, names=['MCF7','MCF7_F','MCF7_T','LTED'], legend=True, textsize=25, )\n",
    "fig.set_size_inches(15,8)"
   ]
  },
  {
   "cell_type": "markdown",
   "metadata": {},
   "source": [
    "Let's investigate if the 80% that is expressed is expressed in different amounts. The bar plot below is useful to see expression level differences between the cell lines for highly expressed genes. "
   ]
  },
  {
   "cell_type": "code",
   "execution_count": null,
   "metadata": {},
   "outputs": [],
   "source": [
    "subdataset = dataset[(dataset.T > 300).any()] # zoom in on genes with reasonably high transcript levels\n",
    "print('Looking only at the',len(subdataset),'genes that show relatively high transcript levels out of a total of', len(dataset),'genes')\n",
    "p = subdataset.plot(kind='bar',figsize=(15,5),color=['black', 'orange', 'red', 'blueviolet'])\n",
    "p.set_xlabel('FPKM values');"
   ]
  },
  {
   "cell_type": "markdown",
   "metadata": {},
   "source": [
    "<span style=\"color:red\">**Assignment:**</span> Are there quantitative differences between these highly expressed genes?"
   ]
  },
  {
   "cell_type": "markdown",
   "metadata": {},
   "source": [
    "<span style=\"color:red\">**Assignment:**</span> The plot below zooms in on genes not expressed in some cell lines but expressed in others. Is this more convincing? The fact that there are differences between the cell lines might point to a metabolic role in the resistance mechanism..."
   ]
  },
  {
   "cell_type": "code",
   "execution_count": null,
   "metadata": {},
   "outputs": [],
   "source": [
    "# zoom in on genes that are not expressed in some cell lines and some expression in others\n",
    "subdataset = dataset[(dataset.T == 0).any() & (dataset.T > 1).any()] \n",
    "print('Looking only at the',len(subdataset),'genes that show relatively high transcript levels out of a total of', len(dataset),'genes')\n",
    "p = subdataset.plot(kind='bar',figsize=(15,5),color=['black', 'orange', 'red', 'blueviolet'])\n",
    "p.set_xlabel('FPKM values');"
   ]
  },
  {
   "cell_type": "markdown",
   "metadata": {},
   "source": [
    "<span style=\"color:red\">**Assignment:**</span> Do the transcriptomics values plotted above convince you that there might be some differences between the cell lines?\n",
    "\n",
    "---\n",
    "\n",
    "So most of metabolic genes are similarly expressed across the cell lines. But there are individual genes with major quantitative differences between the cell lines. \n",
    "\n",
    "Genes themselves don't matter, the effect they have on flux patterns through metabolic pathways matters. A single gene with a differential expression across the cell lines would not come up in a pathway enrichment analysis. However, such a gene might have a gigantic effect on the possible flux patterns in the cell lines. Let's now investigate if these differences matter for the flux pattern capabilities of the cell lines..."
   ]
  },
  {
   "cell_type": "markdown",
   "metadata": {},
   "source": [
    "## Mapping transcriptomic data to Recon3D\n",
    "Our approach for integrating the transcriptomics data with the metabolic network is based on [Damiani et al. 2018](https://www.biorxiv.org/content/early/2018/01/30/256644). This approach was originally devised to deal with single cell transcriptomics but is here modified to apply across different cell lines. We will explain the details below, but beware as the details can be tricky to understand if you are new to flux balance analysis. Don't despair! You do not have to understand it 100%. \n",
    "\n",
    "### The approach in a nutshell (THIS PART IS OPTIONAL TO UNDERSTAND)\n",
    "The key idea is to normalize each gene's transcriptomic level in a given cell line by the sum total across all four cell lines. This leads to transcriptomics \"score\" between 0 and 1. 0 if the transcript level is 0 in a particular cell line and 1 if that cell line was the only one to have any expression. \n",
    "\n",
    "We then take the unconstrained Recon 3 model and determine for each reaction what the maximal flux is that it can sustain on the defined medium. That maximal flux is then multiplied by the transcriptomics score and this product is set as the maximal flux bound in the model.\n",
    "\n",
    "**The outcome of this is that each reaction will have a flux bound (maximum flux) that is proportional (i.e. linearly related) to the transcriptomics score.** \n",
    "\n",
    "<span style=\"color:red\">**Discuss:**</span> Can you think of an argument for why this approach of assuming a linear relationship between flux and transcript levels is reasonable? \n",
    "\n",
    "<span style=\"color:red\">**Discuss:**</span> Can you  think of a reason for why our approach is probably inaccurate? How would you go about improving this if you were in the business of systems biology research?\n",
    "\n",
    "\n",
    "\n",
    "### The details: two thorny problems (feel free to skip if you're in a hurry)\n",
    "What the above fails to mention is that we (1) need to account for isoenzymes and enzyme complexes and (2) that we need to deal with completely untranscribed genes which can wreak havoc on our model. \n",
    "\n",
    "- (1) The former is dealt with by summing up transcriptomic scores across isoenzymes for each reaction and taking the minimum transcriptomics score for components of an enzyme complex for each reaction. \n",
    "- (2) is solved by not setting reactions to zero if there is no transcript levels detected, but rather to a very low flux bound $10^{-3}$. This way we will still be able to see bottlenecks (their flux will hit the $10^{-3}$ bound) but we ensure that the model will keep functioning at all times (no pathways will be fully blocked).\n",
    "\n",
    "<span style=\"color:red\">**Note:**</span> Many problems remain with this approach: metabolite concentrations, $k_{cat}$ and $K_m$ parameters etc."
   ]
  },
  {
   "cell_type": "markdown",
   "metadata": {},
   "source": [
    "## Analyzing pre-prepared cancer cell line models\n",
    "We applied the approach detailed above and saved the constrained cell lines for you. We will analyze them below.  \n",
    "\n",
    "## Load transcriptomics-constrained models\n",
    "Start by loading the models using the cell below. This will take a minute or so. "
   ]
  },
  {
   "cell_type": "code",
   "execution_count": null,
   "metadata": {},
   "outputs": [],
   "source": [
    "files = [\"LTED_FPKM.json\", \"MCF7_FPKM.json\", \"MCF7_T_FPKM.json\", \"MCF7_F_FPKM.json\"]\n",
    "\n",
    "with open('./models/Recon3D_301/Recon3_cell_line_models/LTED_FPKM','rb') as f:\n",
    "    LTED = pickle.load(f)\n",
    "with open('./models/Recon3D_301/Recon3_cell_line_models/MCF7_FPKM','rb') as f:\n",
    "    MCF7 = pickle.load(f)\n",
    "with open('./models/Recon3D_301/Recon3_cell_line_models/MCF7_F_FPKM','rb') as f:\n",
    "    MCF7_F = pickle.load(f)\n",
    "with open('./models/Recon3D_301/Recon3_cell_line_models/MCF7_T_FPKM','rb') as f:\n",
    "    MCF7_T = pickle.load(f)"
   ]
  },
  {
   "cell_type": "markdown",
   "metadata": {},
   "source": [
    "## Analyzing the growth rates of the cel lines\n",
    "The growth rates of the four cell lines have been experimentally determined (See the **<span style=\"color:green\">green curves</span>** in the plot below). \n",
    "\n",
    "<span style=\"color:red\">**Assignment:**</span> Based on the experimental data (below), which cell line grows the fastest (assuming the cell lines start with the same number of cells)? Which the slowest?\n",
    "\n",
    "<img src=\"images/Growth_rate_cell_lines.png\" width=\"1500\" align=\"center\"/>\n",
    "\n",
    "<span style=\"color:red\">**Assignment:**</span> The cell below prints the growth rate (calculated using Flux Balance Analysis) for each of the four cell lines. Compare this to the experimental data by writing down the ultimate number of cells after 144 hours. Do the results agree? Do you notice anything interesting?"
   ]
  },
  {
   "cell_type": "code",
   "execution_count": null,
   "metadata": {},
   "outputs": [],
   "source": [
    "growth_rate_dict = {}\n",
    "for model_name,model in [('LTED',LTED), ('MCF7',MCF7), ('MCF7_F',MCF7_F), ('MCF7_T',MCF7_T)]:\n",
    "    sol = model.optimize()\n",
    "    growth_rate_dict[model_name] = round(sol.fluxes['biomass_reaction'],5)\n",
    "\n",
    "# normalize to MCF7\n",
    "for k in ['LTED','MCF7_F','MCF7_T','MCF7']:\n",
    "    growth_rate_dict[k] = round(growth_rate_dict[k] / growth_rate_dict['MCF7'],3)\n",
    "\n",
    "pd.DataFrame.from_dict(growth_rate_dict,orient='index', columns=['Growth rate'])"
   ]
  },
  {
   "cell_type": "markdown",
   "metadata": {},
   "source": [
    "**Possible observations**\n",
    "- The cell lines are not all the same metabolically (based on the applied methodology). In fact, these changes are bigger than you would expect assuming that the resistance mechanism is very simple.\n",
    "- The (non-resistant) MCF7 cell line outperforms the other cell lines\n",
    "- The resistant cell lines are predicted to have lower growth rates than MCF7 under the simulated conditions where the drug is absent in this computation! **This matches the experimental data!**\n",
    "Apparently the adaptation towards resistance comes at a metabolic cost!\n",
    "\n",
    "- Computationally, LTED is predicted to grow the slowest, whereas experimentally MCF7_F was the slowest. **This does not match the experimental data!**"
   ]
  },
  {
   "cell_type": "markdown",
   "metadata": {},
   "source": [
    "<span style=\"color:red\">**Discuss:**</span> What about the analysis we do here gives \"added value\" to the experimental information: i.e. what is the power of 'Deep Thinking'? \n",
    "\n",
    "We can actually see predicted metabolic flux patterns and notice where the \"bottlenecks\" are and how each cell line might use different metabolic subsystems and pathways. "
   ]
  },
  {
   "cell_type": "markdown",
   "metadata": {},
   "source": [
    "##  More detailed analysis of flux distribution across metabolic subsystems\n",
    "Recon 3 comes annotated with a so-called \"metabolic subsystem\" for many reactions. These subsystems reflect the major pathway that a reaction is a part of, e.g.: glycolysis, the TCA cycle, cholesterol synthesis etc.\n",
    "\n",
    "The cell below will perform flux balance analysis on all four cell lines and plot the total flux running through a selected number of subsystems. This will give an indication of the metabolic pathways each cell line is using to grow.\n",
    "\n",
    "<span style=\"color:red\">**Assignment:**</span> Execute the cell below (wait up to a minute or so for the calculations to complete) and investigate the output. Do you observe any interesting patterns? Think of the Warburg effect.\n",
    "\n",
    "**Note:** the circular bands indicate powers of 10! So the flux is plotted on a log10 scale. Small differences are therefore actually not that small!"
   ]
  },
  {
   "cell_type": "code",
   "execution_count": null,
   "metadata": {},
   "outputs": [],
   "source": [
    "# list of model's files\n",
    "files  = file_list('models/Recon3D_301/Recon3_cell_line_models/')\n",
    "\n",
    "f_pattern = flux_pattern(files, analysis = 'FBA')\n",
    "\n",
    "target_ss = [\n",
    "    ['Glycolysis/gluconeogenesis','Central Carbon Metabolism'],\n",
    "    ['Citric acid cycle','Central Carbon Metabolism'],\n",
    "    ['Oxidative phosphorylation','Central Carbon Metabolism'],]\n",
    "\n",
    "df  = df_plot(target_ss, f_pattern)\n",
    "flux_pie_plot(df)"
   ]
  },
  {
   "cell_type": "markdown",
   "metadata": {},
   "source": [
    "<span style=\"color:red\">**Assignment:**</span> Below we expand the plot to more subsystems. Do you see structural similarities between the cell lines?"
   ]
  },
  {
   "cell_type": "code",
   "execution_count": null,
   "metadata": {},
   "outputs": [],
   "source": [
    "# list of model's files\n",
    "files  = file_list('models/Recon3D_301/Recon3_cell_line_models/')\n",
    "\n",
    "f_pattern = flux_pattern(files, analysis = 'FBA')\n",
    "\n",
    "target_ss = [\n",
    "    ['Glycolysis/gluconeogenesis','Central Carbon Metabolism'],\n",
    "    ['Citric acid cycle','Central Carbon Metabolism'],\n",
    "    ['Oxidative phosphorylation','Central Carbon Metabolism'],\n",
    "    ['Pentose phosphate pathway','Central Carbon Metabolism'],\n",
    "    ['Fatty acid synthesis','Peripheral metabolism'],\n",
    "    ['Fatty acid oxidation','Peripheral metabolism'],\n",
    "    ['Squalene and cholesterol synthesis','Peripheral metabolism'],]\n",
    "\n",
    "df  = df_plot(target_ss, f_pattern)\n",
    "flux_pie_plot(df)"
   ]
  },
  {
   "cell_type": "markdown",
   "metadata": {},
   "source": [
    "**Observe:** LTED and MCF7_F seem to be very similar. and MCF7 and MCF7_T seem to be similar. So we could hypothesize that the tamoxifen resistance has very limited metabolic effects. \n",
    "\n",
    "Note as well that LTED and MCF7_F seem to have severely reduced oxidative phosphorylation. This relates to the Warburg effect (see below)."
   ]
  },
  {
   "cell_type": "markdown",
   "metadata": {},
   "source": [
    "## WT Recon 3 vs. cell lines: The Warburg effect\n",
    "Finally, we will use FVA to ascertain essentiality of certain reactions for the optimal growth condition in each cell line and investigate the Warburg effect. \n",
    "\n",
    "### Cancer, a-socialism and the Warburg effect\n",
    "One way to think of cancer cells is that these will behave a-socially: i.e. like unicellular organisms within the multicellular one: tumors. \n",
    "\n",
    "It has been observed that such cells, in contrast to healthy, social cells, are characterized by growing on a low ATP/glucose ratio (the Warburg effect): Glucose + 2 ADP => lactate + 2 ATP (fermentation) instead of: Glucose + 32 ADP =>  6 CO2 + 32 ATP (respiration). \n",
    "\n",
    "[See this Wiki page about the Warburg effect](https://en.wikipedia.org/wiki/Warburg_effect) and the [original publication by Otto Warburg (1956)](http://science.sciencemag.org/content/123/3191/309).\n",
    "\n",
    "### Applying FVA to the cell lines\n",
    "Remember that with FVA (Flux Variability Analysis) we can find out the range of flux through a reaction that is possible while the cell still grows optimally! This will allow us to see if, for instance, oxygen uptake is essential for these cancer cells.\n",
    "\n",
    "<span style=\"color:red\">**Assignment:**</span> The cell below performs FVA for a variety of reactions representing: oxygen uptake, proton pumping through the ATPase (final step in respiration), glycolysis (PGK/PYK), glucose uptake, non-essential amino acids (glutamate and glutamine uptake), essential amino acids (phenylalanine), lactate production. \n",
    "\n",
    "Each of these reactions, for each cell line and the unconstrained Recon 3, is associated with an interval that represents the lowest and highest possible flux possible while the cell is able to achieve optimal growth rate. \n",
    "\n",
    "Inspect the output. Pay particular attention to see if you can spot presence or absence of the Warburg effect. \n",
    "\n",
    "Then, read our observations further down the page."
   ]
  },
  {
   "cell_type": "code",
   "execution_count": null,
   "metadata": {},
   "outputs": [],
   "source": [
    "interesting_rxns = ['EX_o2_e',\n",
    "                    'ATPS4mi', # ATP production\n",
    "                    'EX_glc_D_e', # carbon sources\n",
    "                    'EX_lac_L_e'\n",
    "                   ]\n",
    "\n",
    "df = pd.DataFrame()\n",
    "d = {}\n",
    "\n",
    "modelnames = ['MCF7','MCF7_F','MCF7_T','LTED']\n",
    "for i,model in enumerate([MCF7, MCF7_F, MCF7_T, LTED]):\n",
    "    \n",
    "    model.reactions.EX_lac_D_e.upper_bound = 0 # keep one lactate exit\n",
    "    \n",
    "    fvasol = cobra.flux_analysis.flux_variability_analysis(model,reaction_list=interesting_rxns,\n",
    "                                                           fraction_of_optimum=1)\n",
    "    parsed_res = {r:[round(fvasol.loc[r]['minimum'],3),round(fvasol.loc[r]['maximum'],3)] for r in fvasol.index }\n",
    "    d[modelnames[i]] = parsed_res\n",
    "    \n",
    "df = pd.DataFrame(d,index=interesting_rxns,columns=modelnames)\n",
    "df.to_csv('FVA_comparison_cell_lines_vs_WT.csv',sep='\\t')"
   ]
  },
  {
   "cell_type": "code",
   "execution_count": null,
   "metadata": {},
   "outputs": [],
   "source": [
    "df.loc[['EX_o2_e']]"
   ]
  },
  {
   "cell_type": "markdown",
   "metadata": {},
   "source": [
    "We observe that (some) oxygen uptake is always needed for growth in all cell lines. This may be seen by the negative upper AND lower bounds. \n",
    "\n",
    "Remember that negative fluxes indicate uptake and that the fact that both bounds are negative indicates that the lowest possible uptake is non-zero: i.e. oxygen has to taken up. \n",
    "\n",
    "Because this minimal uptake rate is so low, it points to the oxygen being needed for some other process than energy metabolism: e.g. biomass production. It is therefore still a good potential drug target. "
   ]
  },
  {
   "cell_type": "code",
   "execution_count": null,
   "metadata": {},
   "outputs": [],
   "source": [
    "df.loc[['EX_glc_D_e']]"
   ]
  },
  {
   "cell_type": "markdown",
   "metadata": {},
   "source": [
    "MCF7 and MCF7_T require glucose uptake to grow optimally. LTED and MCF7_F do not. Hence, LTED and MCF7_F depend on the amino acids for growth and that for MCF7 and MCF7_T the glucose transporter would be a good drug candidate."
   ]
  },
  {
   "cell_type": "code",
   "execution_count": null,
   "metadata": {},
   "outputs": [],
   "source": [
    "df.loc[['EX_lac_L_e']]"
   ]
  },
  {
   "cell_type": "code",
   "execution_count": null,
   "metadata": {},
   "outputs": [],
   "source": [
    "max_values = [x[1] for x in df.loc[['EX_lac_L_e']].values[0]]\n",
    "\n",
    "celllines = ['MCF7','MCF7_F','MCF7_T','LTED']\n",
    "for i, line, color in [[0,'MCF7','black'],[1,'MCF7_F','orange'],[2,'MCF7_T','red'],[3,'LTED','blueviolet']]:\n",
    "    plt.bar(left=i, height=max_values[i], color = color,label = line,ec='black')\n",
    "\n",
    "plt.ylabel('Maximum lactate secretion flux',fontsize=14)\n",
    "plt.ylim(2,2.5);\n",
    "plt.tick_params(axis='x',which='both',bottom=False,labelbottom=False)\n",
    "plt.legend(fontsize=14);\n",
    "plt.show()"
   ]
  },
  {
   "cell_type": "markdown",
   "metadata": {},
   "source": [
    "Glycolysis 101: 1 unit of Glucose influx is fermented to 2 units of lactate efflux.\n",
    "\n",
    "Therefore, if cells are behaving fully according to the Warburg effect you would expect them to (be able to) produce 2 units of lactate. If they are not fully Warburg and respire (some of the) glucose to CO2, you would expect < 2. \n",
    "\n",
    "Based on the lactate upper bound it appears that all cell lines are able to fully ferment glucose (limited to 1 unit of uptake from the medium) to 2 units of lactate through glycolysis. The additional amount above 2, reflects the cell's ability to produce lactate from other carbon sources (e.g. the amino acids). \n",
    "\n",
    "In the literature it has been proposed that other carbon sources can be catabolized into lactate but they are generally considered to be catabolized to CO2. For example, this has been proposed for glutamine and in that case it has been referred to as the **WarburQ effect**."
   ]
  },
  {
   "cell_type": "markdown",
   "metadata": {},
   "source": [
    "In the table above LTED is able to produce the most lactate and MCF7 the least. Interestingly, **experiments** seem to confirm this prediction (see below).\n",
    "\n",
    "<img src=\"images/Cell_lines_lactate_over_glucose.png\">"
   ]
  },
  {
   "cell_type": "markdown",
   "metadata": {},
   "source": [
    "# Wrap up\n",
    "<span style=\"color:red\">**Scientific hypothesis from this work:**</span>\n",
    "MCF7, like typical tumor cells, is \"Warburg type\" and MCF7_T remains Warburg type but the other two (MCF7_F and LTED) lose at least some of this behavior.\n",
    "\n",
    "The LTED and MCF7_F seem to prefer alternative carbon sources. These two features suggest metabolic drug targets for cells that are usually only considered in terms of signal transduction. \n",
    "\n",
    "---\n",
    "\n",
    "This tutorial demonstrated the power of systems biology, systems and deep thinking. You now grasp the basics of flux balance/variability analysis, experienced using Python programming for science and saw one way of integrating real data in a computational model. Hopefully, you are convinced that \n",
    "\n",
    "$$\\text{data} + \\text{model} > \\text{data alone}$$\n",
    "\n",
    "This is only one (limited) example of the power of computational systems biology. The ultimate challenge is for you to now translate this to you own problem of interest! Hopefully this tutorial inspired you to do so. Do let us know after the tutorial."
   ]
  }
 ],
 "metadata": {
  "kernelspec": {
   "display_name": "Python 3",
   "language": "python",
   "name": "python3"
  },
  "language_info": {
   "codemirror_mode": {
    "name": "ipython",
    "version": 3
   },
   "file_extension": ".py",
   "mimetype": "text/x-python",
   "name": "python",
   "nbconvert_exporter": "python",
   "pygments_lexer": "ipython3",
   "version": "3.6.1"
  },
  "toc": {
   "nav_menu": {},
   "number_sections": true,
   "sideBar": true,
   "skip_h1_title": false,
   "toc_cell": false,
   "toc_position": {
    "height": "678.5px",
    "left": "0px",
    "right": "1228px",
    "top": "66.5px",
    "width": "212px"
   },
   "toc_section_display": "block",
   "toc_window_display": true
  }
 },
 "nbformat": 4,
 "nbformat_minor": 2
}
