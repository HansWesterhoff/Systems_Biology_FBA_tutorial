{
 "cells": [
  {
   "cell_type": "markdown",
   "metadata": {},
   "source": [
    "# Integrating transcriptomics data to reconstruct cancer cell line models\n",
    "**Authors:**\n",
    "Thierry D.G.A Mondeel, Stefania Astrologo, Ewelina Weglarz-Tomczak & Hans V. Westerhoff <br/>\n",
    "University of Amsterdam <br/>\n",
    "2016 - 2018\n",
    "\n",
    "In this part of the tutorial we will make use of the previously introduced human metabolic network (Recon 3) and apply cancer cell line transcriptomics to constrain the fluxes. \n",
    "\n",
    "**Objectives**\n",
    "- Learn about ER+ cancer cell lines\n",
    "- See an example of how (transcriptomics) data can be integrated with the human metabolic reconstruction\n",
    "- Investigate if the data integrated network can teach you anything new about the cell lines\n",
    "\n",
    "<span style=\"color:red\">**Preliminary question:**</span>\n",
    "What do you think: the integration of transcriptomics and the metabolic network will teach us more than the transcriptomics alone?\n",
    "\n",
    "## Setting up the Python environment\n",
    "<span style=\"color:red\">**Assignment:**</span> Execute the cell below to set up our Python environment"
   ]
  },
  {
   "cell_type": "code",
   "execution_count": 2,
   "metadata": {},
   "outputs": [
    {
     "data": {
      "text/html": [
       "\n",
       "    <div class=\"bk-root\">\n",
       "        <a href=\"http://bokeh.pydata.org\" target=\"_blank\" class=\"bk-logo bk-logo-small bk-logo-notebook\"></a>\n",
       "        <span id=\"ea73d3de-46ad-4fe8-bcc0-7b3a575d9978\">Loading BokehJS ...</span>\n",
       "    </div>"
      ]
     },
     "metadata": {},
     "output_type": "display_data"
    },
    {
     "data": {
      "application/javascript": [
       "\n",
       "(function(global) {\n",
       "  function now() {\n",
       "    return new Date();\n",
       "  }\n",
       "\n",
       "  var force = true;\n",
       "\n",
       "  if (typeof (window._bokeh_onload_callbacks) === \"undefined\" || force === true) {\n",
       "    window._bokeh_onload_callbacks = [];\n",
       "    window._bokeh_is_loading = undefined;\n",
       "  }\n",
       "\n",
       "\n",
       "  \n",
       "  if (typeof (window._bokeh_timeout) === \"undefined\" || force === true) {\n",
       "    window._bokeh_timeout = Date.now() + 5000;\n",
       "    window._bokeh_failed_load = false;\n",
       "  }\n",
       "\n",
       "  var NB_LOAD_WARNING = {'data': {'text/html':\n",
       "     \"<div style='background-color: #fdd'>\\n\"+\n",
       "     \"<p>\\n\"+\n",
       "     \"BokehJS does not appear to have successfully loaded. If loading BokehJS from CDN, this \\n\"+\n",
       "     \"may be due to a slow or bad network connection. Possible fixes:\\n\"+\n",
       "     \"</p>\\n\"+\n",
       "     \"<ul>\\n\"+\n",
       "     \"<li>re-rerun `output_notebook()` to attempt to load from CDN again, or</li>\\n\"+\n",
       "     \"<li>use INLINE resources instead, as so:</li>\\n\"+\n",
       "     \"</ul>\\n\"+\n",
       "     \"<code>\\n\"+\n",
       "     \"from bokeh.resources import INLINE\\n\"+\n",
       "     \"output_notebook(resources=INLINE)\\n\"+\n",
       "     \"</code>\\n\"+\n",
       "     \"</div>\"}};\n",
       "\n",
       "  function display_loaded() {\n",
       "    if (window.Bokeh !== undefined) {\n",
       "      var el = document.getElementById(\"ea73d3de-46ad-4fe8-bcc0-7b3a575d9978\");\n",
       "      el.textContent = \"BokehJS \" + Bokeh.version + \" successfully loaded.\";\n",
       "    } else if (Date.now() < window._bokeh_timeout) {\n",
       "      setTimeout(display_loaded, 100)\n",
       "    }\n",
       "  }\n",
       "\n",
       "  function run_callbacks() {\n",
       "    window._bokeh_onload_callbacks.forEach(function(callback) { callback() });\n",
       "    delete window._bokeh_onload_callbacks\n",
       "    console.info(\"Bokeh: all callbacks have finished\");\n",
       "  }\n",
       "\n",
       "  function load_libs(js_urls, callback) {\n",
       "    window._bokeh_onload_callbacks.push(callback);\n",
       "    if (window._bokeh_is_loading > 0) {\n",
       "      console.log(\"Bokeh: BokehJS is being loaded, scheduling callback at\", now());\n",
       "      return null;\n",
       "    }\n",
       "    if (js_urls == null || js_urls.length === 0) {\n",
       "      run_callbacks();\n",
       "      return null;\n",
       "    }\n",
       "    console.log(\"Bokeh: BokehJS not loaded, scheduling load and callback at\", now());\n",
       "    window._bokeh_is_loading = js_urls.length;\n",
       "    for (var i = 0; i < js_urls.length; i++) {\n",
       "      var url = js_urls[i];\n",
       "      var s = document.createElement('script');\n",
       "      s.src = url;\n",
       "      s.async = false;\n",
       "      s.onreadystatechange = s.onload = function() {\n",
       "        window._bokeh_is_loading--;\n",
       "        if (window._bokeh_is_loading === 0) {\n",
       "          console.log(\"Bokeh: all BokehJS libraries loaded\");\n",
       "          run_callbacks()\n",
       "        }\n",
       "      };\n",
       "      s.onerror = function() {\n",
       "        console.warn(\"failed to load library \" + url);\n",
       "      };\n",
       "      console.log(\"Bokeh: injecting script tag for BokehJS library: \", url);\n",
       "      document.getElementsByTagName(\"head\")[0].appendChild(s);\n",
       "    }\n",
       "  };var element = document.getElementById(\"ea73d3de-46ad-4fe8-bcc0-7b3a575d9978\");\n",
       "  if (element == null) {\n",
       "    console.log(\"Bokeh: ERROR: autoload.js configured with elementid 'ea73d3de-46ad-4fe8-bcc0-7b3a575d9978' but no matching script tag was found. \")\n",
       "    return false;\n",
       "  }\n",
       "\n",
       "  var js_urls = [\"https://cdn.pydata.org/bokeh/release/bokeh-0.12.5.min.js\", \"https://cdn.pydata.org/bokeh/release/bokeh-widgets-0.12.5.min.js\"];\n",
       "\n",
       "  var inline_js = [\n",
       "    function(Bokeh) {\n",
       "      Bokeh.set_log_level(\"info\");\n",
       "    },\n",
       "    \n",
       "    function(Bokeh) {\n",
       "      \n",
       "    },\n",
       "    \n",
       "    function(Bokeh) {\n",
       "      \n",
       "      document.getElementById(\"ea73d3de-46ad-4fe8-bcc0-7b3a575d9978\").textContent = \"BokehJS is loading...\";\n",
       "\n",
       "    },\n",
       "    function(Bokeh) {\n",
       "      console.log(\"Bokeh: injecting CSS: https://cdn.pydata.org/bokeh/release/bokeh-0.12.5.min.css\");\n",
       "      Bokeh.embed.inject_css(\"https://cdn.pydata.org/bokeh/release/bokeh-0.12.5.min.css\");\n",
       "      console.log(\"Bokeh: injecting CSS: https://cdn.pydata.org/bokeh/release/bokeh-widgets-0.12.5.min.css\");\n",
       "      Bokeh.embed.inject_css(\"https://cdn.pydata.org/bokeh/release/bokeh-widgets-0.12.5.min.css\");\n",
       "    }\n",
       "  ];\n",
       "\n",
       "  function run_inline_js() {\n",
       "    \n",
       "    if ((window.Bokeh !== undefined) || (force === true)) {\n",
       "      for (var i = 0; i < inline_js.length; i++) {\n",
       "        inline_js[i](window.Bokeh);\n",
       "      }if (force === true) {\n",
       "        display_loaded();\n",
       "      }} else if (Date.now() < window._bokeh_timeout) {\n",
       "      setTimeout(run_inline_js, 100);\n",
       "    } else if (!window._bokeh_failed_load) {\n",
       "      console.log(\"Bokeh: BokehJS failed to load within specified timeout.\");\n",
       "      window._bokeh_failed_load = true;\n",
       "    } else if (force !== true) {\n",
       "      var cell = $(document.getElementById(\"ea73d3de-46ad-4fe8-bcc0-7b3a575d9978\")).parents('.cell').data().cell;\n",
       "      cell.output_area.append_execute_result(NB_LOAD_WARNING)\n",
       "    }\n",
       "\n",
       "  }\n",
       "\n",
       "  if (window._bokeh_is_loading === 0) {\n",
       "    console.log(\"Bokeh: BokehJS loaded, going straight to plotting\");\n",
       "    run_inline_js();\n",
       "  } else {\n",
       "    load_libs(js_urls, function() {\n",
       "      console.log(\"Bokeh: BokehJS plotting callback run at\", now());\n",
       "      run_inline_js();\n",
       "    });\n",
       "  }\n",
       "}(this));"
      ]
     },
     "metadata": {},
     "output_type": "display_data"
    }
   ],
   "source": [
    "# FBA tools\n",
    "import cobra\n",
    "from cobra.flux_analysis import pfba\n",
    "\n",
    "# Pandas tables\n",
    "import numpy as np\n",
    "import pandas as pd # for tables\n",
    "pd.set_option('display.max_colwidth', -1) # don't constrain the content of the tables\n",
    "pd.options.display.max_rows = 9999\n",
    "\n",
    "# import plotting capabilities\n",
    "from bokeh.layouts import gridplot\n",
    "from bokeh.plotting import figure, show, output_notebook\n",
    "from bokeh.models import Range1d\n",
    "output_notebook() # Run once to get inline figuresimport matplotlib.pyplot as plt\n",
    "\n",
    "import matplotlib\n",
    "%matplotlib inline\n",
    "from utils import show_map\n",
    "import escher\n",
    "map_loc = './maps/escher_map_RECON3D_energy_metabolism.json' # the escher map used below\n",
    "\n",
    "# Load all required functions for the radar plot\n",
    "from utils.file_list_function import file_list\n",
    "from utils.flux_pattern_function import flux_pattern\n",
    "from utils.df_plot_function import df_plot\n",
    "from utils.flux_pie_plot_function import flux_pie_plot\n",
    "\n",
    "# show all output in each cell\n",
    "from IPython.core.interactiveshell import InteractiveShell\n",
    "InteractiveShell.ast_node_interactivity = \"last_expr\" # all, last_expr\n",
    "\n",
    "WT_r3_orig = cobra.io.load_json_model('models/Recon3D_301/Recon3DModel_301_simple_medium.json')\n",
    "WT_r3 = WT_r3_orig.copy()"
   ]
  },
  {
   "cell_type": "markdown",
   "metadata": {},
   "source": [
    "## Introduction to ER+ Breast Cancer \n",
    "<span style=\"color:red\">**Assignment (5 min):**</span> Read the following general overview about ER+ cancer subtypes and the 4 cell lines we will be investigating."
   ]
  },
  {
   "cell_type": "markdown",
   "metadata": {},
   "source": [
    "> <span style=\"color:blue\">**About Breast Cancer**:</span>\n",
    "\n",
    "\n",
    ">According to the **World Health Organization**, breast cancer is the most common cancer among women worldwide, claiming the lives of hundreds of thousands of women each year and affecting countries at all levels of modernization.\n",
    "\n",
    ">There are **four** main intrinsic or **molecular subtypes** of breast cancer that are based on the genes a cancer cell expresses. \n",
    "<img src=\"images/BC_subtypes.png\" width=\"600\" height=\"600\" align=\"center\"/><br/>\n",
    "[Click here to see the original Figure](https://doi.org/10.1371/journal.pmed.1000279.g001)\n",
    "\n",
    "\n",
    "\n",
    "\n",
    ">Among the different molecular subtypes of breast cancer, **ER+ breast cancer comprises ~75% of all breast cancers**. Thus, the ER status has become the most important discriminator of breast cancer molecular subtypes, resulting in primary treatment options through targeting the estrogen synthesis or the ER functions (tamoxifen). This kind of treatment is generally known as endocrine therapy.\n",
    "\n",
    ">--------\n",
    "> <span style=\"color:blue\">**About Breast Cancer Resistance**:</span>\n",
    "\n",
    "> Although endocrine therapy has dramatically improved survival in breast cancer patients over the past several decades, **resistance** to these therapies remains one of the major causes of breast cancer mortality today. Late recurrence and death from estrogen receptor positive (ER+) breast cancer can occur for at least 20 years after the original diagnosis even after 5 years of adjuvant endocrine therapy. \n",
    "\n",
    ">Identifying mechanisms of resistance and strategies by which to combat these mechanisms is paramount to patient survival. [(Mills et al., 2018)](https://www.sciencedirect.com/science/article/pii/S147148921830002X?via%3Dihub)\n",
    "\n",
    ">--------\n",
    "\n",
    "> <span style=\"color:blue\">**About endrocrine therapy in ER+ BC**:</span>\n",
    ">\n",
    "\n",
    "\n",
    "\n",
    "> Hormonal therapy medicines treat hormone-receptor-positive breast cancers in two ways:\n",
    "- <span style=\"color:blue\">- by **lowering** the amount of the hormone estrogen in the body;</span>\n",
    "- <span style=\"color:blue\">- by **blocking** the action of estrogen on breast cancer cells;</span>\n",
    "\n",
    "\n",
    ">The main types of **endrocrine therapy** are the following: \n",
    "- Selective estrogen-receptor response modulators **(SERMs)**: <span style=\"color:red\">tamoxifen</span>, Evista, Fareston\n",
    "- Selective Estrogen-receptor downregulators **(SERDs)**: <span style=\"color:orange\">fulvestrant</span>\n",
    "- Aromatase inhibitors **(AIs)**: anastrozole, exemestane, letrozole.\n",
    "\n",
    ">--------\n",
    "\n",
    "> <span style=\"color:blue\">**About ER+ BC cell-lines**:</span>\n",
    ">\n",
    "\n",
    ">**MCF7** is an ER+ Breast Cancer cell-line (**Estradiol-dependent**) and sensitive to any treatment targeting the estrogen receptor network.\n",
    "\n",
    "> <span style=\"color:red\">**MCF7-T**</span> is a Tamoxifen resistant cell-line derived  from MCF7.\n",
    "\n",
    "> <span style=\"color:orange\">**MCF7-F**</span> is a Fulvestrant resistant cell-line derived  from MCF7.\n",
    "\n",
    "> <span style=\"color:blueviolet\">**LTED**</span> is a resistant cell-line, that recapitulates the Aromatase Inhibitor resistance (**Estradiol-independent**).\n",
    "\n",
    "<img src=\"images/Cell_lines.png\" width=\"600\" height=\"600\" align=\"center\"/>"
   ]
  },
  {
   "cell_type": "markdown",
   "metadata": {},
   "source": [
    "## The RNA-seq data on cancer cell lines: MCF7 and LTED\n",
    "\n",
    "Here we will use transcriptomics data from [Nguyen et al. 2015](https://www.nature.com/articles/ncomms10044) for four breast cancer cell lines: LTED, MCF7, MCF7_F and MCF7_T."
   ]
  },
  {
   "cell_type": "markdown",
   "metadata": {},
   "source": [
    "Let's first have a look at the dataset"
   ]
  },
  {
   "cell_type": "code",
   "execution_count": 3,
   "metadata": {},
   "outputs": [
    {
     "name": "stdout",
     "output_type": "stream",
     "text": [
      "The dataset tracks: 2290 genes that encode metabolic enzymes.\n"
     ]
    },
    {
     "data": {
      "text/html": [
       "<div>\n",
       "<style scoped>\n",
       "    .dataframe tbody tr th:only-of-type {\n",
       "        vertical-align: middle;\n",
       "    }\n",
       "\n",
       "    .dataframe tbody tr th {\n",
       "        vertical-align: top;\n",
       "    }\n",
       "\n",
       "    .dataframe thead th {\n",
       "        text-align: right;\n",
       "    }\n",
       "</style>\n",
       "<table border=\"1\" class=\"dataframe\">\n",
       "  <thead>\n",
       "    <tr style=\"text-align: right;\">\n",
       "      <th></th>\n",
       "      <th>MCF7</th>\n",
       "      <th>MCF7_F</th>\n",
       "      <th>MCF7_T</th>\n",
       "      <th>LTED</th>\n",
       "    </tr>\n",
       "    <tr>\n",
       "      <th>entrez_id</th>\n",
       "      <th></th>\n",
       "      <th></th>\n",
       "      <th></th>\n",
       "      <th></th>\n",
       "    </tr>\n",
       "  </thead>\n",
       "  <tbody>\n",
       "    <tr>\n",
       "      <th>0.0</th>\n",
       "      <td>0.000000</td>\n",
       "      <td>0.000000</td>\n",
       "      <td>0.000000</td>\n",
       "      <td>0.000000</td>\n",
       "    </tr>\n",
       "    <tr>\n",
       "      <th>13.1</th>\n",
       "      <td>0.129984</td>\n",
       "      <td>0.000000</td>\n",
       "      <td>0.080061</td>\n",
       "      <td>0.087407</td>\n",
       "    </tr>\n",
       "    <tr>\n",
       "      <th>15.1</th>\n",
       "      <td>0.000000</td>\n",
       "      <td>0.058408</td>\n",
       "      <td>0.059831</td>\n",
       "      <td>0.032661</td>\n",
       "    </tr>\n",
       "    <tr>\n",
       "      <th>18.1</th>\n",
       "      <td>36.980706</td>\n",
       "      <td>5.672655</td>\n",
       "      <td>5.680825</td>\n",
       "      <td>34.087925</td>\n",
       "    </tr>\n",
       "    <tr>\n",
       "      <th>18.2</th>\n",
       "      <td>36.980706</td>\n",
       "      <td>5.672655</td>\n",
       "      <td>5.680825</td>\n",
       "      <td>34.087925</td>\n",
       "    </tr>\n",
       "  </tbody>\n",
       "</table>\n",
       "</div>"
      ],
      "text/plain": [
       "                MCF7    MCF7_F    MCF7_T       LTED\n",
       "entrez_id                                          \n",
       "0.0        0.000000   0.000000  0.000000  0.000000 \n",
       "13.1       0.129984   0.000000  0.080061  0.087407 \n",
       "15.1       0.000000   0.058408  0.059831  0.032661 \n",
       "18.1       36.980706  5.672655  5.680825  34.087925\n",
       "18.2       36.980706  5.672655  5.680825  34.087925"
      ]
     },
     "execution_count": 3,
     "metadata": {},
     "output_type": "execute_result"
    }
   ],
   "source": [
    "dataset = pd.read_pickle('models/Recon3D_301/Recon3_cell_line_models/data/total_dataset')\n",
    "print('The dataset tracks:', len(dataset), 'genes that encode metabolic enzymes.')\n",
    "dataset.head()"
   ]
  },
  {
   "cell_type": "markdown",
   "metadata": {},
   "source": [
    "<span style=\"color:red\">**Question:**</span> We might expect that the resistance mechanisms lead to changes in metabolism and therefore metabolic enzyme expression.\n",
    "\n",
    "Let's investigate if this is true, below.  "
   ]
  },
  {
   "cell_type": "markdown",
   "metadata": {},
   "source": [
    "<span style=\"color:red\">**Assignment:**</span> We might expect that non-resistant cancer cells (MCF7) have downregulated most of their metabolism, focusing solely on glycolysis. \n",
    "\n",
    "Based on the histogram plot below, how many genes are roughly not expressed in each cell line? Note that you will not see the actual number of exact zeros (due to the bins)."
   ]
  },
  {
   "cell_type": "code",
   "execution_count": 6,
   "metadata": {},
   "outputs": [
    {
     "data": {
      "text/plain": [
       "<matplotlib.axes._subplots.AxesSubplot at 0x1231b61d0>"
      ]
     },
     "execution_count": 6,
     "metadata": {},
     "output_type": "execute_result"
    },
    {
     "data": {
      "image/png": "[encoded data removed]",
      "text/plain": [
       "<matplotlib.figure.Figure at 0x123156eb8>"
      ]
     },
     "metadata": {},
     "output_type": "display_data"
    }
   ],
   "source": [
    "sub_dataset = dataset[dataset < 1] # zoom in on low expression genes\n",
    "sub_dataset['MCF7'].plot(kind='hist',xlim=[0,1],bins=25,alpha=0.3,figsize=(12,5))"
   ]
  },
  {
   "cell_type": "markdown",
   "metadata": {},
   "source": [
    "<span style=\"color:red\">**Assignment:**</span> Now confirm your answer above by looking at the percentage of actual zeros below. Is the percentage surprising to you? Might these all be the same enzymes since all four cell lines are cancer cell lines?"
   ]
  },
  {
   "cell_type": "code",
   "execution_count": 7,
   "metadata": {},
   "outputs": [
    {
     "data": {
      "text/plain": [
       "18.602620087336245"
      ]
     },
     "execution_count": 7,
     "metadata": {},
     "output_type": "execute_result"
    }
   ],
   "source": [
    "(dataset['MCF7'] < 1e-3).sum(axis=0)/len(dataset['MCF7'])*100"
   ]
  },
  {
   "cell_type": "markdown",
   "metadata": {},
   "source": [
    "Surprisingly, all MCF7 is using about 80% of all the metabolic enzymes known to occur in human metabolism. Let's look at the other cell lines that have acquired resitance. We might expect these cell lines to have focused completely on resistance pathways and therefore have downregulated most of the rest of metabolism. Let's look. "
   ]
  },
  {
   "cell_type": "code",
   "execution_count": 8,
   "metadata": {},
   "outputs": [
    {
     "data": {
      "text/plain": [
       "MCF7      18.602620\n",
       "MCF7_F    20.349345\n",
       "MCF7_T    22.620087\n",
       "LTED      17.729258\n",
       "dtype: float64"
      ]
     },
     "execution_count": 8,
     "metadata": {},
     "output_type": "execute_result"
    }
   ],
   "source": [
    "(dataset < 1e-3).sum(axis=0)/len(dataset)*100"
   ]
  },
  {
   "cell_type": "markdown",
   "metadata": {},
   "source": [
    "Not at all! All four cell lines have downregulated only 20% of metabolism. "
   ]
  },
  {
   "cell_type": "markdown",
   "metadata": {},
   "source": [
    "**Add 4-way Venn diagram for non-zero expression of genes** "
   ]
  },
  {
   "cell_type": "markdown",
   "metadata": {},
   "source": [
    "Let's investigate if the 80% that is expressed is expressed in different amounts. The bar plot below is useful to see expression level differences between the cell lines for highly expressed genes. "
   ]
  },
  {
   "cell_type": "code",
   "execution_count": 9,
   "metadata": {},
   "outputs": [
    {
     "name": "stdout",
     "output_type": "stream",
     "text": [
      "Looking only at the 34 genes that show relatively high transcript levels out of a total of 2290 genes\n"
     ]
    },
    {
     "data": {
      "text/plain": [
       "<matplotlib.axes._subplots.AxesSubplot at 0x1234abd30>"
      ]
     },
     "execution_count": 9,
     "metadata": {},
     "output_type": "execute_result"
    },
    {
     "data": {
      "image/png": "[encoded data removed]",
      "text/plain": [
       "<matplotlib.figure.Figure at 0x123468400>"
      ]
     },
     "metadata": {},
     "output_type": "display_data"
    }
   ],
   "source": [
    "subdataset = dataset[(dataset.T > 300).any()] # zoom in on genes with reasonably high transcript levels\n",
    "print('Looking only at the',len(subdataset),'genes that show relatively high transcript levels out of a total of', len(dataset),'genes')\n",
    "subdataset.plot(kind='bar',figsize=(15,5))"
   ]
  },
  {
   "cell_type": "markdown",
   "metadata": {},
   "source": [
    "<span style=\"color:red\">**Assignment:**</span> Are there quantitative differences between these highly expressed genes?"
   ]
  },
  {
   "cell_type": "markdown",
   "metadata": {},
   "source": [
    "<span style=\"color:red\">**Assignment:**</span> The plot below zooms in on genes not expressed in some cell lines but expressed in others. Is this more convincing?"
   ]
  },
  {
   "cell_type": "code",
   "execution_count": 10,
   "metadata": {},
   "outputs": [
    {
     "name": "stdout",
     "output_type": "stream",
     "text": [
      "Lookin only at the 43 genes that show relatively high transcript levels out of a total of 2290 genes\n"
     ]
    },
    {
     "data": {
      "text/plain": [
       "<matplotlib.axes._subplots.AxesSubplot at 0x1236d1940>"
      ]
     },
     "execution_count": 10,
     "metadata": {},
     "output_type": "execute_result"
    },
    {
     "data": {
      "image/png": "[encoded data removed]",
      "text/plain": [
       "<matplotlib.figure.Figure at 0x123685080>"
      ]
     },
     "metadata": {},
     "output_type": "display_data"
    }
   ],
   "source": [
    "# zoom in on genes that are not expressed in some cell lines and some expression in others\n",
    "subdataset = dataset[(dataset.T == 0).any() & (dataset.T > 1).any()] \n",
    "print('Lookin only at the',len(subdataset),'genes that show relatively high transcript levels out of a total of', len(dataset),'genes')\n",
    "subdataset.plot(kind='bar',figsize=(15,5))"
   ]
  },
  {
   "cell_type": "markdown",
   "metadata": {},
   "source": [
    "<span style=\"color:red\">**Assignment:**</span> Do the transcriptomics values plotted above convince you that there might be some differences between the cell lines?\n",
    "\n",
    "---\n",
    "\n",
    "So most of metabolism is quite similar between the cell lines. But there are individual genes with major quantitave differences between the cell lines.\n",
    "\n",
    "Let's now investigate if these differences matter for the flux pattern capabilities of the cell lines..."
   ]
  },
  {
   "cell_type": "markdown",
   "metadata": {},
   "source": [
    "## Mapping transcriptomic data to Recon3D\n",
    "Our approach for integrating the transcriptomics data with the metabolic network is based on [Damiani et al. 2018](https://www.biorxiv.org/content/early/2018/01/30/256644). This approach was originally devised to deal with single cell transcriptomics but is here modified to apply across different cell lines. We will explain the details below, but beware as the details can be tricky to understand if you are new to flux balance analysis. Don't despair! You do not have to understand it 100%. \n",
    "\n",
    "### The approach in a nutshell (NOTE THAT THIS PART IS OPTIONAL TO UNDERSTAND)\n",
    "The key idea is to normalize each gene's transcriptomic level in a given cell line by the sum total across all four cell lines. This leads to transcriptomics \"score\" between 0 and 1. 0 if the transcript level is 0 in a particular cell line and 1 if that cell line was the only one to have any expression. \n",
    "\n",
    "We then take the unconstrained Recon 3 model and determine for each reaction what the maximal flux is that it can sustain on the defined medium. That maximal flux is then multiplied by the transcriptomics score and this product is set as the maximal flux bound in the model.\n",
    "\n",
    "**The outcome of this is that each reaction will have a flux bound that is proportional (i.e. linearly related) to the transcriptomics score.** \n",
    "\n",
    "<span style=\"color:red\">**Discuss:**</span> Can you think of an argument for why this approach of assuming a linear relationship between flux and transcript levels is reasonable? \n",
    "\n",
    "<span style=\"color:red\">**Discuss:**</span> Can you  think of a reason for why our approach is probably inaccurate? How would you go about improving this if you were in the business of systems biology research?\n",
    "\n",
    "\n",
    "\n",
    "### The details: two thorny problems (feel free to skip if you're in a hurry)\n",
    "What the above fails to mention is that we (1) need to account for isoenzymes and enzyme complexes and (2) that we need to deal with completely untranscribed genes which can wreak havoc on our model. \n",
    "\n",
    "- (1) The former is dealt with by summing up transcriptomic scores across isoenzymes for each reaction and taking the minimum transcriptomics score for components of an enzyme complex for each reaction. \n",
    "- (2) is solved by not setting reactions to zero if there is no transcript levels detected, but rather to a very low flux bound 1e-3. This way we will still be able to see bottlenecks (their flux will hit the 1e-3 bound) but we ensure that the model will keep functioning at all times (no pathways will be fully blocked).\n",
    "\n",
    "<span style=\"color:red\">**Note:**</span> Many problems remain with this aproach: metabolite concentrations, kcat and K_m parameters etc."
   ]
  },
  {
   "cell_type": "markdown",
   "metadata": {},
   "source": [
    "## Analyzing pre-prepared cancer cell line models\n",
    "We applied the approach detailed above and saved the constrained cell lines for you. We will analyze them below.  \n",
    "\n",
    "## Load the models\n",
    "Start by loading the models using the cell below. This will take a minute or so. "
   ]
  },
  {
   "cell_type": "code",
   "execution_count": 11,
   "metadata": {},
   "outputs": [],
   "source": [
    "files = [\"LTED_FPKM.json\", \"MCF7_FPKM.json\", \"MCF7_T_FPKM.json\", \"MCF7_F_FPKM.json\"]\n",
    "\n",
    "LTED_orig = cobra.io.load_json_model('./models/Recon3D_301/Recon3_cell_line_models/LTED_FPKM.json')\n",
    "MCF7_orig = cobra.io.load_json_model('./models/Recon3D_301/Recon3_cell_line_models/MCF7_FPKM.json')\n",
    "MCF7_F_orig = cobra.io.load_json_model('./models/Recon3D_301/Recon3_cell_line_models/MCF7_F_FPKM.json')\n",
    "MCF7_T_orig = cobra.io.load_json_model('./models/Recon3D_301/Recon3_cell_line_models/MCF7_T_FPKM.json')\n",
    "\n",
    "# Save unaltered copies of each model\n",
    "WT_r3 = WT_r3_orig.copy()\n",
    "LTED = LTED_orig.copy()\n",
    "MCF7 = MCF7_orig.copy()\n",
    "MCF7_F = MCF7_F_orig.copy()\n",
    "MCF7_T = MCF7_T_orig.copy()"
   ]
  },
  {
   "cell_type": "markdown",
   "metadata": {},
   "source": [
    "## Analyzing the growth rates\n",
    "<span style=\"color:red\">**Assignment:**</span> The cell below prints the growth rate (calculated using Flux Balance Analysis) for the unconstrained Recon 3 model and each of the four cell lines. Do the results make sense? Do you notice anything interesting?"
   ]
  },
  {
   "cell_type": "code",
   "execution_count": 12,
   "metadata": {},
   "outputs": [
    {
     "data": {
      "text/html": [
       "<div>\n",
       "<style scoped>\n",
       "    .dataframe tbody tr th:only-of-type {\n",
       "        vertical-align: middle;\n",
       "    }\n",
       "\n",
       "    .dataframe tbody tr th {\n",
       "        vertical-align: top;\n",
       "    }\n",
       "\n",
       "    .dataframe thead th {\n",
       "        text-align: right;\n",
       "    }\n",
       "</style>\n",
       "<table border=\"1\" class=\"dataframe\">\n",
       "  <thead>\n",
       "    <tr style=\"text-align: right;\">\n",
       "      <th></th>\n",
       "      <th>Growth rate</th>\n",
       "    </tr>\n",
       "  </thead>\n",
       "  <tbody>\n",
       "    <tr>\n",
       "      <th>WT Recon 3</th>\n",
       "      <td>0.16889</td>\n",
       "    </tr>\n",
       "    <tr>\n",
       "      <th>LTED</th>\n",
       "      <td>0.04002</td>\n",
       "    </tr>\n",
       "    <tr>\n",
       "      <th>MCF7</th>\n",
       "      <td>0.06915</td>\n",
       "    </tr>\n",
       "    <tr>\n",
       "      <th>MCF7_F</th>\n",
       "      <td>0.05797</td>\n",
       "    </tr>\n",
       "    <tr>\n",
       "      <th>MCF7_T</th>\n",
       "      <td>0.05719</td>\n",
       "    </tr>\n",
       "  </tbody>\n",
       "</table>\n",
       "</div>"
      ],
      "text/plain": [
       "            Growth rate\n",
       "WT Recon 3  0.16889    \n",
       "LTED        0.04002    \n",
       "MCF7        0.06915    \n",
       "MCF7_F      0.05797    \n",
       "MCF7_T      0.05719    "
      ]
     },
     "execution_count": 12,
     "metadata": {},
     "output_type": "execute_result"
    }
   ],
   "source": [
    "growth_rate_dict = {}\n",
    "for model_name,model in [('WT Recon 3',WT_r3), ('LTED',LTED), ('MCF7',MCF7), ('MCF7_F',MCF7_F), ('MCF7_T',MCF7_T)]:\n",
    "    sol = model.optimize()\n",
    "    growth_rate_dict[model_name] = round(sol.fluxes['biomass_reaction'],5)\n",
    "\n",
    "pd.DataFrame.from_dict(growth_rate_dict,orient='index', columns=['Growth rate'])"
   ]
  },
  {
   "cell_type": "markdown",
   "metadata": {},
   "source": [
    "Apparently, the resistant cell lines are predicted to have lower growth rates than MCF7 under conditions even though the drug is absent in this computation!"
   ]
  },
  {
   "cell_type": "markdown",
   "metadata": {},
   "source": [
    "**Possible observations**\n",
    "- All cell lines growth rates are lower than the unconstrained Recon 3 model, i.e. the transcriptomics constraints are actually constraining the flux patterns\n",
    "- The cell lines are not all the same metabolically (based on the applied methodology). In fact, these changes are bigger than you would expect assuming that the resistance mechanism is very simple.\n",
    "- MCF7 (the non-resistant) cell line outperforms the other cell lines in terms of growth rate\n",
    "- It appears that MCF7_F and MCF7_T have similar growth rates. "
   ]
  },
  {
   "cell_type": "markdown",
   "metadata": {},
   "source": [
    "<span style=\"color:red\">**Assignment:**</span> Could you have gotten this insight, into the potential effect of transcript limitations on growth rate, from just the transcriptomics? This is the power of 'Systems Thinking'."
   ]
  },
  {
   "cell_type": "markdown",
   "metadata": {},
   "source": [
    "##  More detailed analysis of flux distribution across metabolic subsystems\n",
    "Recon 3 comes annotated with a so-called \"metabolic subsystem\" for many reactions. These subsystems reflect the major pathway that a reaction is a part of, e.g.: glycolysis, the TCA cycle, cholesterol synthesis etc.\n",
    "\n",
    "The cell below will perform flux balance analysis on all four cell lines and plot the total flux running through a selected number of subsystems. This will give an indication of the metabolic pathways each cell line is using to grow.\n",
    "\n",
    "<span style=\"color:red\">**Assignment:**</span> Execute the cell below (wait up to a minute or so for the calculations to complete) and investigate the output. Do you observe any interesting patterns?"
   ]
  },
  {
   "cell_type": "code",
   "execution_count": 13,
   "metadata": {},
   "outputs": [
    {
     "name": "stdout",
     "output_type": "stream",
     "text": [
      "\n",
      "Loading the following models:'models/Recon3D_301/Recon3_cell_line_models/MCF7_FPKM.json', 'models/Recon3D_301/Recon3_cell_line_models/LTED_FPKM.json', 'models/Recon3D_301/Recon3_cell_line_models/MCF7_F_FPKM.json', 'models/Recon3D_301/Recon3_cell_line_models/MCF7_T_FPKM.json'\n",
      "\n",
      "All models are loaded\n",
      "\n",
      "_______________________________________________________________________________ \n",
      "\n",
      "The flux pattern will be computed using \u001b[31mFBA\n",
      "\u001b[30m_______________________________________________________________________________ \n"
     ]
    },
    {
     "data": {
      "text/html": [
       "\n",
       "    <div class=\"bk-root\">\n",
       "        <a href=\"http://bokeh.pydata.org\" target=\"_blank\" class=\"bk-logo bk-logo-small bk-logo-notebook\"></a>\n",
       "        <span id=\"bc07ff63-f9d6-4f96-ba80-962e8a1d6184\">Loading BokehJS ...</span>\n",
       "    </div>"
      ]
     },
     "metadata": {},
     "output_type": "display_data"
    },
    {
     "data": {
      "application/javascript": [
       "\n",
       "(function(global) {\n",
       "  function now() {\n",
       "    return new Date();\n",
       "  }\n",
       "\n",
       "  var force = true;\n",
       "\n",
       "  if (typeof (window._bokeh_onload_callbacks) === \"undefined\" || force === true) {\n",
       "    window._bokeh_onload_callbacks = [];\n",
       "    window._bokeh_is_loading = undefined;\n",
       "  }\n",
       "\n",
       "\n",
       "  \n",
       "  if (typeof (window._bokeh_timeout) === \"undefined\" || force === true) {\n",
       "    window._bokeh_timeout = Date.now() + 5000;\n",
       "    window._bokeh_failed_load = false;\n",
       "  }\n",
       "\n",
       "  var NB_LOAD_WARNING = {'data': {'text/html':\n",
       "     \"<div style='background-color: #fdd'>\\n\"+\n",
       "     \"<p>\\n\"+\n",
       "     \"BokehJS does not appear to have successfully loaded. If loading BokehJS from CDN, this \\n\"+\n",
       "     \"may be due to a slow or bad network connection. Possible fixes:\\n\"+\n",
       "     \"</p>\\n\"+\n",
       "     \"<ul>\\n\"+\n",
       "     \"<li>re-rerun `output_notebook()` to attempt to load from CDN again, or</li>\\n\"+\n",
       "     \"<li>use INLINE resources instead, as so:</li>\\n\"+\n",
       "     \"</ul>\\n\"+\n",
       "     \"<code>\\n\"+\n",
       "     \"from bokeh.resources import INLINE\\n\"+\n",
       "     \"output_notebook(resources=INLINE)\\n\"+\n",
       "     \"</code>\\n\"+\n",
       "     \"</div>\"}};\n",
       "\n",
       "  function display_loaded() {\n",
       "    if (window.Bokeh !== undefined) {\n",
       "      var el = document.getElementById(\"bc07ff63-f9d6-4f96-ba80-962e8a1d6184\");\n",
       "      el.textContent = \"BokehJS \" + Bokeh.version + \" successfully loaded.\";\n",
       "    } else if (Date.now() < window._bokeh_timeout) {\n",
       "      setTimeout(display_loaded, 100)\n",
       "    }\n",
       "  }\n",
       "\n",
       "  function run_callbacks() {\n",
       "    window._bokeh_onload_callbacks.forEach(function(callback) { callback() });\n",
       "    delete window._bokeh_onload_callbacks\n",
       "    console.info(\"Bokeh: all callbacks have finished\");\n",
       "  }\n",
       "\n",
       "  function load_libs(js_urls, callback) {\n",
       "    window._bokeh_onload_callbacks.push(callback);\n",
       "    if (window._bokeh_is_loading > 0) {\n",
       "      console.log(\"Bokeh: BokehJS is being loaded, scheduling callback at\", now());\n",
       "      return null;\n",
       "    }\n",
       "    if (js_urls == null || js_urls.length === 0) {\n",
       "      run_callbacks();\n",
       "      return null;\n",
       "    }\n",
       "    console.log(\"Bokeh: BokehJS not loaded, scheduling load and callback at\", now());\n",
       "    window._bokeh_is_loading = js_urls.length;\n",
       "    for (var i = 0; i < js_urls.length; i++) {\n",
       "      var url = js_urls[i];\n",
       "      var s = document.createElement('script');\n",
       "      s.src = url;\n",
       "      s.async = false;\n",
       "      s.onreadystatechange = s.onload = function() {\n",
       "        window._bokeh_is_loading--;\n",
       "        if (window._bokeh_is_loading === 0) {\n",
       "          console.log(\"Bokeh: all BokehJS libraries loaded\");\n",
       "          run_callbacks()\n",
       "        }\n",
       "      };\n",
       "      s.onerror = function() {\n",
       "        console.warn(\"failed to load library \" + url);\n",
       "      };\n",
       "      console.log(\"Bokeh: injecting script tag for BokehJS library: \", url);\n",
       "      document.getElementsByTagName(\"head\")[0].appendChild(s);\n",
       "    }\n",
       "  };var element = document.getElementById(\"bc07ff63-f9d6-4f96-ba80-962e8a1d6184\");\n",
       "  if (element == null) {\n",
       "    console.log(\"Bokeh: ERROR: autoload.js configured with elementid 'bc07ff63-f9d6-4f96-ba80-962e8a1d6184' but no matching script tag was found. \")\n",
       "    return false;\n",
       "  }\n",
       "\n",
       "  var js_urls = [\"https://cdn.pydata.org/bokeh/release/bokeh-0.12.5.min.js\", \"https://cdn.pydata.org/bokeh/release/bokeh-widgets-0.12.5.min.js\"];\n",
       "\n",
       "  var inline_js = [\n",
       "    function(Bokeh) {\n",
       "      Bokeh.set_log_level(\"info\");\n",
       "    },\n",
       "    \n",
       "    function(Bokeh) {\n",
       "      \n",
       "    },\n",
       "    \n",
       "    function(Bokeh) {\n",
       "      \n",
       "      document.getElementById(\"bc07ff63-f9d6-4f96-ba80-962e8a1d6184\").textContent = \"BokehJS is loading...\";\n",
       "\n",
       "    },\n",
       "    function(Bokeh) {\n",
       "      console.log(\"Bokeh: injecting CSS: https://cdn.pydata.org/bokeh/release/bokeh-0.12.5.min.css\");\n",
       "      Bokeh.embed.inject_css(\"https://cdn.pydata.org/bokeh/release/bokeh-0.12.5.min.css\");\n",
       "      console.log(\"Bokeh: injecting CSS: https://cdn.pydata.org/bokeh/release/bokeh-widgets-0.12.5.min.css\");\n",
       "      Bokeh.embed.inject_css(\"https://cdn.pydata.org/bokeh/release/bokeh-widgets-0.12.5.min.css\");\n",
       "    }\n",
       "  ];\n",
       "\n",
       "  function run_inline_js() {\n",
       "    \n",
       "    if ((window.Bokeh !== undefined) || (force === true)) {\n",
       "      for (var i = 0; i < inline_js.length; i++) {\n",
       "        inline_js[i](window.Bokeh);\n",
       "      }if (force === true) {\n",
       "        display_loaded();\n",
       "      }} else if (Date.now() < window._bokeh_timeout) {\n",
       "      setTimeout(run_inline_js, 100);\n",
       "    } else if (!window._bokeh_failed_load) {\n",
       "      console.log(\"Bokeh: BokehJS failed to load within specified timeout.\");\n",
       "      window._bokeh_failed_load = true;\n",
       "    } else if (force !== true) {\n",
       "      var cell = $(document.getElementById(\"bc07ff63-f9d6-4f96-ba80-962e8a1d6184\")).parents('.cell').data().cell;\n",
       "      cell.output_area.append_execute_result(NB_LOAD_WARNING)\n",
       "    }\n",
       "\n",
       "  }\n",
       "\n",
       "  if (window._bokeh_is_loading === 0) {\n",
       "    console.log(\"Bokeh: BokehJS loaded, going straight to plotting\");\n",
       "    run_inline_js();\n",
       "  } else {\n",
       "    load_libs(js_urls, function() {\n",
       "      console.log(\"Bokeh: BokehJS plotting callback run at\", now());\n",
       "      run_inline_js();\n",
       "    });\n",
       "  }\n",
       "}(this));"
      ]
     },
     "metadata": {},
     "output_type": "display_data"
    },
    {
     "data": {
      "text/html": [
       "\n",
       "\n",
       "    <div class=\"bk-root\">\n",
       "        <div class=\"bk-plotdiv\" id=\"75d3b7d0-c34a-407d-aaf2-d88c94e89ff7\"></div>\n",
       "    </div>\n",
       "<script type=\"text/javascript\">\n",
       "  \n",
       "  (function(global) {\n",
       "    function now() {\n",
       "      return new Date();\n",
       "    }\n",
       "\n",
       "    var force = false;\n",
       "\n",
       "    if (typeof (window._bokeh_onload_callbacks) === \"undefined\" || force === true) {\n",
       "      window._bokeh_onload_callbacks = [];\n",
       "      window._bokeh_is_loading = undefined;\n",
       "    }\n",
       "\n",
       "\n",
       "    \n",
       "    if (typeof (window._bokeh_timeout) === \"undefined\" || force === true) {\n",
       "      window._bokeh_timeout = Date.now() + 0;\n",
       "      window._bokeh_failed_load = false;\n",
       "    }\n",
       "\n",
       "    var NB_LOAD_WARNING = {'data': {'text/html':\n",
       "       \"<div style='background-color: #fdd'>\\n\"+\n",
       "       \"<p>\\n\"+\n",
       "       \"BokehJS does not appear to have successfully loaded. If loading BokehJS from CDN, this \\n\"+\n",
       "       \"may be due to a slow or bad network connection. Possible fixes:\\n\"+\n",
       "       \"</p>\\n\"+\n",
       "       \"<ul>\\n\"+\n",
       "       \"<li>re-rerun `output_notebook()` to attempt to load from CDN again, or</li>\\n\"+\n",
       "       \"<li>use INLINE resources instead, as so:</li>\\n\"+\n",
       "       \"</ul>\\n\"+\n",
       "       \"<code>\\n\"+\n",
       "       \"from bokeh.resources import INLINE\\n\"+\n",
       "       \"output_notebook(resources=INLINE)\\n\"+\n",
       "       \"</code>\\n\"+\n",
       "       \"</div>\"}};\n",
       "\n",
       "    function display_loaded() {\n",
       "      if (window.Bokeh !== undefined) {\n",
       "        var el = document.getElementById(\"75d3b7d0-c34a-407d-aaf2-d88c94e89ff7\");\n",
       "        el.textContent = \"BokehJS \" + Bokeh.version + \" successfully loaded.\";\n",
       "      } else if (Date.now() < window._bokeh_timeout) {\n",
       "        setTimeout(display_loaded, 100)\n",
       "      }\n",
       "    }\n",
       "\n",
       "    function run_callbacks() {\n",
       "      window._bokeh_onload_callbacks.forEach(function(callback) { callback() });\n",
       "      delete window._bokeh_onload_callbacks\n",
       "      console.info(\"Bokeh: all callbacks have finished\");\n",
       "    }\n",
       "\n",
       "    function load_libs(js_urls, callback) {\n",
       "      window._bokeh_onload_callbacks.push(callback);\n",
       "      if (window._bokeh_is_loading > 0) {\n",
       "        console.log(\"Bokeh: BokehJS is being loaded, scheduling callback at\", now());\n",
       "        return null;\n",
       "      }\n",
       "      if (js_urls == null || js_urls.length === 0) {\n",
       "        run_callbacks();\n",
       "        return null;\n",
       "      }\n",
       "      console.log(\"Bokeh: BokehJS not loaded, scheduling load and callback at\", now());\n",
       "      window._bokeh_is_loading = js_urls.length;\n",
       "      for (var i = 0; i < js_urls.length; i++) {\n",
       "        var url = js_urls[i];\n",
       "        var s = document.createElement('script');\n",
       "        s.src = url;\n",
       "        s.async = false;\n",
       "        s.onreadystatechange = s.onload = function() {\n",
       "          window._bokeh_is_loading--;\n",
       "          if (window._bokeh_is_loading === 0) {\n",
       "            console.log(\"Bokeh: all BokehJS libraries loaded\");\n",
       "            run_callbacks()\n",
       "          }\n",
       "        };\n",
       "        s.onerror = function() {\n",
       "          console.warn(\"failed to load library \" + url);\n",
       "        };\n",
       "        console.log(\"Bokeh: injecting script tag for BokehJS library: \", url);\n",
       "        document.getElementsByTagName(\"head\")[0].appendChild(s);\n",
       "      }\n",
       "    };var element = document.getElementById(\"75d3b7d0-c34a-407d-aaf2-d88c94e89ff7\");\n",
       "    if (element == null) {\n",
       "      console.log(\"Bokeh: ERROR: autoload.js configured with elementid '75d3b7d0-c34a-407d-aaf2-d88c94e89ff7' but no matching script tag was found. \")\n",
       "      return false;\n",
       "    }\n",
       "\n",
       "    var js_urls = [];\n",
       "\n",
       "    var inline_js = [\n",
       "      function(Bokeh) {\n",
       "        (function() {\n",
       "          var fn = function() {\n",
       "            var docs_json = {\"d63ccf6b-616d-4f3b-8989-608dfb61f00d\":{\"roots\":{\"references\":[{\"attributes\":{\"callback\":null,\"column_names\":[\"x\",\"y\",\"fill_color\",\"line_color\"],\"data\":{\"fill_color\":[\"lightskyblue\",\"lightsalmon\"],\"line_color\":[\"lightskyblue\",\"lightsalmon\"],\"x\":[140,140],\"y\":[350,370]}},\"id\":\"56100027-c6c3-423a-9e39-d79f4414835c\",\"type\":\"ColumnDataSource\"},{\"attributes\":{\"data_source\":{\"id\":\"51ea3012-4ae9-4015-8057-26b5a0d8e09e\",\"type\":\"ColumnDataSource\"},\"glyph\":{\"id\":\"e290888d-f922-4686-956e-b9cee9224c56\",\"type\":\"Text\"},\"hover_glyph\":null,\"muted_glyph\":null,\"nonselection_glyph\":{\"id\":\"b60f1f3f-b797-44b2-b628-4062f75a316e\",\"type\":\"Text\"},\"selection_glyph\":null},\"id\":\"0eab637a-e8d8-43ee-84b5-0b715a4845da\",\"type\":\"GlyphRenderer\"},{\"attributes\":{\"angle\":{\"units\":\"rad\",\"value\":-0.7853981633974483},\"text_align\":\"right\",\"text_baseline\":\"middle\",\"text_color\":{\"value\":\"black\"},\"text_font_size\":{\"value\":\"10pt\"},\"x\":{\"value\":-205.06096654409882},\"y\":{\"value\":205.06096654409876}},\"id\":\"e290888d-f922-4686-956e-b9cee9224c56\",\"type\":\"Text\"},{\"attributes\":{\"fill_alpha\":{\"value\":0.1},\"fill_color\":{\"value\":\"#1f77b4\"},\"line_alpha\":{\"value\":0.1},\"line_color\":{\"value\":\"#1f77b4\"},\"radius\":{\"units\":\"data\",\"value\":5},\"x\":{\"field\":\"x\"},\"y\":{\"field\":\"y\"}},\"id\":\"f51419bb-77fb-4626-9dd1-95befa4b6a77\",\"type\":\"Circle\"},{\"attributes\":{\"angle\":{\"units\":\"rad\",\"value\":-0.7853981633974483},\"text_align\":\"right\",\"text_alpha\":{\"value\":0.1},\"text_baseline\":\"middle\",\"text_color\":{\"value\":\"black\"},\"text_font_size\":{\"value\":\"10pt\"},\"x\":{\"value\":-205.06096654409882},\"y\":{\"value\":205.06096654409876}},\"id\":\"b60f1f3f-b797-44b2-b628-4062f75a316e\",\"type\":\"Text\"},{\"attributes\":{\"fill_color\":{\"field\":\"fill_color\"},\"line_color\":{\"field\":\"line_color\"},\"radius\":{\"units\":\"data\",\"value\":5},\"x\":{\"field\":\"x\"},\"y\":{\"field\":\"y\"}},\"id\":\"f8e96bc7-9b65-403f-9d00-eb653731a147\",\"type\":\"Circle\"},{\"attributes\":{\"callback\":null,\"column_names\":[\"x\",\"y\",\"text\"],\"data\":{\"text\":[\"MCF7\",\"MCF7_T\",\"MCF7_F\",\"LTED\"],\"x\":[-15,-15,-15,-15],\"y\":[30,10,-10,-30]}},\"id\":\"5a7f9513-c371-4ed0-841b-da5cecafe8ae\",\"type\":\"ColumnDataSource\"},{\"attributes\":{\"text_baseline\":\"middle\",\"text_color\":{\"value\":\"black\"},\"text_font_size\":{\"value\":\"9pt\"},\"x\":{\"field\":\"x\"},\"y\":{\"field\":\"y\"}},\"id\":\"d4cab292-8c14-4722-be82-51d2bc86e4a7\",\"type\":\"Text\"},{\"attributes\":{\"callback\":null,\"column_names\":[\"x\",\"y\",\"text\"],\"data\":{\"text\":[\"Central Carbon Metabolism\",\"Peripheral metabolism\"],\"x\":[160,160],\"y\":[350,370]}},\"id\":\"b94abf3e-b25c-4a44-8123-ad3996438ef9\",\"type\":\"ColumnDataSource\"},{\"attributes\":{\"data_source\":{\"id\":\"56100027-c6c3-423a-9e39-d79f4414835c\",\"type\":\"ColumnDataSource\"},\"glyph\":{\"id\":\"f8e96bc7-9b65-403f-9d00-eb653731a147\",\"type\":\"Circle\"},\"hover_glyph\":null,\"muted_glyph\":null,\"nonselection_glyph\":{\"id\":\"f51419bb-77fb-4626-9dd1-95befa4b6a77\",\"type\":\"Circle\"},\"selection_glyph\":null},\"id\":\"9f0224ea-5887-44b0-b678-d886c7be573b\",\"type\":\"GlyphRenderer\"},{\"attributes\":{\"data_source\":{\"id\":\"b94abf3e-b25c-4a44-8123-ad3996438ef9\",\"type\":\"ColumnDataSource\"},\"glyph\":{\"id\":\"89d1d5ec-b05a-426f-a184-1766c85fa8a0\",\"type\":\"Text\"},\"hover_glyph\":null,\"muted_glyph\":null,\"nonselection_glyph\":{\"id\":\"efb2fe9e-33fa-4b8d-bb3a-e597e62eee74\",\"type\":\"Text\"},\"selection_glyph\":null},\"id\":\"160e3064-bee7-4f3b-bbde-7f11d4fa3362\",\"type\":\"GlyphRenderer\"},{\"attributes\":{\"text_alpha\":{\"value\":0.1},\"text_baseline\":\"middle\",\"text_color\":{\"value\":\"black\"},\"text_font_size\":{\"value\":\"10pt\"},\"x\":{\"field\":\"x\"},\"y\":{\"field\":\"y\"}},\"id\":\"efb2fe9e-33fa-4b8d-bb3a-e597e62eee74\",\"type\":\"Text\"},{\"attributes\":{\"data_source\":{\"id\":\"5a7f9513-c371-4ed0-841b-da5cecafe8ae\",\"type\":\"ColumnDataSource\"},\"glyph\":{\"id\":\"d4cab292-8c14-4722-be82-51d2bc86e4a7\",\"type\":\"Text\"},\"hover_glyph\":null,\"muted_glyph\":null,\"nonselection_glyph\":{\"id\":\"afa58f0d-35c4-495b-a17b-a1b4de65c107\",\"type\":\"Text\"},\"selection_glyph\":null},\"id\":\"9c7bfeb4-f921-4145-a27c-8d159c2b3ad9\",\"type\":\"GlyphRenderer\"},{\"attributes\":{\"text_baseline\":\"middle\",\"text_color\":{\"value\":\"black\"},\"text_font_size\":{\"value\":\"10pt\"},\"x\":{\"field\":\"x\"},\"y\":{\"field\":\"y\"}},\"id\":\"89d1d5ec-b05a-426f-a184-1766c85fa8a0\",\"type\":\"Text\"},{\"attributes\":{\"text_alpha\":{\"value\":0.1},\"text_baseline\":\"middle\",\"text_color\":{\"value\":\"black\"},\"text_font_size\":{\"value\":\"9pt\"},\"x\":{\"field\":\"x\"},\"y\":{\"field\":\"y\"}},\"id\":\"afa58f0d-35c4-495b-a17b-a1b4de65c107\",\"type\":\"Text\"},{\"attributes\":{\"callback\":null,\"end\":500,\"start\":-500},\"id\":\"0a1660d9-86d4-4ae1-a18f-39ba4e3611cc\",\"type\":\"Range1d\"},{\"attributes\":{\"callback\":null,\"column_names\":[\"y\",\"text\"],\"data\":{\"text\":[\"0.001\",\"0.01\",\"0.1\",\"1.0\",\"10.0\",\"100.0\"],\"y\":{\"__ndarray__\":\"AAAAAACAVkA5jPlVy4phQMgcL9rMXmZA+jZzKM1wakBgLTuo0gZuQLvu8YxjonBA\",\"dtype\":\"float64\",\"shape\":[6]}}},\"id\":\"7cd0eb14-67a4-4cf7-84d6-3e464874dc9b\",\"type\":\"ColumnDataSource\"},{\"attributes\":{\"data_source\":{\"id\":\"dbe203a7-cf7a-4204-8609-67fa605f69ca\",\"type\":\"ColumnDataSource\"},\"glyph\":{\"id\":\"f9833066-fa3f-492b-820e-173b785250d4\",\"type\":\"AnnularWedge\"},\"hover_glyph\":null,\"muted_glyph\":null,\"nonselection_glyph\":{\"id\":\"a44679ac-cf66-46f1-82f0-b86280ef1927\",\"type\":\"AnnularWedge\"},\"selection_glyph\":null},\"id\":\"fdce8fc3-364c-4f86-9666-6f49b9cd3a4f\",\"type\":\"GlyphRenderer\"},{\"attributes\":{\"data_source\":{\"id\":\"13ab8676-1cdd-4613-afcc-b6cc93bcc7b9\",\"type\":\"ColumnDataSource\"},\"glyph\":{\"id\":\"805c6952-3de2-4e74-a797-94e9bddd5e9f\",\"type\":\"Circle\"},\"hover_glyph\":null,\"muted_glyph\":null,\"nonselection_glyph\":{\"id\":\"2f387f97-00d0-482f-a6c8-a9cedf372994\",\"type\":\"Circle\"},\"selection_glyph\":null},\"id\":\"fbffbbd4-745d-4905-8ea4-81c88cd11d6e\",\"type\":\"GlyphRenderer\"},{\"attributes\":{\"callback\":null,\"column_names\":[\"outer_radius\",\"start_angle\",\"end_angle\"],\"data\":{\"end_angle\":{\"__ndarray__\":\"vmd3i+oN8T/IRFWFs/PRP7SKmZEhKOC/5tvucg6l9L85eYgOBpsAwH+EmeOE4wbAxI+quAMsDcA=\",\"dtype\":\"float64\",\"shape\":[7]},\"outer_radius\":{\"__ndarray__\":\"pwIIzjHXa0BnZs+uffdqQFVd0Egx+GtASnymEYrAZkBBEU2hYoVrQDut3wU/wGJAQH26CkKqYkA=\",\"dtype\":\"float64\",\"shape\":[7]},\"start_angle\":{\"__ndarray__\":\"VFt3L7GE7j/wuMxs14rFP9z+EHlFv+O/+pWqZqBw9r9DVmYIz4ABwIlhd91NyQfAzmyIsswRDsA=\",\"dtype\":\"float64\",\"shape\":[7]}}},\"id\":\"78de6c4c-7b75-451a-afbe-d19ff156ae20\",\"type\":\"ColumnDataSource\"},{\"attributes\":{\"end_angle\":{\"field\":\"end_angle\",\"units\":\"rad\"},\"fill_alpha\":{\"value\":0.1},\"fill_color\":{\"value\":\"#1f77b4\"},\"inner_radius\":{\"units\":\"data\",\"value\":90},\"line_alpha\":{\"value\":0.1},\"line_color\":{\"value\":\"#1f77b4\"},\"outer_radius\":{\"field\":\"outer_radius\",\"units\":\"data\"},\"start_angle\":{\"field\":\"start_angle\",\"units\":\"rad\"},\"x\":{\"value\":0},\"y\":{\"value\":0}},\"id\":\"fd6cd7a8-55a2-4f56-a960-ed384379e197\",\"type\":\"AnnularWedge\"},{\"attributes\":{\"data_source\":{\"id\":\"f22f9f42-44f8-47f2-a23f-5f92d3dc2b53\",\"type\":\"ColumnDataSource\"},\"glyph\":{\"id\":\"2b855048-4cf1-42fc-b333-87c8e32f460e\",\"type\":\"Text\"},\"hover_glyph\":null,\"muted_glyph\":null,\"nonselection_glyph\":{\"id\":\"22ddcd45-7411-4c92-9769-bfbf35abc689\",\"type\":\"Text\"},\"selection_glyph\":null},\"id\":\"f61d225b-1156-47d5-9af9-5f58a9f1a202\",\"type\":\"GlyphRenderer\"},{\"attributes\":{\"text_baseline\":\"middle\",\"text_color\":{\"value\":\"black\"},\"text_font_size\":{\"value\":\"10pt\"},\"x\":{\"value\":290.0},\"y\":{\"value\":0.0}},\"id\":\"0cd4ce34-398e-4ccd-bc2a-0d46994bc09a\",\"type\":\"Text\"},{\"attributes\":{\"end_angle\":{\"field\":\"end_angle\",\"units\":\"rad\"},\"fill_color\":{\"value\":\"gold\"},\"inner_radius\":{\"units\":\"data\",\"value\":90},\"line_color\":{\"value\":\"gold\"},\"outer_radius\":{\"field\":\"outer_radius\",\"units\":\"data\"},\"start_angle\":{\"field\":\"start_angle\",\"units\":\"rad\"},\"x\":{\"value\":0},\"y\":{\"value\":0}},\"id\":\"685fc5d7-c3e2-4e9e-9372-af0588c4a844\",\"type\":\"AnnularWedge\"},{\"attributes\":{\"angle\":{\"units\":\"rad\",\"value\":-0.7853981633974483},\"text_alpha\":{\"value\":0.1},\"text_baseline\":\"middle\",\"text_color\":{\"value\":\"black\"},\"text_font_size\":{\"value\":\"10pt\"},\"x\":{\"value\":205.0609665440988},\"y\":{\"value\":-205.06096654409876}},\"id\":\"22ddcd45-7411-4c92-9769-bfbf35abc689\",\"type\":\"Text\"},{\"attributes\":{\"callback\":null,\"column_names\":[\"text\"],\"data\":{\"text\":[\"Pentose phosphate pathway\"]}},\"id\":\"2de1bf00-b444-471a-9278-dce3b4bedc9e\",\"type\":\"ColumnDataSource\"},{\"attributes\":{\"data_source\":{\"id\":\"157eac2e-77d9-4a0a-bbe9-737f0d94db22\",\"type\":\"ColumnDataSource\"},\"glyph\":{\"id\":\"2d039d13-08fd-49e1-a6e1-e417b7fa0530\",\"type\":\"Rect\"},\"hover_glyph\":null,\"muted_glyph\":null,\"nonselection_glyph\":{\"id\":\"bf772d65-34be-4428-a634-6c38384faa2c\",\"type\":\"Rect\"},\"selection_glyph\":null},\"id\":\"906d591e-fa3a-49b0-a7d2-e04e2a5aa104\",\"type\":\"GlyphRenderer\"},{\"attributes\":{\"fill_color\":{\"field\":\"fill_color\"},\"height\":{\"units\":\"data\",\"value\":13},\"line_color\":{\"field\":\"line_color\"},\"width\":{\"units\":\"data\",\"value\":30},\"x\":{\"field\":\"x\"},\"y\":{\"field\":\"y\"}},\"id\":\"2d039d13-08fd-49e1-a6e1-e417b7fa0530\",\"type\":\"Rect\"},{\"attributes\":{\"angle\":{\"units\":\"rad\",\"value\":-1.5707963267948966},\"text_alpha\":{\"value\":0.1},\"text_baseline\":\"middle\",\"text_color\":{\"value\":\"black\"},\"text_font_size\":{\"value\":\"10pt\"},\"x\":{\"value\":1.7757378587636622e-14},\"y\":{\"value\":-290.0}},\"id\":\"c67ed6a0-31f4-4750-932f-292ffd4d95a4\",\"type\":\"Text\"},{\"attributes\":{\"data_source\":{\"id\":\"78de6c4c-7b75-451a-afbe-d19ff156ae20\",\"type\":\"ColumnDataSource\"},\"glyph\":{\"id\":\"685fc5d7-c3e2-4e9e-9372-af0588c4a844\",\"type\":\"AnnularWedge\"},\"hover_glyph\":null,\"muted_glyph\":null,\"nonselection_glyph\":{\"id\":\"fd6cd7a8-55a2-4f56-a960-ed384379e197\",\"type\":\"AnnularWedge\"},\"selection_glyph\":null},\"id\":\"cffc3464-cc4a-42fe-ac92-1513dfefcfd3\",\"type\":\"GlyphRenderer\"},{\"attributes\":{\"text_align\":\"center\",\"text_alpha\":{\"value\":0.1},\"text_baseline\":\"middle\",\"text_color\":{\"value\":\"black\"},\"text_font_size\":{\"value\":\"10pt\"},\"x\":{\"value\":0},\"y\":{\"field\":\"y\"}},\"id\":\"f6ee7b9e-2ae3-49bb-8cdd-af46378d6ab0\",\"type\":\"Text\"},{\"attributes\":{\"end_angle\":{\"field\":\"end_angle\",\"units\":\"rad\"},\"fill_color\":{\"value\":\"black\"},\"inner_radius\":{\"units\":\"data\",\"value\":90},\"outer_radius\":{\"field\":\"outer_radius\",\"units\":\"data\"},\"start_angle\":{\"field\":\"start_angle\",\"units\":\"rad\"},\"x\":{\"value\":0},\"y\":{\"value\":0}},\"id\":\"a4a031f1-613f-4ac3-bc7b-f5193b7640e0\",\"type\":\"AnnularWedge\"},{\"attributes\":{\"callback\":null,\"column_names\":[\"text\"],\"data\":{\"text\":[\"Citric acid cycle\"]}},\"id\":\"6c8408a9-ff26-4d9a-894d-d1fab6ee9771\",\"type\":\"ColumnDataSource\"},{\"attributes\":{\"text_align\":\"center\",\"text_baseline\":\"middle\",\"text_color\":{\"value\":\"black\"},\"text_font_size\":{\"value\":\"10pt\"},\"x\":{\"value\":0},\"y\":{\"field\":\"y\"}},\"id\":\"5b2bf9be-cf89-439e-842c-094bdfb97234\",\"type\":\"Text\"},{\"attributes\":{\"end_angle\":{\"field\":\"end_angle\",\"units\":\"rad\"},\"fill_color\":{\"field\":\"fill_color\"},\"inner_radius\":{\"units\":\"data\",\"value\":90},\"line_color\":{\"field\":\"line_color\"},\"outer_radius\":{\"units\":\"data\",\"value\":290},\"start_angle\":{\"field\":\"start_angle\",\"units\":\"rad\"},\"x\":{\"value\":0},\"y\":{\"value\":0}},\"id\":\"f9833066-fa3f-492b-820e-173b785250d4\",\"type\":\"AnnularWedge\"},{\"attributes\":{\"callback\":null,\"column_names\":[\"outer_radius\",\"start_angle\",\"end_angle\"],\"data\":{\"end_angle\":{\"__ndarray__\":\"QKG7Ox+57D9Aobs7H7m8P/C4zGzXiuW/BHOIYGlW97/IRFWFs/MBwA5QZloyPAjAU1t3L7GEDsA=\",\"dtype\":\"float64\",\"shape\":[7]},\"outer_radius\":{\"__ndarray__\":\"Vo86zawTbkBODreP5LhpQNftK7wRK2VAMvrTxG0WakCUeM88F2prQBxFa0n0qWhAdvG6lXIwX0A=\",\"dtype\":\"float64\",\"shape\":[7]},\"start_angle\":{\"__ndarray__\":\"GC1EVPsh6T8AAAAAAAAAABgtRFT7Iem/GC1EVPsh+b/SITN/fNkCwBgtRFT7IQnAXThVKXpqD8A=\",\"dtype\":\"float64\",\"shape\":[7]}}},\"id\":\"ffba148d-1573-4117-9045-5e32d150d898\",\"type\":\"ColumnDataSource\"},{\"attributes\":{\"angle\":{\"units\":\"rad\",\"value\":-1.5707963267948966},\"text_baseline\":\"middle\",\"text_color\":{\"value\":\"black\"},\"text_font_size\":{\"value\":\"10pt\"},\"x\":{\"value\":1.7757378587636622e-14},\"y\":{\"value\":-290.0}},\"id\":\"079512fd-8321-4969-a30f-ab7f9c9081f4\",\"type\":\"Text\"},{\"attributes\":{\"data_source\":{\"id\":\"ffba148d-1573-4117-9045-5e32d150d898\",\"type\":\"ColumnDataSource\"},\"glyph\":{\"id\":\"a4a031f1-613f-4ac3-bc7b-f5193b7640e0\",\"type\":\"AnnularWedge\"},\"hover_glyph\":null,\"muted_glyph\":null,\"nonselection_glyph\":{\"id\":\"65d8a33e-8232-453d-865c-2d63f4e564a4\",\"type\":\"AnnularWedge\"},\"selection_glyph\":null},\"id\":\"6b04d889-5003-4f2f-984b-ea6ab5de2730\",\"type\":\"GlyphRenderer\"},{\"attributes\":{\"data_source\":{\"id\":\"7cd0eb14-67a4-4cf7-84d6-3e464874dc9b\",\"type\":\"ColumnDataSource\"},\"glyph\":{\"id\":\"5b2bf9be-cf89-439e-842c-094bdfb97234\",\"type\":\"Text\"},\"hover_glyph\":null,\"muted_glyph\":null,\"nonselection_glyph\":{\"id\":\"f6ee7b9e-2ae3-49bb-8cdd-af46378d6ab0\",\"type\":\"Text\"},\"selection_glyph\":null},\"id\":\"942cb41b-aa1a-432c-bbfa-374f1d8aee77\",\"type\":\"GlyphRenderer\"},{\"attributes\":{\"callback\":null,\"end\":500,\"start\":-500},\"id\":\"fc592892-d2ad-4a55-b046-b565378d4d41\",\"type\":\"Range1d\"},{\"attributes\":{\"background_fill_color\":{\"value\":\"white\"},\"min_border\":0,\"outline_line_color\":{\"value\":\"white\"},\"plot_height\":800,\"plot_width\":800,\"renderers\":[{\"id\":\"f7fad4b0-5dc6-4faa-a942-0f8386e3d192\",\"type\":\"BoxAnnotation\"},{\"id\":\"fdce8fc3-364c-4f86-9666-6f49b9cd3a4f\",\"type\":\"GlyphRenderer\"},{\"id\":\"cffc3464-cc4a-42fe-ac92-1513dfefcfd3\",\"type\":\"GlyphRenderer\"},{\"id\":\"6b04d889-5003-4f2f-984b-ea6ab5de2730\",\"type\":\"GlyphRenderer\"},{\"id\":\"ddc81e14-351b-4fbb-8134-4d2f652cceee\",\"type\":\"GlyphRenderer\"},{\"id\":\"280859bb-114a-4c1f-85f9-b4ea11075499\",\"type\":\"GlyphRenderer\"},{\"id\":\"fbffbbd4-745d-4905-8ea4-81c88cd11d6e\",\"type\":\"GlyphRenderer\"},{\"id\":\"942cb41b-aa1a-432c-bbfa-374f1d8aee77\",\"type\":\"GlyphRenderer\"},{\"id\":\"5fa84ee9-6f26-4683-b2a5-dfa944d6425b\",\"type\":\"GlyphRenderer\"},{\"id\":\"5d28aaa7-9ffe-4bc3-8d75-5f9397835f21\",\"type\":\"GlyphRenderer\"},{\"id\":\"d8eb4730-ef24-4b4d-8ecd-f53507bbf65c\",\"type\":\"GlyphRenderer\"},{\"id\":\"f61d225b-1156-47d5-9af9-5f58a9f1a202\",\"type\":\"GlyphRenderer\"},{\"id\":\"bb04cb09-73b3-41d4-a150-e165eff4198c\",\"type\":\"GlyphRenderer\"},{\"id\":\"4d8cce06-62bf-44ff-a31c-4902d6f5f3b1\",\"type\":\"GlyphRenderer\"},{\"id\":\"d6fa9d77-074f-4347-8d5f-c63ac465fa4d\",\"type\":\"GlyphRenderer\"},{\"id\":\"0eab637a-e8d8-43ee-84b5-0b715a4845da\",\"type\":\"GlyphRenderer\"},{\"id\":\"9f0224ea-5887-44b0-b678-d886c7be573b\",\"type\":\"GlyphRenderer\"},{\"id\":\"160e3064-bee7-4f3b-bbde-7f11d4fa3362\",\"type\":\"GlyphRenderer\"},{\"id\":\"906d591e-fa3a-49b0-a7d2-e04e2a5aa104\",\"type\":\"GlyphRenderer\"},{\"id\":\"9c7bfeb4-f921-4145-a27c-8d159c2b3ad9\",\"type\":\"GlyphRenderer\"}],\"title\":{\"id\":\"7da51957-f084-4bdb-9727-398a401eca04\",\"type\":\"Title\"},\"tool_events\":{\"id\":\"4abfb288-de40-4fe4-bda7-361bf459ac3f\",\"type\":\"ToolEvents\"},\"toolbar\":{\"id\":\"72bd7737-845d-4b96-98ca-c864ba94ae28\",\"type\":\"Toolbar\"},\"x_range\":{\"id\":\"fc592892-d2ad-4a55-b046-b565378d4d41\",\"type\":\"Range1d\"},\"y_range\":{\"id\":\"0a1660d9-86d4-4ae1-a18f-39ba4e3611cc\",\"type\":\"Range1d\"}},\"id\":\"b45ecb03-1093-4df5-a023-c97ef8010245\",\"subtype\":\"Figure\",\"type\":\"Plot\"},{\"attributes\":{\"data_source\":{\"id\":\"2de1bf00-b444-471a-9278-dce3b4bedc9e\",\"type\":\"ColumnDataSource\"},\"glyph\":{\"id\":\"079512fd-8321-4969-a30f-ab7f9c9081f4\",\"type\":\"Text\"},\"hover_glyph\":null,\"muted_glyph\":null,\"nonselection_glyph\":{\"id\":\"c67ed6a0-31f4-4750-932f-292ffd4d95a4\",\"type\":\"Text\"},\"selection_glyph\":null},\"id\":\"bb04cb09-73b3-41d4-a150-e165eff4198c\",\"type\":\"GlyphRenderer\"},{\"attributes\":{\"angle\":{\"units\":\"rad\",\"value\":0.7853981633974483},\"text_align\":\"right\",\"text_baseline\":\"middle\",\"text_color\":{\"value\":\"black\"},\"text_font_size\":{\"value\":\"10pt\"},\"x\":{\"value\":-205.06096654409876},\"y\":{\"value\":-205.0609665440988}},\"id\":\"b548742c-3098-4036-b615-74a1442e354f\",\"type\":\"Text\"},{\"attributes\":{\"end_angle\":{\"field\":\"end_angle\",\"units\":\"rad\"},\"fill_alpha\":{\"value\":0.1},\"fill_color\":{\"value\":\"#1f77b4\"},\"inner_radius\":{\"units\":\"data\",\"value\":90},\"line_alpha\":{\"value\":0.1},\"line_color\":{\"value\":\"#1f77b4\"},\"outer_radius\":{\"field\":\"outer_radius\",\"units\":\"data\"},\"start_angle\":{\"field\":\"start_angle\",\"units\":\"rad\"},\"x\":{\"value\":0},\"y\":{\"value\":0}},\"id\":\"65d8a33e-8232-453d-865c-2d63f4e564a4\",\"type\":\"AnnularWedge\"},{\"attributes\":{\"active_drag\":\"auto\",\"active_scroll\":\"auto\",\"active_tap\":\"auto\",\"tools\":[{\"id\":\"b9a17332-7bc4-466c-b16f-5835a3117dd1\",\"type\":\"PanTool\"},{\"id\":\"9e710ce8-8b9c-4501-8d7d-d41c0b399b13\",\"type\":\"WheelZoomTool\"},{\"id\":\"d3548370-25e5-4ee9-8fcc-38851bbab87e\",\"type\":\"BoxZoomTool\"},{\"id\":\"362624ad-c07d-4eb1-849a-37a53ad200ab\",\"type\":\"SaveTool\"},{\"id\":\"388dc543-3a3a-47a1-b9d3-1a7e66cb666e\",\"type\":\"ResetTool\"},{\"id\":\"ab220346-f0ed-4f52-91d5-d91d68a15bb3\",\"type\":\"HelpTool\"}]},\"id\":\"72bd7737-845d-4b96-98ca-c864ba94ae28\",\"type\":\"Toolbar\"},{\"attributes\":{\"plot\":null,\"text\":\"\"},\"id\":\"7da51957-f084-4bdb-9727-398a401eca04\",\"type\":\"Title\"},{\"attributes\":{\"callback\":null,\"column_names\":[\"outer_radius\",\"start_angle\",\"end_angle\"],\"data\":{\"end_angle\":{\"__ndarray__\":\"BHOIYGlW5z9Aobs7H7msvyzn/0eN7eq/IgoiTsQH+r9XECL8YEwDwJ0bM9HflAnA4iZEpl7dD8A=\",\"dtype\":\"float64\",\"shape\":[7]},\"outer_radius\":{\"__ndarray__\":\"uH5JujDibUDTuY2fiKBpQEcbdj15xWVA8DKmTK+zaUDx7hzETBVqQH/7Cqx2q2hAws6gddPKXkA=\",\"dtype\":\"float64\",\"shape\":[7]},\"start_angle\":{\"__ndarray__\":\"3P4QeUW/4z/wuMxs14rFv1Rbdy+xhO6/NsTdQVbT+79h7f/1KTIEwKf4EMuoegrA9gER0JNhEMA=\",\"dtype\":\"float64\",\"shape\":[7]}}},\"id\":\"1a1c5f7e-7297-45e9-966a-2d0e89bd509f\",\"type\":\"ColumnDataSource\"},{\"attributes\":{\"data_source\":{\"id\":\"3b61a8b2-72dc-4992-8017-09fc437cd4e4\",\"type\":\"ColumnDataSource\"},\"glyph\":{\"id\":\"f9ccd804-039c-459e-adf8-d97bdcec78fa\",\"type\":\"Text\"},\"hover_glyph\":null,\"muted_glyph\":null,\"nonselection_glyph\":{\"id\":\"8c97e70f-240c-4544-b855-a411c81d4061\",\"type\":\"Text\"},\"selection_glyph\":null},\"id\":\"5d28aaa7-9ffe-4bc3-8d75-5f9397835f21\",\"type\":\"GlyphRenderer\"},{\"attributes\":{\"data_source\":{\"id\":\"2cb17a6c-e8ff-4006-9621-3e231c7648f4\",\"type\":\"ColumnDataSource\"},\"glyph\":{\"id\":\"b548742c-3098-4036-b615-74a1442e354f\",\"type\":\"Text\"},\"hover_glyph\":null,\"muted_glyph\":null,\"nonselection_glyph\":{\"id\":\"0fbbd14e-d4ae-4e89-a1a7-d3116d2c313c\",\"type\":\"Text\"},\"selection_glyph\":null},\"id\":\"4d8cce06-62bf-44ff-a31c-4902d6f5f3b1\",\"type\":\"GlyphRenderer\"},{\"attributes\":{\"callback\":null,\"column_names\":[\"text\"],\"data\":{\"text\":[\"Pyruvate metabolism\"]}},\"id\":\"2cb17a6c-e8ff-4006-9621-3e231c7648f4\",\"type\":\"ColumnDataSource\"},{\"attributes\":{\"callback\":null,\"column_names\":[\"outer_radius\",\"start_angle\",\"end_angle\"],\"data\":{\"end_angle\":{\"__ndarray__\":\"yERVhbPz4T9Aobs7H7nMv7SKmZEhKPC/QKG7Ox+5/L/m2+5yDqUEwCzn/0eN7QrAOHmIDgabEMA=\",\"dtype\":\"float64\",\"shape\":[7]},\"outer_radius\":{\"__ndarray__\":\"pwIIzjHXa0BnZs+uffdqQFVd0Egx+GtASnymEYrAZkBBEU2hYoVrQDut3wU/wGJAQH26CkKqYkA=\",\"dtype\":\"float64\",\"shape\":[7]},\"start_angle\":{\"__ndarray__\":\"QKG7Ox+53D/wuMxs14rVv8hEVYWz8/G/VFt3L7GE/r/wuMxs14oFwDbE3UFW0wvAvmd3i+oNEcA=\",\"dtype\":\"float64\",\"shape\":[7]}}},\"id\":\"f185c029-aff1-4b90-81bd-4ab659507b19\",\"type\":\"ColumnDataSource\"},{\"attributes\":{\"end_angle\":{\"field\":\"end_angle\",\"units\":\"rad\"},\"fill_color\":{\"value\":\"black\"},\"inner_radius\":{\"units\":\"data\",\"value\":80},\"outer_radius\":{\"units\":\"data\",\"value\":300},\"start_angle\":{\"field\":\"start_angle\",\"units\":\"rad\"},\"x\":{\"value\":0},\"y\":{\"value\":0}},\"id\":\"2526390a-23ce-4c16-855d-4730141e3b3a\",\"type\":\"AnnularWedge\"},{\"attributes\":{\"data_source\":{\"id\":\"83694bd5-7c1f-4579-8c7d-507fddbd1c24\",\"type\":\"ColumnDataSource\"},\"glyph\":{\"id\":\"2526390a-23ce-4c16-855d-4730141e3b3a\",\"type\":\"AnnularWedge\"},\"hover_glyph\":null,\"muted_glyph\":null,\"nonselection_glyph\":{\"id\":\"45667680-ee81-4885-8ff1-d6994b4f4559\",\"type\":\"AnnularWedge\"},\"selection_glyph\":null},\"id\":\"5fa84ee9-6f26-4683-b2a5-dfa944d6425b\",\"type\":\"GlyphRenderer\"},{\"attributes\":{},\"id\":\"4abfb288-de40-4fe4-bda7-361bf459ac3f\",\"type\":\"ToolEvents\"},{\"attributes\":{\"end_angle\":{\"field\":\"end_angle\",\"units\":\"rad\"},\"fill_alpha\":{\"value\":0.1},\"fill_color\":{\"value\":\"#1f77b4\"},\"inner_radius\":{\"units\":\"data\",\"value\":90},\"line_alpha\":{\"value\":0.1},\"line_color\":{\"value\":\"#1f77b4\"},\"outer_radius\":{\"field\":\"outer_radius\",\"units\":\"data\"},\"start_angle\":{\"field\":\"start_angle\",\"units\":\"rad\"},\"x\":{\"value\":0},\"y\":{\"value\":0}},\"id\":\"6880df7c-bac5-46ec-a636-2f3ce6e046be\",\"type\":\"AnnularWedge\"},{\"attributes\":{\"callback\":null,\"column_names\":[\"start_angle\",\"end_angle\"],\"data\":{\"end_angle\":{\"__ndarray__\":\"GC1EVPsh2T8YLURU+yHZv9IhM3982fK/XjhVKXpq/791p7vpu/0FwLuyzL46RgzAAN/uyVxHEcA=\",\"dtype\":\"float64\",\"shape\":[7]},\"start_angle\":{\"__ndarray__\":\"GC1EVPsh2T8YLURU+yHZv9IhM3982fK/XjhVKXpq/791p7vpu/0FwLuyzL46RgzAAN/uyVxHEcA=\",\"dtype\":\"float64\",\"shape\":[7]}}},\"id\":\"83694bd5-7c1f-4579-8c7d-507fddbd1c24\",\"type\":\"ColumnDataSource\"},{\"attributes\":{\"text_alpha\":{\"value\":0.1},\"text_baseline\":\"middle\",\"text_color\":{\"value\":\"black\"},\"text_font_size\":{\"value\":\"10pt\"},\"x\":{\"value\":290.0},\"y\":{\"value\":0.0}},\"id\":\"e8d5c153-76ec-49f7-8a6a-80268283c32b\",\"type\":\"Text\"},{\"attributes\":{\"bottom_units\":\"screen\",\"fill_alpha\":{\"value\":0.5},\"fill_color\":{\"value\":\"lightgrey\"},\"left_units\":\"screen\",\"level\":\"overlay\",\"line_alpha\":{\"value\":1.0},\"line_color\":{\"value\":\"black\"},\"line_dash\":[4,4],\"line_width\":{\"value\":2},\"plot\":null,\"render_mode\":\"css\",\"right_units\":\"screen\",\"top_units\":\"screen\"},\"id\":\"f7fad4b0-5dc6-4faa-a942-0f8386e3d192\",\"type\":\"BoxAnnotation\"},{\"attributes\":{\"end_angle\":{\"field\":\"end_angle\",\"units\":\"rad\"},\"fill_alpha\":{\"value\":0.1},\"fill_color\":{\"value\":\"#1f77b4\"},\"inner_radius\":{\"units\":\"data\",\"value\":80},\"line_alpha\":{\"value\":0.1},\"line_color\":{\"value\":\"#1f77b4\"},\"outer_radius\":{\"units\":\"data\",\"value\":300},\"start_angle\":{\"field\":\"start_angle\",\"units\":\"rad\"},\"x\":{\"value\":0},\"y\":{\"value\":0}},\"id\":\"45667680-ee81-4885-8ff1-d6994b4f4559\",\"type\":\"AnnularWedge\"},{\"attributes\":{\"end_angle\":{\"field\":\"end_angle\",\"units\":\"rad\"},\"fill_color\":{\"value\":\"crimson\"},\"inner_radius\":{\"units\":\"data\",\"value\":90},\"line_color\":{\"value\":\"crimson\"},\"outer_radius\":{\"field\":\"outer_radius\",\"units\":\"data\"},\"start_angle\":{\"field\":\"start_angle\",\"units\":\"rad\"},\"x\":{\"value\":0},\"y\":{\"value\":0}},\"id\":\"f9b6eb27-b40d-43f8-ba2e-f148701d255e\",\"type\":\"AnnularWedge\"},{\"attributes\":{\"angle\":{\"units\":\"rad\",\"value\":0.7853981633974483},\"text_align\":\"right\",\"text_alpha\":{\"value\":0.1},\"text_baseline\":\"middle\",\"text_color\":{\"value\":\"black\"},\"text_font_size\":{\"value\":\"10pt\"},\"x\":{\"value\":-205.06096654409876},\"y\":{\"value\":-205.0609665440988}},\"id\":\"0fbbd14e-d4ae-4e89-a1a7-d3116d2c313c\",\"type\":\"Text\"},{\"attributes\":{\"callback\":null,\"column_names\":[\"text\"],\"data\":{\"text\":[\"Glycolysis\"]}},\"id\":\"3b61a8b2-72dc-4992-8017-09fc437cd4e4\",\"type\":\"ColumnDataSource\"},{\"attributes\":{\"plot\":{\"id\":\"b45ecb03-1093-4df5-a023-c97ef8010245\",\"subtype\":\"Figure\",\"type\":\"Plot\"}},\"id\":\"b9a17332-7bc4-466c-b16f-5835a3117dd1\",\"type\":\"PanTool\"},{\"attributes\":{\"callback\":null,\"column_names\":[\"start_angle\",\"end_angle\",\"fill_color\",\"line_color\"],\"data\":{\"end_angle\":{\"__ndarray__\":\"0iEzf3zZ8j8YLURU+yHZPxgtRFT7Idm/0iEzf3zZ8r9eOFUpemr/v3Wnu+m7/QXAu7LMvjpGDMA=\",\"dtype\":\"float64\",\"shape\":[7]},\"fill_color\":[\"lightskyblue\",\"lightskyblue\",\"lightskyblue\",\"lightskyblue\",\"lightskyblue\",\"lightsalmon\",\"lightsalmon\"],\"line_color\":[\"lightskyblue\",\"lightskyblue\",\"lightskyblue\",\"lightskyblue\",\"lightskyblue\",\"lightsalmon\",\"lightsalmon\"],\"start_angle\":{\"__ndarray__\":\"GC1EVPsh2T8YLURU+yHZv9IhM3982fK/XjhVKXpq/791p7vpu/0FwLuyzL46RgzAAN/uyVxHEcA=\",\"dtype\":\"float64\",\"shape\":[7]}}},\"id\":\"dbe203a7-cf7a-4204-8609-67fa605f69ca\",\"type\":\"ColumnDataSource\"},{\"attributes\":{\"data_source\":{\"id\":\"1a1c5f7e-7297-45e9-966a-2d0e89bd509f\",\"type\":\"ColumnDataSource\"},\"glyph\":{\"id\":\"f9b6eb27-b40d-43f8-ba2e-f148701d255e\",\"type\":\"AnnularWedge\"},\"hover_glyph\":null,\"muted_glyph\":null,\"nonselection_glyph\":{\"id\":\"6880df7c-bac5-46ec-a636-2f3ce6e046be\",\"type\":\"AnnularWedge\"},\"selection_glyph\":null},\"id\":\"ddc81e14-351b-4fbb-8134-4d2f652cceee\",\"type\":\"GlyphRenderer\"},{\"attributes\":{\"callback\":null,\"column_names\":[\"text\"],\"data\":{\"text\":[\"Fatty acid oxidation\"]}},\"id\":\"751c0249-b13c-40f3-9e6d-c92239ef3fd7\",\"type\":\"ColumnDataSource\"},{\"attributes\":{\"callback\":null,\"column_names\":[\"x\",\"y\",\"fill_color\",\"line_color\"],\"data\":{\"fill_color\":[\"black\",\"crimson\",\"gold\",\"blueviolet\"],\"line_color\":[\"black\",\"crimson\",\"gold\",\"blueviolet\"],\"x\":[-40,-40,-40,-40],\"y\":[30,10,-10,-30]}},\"id\":\"157eac2e-77d9-4a0a-bbe9-737f0d94db22\",\"type\":\"ColumnDataSource\"},{\"attributes\":{\"plot\":{\"id\":\"b45ecb03-1093-4df5-a023-c97ef8010245\",\"subtype\":\"Figure\",\"type\":\"Plot\"}},\"id\":\"9e710ce8-8b9c-4501-8d7d-d41c0b399b13\",\"type\":\"WheelZoomTool\"},{\"attributes\":{\"callback\":null,\"column_names\":[\"radius\"],\"data\":{\"radius\":{\"__ndarray__\":\"AAAAAACAVkA5jPlVy4phQMgcL9rMXmZA+jZzKM1wakBgLTuo0gZuQLvu8YxjonBAAAAAAAAgckA=\",\"dtype\":\"float64\",\"shape\":[7]}}},\"id\":\"13ab8676-1cdd-4613-afcc-b6cc93bcc7b9\",\"type\":\"ColumnDataSource\"},{\"attributes\":{\"text_align\":\"right\",\"text_alpha\":{\"value\":0.1},\"text_baseline\":\"middle\",\"text_color\":{\"value\":\"black\"},\"text_font_size\":{\"value\":\"10pt\"},\"x\":{\"value\":-290.0},\"y\":{\"value\":-3.5514757175273243e-14}},\"id\":\"7b4be678-04be-459a-b7d5-7040b9039d08\",\"type\":\"Text\"},{\"attributes\":{\"plot\":{\"id\":\"b45ecb03-1093-4df5-a023-c97ef8010245\",\"subtype\":\"Figure\",\"type\":\"Plot\"}},\"id\":\"362624ad-c07d-4eb1-849a-37a53ad200ab\",\"type\":\"SaveTool\"},{\"attributes\":{\"end_angle\":{\"field\":\"end_angle\",\"units\":\"rad\"},\"fill_alpha\":{\"value\":0.1},\"fill_color\":{\"value\":\"#1f77b4\"},\"inner_radius\":{\"units\":\"data\",\"value\":90},\"line_alpha\":{\"value\":0.1},\"line_color\":{\"value\":\"#1f77b4\"},\"outer_radius\":{\"field\":\"outer_radius\",\"units\":\"data\"},\"start_angle\":{\"field\":\"start_angle\",\"units\":\"rad\"},\"x\":{\"value\":0},\"y\":{\"value\":0}},\"id\":\"8b996153-4053-4bef-b82e-e2cc705bc2bd\",\"type\":\"AnnularWedge\"},{\"attributes\":{\"text_align\":\"right\",\"text_baseline\":\"middle\",\"text_color\":{\"value\":\"black\"},\"text_font_size\":{\"value\":\"10pt\"},\"x\":{\"value\":-290.0},\"y\":{\"value\":-3.5514757175273243e-14}},\"id\":\"68801592-5374-45ff-ad23-43a6898c1e88\",\"type\":\"Text\"},{\"attributes\":{\"angle\":{\"units\":\"rad\",\"value\":0.7853981633974483},\"text_alpha\":{\"value\":0.1},\"text_baseline\":\"middle\",\"text_color\":{\"value\":\"black\"},\"text_font_size\":{\"value\":\"10pt\"},\"x\":{\"value\":205.0609665440988},\"y\":{\"value\":205.06096654409876}},\"id\":\"8c97e70f-240c-4544-b855-a411c81d4061\",\"type\":\"Text\"},{\"attributes\":{\"fill_alpha\":{\"value\":0.1},\"fill_color\":{\"value\":\"#1f77b4\"},\"height\":{\"units\":\"data\",\"value\":13},\"line_alpha\":{\"value\":0.1},\"line_color\":{\"value\":\"#1f77b4\"},\"width\":{\"units\":\"data\",\"value\":30},\"x\":{\"field\":\"x\"},\"y\":{\"field\":\"y\"}},\"id\":\"bf772d65-34be-4428-a634-6c38384faa2c\",\"type\":\"Rect\"},{\"attributes\":{\"plot\":{\"id\":\"b45ecb03-1093-4df5-a023-c97ef8010245\",\"subtype\":\"Figure\",\"type\":\"Plot\"}},\"id\":\"ab220346-f0ed-4f52-91d5-d91d68a15bb3\",\"type\":\"HelpTool\"},{\"attributes\":{\"angle\":{\"units\":\"rad\",\"value\":0.7853981633974483},\"text_baseline\":\"middle\",\"text_color\":{\"value\":\"black\"},\"text_font_size\":{\"value\":\"10pt\"},\"x\":{\"value\":205.0609665440988},\"y\":{\"value\":205.06096654409876}},\"id\":\"f9ccd804-039c-459e-adf8-d97bdcec78fa\",\"type\":\"Text\"},{\"attributes\":{\"overlay\":{\"id\":\"f7fad4b0-5dc6-4faa-a942-0f8386e3d192\",\"type\":\"BoxAnnotation\"},\"plot\":{\"id\":\"b45ecb03-1093-4df5-a023-c97ef8010245\",\"subtype\":\"Figure\",\"type\":\"Plot\"}},\"id\":\"d3548370-25e5-4ee9-8fcc-38851bbab87e\",\"type\":\"BoxZoomTool\"},{\"attributes\":{\"end_angle\":{\"field\":\"end_angle\",\"units\":\"rad\"},\"fill_color\":{\"value\":\"blueviolet\"},\"inner_radius\":{\"units\":\"data\",\"value\":90},\"line_color\":{\"value\":\"blueviolet\"},\"outer_radius\":{\"field\":\"outer_radius\",\"units\":\"data\"},\"start_angle\":{\"field\":\"start_angle\",\"units\":\"rad\"},\"x\":{\"value\":0},\"y\":{\"value\":0}},\"id\":\"5d9173a6-247d-4e69-ae8d-c8103f2e35b6\",\"type\":\"AnnularWedge\"},{\"attributes\":{\"data_source\":{\"id\":\"6c8408a9-ff26-4d9a-894d-d1fab6ee9771\",\"type\":\"ColumnDataSource\"},\"glyph\":{\"id\":\"0cd4ce34-398e-4ccd-bc2a-0d46994bc09a\",\"type\":\"Text\"},\"hover_glyph\":null,\"muted_glyph\":null,\"nonselection_glyph\":{\"id\":\"e8d5c153-76ec-49f7-8a6a-80268283c32b\",\"type\":\"Text\"},\"selection_glyph\":null},\"id\":\"d8eb4730-ef24-4b4d-8ecd-f53507bbf65c\",\"type\":\"GlyphRenderer\"},{\"attributes\":{\"callback\":null,\"column_names\":[\"text\"],\"data\":{\"text\":[\"Cholesterol synthesis\"]}},\"id\":\"51ea3012-4ae9-4015-8057-26b5a0d8e09e\",\"type\":\"ColumnDataSource\"},{\"attributes\":{\"data_source\":{\"id\":\"751c0249-b13c-40f3-9e6d-c92239ef3fd7\",\"type\":\"ColumnDataSource\"},\"glyph\":{\"id\":\"68801592-5374-45ff-ad23-43a6898c1e88\",\"type\":\"Text\"},\"hover_glyph\":null,\"muted_glyph\":null,\"nonselection_glyph\":{\"id\":\"7b4be678-04be-459a-b7d5-7040b9039d08\",\"type\":\"Text\"},\"selection_glyph\":null},\"id\":\"d6fa9d77-074f-4347-8d5f-c63ac465fa4d\",\"type\":\"GlyphRenderer\"},{\"attributes\":{\"end_angle\":{\"field\":\"end_angle\",\"units\":\"rad\"},\"fill_alpha\":{\"value\":0.1},\"fill_color\":{\"value\":\"#1f77b4\"},\"inner_radius\":{\"units\":\"data\",\"value\":90},\"line_alpha\":{\"value\":0.1},\"line_color\":{\"value\":\"#1f77b4\"},\"outer_radius\":{\"units\":\"data\",\"value\":290},\"start_angle\":{\"field\":\"start_angle\",\"units\":\"rad\"},\"x\":{\"value\":0},\"y\":{\"value\":0}},\"id\":\"a44679ac-cf66-46f1-82f0-b86280ef1927\",\"type\":\"AnnularWedge\"},{\"attributes\":{\"fill_color\":{\"value\":null},\"line_color\":{\"value\":\"white\"},\"radius\":{\"field\":\"radius\",\"units\":\"data\"},\"x\":{\"value\":0},\"y\":{\"value\":0}},\"id\":\"805c6952-3de2-4e74-a797-94e9bddd5e9f\",\"type\":\"Circle\"},{\"attributes\":{\"data_source\":{\"id\":\"f185c029-aff1-4b90-81bd-4ab659507b19\",\"type\":\"ColumnDataSource\"},\"glyph\":{\"id\":\"5d9173a6-247d-4e69-ae8d-c8103f2e35b6\",\"type\":\"AnnularWedge\"},\"hover_glyph\":null,\"muted_glyph\":null,\"nonselection_glyph\":{\"id\":\"8b996153-4053-4bef-b82e-e2cc705bc2bd\",\"type\":\"AnnularWedge\"},\"selection_glyph\":null},\"id\":\"280859bb-114a-4c1f-85f9-b4ea11075499\",\"type\":\"GlyphRenderer\"},{\"attributes\":{\"callback\":null,\"column_names\":[\"text\"],\"data\":{\"text\":[\"Oxidative phosphorylation\"]}},\"id\":\"f22f9f42-44f8-47f2-a23f-5f92d3dc2b53\",\"type\":\"ColumnDataSource\"},{\"attributes\":{\"plot\":{\"id\":\"b45ecb03-1093-4df5-a023-c97ef8010245\",\"subtype\":\"Figure\",\"type\":\"Plot\"}},\"id\":\"388dc543-3a3a-47a1-b9d3-1a7e66cb666e\",\"type\":\"ResetTool\"},{\"attributes\":{\"angle\":{\"units\":\"rad\",\"value\":-0.7853981633974483},\"text_baseline\":\"middle\",\"text_color\":{\"value\":\"black\"},\"text_font_size\":{\"value\":\"10pt\"},\"x\":{\"value\":205.0609665440988},\"y\":{\"value\":-205.06096654409876}},\"id\":\"2b855048-4cf1-42fc-b333-87c8e32f460e\",\"type\":\"Text\"},{\"attributes\":{\"fill_alpha\":{\"value\":0.1},\"fill_color\":{\"value\":\"#1f77b4\"},\"line_alpha\":{\"value\":0.1},\"line_color\":{\"value\":\"#1f77b4\"},\"radius\":{\"field\":\"radius\",\"units\":\"data\"},\"x\":{\"value\":0},\"y\":{\"value\":0}},\"id\":\"2f387f97-00d0-482f-a6c8-a9cedf372994\",\"type\":\"Circle\"}],\"root_ids\":[\"b45ecb03-1093-4df5-a023-c97ef8010245\"]},\"title\":\"Bokeh Application\",\"version\":\"0.12.5\"}};\n",
       "            var render_items = [{\"docid\":\"d63ccf6b-616d-4f3b-8989-608dfb61f00d\",\"elementid\":\"75d3b7d0-c34a-407d-aaf2-d88c94e89ff7\",\"modelid\":\"b45ecb03-1093-4df5-a023-c97ef8010245\"}];\n",
       "            \n",
       "            Bokeh.embed.embed_items(docs_json, render_items);\n",
       "          };\n",
       "          if (document.readyState != \"loading\") fn();\n",
       "          else document.addEventListener(\"DOMContentLoaded\", fn);\n",
       "        })();\n",
       "\n",
       "      },\n",
       "      function(Bokeh) {\n",
       "      }\n",
       "    ];\n",
       "\n",
       "    function run_inline_js() {\n",
       "      \n",
       "      if ((window.Bokeh !== undefined) || (force === true)) {\n",
       "        for (var i = 0; i < inline_js.length; i++) {\n",
       "          inline_js[i](window.Bokeh);\n",
       "        }if (force === true) {\n",
       "          display_loaded();\n",
       "        }} else if (Date.now() < window._bokeh_timeout) {\n",
       "        setTimeout(run_inline_js, 100);\n",
       "      } else if (!window._bokeh_failed_load) {\n",
       "        console.log(\"Bokeh: BokehJS failed to load within specified timeout.\");\n",
       "        window._bokeh_failed_load = true;\n",
       "      } else if (force !== true) {\n",
       "        var cell = $(document.getElementById(\"75d3b7d0-c34a-407d-aaf2-d88c94e89ff7\")).parents('.cell').data().cell;\n",
       "        cell.output_area.append_execute_result(NB_LOAD_WARNING)\n",
       "      }\n",
       "\n",
       "    }\n",
       "\n",
       "    if (window._bokeh_is_loading === 0) {\n",
       "      console.log(\"Bokeh: BokehJS loaded, going straight to plotting\");\n",
       "      run_inline_js();\n",
       "    } else {\n",
       "      load_libs(js_urls, function() {\n",
       "        console.log(\"Bokeh: BokehJS plotting callback run at\", now());\n",
       "        run_inline_js();\n",
       "      });\n",
       "    }\n",
       "  }(this));\n",
       "</script>"
      ]
     },
     "metadata": {},
     "output_type": "display_data"
    }
   ],
   "source": [
    "# list of model's files\n",
    "files  = file_list('models/Recon3D_301/Recon3_cell_line_models/')\n",
    "\n",
    "f_pattern = flux_pattern(files, analysis = 'FBA')\n",
    "\n",
    "target_ss = [\n",
    "    ['Glycolysis/gluconeogenesis','Central Carbon Metabolism'],\n",
    "    ['Citric acid cycle','Central Carbon Metabolism'],\n",
    "    ['Oxidative phosphorylation','Central Carbon Metabolism'],\n",
    "    ['Pentose phosphate pathway','Central Carbon Metabolism'],\n",
    "    ['Pyruvate metabolism','Central Carbon Metabolism'],\n",
    "    ['Fatty acid oxidation','Peripheral metabolism'],\n",
    "    ['Squalene and cholesterol synthesis','Peripheral metabolism'],]\n",
    "\n",
    "df  = df_plot(target_ss, f_pattern)\n",
    "flux_pie_plot(df)"
   ]
  },
  {
   "cell_type": "markdown",
   "metadata": {},
   "source": [
    "**Observe:** LTED and MCF7_F seem to be very similar. and MCF7 and MCF7_T seem to be similar. So we could conclude that the tamoxifen resistance has very little metabolic effects. \n",
    "\n",
    "Note as well that LTED and MCF7_F seem to have severely reduced oxidative phosphorylation. This relates to the Warburg effect (see below)."
   ]
  },
  {
   "cell_type": "markdown",
   "metadata": {},
   "source": [
    "## WT Recon 3 vs. cell lines: The Warburg effect\n",
    "Finally, we will use FVA to ascertain essentiality of certain reactions for the optimal growth condition in each cell line and investigate the Warburg effect. \n",
    "\n",
    "### Cancer, a-socialism and the Warburg effect\n",
    "One way to think of cancer cells is that these will behave a-socially: i.e. like unicellular organisms within the multicellular one: tumors. \n",
    "\n",
    "It has been observed that such cells, in contrast to healthy, social cells, are characterized by growing on a low ATP/glucose ratio (the Warburg effect): Glucose + 2 ADP => lactate + 2 ATP (fermentation) instead of: Glucose + 32 ADP =>  6 CO2 + 32 ATP (respiration). \n",
    "\n",
    "[See this Wiki page about the Warburg effect](https://en.wikipedia.org/wiki/Warburg_effect) and the [original publication by Otto Warburg (1956)](http://science.sciencemag.org/content/123/3191/309).\n",
    "\n",
    "### Applying FVA to the cell lines\n",
    "Remember that with FVA (Flux Variability Analysis) we can find out the range of flux through a reaction that is possible while the cell still grows optimally! This will allow us to see if, for instance, oxygen uptake is essential for these cancer cells.\n",
    "\n",
    "<span style=\"color:red\">**Assignment:**</span> The cell below performs FVA for a variety of reactions representing: oxygen uptake, proton pumping through the ATPase (final step in respiration), glycolysis (PGK/PYK), glucose uptake, non-essential amino acids (glutamate and glutamine uptake), essential amino acids (phenylalanine), lactate production. \n",
    "\n",
    "Each of these reactions, for each cell line and the unconstrained Recon 3, is associated with an interval that represents the lowest and highest possible flux possible while the cell is able to achieve optimal growth rate. \n",
    "\n",
    "Inspect the output. Pay particular attention to see if you can spot presence or absence of the Warburg effect. \n",
    "\n",
    "Then, read our observations further down the page."
   ]
  },
  {
   "cell_type": "code",
   "execution_count": null,
   "metadata": {},
   "outputs": [],
   "source": [
    "interesting_rxns = ['EX_o2_e',\n",
    "                    'ATPS4mi','PGK','PYK', # ATP production\n",
    "                    'EX_glc_D_e','EX_glu_L_e','EX_gln_L_e','EX_phe_L_e', # carbon sources\n",
    "                    'EX_lac_L_e'\n",
    "                   ]\n",
    "\n",
    "df = pd.DataFrame()\n",
    "d = {}\n",
    "\n",
    "modelnames = ['WT Recon 3','MCF7','MCF7_F','MCF7_T','LTED']\n",
    "for i,model in enumerate([WT_r3, MCF7, MCF7_F, MCF7_T, LTED]):\n",
    "    \n",
    "    model.reactions.EX_lac_D_e.upper_bound = 0 # keep one lactate exit\n",
    "    \n",
    "    fvasol = cobra.flux_analysis.flux_variability_analysis(model,reaction_list=interesting_rxns,\n",
    "                                                           fraction_of_optimum=1)\n",
    "    \n",
    "    parsed_res = {r:[round(fvasol.loc[r]['minimum'],3),round(fvasol.loc[r]['maximum'],3)] for r in fvasol.index }\n",
    "    d[modelnames[i]] = parsed_res\n",
    "    \n",
    "df = pd.DataFrame(d,index=interesting_rxns,columns=modelnames)\n",
    "df.to_csv('FVA_comparison_cell_lines_vs_WT.csv',sep='\\t')\n",
    "df"
   ]
  },
  {
   "attachments": {},
   "cell_type": "markdown",
   "metadata": {},
   "source": [
    "**Possible observations:**\n",
    "- Positive controls: some oxygen and essential amino acid uptake is needed for growth in all cell lines (see O2 and phenylalanine rows). This may be seen by the negative lower bounds.\n",
    "\n",
    "- Cancer cell lines shift toward fermentation (Warburg effect): In the WT the optimal growth rate requires proton pumping (ATPS4mi). The optimal growth rate is not dependent on proton pumping in the 4 cell lines suggesting a shift to fermentation vs. respiration. This can be observed based on the zero lower bound for ATPS4mi. \n",
    "- All 4 cell lines tend to secrete more lactate than the WT Recon 3 (see the lactate uper bound).\n",
    "- Compnents of the ATPase are not expressed in MCF7 and MCF7_T: note that the upper bound on ATPS4mi in MCF7 and MCF7_T equals 0.001. 0.001 is the minimum reaction bound we enforced during the transcriptomic mapping. This is therefore likely due to one or more components of the complex not being expressed. \n",
    "- MCF7 and MCF7_T require glucose uptake to grow optimally, like the WT, but more severe. LTED and MCF7_F do not. This also indicates MCF7 and MCF7_T are likely to at least partly ferment. Whereas MCF7/F and LTED tend to at least partially make use of respiration.\n",
    "\n",
    "<span style=\"color:red\">**Scientific hypothesis from this work:**</span>\n",
    "Like tumor cells resistant cells remain WarburG type but with differences\n",
    "The estrogen receptor-drugs resistant cells may be druggable metabolically"
   ]
  },
  {
   "cell_type": "code",
   "execution_count": null,
   "metadata": {},
   "outputs": [],
   "source": []
  },
  {
   "cell_type": "markdown",
   "metadata": {},
   "source": [
    "# Wrap up\n",
    "Hopefully this tutorial taught you something about the power of systems biology, systems and deep thinking. You now grasp the basics of flux balance/variability analysis, experienced using Python programming for science and saw one way of integrating real data in a computational model. Hopefully, you are convinced that $$\\text{data} + \\text{model} > \\text{data alone}$$\n",
    "\n",
    "This is only one (limited) example of the power of computational systems biology. The ultimate challenge is for you to now translate this to you own problem of interest! Hopefully this tutorial inspired you to do so."
   ]
  },
  {
   "cell_type": "code",
   "execution_count": null,
   "metadata": {},
   "outputs": [],
   "source": []
  }
 ],
 "metadata": {
  "kernelspec": {
   "display_name": "Python 3",
   "language": "python",
   "name": "python3"
  },
  "language_info": {
   "codemirror_mode": {
    "name": "ipython",
    "version": 3
   },
   "file_extension": ".py",
   "mimetype": "text/x-python",
   "name": "python",
   "nbconvert_exporter": "python",
   "pygments_lexer": "ipython3",
   "version": "3.6.1"
  },
  "toc": {
   "nav_menu": {},
   "number_sections": true,
   "sideBar": true,
   "skip_h1_title": false,
   "toc_cell": false,
   "toc_position": {
    "height": "872.5px",
    "left": "0px",
    "right": "1228px",
    "top": "110.5px",
    "width": "212px"
   },
   "toc_section_display": "block",
   "toc_window_display": true
  }
 },
 "nbformat": 4,
 "nbformat_minor": 2
}
