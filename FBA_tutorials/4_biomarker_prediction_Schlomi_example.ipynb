{
  "cells": [
    {
      "cell_type": "markdown",
      "source": [
        "# Reproducing the example in Figure 1 of Shlomi et al. 2009\n",
        "\n",
        "<p>**Authors**: Thierry D.G.A Mondeel, Stefania Astrologo, Ewelina Weglarz-Tomczak & Hans V. Westerhoff <br/>\n",
        "University of Amsterdam <br/>2016 - 2018\n",
        "</p>\n",
        "\n",
        "Next we will focus on an intriguing application of the human metabolic model: the ability to predict the accumulation and depletion of any biomarker metabolites in extracellular tissues and fluids upon a specific mutation. \n",
        "\n",
        "The method we will utilize to do this is based on flux variability analysis and was presented originally in (Shlomi, 2009). It was subsequently used in the RECON2 paper to produce Figure 3.\n",
        "\n",
        "This code reproduces the network and biomarker predictions in the example from (Schlomi,2009), Figure 1.\n",
        "You can read the paper here: http://doi.org/10.1038/msb.2009.22\n",
        "\n",
        "<span style=\"color:red\">**Assignment (10 min):**</span>\n",
        "To follow and understand this tutorial be sure you:  \n",
        "* Read the abstract of the paper by Shlomi et al. \n",
        "* If time permits you should also read through the introduction which is only 3 paragraphs.\n",
        "* Also take a look at the RECON2 paper again, specifically the part concerning Figure 3. Read the caption of the figure and the paragraph of text above it. http://www.nature.com/nbt/journal/v31/n5/full/nbt.2488.html\n",
        "\nSome essential parts of the method will be introduced in the notebook below. "
      ],
      "metadata": {}
    },
    {
      "cell_type": "markdown",
      "source": [
        "<span style=\"color:red\">**Assignment (10 min):**</span>\n",
        "We already made the example network shown in Figure A from the original publication below. Execute the cell below and read the portion of the methods section from Shlomi et al. that we pasted below."
      ],
      "metadata": {}
    },
    {
      "cell_type": "code",
      "source": [
        "import cobra\n",
        "from utils import findBiomarkers, show_map\n",
        "import pandas as pd\n",
        "\n",
        "from IPython.core.interactiveshell import InteractiveShell\n",
        "InteractiveShell.ast_node_interactivity = \"all\"\n",
        "\nmodel = cobra.io.read_sbml_model(\"models/Shlomi_example.xml\")"
      ],
      "outputs": [],
      "execution_count": null,
      "metadata": {
        "collapsed": true
      }
    },
    {
      "cell_type": "markdown",
      "source": [
        "<span style=\"color:red\">**Assignment (10 min):**</span> Read and try to understand the following excerpt from the methods section from Shlomi et al. \n",
        "\n",
        "### The method\n",
        "** This is a selective copy/paste from the original paper: http://www.ncbi.nlm.nih.gov/pmc/articles/PMC2683725/**\n",
        "\n",
        "We present a new computational approach for systematically predicting the pattern of metabolic biomarkers characterizing each metabolic disorder whose causative gene is included in the human metabolic network model (Duarte et al, 2007). Let a boundary metabolite denote a metabolite that is known to be taken-up or secreted between the intracellular and extracellular compartments. \n",
        "\n",
        "Let an exchange interval denote a possible range of uptake and secretion fluxes of a given boundary exchange interval. For each metabolic disorder and each boundary metabolite, we predict its exchange interval between human tissues and biofluids, for both healthy and disease cases. This exchange interval is computed through a CBM method called flux variability analysis (FVA) (Mahadevan and Schilling, 2003), which accounts for the entire space of feasible flux states that satisfy mass-balance stoichiometric constraints and reaction directionality constraints (embedded in the model of (Duarte et al, 2007)). \n",
        "\n",
        "For the healthy case, the exchange interval is computed while the reactions affected by the disease are constrained to be active, whereas for the disease case, they are constrained to be inactive. By comparing the predicted exchange interval between the healthy state and the disease state for each boundary metabolite, one can determine whether the pertaining boundary metabolite concentration in biofluids (termed biomarker) is expected to be elevated, reduced or unchanged. \n",
        "\n",
        "If the predicted changes are marked such that there is no overlap between the exchange intervals of the healthy case and the disease case, the predicted biomarker change is considered to be highly confident.\n",
        "\nAn illustrative example of the predicted biomarker changes' ranges and their underlying rationale for the healthy state and some disease state is depicted in Figures 1A and B. The predicted exchange intervals of metabolite M1 (M2) suggest that its extracellular concentration is elevated (reduced) in the disease case. The disjoint exchange intervals obtained for the healthy case and the disease case for both M1 and M2 render these predictions as highly confident. The exchange intervals of metabolite M6 (M4) suggest that their extracellular concentrations are elevated (reduced) in the disease case. Examining, for example, the exchange interval of metabolite M6 shows that in the healthy case, M6 can be either taken-up from biofluids or secreted in a lower rate (as some of it is required in the healthy state; Supplementary Figure 1). In the disease case, M6 (synthesized through M5) can only be secreted to biofluids. It should be noted that mass-balance stoichiometric constraints that play an important role in determining the exchange intervals of different metabolites and are accounted for by the CBM method (and as will be shown, play an important role in determining biomarker changes in addition to the network topology) are not depicted in this kind of illustration."
      ],
      "metadata": {}
    },
    {
      "cell_type": "markdown",
      "source": [
        "<img src=\"images/shlomi_example.png\">"
      ],
      "metadata": {}
    },
    {
      "cell_type": "markdown",
      "source": [
        "<span style=\"color:red\">**Assignment (5 min):**</span> Make sure you understand why, if flux variablity analysis predicts an exchange interval of metabolite X to become more positive,\n",
        "this \"predicts\" that the metabolite builds up in the biofluids! And vice versa."
      ],
      "metadata": {}
    },
    {
      "cell_type": "markdown",
      "source": [
        "<span style=\"color:red\">**Assignment (5 min):**</span> Make sure you agree that we have reconstructed the network in Figure 1A correctly. Write a for loop that prints all reactions in the model and check that they are correct."
      ],
      "metadata": {}
    },
    {
      "cell_type": "code",
      "source": [
        "# write a for loop here. \n",
        "# tip: make use of model.reactions and of the .reaction attribute of each reaction"
      ],
      "outputs": [],
      "execution_count": null,
      "metadata": {
        "collapsed": true
      }
    },
    {
      "cell_type": "markdown",
      "source": [
        "### Reproducing Figure 1B\n",
        "We have written a python function that implements the entire method proposed by Shlomi et al in the \"findBiomarkers()\" function. For now we will simply check to see if it produces the same qualitative results as the original paper. \n",
        "\nWe have reconstructed the network in Figure 1A. We will now block reaction 1 and show that we predict what is in Figure 1B. "
      ],
      "metadata": {}
    },
    {
      "cell_type": "code",
      "source": [
        "exchanges = [ rxn for rxn in model.reactions if rxn.products == [] ]\n",
        "exchangesIds = [rxn.id for rxn in exchanges]\n",
        "\nfindBiomarkers(model,fvaRxns=exchangesIds,mods=[model.reactions.R1.id],threshold=0)"
      ],
      "outputs": [],
      "execution_count": null,
      "metadata": {
        "collapsed": true
      }
    },
    {
      "cell_type": "markdown",
      "source": [
        "Note the difference between the data we produced and figure B regarding M7. We predict reduced extracellular levels while Shlomi et al predict no change. This is due to the fact the Shlomi et al put in a threshold of at least 10% change before they consider something a biomarker. We just show the raw data here."
      ],
      "metadata": {}
    },
    {
      "cell_type": "markdown",
      "source": [
        "<span style=\"color:red\">**Assignment (5 min):**</span> Do our predictions agree with Figure 1B? "
      ],
      "metadata": {}
    },
    {
      "cell_type": "code",
      "source": [],
      "outputs": [],
      "execution_count": null,
      "metadata": {
        "collapsed": true
      }
    }
  ],
  "metadata": {
    "kernelspec": {
      "name": "python3",
      "language": "python",
      "display_name": "Python 3"
    },
    "language_info": {
      "name": "python",
      "version": "3.6.1",
      "mimetype": "text/x-python",
      "codemirror_mode": {
        "name": "ipython",
        "version": 3
      },
      "pygments_lexer": "ipython3",
      "nbconvert_exporter": "python",
      "file_extension": ".py"
    },
    "kernel_info": {
      "name": "python3"
    },
    "nteract": {
      "version": "0.12.3"
    }
  },
  "nbformat": 4,
  "nbformat_minor": 2
}