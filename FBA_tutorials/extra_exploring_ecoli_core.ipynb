{
 "cells": [
  {
   "cell_type": "markdown",
   "metadata": {
    "collapsed": true
   },
   "source": [
    "# Additional material: Investigating the E. coli core metabolic map\n",
    "\n",
    "http://doi.org/10.1128/ecosalplus.10.2.1\n",
    "\n",
    "This notebook serves either as additional material for advanced students. Or as the basis for a student project.\n",
    "\n",
    "<span style=\"color:red\">**Assignment:**</span> Read the paper describing the e. coli core model"
   ]
  },
  {
   "cell_type": "code",
   "execution_count": null,
   "metadata": {
    "collapsed": true
   },
   "outputs": [],
   "source": [
    "import cobra\n",
    "from cobra.flux_analysis import pfba\n",
    "import pandas as pd # for nice tables\n",
    "pd.set_option('display.max_colwidth', -1)\n",
    "from utils import show_map\n",
    "import escher\n",
    "\n",
    "map_loc = './maps/e_coli_core.Core metabolism.json' # the escher map used below\n",
    "\n",
    "from IPython.core.interactiveshell import InteractiveShell\n",
    "InteractiveShell.ast_node_interactivity = \"all\"\n",
    "\n",
    "M = cobra.io.load_json_model('models/e_coli_core.json')\n",
    "model = M.copy() # this way we can edit model but leave M unaltered"
   ]
  },
  {
   "cell_type": "markdown",
   "metadata": {},
   "source": [
    "<span style=\"color:red\">**Assignment:**</span> Examine the network. "
   ]
  },
  {
   "cell_type": "code",
   "execution_count": null,
   "metadata": {},
   "outputs": [],
   "source": [
    "b = show_map([],map_loc)\n",
    "b.display_in_notebook()"
   ]
  },
  {
   "cell_type": "code",
   "execution_count": null,
   "metadata": {},
   "outputs": [],
   "source": [
    "sol = model.optimize()\n",
    "b = show_map(sol,map_loc)\n",
    "b.display_in_notebook()"
   ]
  },
  {
   "cell_type": "markdown",
   "metadata": {},
   "source": [
    "### Possible next actions\n",
    "* Perform FBA, pFBA and FVA using various media compositions (carbon sources, oxygen) etc. \n",
    "* Perform knockouts: find all lethal single and double knockouts of genes\n",
    "* Classify the carbon efficiency of various carbon sources: i.e. what is the ratio of carbon in/carbon out?\n",
    "* Make up your own... "
   ]
  },
  {
   "cell_type": "code",
   "execution_count": null,
   "metadata": {
    "collapsed": true
   },
   "outputs": [],
   "source": []
  }
 ],
 "metadata": {
  "kernelspec": {
   "display_name": "Python 3",
   "language": "python",
   "name": "python3"
  },
  "language_info": {
   "codemirror_mode": {
    "name": "ipython",
    "version": 3
   },
   "file_extension": ".py",
   "mimetype": "text/x-python",
   "name": "python",
   "nbconvert_exporter": "python",
   "pygments_lexer": "ipython3",
   "version": "3.5.2"
  }
 },
 "nbformat": 4,
 "nbformat_minor": 2
}
