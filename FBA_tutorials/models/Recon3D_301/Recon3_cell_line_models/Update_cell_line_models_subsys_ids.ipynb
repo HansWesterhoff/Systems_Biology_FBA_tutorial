{
 "cells": [
  {
   "cell_type": "code",
   "execution_count": 1,
   "metadata": {},
   "outputs": [],
   "source": [
    "import cobra\n",
    "from cobra import Reaction\n",
    "import pandas as pd\n",
    "pd.set_option('display.max_colwidth', -1)\n",
    "import ast"
   ]
  },
  {
   "cell_type": "markdown",
   "metadata": {},
   "source": [
    "# Load the MATLAB constructed cell line models and update IDs and add subsystems"
   ]
  },
  {
   "cell_type": "code",
   "execution_count": 3,
   "metadata": {},
   "outputs": [
    {
     "name": "stdout",
     "output_type": "stream",
     "text": [
      "LTED_FPKM.json\n",
      "MCF7_FPKM.json\n",
      "MCF7_T_FPKM.json\n",
      "MCF7_F_FPKM.json\n"
     ]
    }
   ],
   "source": [
    "models = [\"LTED_FPKM_MATLAB.xml\",\"MCF7_FPKM_MATLAB.xml\",\n",
    "         \"MCF7_T_FPKM_MATLAB.xml\",\"MCF7_F_FPKM_MATLAB.xml\"]\n",
    "\n",
    "rxn_ss = pd.read_csv('../subsystem_data/Recon3_rxn_subsystem.csv',index_col=0).set_index('rxn ID')\n",
    "\n",
    "\n",
    "for filename in models:\n",
    "    M = cobra.io.read_sbml_model(filename)\n",
    "\n",
    "    ##################################\n",
    "    # fix reaction and metabolite IDs\n",
    "    ##################################\n",
    "    for rxn in M.reactions:\n",
    "        rxn.id = rxn.id.replace('__91__','_').replace('__93__','').replace('__45__','-')\n",
    "\n",
    "    M.repair()\n",
    "\n",
    "    for m in M.metabolites:\n",
    "        m.id = m.id.replace('__91__','_').replace('__93__','')\n",
    "\n",
    "    M.repair()\n",
    "\n",
    "    ##################################\n",
    "    # add ATPM reaction\n",
    "    ##################################\n",
    "    ATPM = Reaction('ATPM')\n",
    "    M.add_reaction(ATPM)\n",
    "    M.reactions.ATPM.lower_bound = 0\n",
    "    M.reactions.ATPM.add_metabolites({'atp_c':-1.0,'adp_c':1.0,'pi_c':1.0})\n",
    "    M.repair()\n",
    "\n",
    "    ##################################\n",
    "    # Set objective to biomass_reaction\n",
    "    ##################################\n",
    "    M.reactions.biomass_maintenance.objective_coefficient = 0\n",
    "    M.reactions.biomass_reaction.objective_coefficient = 1\n",
    "    \n",
    "    ##################################\n",
    "    # add subsystem info\n",
    "    ##################################\n",
    "    for rxn in rxn_ss.index:\n",
    "        rxn_updated_id = rxn.replace('[','_').replace(']','')\n",
    "\n",
    "        ss = ast.literal_eval(rxn_ss.loc[rxn]['subSystem'])\n",
    "\n",
    "        M.reactions.get_by_id(rxn_updated_id).subsystem = ss\n",
    "\n",
    "    # save\n",
    "    # strip the '_MATLAB.xml' out of the filename and replace with json\n",
    "    filename_new = '_'.join(filename.split('_')[:-1]) + '.json'\n",
    "    print(filename_new)\n",
    "    \n",
    "    cobra.io.save_json_model(M,filename_new)"
   ]
  },
  {
   "cell_type": "code",
   "execution_count": 21,
   "metadata": {},
   "outputs": [
    {
     "name": "stdout",
     "output_type": "stream",
     "text": [
      "['Glycolysis/gluconeogenesis']\n",
      "(-1000.0, 1000.0)\n",
      "0.0 0.050276511056267854\n",
      "['Glycolysis/gluconeogenesis']\n",
      "(-1000.0, 1000.0)\n",
      "0.0 0.08686654074673478\n",
      "['Glycolysis/gluconeogenesis']\n",
      "(-1000.0, 1000.0)\n",
      "0.0 0.05718860802928058\n",
      "['Glycolysis/gluconeogenesis']\n",
      "(-1000.0, 1000.0)\n",
      "0.0 0.06210063689001531\n"
     ]
    }
   ],
   "source": [
    "for filename in [\"LTED_FPKM.json\", \"MCF7_FPKM.json\", \"MCF7_T_FPKM.json\", \"MCF7_F_FPKM.json\"]:\n",
    "    model = cobra.io.load_json_model(filename)\n",
    "    \n",
    "    print(model.reactions.GAPD.subsystem)\n",
    "    print(model.reactions.G3PD1.bounds)\n",
    "    \n",
    "    sol = cobra.flux_analysis.pfba(model)\n",
    "    print(sol.fluxes['biomass_reaction'], sol.fluxes['biomass_maintenance'])"
   ]
  },
  {
   "cell_type": "code",
   "execution_count": null,
   "metadata": {},
   "outputs": [],
   "source": []
  }
 ],
 "metadata": {
  "kernelspec": {
   "display_name": "Python 3",
   "language": "python",
   "name": "python3"
  },
  "language_info": {
   "codemirror_mode": {
    "name": "ipython",
    "version": 3
   },
   "file_extension": ".py",
   "mimetype": "text/x-python",
   "name": "python",
   "nbconvert_exporter": "python",
   "pygments_lexer": "ipython3",
   "version": "3.6.1"
  }
 },
 "nbformat": 4,
 "nbformat_minor": 2
}
