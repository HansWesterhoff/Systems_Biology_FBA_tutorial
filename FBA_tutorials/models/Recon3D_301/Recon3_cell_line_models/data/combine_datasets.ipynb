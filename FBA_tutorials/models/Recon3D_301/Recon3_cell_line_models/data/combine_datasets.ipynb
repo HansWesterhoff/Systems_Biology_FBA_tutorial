{
 "cells": [
  {
   "cell_type": "markdown",
   "metadata": {},
   "source": [
    "# Combine all 4 transcriptomics datasets"
   ]
  },
  {
   "cell_type": "code",
   "execution_count": 42,
   "metadata": {},
   "outputs": [
    {
     "name": "stdout",
     "output_type": "stream",
     "text": [
      "1689\n"
     ]
    },
    {
     "data": {
      "text/html": [
       "<div>\n",
       "<style scoped>\n",
       "    .dataframe tbody tr th:only-of-type {\n",
       "        vertical-align: middle;\n",
       "    }\n",
       "\n",
       "    .dataframe tbody tr th {\n",
       "        vertical-align: top;\n",
       "    }\n",
       "\n",
       "    .dataframe thead th {\n",
       "        text-align: right;\n",
       "    }\n",
       "</style>\n",
       "<table border=\"1\" class=\"dataframe\">\n",
       "  <thead>\n",
       "    <tr style=\"text-align: right;\">\n",
       "      <th></th>\n",
       "      <th>MCF7</th>\n",
       "      <th>MCF7_F</th>\n",
       "      <th>MCF7_T</th>\n",
       "      <th>LTED</th>\n",
       "    </tr>\n",
       "    <tr>\n",
       "      <th>HGNC_ID</th>\n",
       "      <th></th>\n",
       "      <th></th>\n",
       "      <th></th>\n",
       "      <th></th>\n",
       "    </tr>\n",
       "  </thead>\n",
       "  <tbody>\n",
       "    <tr>\n",
       "      <th>HGNC:13734</th>\n",
       "      <td>0.000000</td>\n",
       "      <td>0.000000</td>\n",
       "      <td>0.000000</td>\n",
       "      <td>0.000000</td>\n",
       "    </tr>\n",
       "    <tr>\n",
       "      <th>HGNC:4020</th>\n",
       "      <td>1.973682</td>\n",
       "      <td>2.393062</td>\n",
       "      <td>12.950174</td>\n",
       "      <td>4.327107</td>\n",
       "    </tr>\n",
       "    <tr>\n",
       "      <th>HGNC:4021</th>\n",
       "      <td>8.634477</td>\n",
       "      <td>4.563854</td>\n",
       "      <td>5.837683</td>\n",
       "      <td>4.253408</td>\n",
       "    </tr>\n",
       "    <tr>\n",
       "      <th>HGNC:344</th>\n",
       "      <td>39.351386</td>\n",
       "      <td>28.221353</td>\n",
       "      <td>24.069448</td>\n",
       "      <td>25.147869</td>\n",
       "    </tr>\n",
       "    <tr>\n",
       "      <th>HGNC:341</th>\n",
       "      <td>0.000000</td>\n",
       "      <td>0.045461</td>\n",
       "      <td>0.000000</td>\n",
       "      <td>0.000000</td>\n",
       "    </tr>\n",
       "  </tbody>\n",
       "</table>\n",
       "</div>"
      ],
      "text/plain": [
       "                 MCF7     MCF7_F     MCF7_T       LTED\n",
       "HGNC_ID                                               \n",
       "HGNC:13734   0.000000   0.000000   0.000000   0.000000\n",
       "HGNC:4020    1.973682   2.393062  12.950174   4.327107\n",
       "HGNC:4021    8.634477   4.563854   5.837683   4.253408\n",
       "HGNC:344    39.351386  28.221353  24.069448  25.147869\n",
       "HGNC:341     0.000000   0.045461   0.000000   0.000000"
      ]
     },
     "execution_count": 42,
     "metadata": {},
     "output_type": "execute_result"
    }
   ],
   "source": [
    "import pandas as pd\n",
    "\n",
    "# df_MCF7 = pd.read_csv('./MCF7_FPKM_BULK_sortedIDs.csv',index_col=0)\n",
    "df_MCF7 = pd.read_csv('./unsorted/MCF7_FPKM_BULK.csv',usecols=[1,2],index_col=0)\n",
    "df_MCF7.columns = ['MCF7']\n",
    "# df_MCF7_F = pd.read_csv('./MCF7_F_FPKM_BULK_sortedIDs.csv',index_col=0) \n",
    "df_MCF7_F = pd.read_csv('./unsorted/MCF7_F_FPKM_BULK.csv',usecols=[1,2],index_col=0)\n",
    "df_MCF7_F.columns = ['MCF7_F']\n",
    "# df_MCF7_T = pd.read_csv('./MCF7_TAM_FPKM_BULK_sortedIDs.csv',index_col=0)\n",
    "df_MCF7_T = pd.read_csv('./unsorted/MCF7_TAM_FPKM_BULK.csv',usecols=[1,2],index_col=0)\n",
    "df_MCF7_T.columns = ['MCF7_T']\n",
    "# df_LTED = pd.read_csv('./LTED_FPKM_BULK_sortedIDs.csv',index_col=0) \n",
    "df_LTED = pd.read_csv('./unsorted/LTED_FPKM_BULK.csv',usecols=[1,2],index_col=0)\n",
    "df_LTED.columns = ['LTED']\n",
    "\n",
    "# merge all 4 datasets\n",
    "df = df_MCF7.merge(df_MCF7_F,how='outer',left_index=True, right_index=True) # join the keys\n",
    "df = df.merge(df_MCF7_T,how='outer',left_index=True, right_index=True) # join the keys\n",
    "df = df.merge(df_LTED,how='outer',left_index=True, right_index=True) # join the keys\n",
    "\n",
    "print(len(df))\n",
    "\n",
    "# save dataset\n",
    "df.to_pickle('total_dataset')\n",
    "\n",
    "df.head()"
   ]
  },
  {
   "cell_type": "code",
   "execution_count": 41,
   "metadata": {},
   "outputs": [
    {
     "data": {
      "text/plain": [
       "1456"
      ]
     },
     "execution_count": 41,
     "metadata": {},
     "output_type": "execute_result"
    }
   ],
   "source": [
    "# How many are non-zero in at least one cell line?\n",
    "df = df[(df.T != 0).any()]\n",
    "len(df)"
   ]
  },
  {
   "cell_type": "code",
   "execution_count": null,
   "metadata": {},
   "outputs": [],
   "source": []
  }
 ],
 "metadata": {
  "kernelspec": {
   "display_name": "Python 3",
   "language": "python",
   "name": "python3"
  },
  "language_info": {
   "codemirror_mode": {
    "name": "ipython",
    "version": 3
   },
   "file_extension": ".py",
   "mimetype": "text/x-python",
   "name": "python",
   "nbconvert_exporter": "python",
   "pygments_lexer": "ipython3",
   "version": "3.6.1"
  }
 },
 "nbformat": 4,
 "nbformat_minor": 2
}
