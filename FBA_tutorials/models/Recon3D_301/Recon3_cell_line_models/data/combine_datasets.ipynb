{
 "cells": [
  {
   "cell_type": "markdown",
   "metadata": {},
   "source": [
    "# Combine all 4 transcriptomics datasets"
   ]
  },
  {
   "cell_type": "code",
   "execution_count": 3,
   "metadata": {},
   "outputs": [
    {
     "name": "stdout",
     "output_type": "stream",
     "text": [
      "2290\n"
     ]
    },
    {
     "data": {
      "text/html": [
       "<div>\n",
       "<style scoped>\n",
       "    .dataframe tbody tr th:only-of-type {\n",
       "        vertical-align: middle;\n",
       "    }\n",
       "\n",
       "    .dataframe tbody tr th {\n",
       "        vertical-align: top;\n",
       "    }\n",
       "\n",
       "    .dataframe thead th {\n",
       "        text-align: right;\n",
       "    }\n",
       "</style>\n",
       "<table border=\"1\" class=\"dataframe\">\n",
       "  <thead>\n",
       "    <tr style=\"text-align: right;\">\n",
       "      <th></th>\n",
       "      <th>MCF7</th>\n",
       "      <th>MCF7_F</th>\n",
       "      <th>MCF7_T</th>\n",
       "      <th>LTED</th>\n",
       "    </tr>\n",
       "    <tr>\n",
       "      <th>entrez_id</th>\n",
       "      <th></th>\n",
       "      <th></th>\n",
       "      <th></th>\n",
       "      <th></th>\n",
       "    </tr>\n",
       "  </thead>\n",
       "  <tbody>\n",
       "    <tr>\n",
       "      <th>0.0</th>\n",
       "      <td>0.000000</td>\n",
       "      <td>0.000000</td>\n",
       "      <td>0.000000</td>\n",
       "      <td>0.000000</td>\n",
       "    </tr>\n",
       "    <tr>\n",
       "      <th>13.1</th>\n",
       "      <td>0.129984</td>\n",
       "      <td>0.000000</td>\n",
       "      <td>0.080061</td>\n",
       "      <td>0.087407</td>\n",
       "    </tr>\n",
       "    <tr>\n",
       "      <th>15.1</th>\n",
       "      <td>0.000000</td>\n",
       "      <td>0.058408</td>\n",
       "      <td>0.059831</td>\n",
       "      <td>0.032661</td>\n",
       "    </tr>\n",
       "    <tr>\n",
       "      <th>18.1</th>\n",
       "      <td>36.980706</td>\n",
       "      <td>5.672655</td>\n",
       "      <td>5.680825</td>\n",
       "      <td>34.087925</td>\n",
       "    </tr>\n",
       "    <tr>\n",
       "      <th>18.2</th>\n",
       "      <td>36.980706</td>\n",
       "      <td>5.672655</td>\n",
       "      <td>5.680825</td>\n",
       "      <td>34.087925</td>\n",
       "    </tr>\n",
       "  </tbody>\n",
       "</table>\n",
       "</div>"
      ],
      "text/plain": [
       "                MCF7    MCF7_F    MCF7_T       LTED\n",
       "entrez_id                                          \n",
       "0.0         0.000000  0.000000  0.000000   0.000000\n",
       "13.1        0.129984  0.000000  0.080061   0.087407\n",
       "15.1        0.000000  0.058408  0.059831   0.032661\n",
       "18.1       36.980706  5.672655  5.680825  34.087925\n",
       "18.2       36.980706  5.672655  5.680825  34.087925"
      ]
     },
     "execution_count": 3,
     "metadata": {},
     "output_type": "execute_result"
    }
   ],
   "source": [
    "import pandas as pd\n",
    "\n",
    "df_MCF7 = pd.read_csv('./MCF7_FPKM_Recon3_ids.csv',usecols=[1,2],index_col=0)\n",
    "df_MCF7.columns = ['MCF7']\n",
    "df_MCF7_F = pd.read_csv('./MCF7_F_FPKM_Recon3_ids.csv',usecols=[1,2],index_col=0)\n",
    "df_MCF7_F.columns = ['MCF7_F']\n",
    "df_MCF7_T = pd.read_csv('./MCF7_T_FPKM_Recon3_ids.csv',usecols=[1,2],index_col=0)\n",
    "df_MCF7_T.columns = ['MCF7_T']\n",
    "df_LTED = pd.read_csv('./LTED_FPKM_Recon3_ids.csv',usecols=[1,2],index_col=0)\n",
    "df_LTED.columns = ['LTED']\n",
    "\n",
    "# merge all 4 datasets\n",
    "df = df_MCF7.merge(df_MCF7_F,how='outer',left_index=True, right_index=True) # join the keys\n",
    "df = df.merge(df_MCF7_T,how='outer',left_index=True, right_index=True) # join the keys\n",
    "df = df.merge(df_LTED,how='outer',left_index=True, right_index=True) # join the keys\n",
    "\n",
    "print(len(df))\n",
    "\n",
    "# save dataset\n",
    "df.to_pickle('total_dataset')\n",
    "\n",
    "df.head()"
   ]
  },
  {
   "cell_type": "code",
   "execution_count": 41,
   "metadata": {},
   "outputs": [
    {
     "data": {
      "text/plain": [
       "1456"
      ]
     },
     "execution_count": 41,
     "metadata": {},
     "output_type": "execute_result"
    }
   ],
   "source": [
    "# How many are non-zero in at least one cell line?\n",
    "df = df[(df.T != 0).any()]\n",
    "len(df)"
   ]
  },
  {
   "cell_type": "code",
   "execution_count": null,
   "metadata": {},
   "outputs": [],
   "source": []
  }
 ],
 "metadata": {
  "kernelspec": {
   "display_name": "Python 3",
   "language": "python",
   "name": "python3"
  },
  "language_info": {
   "codemirror_mode": {
    "name": "ipython",
    "version": 3
   },
   "file_extension": ".py",
   "mimetype": "text/x-python",
   "name": "python",
   "nbconvert_exporter": "python",
   "pygments_lexer": "ipython3",
   "version": "3.6.1"
  }
 },
 "nbformat": 4,
 "nbformat_minor": 2
}
