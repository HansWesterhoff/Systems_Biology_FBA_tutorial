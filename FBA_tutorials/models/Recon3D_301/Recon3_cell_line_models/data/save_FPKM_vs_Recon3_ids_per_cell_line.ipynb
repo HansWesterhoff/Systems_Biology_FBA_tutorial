{
 "cells": [
  {
   "cell_type": "code",
   "execution_count": 6,
   "metadata": {
    "collapsed": true
   },
   "outputs": [],
   "source": [
    "import pandas as pd\n",
    "import cobra"
   ]
  },
  {
   "cell_type": "markdown",
   "metadata": {},
   "source": [
    "> <span style=\"color:blueviolet\">**Save list of genes in Recon3DModel_301**</span> : \n",
    "\n",
    ">             The total number of genes is  2248\n",
    ">             This list includes different isoformes (e.g. 5224.1 & 5224.2)"
   ]
  },
  {
   "cell_type": "code",
   "execution_count": 7,
   "metadata": {},
   "outputs": [
    {
     "data": {
      "text/plain": [
       "'/Users/stefaniaastrologo/Documents/Rohit_project/tissueModel/Bulk_scRNAseq_Recon3_ids'"
      ]
     },
     "execution_count": 7,
     "metadata": {},
     "output_type": "execute_result"
    }
   ],
   "source": [
    "pwd\n"
   ]
  },
  {
   "cell_type": "code",
   "execution_count": 8,
   "metadata": {},
   "outputs": [
    {
     "data": {
      "text/plain": [
       "2248"
      ]
     },
     "execution_count": 8,
     "metadata": {},
     "output_type": "execute_result"
    }
   ],
   "source": [
    "recon3   = cobra.io.read_sbml_model('../Recon3D_301_SBML/Recon3DModel_301.xml')\n",
    "recon3_genes = list(set([(x.name) for x in recon3.genes]))\n",
    "len(set(recon3_genes))"
   ]
  },
  {
   "cell_type": "markdown",
   "metadata": {},
   "source": [
    ">             The metadata dataset do not consider isoforms, the number of IDs drops to 1884"
   ]
  },
  {
   "cell_type": "code",
   "execution_count": 9,
   "metadata": {},
   "outputs": [
    {
     "data": {
      "text/plain": [
       "1884"
      ]
     },
     "execution_count": 9,
     "metadata": {},
     "output_type": "execute_result"
    }
   ],
   "source": [
    "recon3_genes = list(set([int(x.name.split('.')[0]) for x in recon3.genes]))\n",
    "len(set(recon3_genes))"
   ]
  },
  {
   "cell_type": "markdown",
   "metadata": {},
   "source": [
    "> <span style=\"color:blueviolet\">**Transcriptomics dataset of six diffrent cell lines ('LTED', 'LTED_F', 'LTED_T', 'MCF7', 'MCF7_F', 'MCF7_T')**</span> : \n"
   ]
  },
  {
   "cell_type": "code",
   "execution_count": 10,
   "metadata": {},
   "outputs": [
    {
     "data": {
      "text/html": [
       "<div>\n",
       "<style scoped>\n",
       "    .dataframe tbody tr th:only-of-type {\n",
       "        vertical-align: middle;\n",
       "    }\n",
       "\n",
       "    .dataframe tbody tr th {\n",
       "        vertical-align: top;\n",
       "    }\n",
       "\n",
       "    .dataframe thead th {\n",
       "        text-align: right;\n",
       "    }\n",
       "</style>\n",
       "<table border=\"1\" class=\"dataframe\">\n",
       "  <thead>\n",
       "    <tr style=\"text-align: right;\">\n",
       "      <th></th>\n",
       "      <th>LTED</th>\n",
       "      <th>LTED_F</th>\n",
       "      <th>LTED_T</th>\n",
       "      <th>MCF7</th>\n",
       "      <th>MCF7_F</th>\n",
       "      <th>MCF7_T</th>\n",
       "    </tr>\n",
       "  </thead>\n",
       "  <tbody>\n",
       "    <tr>\n",
       "      <th>1</th>\n",
       "      <td>2.108951</td>\n",
       "      <td>2.090415</td>\n",
       "      <td>1.634452</td>\n",
       "      <td>1.555154</td>\n",
       "      <td>0.529875</td>\n",
       "      <td>2.298877</td>\n",
       "    </tr>\n",
       "    <tr>\n",
       "      <th>10</th>\n",
       "      <td>0.106588</td>\n",
       "      <td>0.000000</td>\n",
       "      <td>0.000000</td>\n",
       "      <td>0.000000</td>\n",
       "      <td>0.000000</td>\n",
       "      <td>0.000000</td>\n",
       "    </tr>\n",
       "    <tr>\n",
       "      <th>100</th>\n",
       "      <td>0.916292</td>\n",
       "      <td>0.858569</td>\n",
       "      <td>0.238684</td>\n",
       "      <td>5.518615</td>\n",
       "      <td>1.310894</td>\n",
       "      <td>0.839278</td>\n",
       "    </tr>\n",
       "    <tr>\n",
       "      <th>1000</th>\n",
       "      <td>0.831648</td>\n",
       "      <td>2.764159</td>\n",
       "      <td>0.122624</td>\n",
       "      <td>1.446760</td>\n",
       "      <td>3.311230</td>\n",
       "      <td>2.127147</td>\n",
       "    </tr>\n",
       "    <tr>\n",
       "      <th>10000</th>\n",
       "      <td>0.076489</td>\n",
       "      <td>0.044794</td>\n",
       "      <td>0.224150</td>\n",
       "      <td>0.014218</td>\n",
       "      <td>0.153884</td>\n",
       "      <td>0.017515</td>\n",
       "    </tr>\n",
       "  </tbody>\n",
       "</table>\n",
       "</div>"
      ],
      "text/plain": [
       "           LTED    LTED_F    LTED_T      MCF7    MCF7_F    MCF7_T\n",
       "1      2.108951  2.090415  1.634452  1.555154  0.529875  2.298877\n",
       "10     0.106588  0.000000  0.000000  0.000000  0.000000  0.000000\n",
       "100    0.916292  0.858569  0.238684  5.518615  1.310894  0.839278\n",
       "1000   0.831648  2.764159  0.122624  1.446760  3.311230  2.127147\n",
       "10000  0.076489  0.044794  0.224150  0.014218  0.153884  0.017515"
      ]
     },
     "execution_count": 10,
     "metadata": {},
     "output_type": "execute_result"
    }
   ],
   "source": [
    "meta_data = pd.read_table('count_results.txt')\n",
    "meta_data.columns = ['LTED', 'LTED_F', 'LTED_T', 'MCF7', 'MCF7_F', 'MCF7_T']\n",
    "len([x for x in recon3_genes if x not in meta_data.index])\n",
    "meta_data.head()"
   ]
  },
  {
   "cell_type": "markdown",
   "metadata": {},
   "source": [
    ">             The row names is the entrez_id (same id used by Recon3)\n",
    ">             I filter only the rows relative to the metabolic genes\n",
    ">             \n",
    ">             25 genes are present in Recon3, but not in the dataset due to \n",
    ">             old mapping of the transcriptomics\n",
    ">             \n",
    ">             Those rows will be filled with zeros "
   ]
  },
  {
   "cell_type": "code",
   "execution_count": 11,
   "metadata": {},
   "outputs": [
    {
     "name": "stderr",
     "output_type": "stream",
     "text": [
      "/Users/stefaniaastrologo/anaconda/envs/py36/lib/python3.6/site-packages/ipykernel_launcher.py:3 \u001b[1;31mFutureWarning\u001b[0m: \n",
      "Passing list-likes to .loc or [] with any missing label will raise\n",
      "KeyError in the future, you can use .reindex() as an alternative.\n",
      "\n",
      "See the documentation here:\n",
      "http://pandas.pydata.org/pandas-docs/stable/indexing.html#deprecate-loc-reindex-listlike\n"
     ]
    }
   ],
   "source": [
    "meta_data = pd.read_table('count_results.txt')\n",
    "meta_data.columns = ['LTED_FPKM', 'LTED_F_FPKM', 'LTED_T_FPKM', 'MCF7_FPKM', 'MCF7_F_FPKM', 'MCF7_T_FPKM']\n",
    "meta_data = meta_data.loc[recon3_genes]\n",
    "meta_data = meta_data.fillna(0)"
   ]
  },
  {
   "cell_type": "markdown",
   "metadata": {},
   "source": [
    ">             I make a new dataframe from each cell lines;\n",
    ">             each df has 2 columns ['entrez_id', '*_FPKM']\n",
    ">             the entrez_id is now the 'gene name' used in Recon3 \n",
    ">             since we have one FPKM value for each isorform ...\n",
    ">             diffrent isoform for the same ID have"
   ]
  },
  {
   "cell_type": "code",
   "execution_count": 12,
   "metadata": {},
   "outputs": [
    {
     "data": {
      "text/plain": [
       "2248"
      ]
     },
     "execution_count": 12,
     "metadata": {},
     "output_type": "execute_result"
    }
   ],
   "source": [
    "All_recon3_genes = list([x.name for x in recon3.genes])\n",
    "len(All_recon3_genes)"
   ]
  },
  {
   "cell_type": "code",
   "execution_count": 13,
   "metadata": {
    "collapsed": true
   },
   "outputs": [],
   "source": [
    "LTED   = pd.DataFrame(columns=['entrez_id', 'LTED_FPKM'])\n",
    "LTED_F = pd.DataFrame(columns=['entrez_id', 'LTED_F_FPKM'])\n",
    "LTED_T = pd.DataFrame(columns=['entrez_id', 'LTED_T_FPKM'])\n",
    "MCF7   = pd.DataFrame(columns=['entrez_id', 'MCF7_FPKM'])\n",
    "MCF7_F = pd.DataFrame(columns=['entrez_id', 'MCF7_F_FPKM'])\n",
    "MCF7_T = pd.DataFrame(columns=['entrez_id', 'MCF7_T_FPKM'])\n",
    "\n",
    "df_list = [LTED, LTED_F, LTED_T, MCF7, MCF7_F, MCF7_T]\n",
    "\n",
    "for gene_name in All_recon3_genes:\n",
    "    \n",
    "    for Dataframe in df_list:\n",
    "        \n",
    "        entrez_id = int(gene_name.split('.')[0])\n",
    "        value = meta_data.loc[entrez_id][Dataframe.columns[1]]\n",
    "        \n",
    "        Dataframe.loc[len(Dataframe)] = [gene_name, value]\n",
    "# for Dataframe in df_list:\n",
    "#     Dataframe.to_csv(str(Dataframe.columns[1])+'_Recon3_ids.csv')\n"
   ]
  }
 ],
 "metadata": {
  "kernelspec": {
   "display_name": "py36",
   "language": "python",
   "name": "py36"
  },
  "language_info": {
   "codemirror_mode": {
    "name": "ipython",
    "version": 3
   },
   "file_extension": ".py",
   "mimetype": "text/x-python",
   "name": "python",
   "nbconvert_exporter": "python",
   "pygments_lexer": "ipython3",
   "version": "3.6.4"
  }
 },
 "nbformat": 4,
 "nbformat_minor": 2
}
