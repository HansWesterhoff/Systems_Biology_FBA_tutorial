{
  "cells": [
    {
      "cell_type": "code",
      "source": [
        "import cobra\n",
        "from cobra import Reaction\n",
        "import pandas as pd\n",
        "pd.set_option('display.max_colwidth', -1)\n",
        "import ast"
      ],
      "outputs": [],
      "execution_count": 1,
      "metadata": {}
    },
    {
      "cell_type": "markdown",
      "source": [
        "# Save JSON model with pythonified IDs and subsystem information"
      ],
      "metadata": {}
    },
    {
      "cell_type": "code",
      "source": [
        "M = cobra.io.load_matlab_model('Recon3DModel_301.mat') # takes several minutes\n",
        "\n",
        "# fix reaction and metabolite IDs\n",
        "for rxn in M.reactions:\n",
        "    rxn.id = rxn.id.replace('[','_').replace(']','')\n",
        "\n",
        "M.repair()\n",
        "\n",
        "for m in M.metabolites:\n",
        "    m.id = m.id.replace('[','_').replace(']','')\n",
        "\n",
        "M.repair()\n",
        "\n",
        "# add ATPM reaction\n",
        "ATPM = Reaction('ATPM')\n",
        "M.add_reaction(ATPM)\n",
        "M.reactions.ATPM.lower_bound = 0\n",
        "M.reactions.ATPM.add_metabolites({'atp_c':-1.0,'adp_c':1.0,'pi_c':1.0})\n",
        "M.repair()\n",
        "\n",
        "# set objective to full biomass\n",
        "M.reactions.biomass_maintenance.objective_coefficient = 0\n",
        "M.reactions.biomass_reaction.objective_coefficient = 1\n",
        "\n",
        "# set compartment properties\n",
        "for m in M.metabolites:\n",
        "    m.compartment = m.id.split('_')[-1]\n",
        "\n",
        "# Add subsystem information\n",
        "rxn_ss = pd.read_csv('./subsystem_data/Recon3_rxn_subsystem.csv',index_col=0).set_index('rxn ID')\n",
        "\n",
        "for rxn in rxn_ss.index:\n",
        "    rxn_updated_id = rxn.replace('[','_').replace(']','')\n",
        "    \n",
        "    ss = ast.literal_eval(rxn_ss.loc[rxn]['subSystem'])\n",
        "    \n",
        "    M.reactions.get_by_id(rxn_updated_id).subsystem = ss\n",
        "    \n",
        "# save\n",
        "cobra.io.save_json_model(M, 'Recon3DModel_301_pythonified.json')"
      ],
      "outputs": [],
      "execution_count": 2,
      "metadata": {}
    },
    {
      "cell_type": "markdown",
      "source": [
        "# Reduce medium + exits\n",
        "Set up a simple medium of glucose, oxygen, essential amino acids and a couple of other metabolites. Block all sinks and DM reactions. "
      ],
      "metadata": {}
    },
    {
      "cell_type": "code",
      "source": [
        "model = M.copy()\n",
        "\n",
        "# Block sink and demand reactions\n",
        "for rxn in model.reactions:\n",
        "    if 'sink_' in rxn.id or 'DM_' in rxn.id:\n",
        "        rxn.upper_bound = 0\n",
        "        rxn.lower_bound = 0\n",
        "        \n",
        "# set very simple medium that allows growth\n",
        "for rxn in model.reactions:\n",
        "    if 'EX_' in rxn.id:\n",
        "        rxn.upper_bound = 0 # block all outward\n",
        "        rxn.lower_bound = 0\n",
        "        \n",
        "for rxn in ['EX_h2o_e','EX_h_e','EX_co2_e','EX_nh4_e','EX_pi_e','EX_hco3_e','EX_so4_e','EX_o2_e']:\n",
        "    model.reactions.get_by_id(rxn).lower_bound = - 1000\n",
        "\n",
        "for rxn in ['EX_his_L_e','EX_ile_L_e','EX_leu_L_e','EX_lys_L_e','EX_met_L_e','EX_phe_L_e','EX_thr_L_e','EX_trp_L_e','EX_val_L_e',\n",
        "            'EX_glu_L_e', 'EX_gln_L_e', 'EX_tag_hs_e'\n",
        "           ]:\n",
        "    model.reactions.get_by_id(rxn).lower_bound = -0.1\n",
        "    \n",
        "model.reactions.EX_glc_D_e.lower_bound = -1\n",
        "        \n",
        "for rxn in ['EX_h2o_e','EX_h_e','EX_nh4_e','EX_pi_e','EX_so4_e',\n",
        "           'EX_co2_e','EX_lac_D_e','EX_lac_L_e',\n",
        "           'EX_urea_e','EX_acac_e','EX_bhb_e','EX_ppa_e','EX_cyst_L_e' ]: # \n",
        "    model.reactions.get_by_id(rxn).upper_bound = 1000\n",
        "    \n",
        "\n",
        "# Export to JSON    \n",
        "cobra.io.save_json_model(model, 'Recon3DModel_301_simple_medium.json')\n",
        "\n",
        "sol = cobra.flux_analysis.pfba(model)\n",
        "print('After changes',sol.fluxes['biomass_reaction'])\n",
        "model.summary()"
      ],
      "outputs": [
        {
          "output_type": "stream",
          "name": "stdout",
          "text": [
            "After changes 0.1688863968762772\n",
            "IN FLUXES          OUT FLUXES     OBJECTIVES\n",
            "-----------------  -------------  ----------------------\n",
            "o2_e      2.87     h2o_e  3.37    biomass_reac...  0.169\n",
            "glc_D_e   1        co2_e  2.62\n",
            "nh4_e     0.426    h_e    0.89\n",
            "pi_e      0.21     bhb_e  0.64\n",
            "gln_L_e   0.1      ppa_e  0.0742\n",
            "glu_L_e   0.1      so4_e  0.0663\n",
            "his_L_e   0.1\n",
            "lys_L_e   0.1\n",
            "met_L_e   0.1\n",
            "val_L_e   0.1\n",
            "leu_L_e   0.0921\n",
            "phe_L_e   0.0708\n",
            "thr_L_e   0.0528\n",
            "ile_L_e   0.0483\n",
            "tag_hs_e  0.0463\n",
            "trp_L_e   0.00225\n"
          ]
        }
      ],
      "execution_count": 3,
      "metadata": {}
    },
    {
      "cell_type": "code",
      "source": [
        "# keep M unchanged\n",
        "M = model.copy()\n",
        "model = M.copy()"
      ],
      "outputs": [],
      "execution_count": null,
      "metadata": {}
    },
    {
      "cell_type": "markdown",
      "source": [
        "# Check oxygen dependence"
      ],
      "metadata": {}
    },
    {
      "cell_type": "code",
      "source": [
        "model.reactions.EX_o2_e.lower_bound = 0\n",
        "print(model.optimize())\n",
        "\n# model.metabolites.get_by_id('o2_c').summary()"
      ],
      "outputs": [],
      "execution_count": null,
      "metadata": {}
    },
    {
      "cell_type": "markdown",
      "source": [
        "## How is ATP generated? \n",
        "### When maximizing ATPM using only glucose and o2"
      ],
      "metadata": {}
    },
    {
      "cell_type": "code",
      "source": [
        "model = M.copy()\n",
        "\n",
        "for rxn in ['EX_his_L_e','EX_ile_L_e','EX_leu_L_e','EX_lys_L_e','EX_met_L_e','EX_phe_L_e','EX_thr_L_e','EX_trp_L_e','EX_val_L_e',\n",
        "           'EX_glu_L_e','EX_gln_L_e']:\n",
        "    model.reactions.get_by_id(rxn).lower_bound = 0\n",
        "\n",
        "model.objective = model.reactions.ATPM\n",
        "model.optimize()\n",
        "\n",
        "model.summary()\n",
        "print()\n",
        "model.metabolites.atp_c.summary()\n",
        "print()\n",
        "model.metabolites.atp_m.summary()"
      ],
      "outputs": [],
      "execution_count": null,
      "metadata": {}
    },
    {
      "cell_type": "markdown",
      "source": [
        "### When maximizing biomass"
      ],
      "metadata": {}
    },
    {
      "cell_type": "code",
      "source": [
        "model = M.copy()\n",
        "\n",
        "model.optimize()\n",
        "\n",
        "model.summary()\n",
        "print()\n",
        "model.metabolites.atp_c.summary()\n",
        "print()\n",
        "model.metabolites.atp_m.summary()\n",
        "print()\n",
        "model.metabolites.icit_m.summary()"
      ],
      "outputs": [],
      "execution_count": null,
      "metadata": {}
    },
    {
      "cell_type": "markdown",
      "source": [
        "## How does the model behave under oxygen limitation? "
      ],
      "metadata": {}
    },
    {
      "cell_type": "code",
      "source": [
        "model = M.copy()\n",
        "\n",
        "model.reactions.EX_o2_e.lower_bound = -0.1\n",
        "sol = cobra.flux_analysis.pfba(model)\n",
        "\n",
        "model.summary()\n",
        "print()\n",
        "model.metabolites.atp_c.summary()\n",
        "print()\n",
        "model.metabolites.atp_m.summary()"
      ],
      "outputs": [],
      "execution_count": null,
      "metadata": {}
    }
  ],
  "metadata": {
    "kernel_info": {
      "name": "python3"
    },
    "kernelspec": {
      "name": "python3",
      "language": "python",
      "display_name": "Python 3"
    },
    "language_info": {
      "name": "python",
      "version": "3.6.1",
      "mimetype": "text/x-python",
      "codemirror_mode": {
        "name": "ipython",
        "version": 3
      },
      "pygments_lexer": "ipython3",
      "nbconvert_exporter": "python",
      "file_extension": ".py"
    },
    "nteract": {
      "version": "0.12.3"
    },
    "toc": {
      "nav_menu": {},
      "number_sections": true,
      "sideBar": true,
      "skip_h1_title": false,
      "toc_cell": false,
      "toc_position": {},
      "toc_section_display": "block",
      "toc_window_display": false
    }
  },
  "nbformat": 4,
  "nbformat_minor": 2
}