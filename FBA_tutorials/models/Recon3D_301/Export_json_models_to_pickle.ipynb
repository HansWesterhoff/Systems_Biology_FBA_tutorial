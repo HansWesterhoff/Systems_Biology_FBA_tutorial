{
 "cells": [
  {
   "cell_type": "markdown",
   "metadata": {},
   "source": [
    "# Export JSON models to pickle for speed"
   ]
  },
  {
   "cell_type": "code",
   "execution_count": 14,
   "metadata": {},
   "outputs": [],
   "source": [
    "import cobra\n",
    "import pickle \n",
    "\n",
    "models = ['Recon3DModel_301_simple_medium','Recon3_cell_line_models/MCF7_FPKM',\n",
    "         'Recon3_cell_line_models/MCF7_F_FPKM','Recon3_cell_line_models/MCF7_T_FPKM',\n",
    "         'Recon3_cell_line_models/LTED_FPKM']\n",
    "\n",
    "for m in models:\n",
    "    # load json\n",
    "    model = cobra.io.load_json_model(m+'.json')\n",
    "    \n",
    "    # export to pickle\n",
    "    outfile = open(m,'wb')\n",
    "    pickle.dump(model,outfile)\n",
    "    outfile.close()"
   ]
  },
  {
   "cell_type": "code",
   "execution_count": 15,
   "metadata": {},
   "outputs": [],
   "source": [
    "import pickle \n",
    "with open('Recon3DModel_301_simple_medium','rb') as f:\n",
    "    M = pickle.load(f)\n",
    "f.close()"
   ]
  },
  {
   "cell_type": "code",
   "execution_count": null,
   "metadata": {},
   "outputs": [],
   "source": []
  }
 ],
 "metadata": {
  "kernelspec": {
   "display_name": "Python 3",
   "language": "python",
   "name": "python3"
  },
  "language_info": {
   "codemirror_mode": {
    "name": "ipython",
    "version": 3
   },
   "file_extension": ".py",
   "mimetype": "text/x-python",
   "name": "python",
   "nbconvert_exporter": "python",
   "pygments_lexer": "ipython3",
   "version": "3.6.1"
  },
  "toc": {
   "nav_menu": {},
   "number_sections": true,
   "sideBar": true,
   "skip_h1_title": false,
   "toc_cell": false,
   "toc_position": {},
   "toc_section_display": "block",
   "toc_window_display": false
  }
 },
 "nbformat": 4,
 "nbformat_minor": 2
}
