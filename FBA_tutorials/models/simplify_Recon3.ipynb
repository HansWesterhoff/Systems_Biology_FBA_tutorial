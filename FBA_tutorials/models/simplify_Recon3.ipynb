{
 "cells": [
  {
   "cell_type": "code",
   "execution_count": 1,
   "metadata": {},
   "outputs": [],
   "source": [
    "import cobra\n",
    "from cobra import Reaction\n",
    "import pandas as pd\n",
    "pd.set_option('display.max_colwidth', -1)\n",
    "import ast"
   ]
  },
  {
   "cell_type": "code",
   "execution_count": 12,
   "metadata": {},
   "outputs": [
    {
     "data": {
      "text/plain": [
       "['Taurine and hypotaurine metabolism',\n",
       " 'Transport, mitochondrial',\n",
       " 'Ubiquinone synthesis',\n",
       " 'Tyrosine metabolism']"
      ]
     },
     "execution_count": 12,
     "metadata": {},
     "output_type": "execute_result"
    }
   ],
   "source": [
    "M = cobra.io.load_json_model('Recon3D_301/Recon3DModel_301_simple_medium.json')\n",
    "\n",
    "M.reactions.GAPD.subsystem"
   ]
  },
  {
   "cell_type": "markdown",
   "metadata": {},
   "source": [
    "# Save JSON model with pythonified IDs and subsystem information"
   ]
  },
  {
   "cell_type": "code",
   "execution_count": 2,
   "metadata": {},
   "outputs": [
    {
     "data": {
      "text/plain": [
       "['Transport, extracellular',\n",
       " 'Transport, mitochondrial',\n",
       " 'Tyrosine metabolism',\n",
       " 'Methionine and cysteine metabolism']"
      ]
     },
     "execution_count": 2,
     "metadata": {},
     "output_type": "execute_result"
    }
   ],
   "source": [
    "M = cobra.io.load_matlab_model('Recon3D_301/Recon3DModel_301.mat') # takes several minutes\n",
    "\n",
    "# fix reaction and metabolite IDs\n",
    "for rxn in M.reactions:\n",
    "    rxn.id = rxn.id.replace('[','_').replace(']','')\n",
    "\n",
    "M.repair()\n",
    "\n",
    "for m in M.metabolites:\n",
    "    m.id = m.id.replace('[','_').replace(']','')\n",
    "\n",
    "M.repair()\n",
    "\n",
    "# add ATPM reaction\n",
    "ATPM = Reaction('ATPM')\n",
    "M.add_reaction(ATPM)\n",
    "M.reactions.ATPM.lower_bound = 0\n",
    "M.reactions.ATPM.add_metabolites({'atp_c':-1.0,'adp_c':1.0,'pi_c':1.0})\n",
    "M.repair()\n",
    "\n",
    "# set objective to full biomass\n",
    "M.reactions.biomass_maintenance.objective_coefficient = 0\n",
    "M.reactions.biomass_reaction.objective_coefficient = 1\n",
    "\n",
    "# Add subsystem information\n",
    "\n",
    "rxn_ss = pd.read_csv('./Recon3D_301/subsystem_data/Recon3_rxn_subsystem.csv',index_col=0).set_index('rxn ID')\n",
    "\n",
    "for rxn in rxn_ss.index:\n",
    "    rxn_updated_id = rxn.replace('[','_').replace(']','')\n",
    "    \n",
    "    ss = ast.literal_eval(rxn_ss.loc[rxn]['subSystem'])\n",
    "    \n",
    "    M.reactions.get_by_id(rxn_updated_id).subsystem = ss\n",
    "    \n",
    "# save\n",
    "cobra.io.save_json_model(M, 'Recon3D_301/Recon3DModel_301_simple_medium.json')\n",
    "\n",
    "M.reactions.RADH.subsystem"
   ]
  },
  {
   "cell_type": "markdown",
   "metadata": {},
   "source": [
    "# Reduce medium + exits\n",
    "Set up a simple medium of glucose, oxygen, essential amino acids and a couple of other metabolites. Block all sinks and DM reactions. "
   ]
  },
  {
   "cell_type": "code",
   "execution_count": 4,
   "metadata": {},
   "outputs": [
    {
     "name": "stdout",
     "output_type": "stream",
     "text": [
      "After changes 0.16888639687627705\n",
      "IN FLUXES        OUT FLUXES     OBJECTIVES\n",
      "---------------  -------------  ----------------------\n",
      "o2_e     2.37    h2o_e  2.82    biomass_reac...  0.169\n",
      "glc_D_e  0.517   co2_e  1.9\n",
      "nh4_e    0.464   ppa_e  0.125\n",
      "pi_e     0.162   so4_e  0.0663\n",
      "his_L_e  0.1\n",
      "leu_L_e  0.1\n",
      "lys_L_e  0.1\n",
      "met_L_e  0.1\n",
      "phe_L_e  0.1\n",
      "val_L_e  0.1\n",
      "ile_L_e  0.0996\n",
      "trp_L_e  0.0652\n",
      "thr_L_e  0.0528\n",
      "ps_hs_e  0.0477\n"
     ]
    }
   ],
   "source": [
    "model = M.copy()\n",
    "\n",
    "# Block sink and demand reactions\n",
    "for rxn in model.reactions:\n",
    "    if 'sink_' in rxn.id or 'DM_' in rxn.id:\n",
    "        rxn.upper_bound = 0\n",
    "        rxn.lower_bound = 0\n",
    "        \n",
    "# set very simple medium that allows growth\n",
    "for rxn in model.reactions:\n",
    "    if 'EX_' in rxn.id:\n",
    "        rxn.upper_bound = 0 # block all outward\n",
    "        rxn.lower_bound = 0\n",
    "        \n",
    "for rxn in ['EX_h2o_e','EX_h_e','EX_co2_e','EX_nh4_e','EX_pi_e','EX_hco3_e','EX_so4_e','EX_o2_e']:\n",
    "    model.reactions.get_by_id(rxn).lower_bound = - 999999\n",
    "\n",
    "for rxn in ['EX_his_L_e','EX_ile_L_e','EX_leu_L_e','EX_lys_L_e','EX_met_L_e','EX_phe_L_e','EX_thr_L_e','EX_trp_L_e','EX_val_L_e',\n",
    "            'EX_ps_hs_e', # phsophatidylserine\n",
    "           ]:\n",
    "    model.reactions.get_by_id(rxn).lower_bound = -0.1\n",
    "    \n",
    "model.reactions.EX_glc_D_e.lower_bound = -1\n",
    "        \n",
    "for rxn in ['EX_h2o_e','EX_h_e','EX_nh4_e','EX_pi_e','EX_so4_e',\n",
    "           'EX_co2_e','EX_lac_D_e','EX_lac_L_e',\n",
    "           'EX_urea_e','EX_acac_e','EX_bhb_e','EX_ppa_e','EX_cyst_L_e' ]: # \n",
    "    model.reactions.get_by_id(rxn).upper_bound = 1000\n",
    "        \n",
    "sol = cobra.flux_analysis.pfba(model)\n",
    "print('After changes',sol.fluxes['biomass_reaction'])\n",
    "model.summary()"
   ]
  },
  {
   "cell_type": "markdown",
   "metadata": {},
   "source": [
    "# Save the model"
   ]
  },
  {
   "cell_type": "code",
   "execution_count": 5,
   "metadata": {},
   "outputs": [],
   "source": [
    "cobra.io.save_json_model(model, 'Recon3D_301/Recon3DModel_301_simple_medium.json')\n",
    "\n",
    "M = cobra.io.load_json_model('Recon3D_301/Recon3DModel_301_simple_medium.json')\n",
    "model = M.copy()"
   ]
  },
  {
   "cell_type": "markdown",
   "metadata": {},
   "source": [
    "# Check oxygen dependence"
   ]
  },
  {
   "cell_type": "code",
   "execution_count": 6,
   "metadata": {},
   "outputs": [
    {
     "name": "stdout",
     "output_type": "stream",
     "text": [
      "<Solution 0.000 at 0x11eec7fd0>\n"
     ]
    }
   ],
   "source": [
    "model.reactions.EX_o2_e.lower_bound = 0\n",
    "print(model.optimize())\n",
    "\n",
    "# model.metabolites.get_by_id('o2_c').summary()"
   ]
  },
  {
   "cell_type": "markdown",
   "metadata": {},
   "source": [
    "## How is ATP generated? \n",
    "### When maximizing ATPM using only glucose and o2"
   ]
  },
  {
   "cell_type": "code",
   "execution_count": 7,
   "metadata": {},
   "outputs": [
    {
     "name": "stdout",
     "output_type": "stream",
     "text": [
      "IN FLUXES       OUT FLUXES    OBJECTIVES\n",
      "--------------  ------------  ------------\n",
      "h_e      31.6   h2o_e  37.8   ATPM  32\n",
      "o2_e      5.91  co2_e   6\n",
      "glc_D_e   1\n",
      "\n",
      "PRODUCING REACTIONS -- Adenosine Triphosphate (atp_c)\n",
      "-----------------------------------------------------\n",
      "%      FLUX  RXN ID    REACTION\n",
      "---  ------  --------  ---------------------------------------\n",
      "94%    58.5  ATPtm     adp_c + atp_m --> adp_m + atp_c\n",
      "3%      2    PGK       3pg_c + atp_c <=> 13dpg_c + adp_c\n",
      "3%      2    PYK       adp_c + h_c + pep_c --> atp_c + pyr_c\n",
      "\n",
      "CONSUMING REACTIONS -- Adenosine Triphosphate (atp_c)\n",
      "-----------------------------------------------------\n",
      "%      FLUX  RXN ID    REACTION\n",
      "---  ------  --------  ---------------------------------------\n",
      "51%    32    ATPM      atp_c --> adp_c + pi_c\n",
      "46%    28.5  DURIK1    atp_c + duri_c --> adp_c + dump_c + h_c\n",
      "2%      1    HEX7      atp_c + fru_c --> adp_c + f6p_c + h_c\n",
      "2%      1    PFK       atp_c + f6p_c --> adp_c + fdp_c + h_c\n",
      "\n",
      "PRODUCING REACTIONS -- Adenosine Triphosphate (atp_m)\n",
      "-----------------------------------------------------\n",
      "%       FLUX  RXN ID    REACTION\n",
      "----  ------  --------  --------------------------------------------------\n",
      "49%     28.5  DCK1m     atp_m + dcyt_m <=> adp_m + dcmp_m + h_m\n",
      "48%     28    ATPS4mi   adp_m + 4.0 h_i + pi_m --> atp_m + h2o_m + 3.0 h_m\n",
      "3%       2    SUCOASm   atp_m + coa_m + succ_m <=> adp_m + pi_m + succoa_m\n",
      "\n",
      "CONSUMING REACTIONS -- Adenosine Triphosphate (atp_m)\n",
      "-----------------------------------------------------\n",
      "%       FLUX  RXN ID    REACTION\n",
      "----  ------  --------  --------------------------------------------------\n",
      "100%    58.5  ATPtm     adp_c + atp_m --> adp_m + atp_c\n"
     ]
    }
   ],
   "source": [
    "model = M.copy()\n",
    "\n",
    "for rxn in ['EX_his_L_e','EX_ile_L_e','EX_leu_L_e','EX_lys_L_e','EX_met_L_e','EX_phe_L_e','EX_thr_L_e','EX_trp_L_e','EX_val_L_e']:\n",
    "    model.reactions.get_by_id(rxn).lower_bound = 0\n",
    "\n",
    "model.objective = model.reactions.ATPM\n",
    "model.optimize()\n",
    "\n",
    "model.summary()\n",
    "print()\n",
    "model.metabolites.atp_c.summary()\n",
    "print()\n",
    "model.metabolites.atp_m.summary()"
   ]
  },
  {
   "cell_type": "markdown",
   "metadata": {},
   "source": [
    "### When maximizing biomass"
   ]
  },
  {
   "cell_type": "code",
   "execution_count": 8,
   "metadata": {},
   "outputs": [
    {
     "name": "stdout",
     "output_type": "stream",
     "text": [
      "IN FLUXES        OUT FLUXES      OBJECTIVES\n",
      "---------------  --------------  ----------------------\n",
      "o2_e     3.22    h2o_e   4.31    biomass_reac...  0.169\n",
      "glc_D_e  1       co2_e   2.74\n",
      "nh4_e    0.436   acac_e  0.55\n",
      "pi_e     0.162   ppa_e   0.102\n",
      "his_L_e  0.1     so4_e   0.0535\n",
      "leu_L_e  0.1\n",
      "lys_L_e  0.1\n",
      "phe_L_e  0.1\n",
      "thr_L_e  0.1\n",
      "val_L_e  0.1\n",
      "trp_L_e  0.0876\n",
      "met_L_e  0.0872\n",
      "ile_L_e  0.0483\n",
      "ps_hs_e  0.0477\n",
      "hco3_e   0.0194\n",
      "\n",
      "PRODUCING REACTIONS -- Adenosine Triphosphate (atp_c)\n",
      "-----------------------------------------------------\n",
      "%      FLUX  RXN ID      REACTION\n",
      "---  ------  ----------  --------------------------------------------------\n",
      "52%  3.84    ATPtm       adp_c + atp_m --> adp_m + atp_c\n",
      "25%  1.83    PGK         3pg_c + atp_c <=> 13dpg_c + adp_c\n",
      "23%  1.71    PYK         adp_c + h_c + pep_c --> atp_c + pyr_c\n",
      "\n",
      "CONSUMING REACTIONS -- Adenosine Triphosphate (atp_c)\n",
      "-----------------------------------------------------\n",
      "%      FLUX  RXN ID      REACTION\n",
      "---  ------  ----------  --------------------------------------------------\n",
      "47%  3.5     biomass...  0.505626 ala_L_c + 0.35926 arg_L_c + 0.279425 a...\n",
      "13%  0.947   HEX7        atp_c + fru_c --> adp_c + f6p_c + h_c\n",
      "13%  0.923   PFK         atp_c + f6p_c --> adp_c + fdp_c + h_c\n",
      "7%   0.521   ATPM        atp_c --> adp_c + pi_c\n",
      "5%   0.35    ADK1        amp_c + atp_c <=> 2.0 adp_c\n",
      "2%   0.161   GLNS        atp_c + glu_L_c + nh4_c --> adp_c + gln_L_c + h...\n",
      "2%   0.13    ADNK1       adn_c + atp_c --> adp_c + amp_c + h_c\n",
      "1%   0.0871  METAT       atp_c + h2o_c + met_L_c --> amet_c + pi_c + ppi_c\n",
      "1%   0.0607  ARGSS       asp_L_c + atp_c + citr_L_c --> amp_c + argsuc_c...\n",
      "1%   0.0534  NDPK9       atp_c + idp_c <=> adp_c + itp_c\n",
      "1%   0.0477  PSFLIP      atp_c + h2o_c + ps_hs_e --> adp_c + h_c + pi_c ...\n",
      "1%   0.0473  ACS         ac_c + atp_c + coa_c --> accoa_c + amp_c + ppi_c\n",
      "1%   0.0472  ASNS1       asp_L_c + atp_c + gln_L_c + h2o_c --> amp_c + a...\n",
      "1%   0.0427  FMNAT       atp_c + fmn_c + h_c --> fad_c + ppi_c\n",
      "1%   0.0427  RBFK        atp_c + ribflv_c --> adp_c + fmn_c + h_c\n",
      "1%   0.0388  CBPS        2.0 atp_c + gln_L_c + h2o_c + hco3_c --> 2.0 ad...\n",
      "1%   0.0385  FACOAL180i  atp_c + coa_c + ocdca_c --> amp_c + ppi_c + stc...\n",
      "1%   0.0385  SPHK21c     atp_c + sphings_c --> adp_c + h_c + sphs1p_c\n",
      "1%   0.0385  NICRNS      atp_c + nicrns_c --> adp_c + h_c + nicrnt_c\n",
      "0%   0.0343  CYTK1       atp_c + cmp_c <=> adp_c + cdp_c\n",
      "0%   0.0309  CYTK2       atp_c + dcmp_c <=> adp_c + dcdp_c\n",
      "0%   0.0217  UMPK        atp_c + ump_c <=> adp_c + udp_c\n",
      "0%   0.0207  DPMVDc      5dpmev_c + atp_c --> adp_c + co2_c + ipdp_c + pi_c\n",
      "0%   0.0207  PMEVKc      5pmev_c + atp_c --> 5dpmev_c + adp_c\n",
      "0%   0.0207  MEVK1c      atp_c + mev_R_c --> 5pmev_c + adp_c + h_c\n",
      "0%   0.0191  PRAGSr      atp_c + gly_c + pram_c --> adp_c + gar_c + h_c ...\n",
      "0%   0.0191  r0666       atp_c + fpram_c --> adp_c + air_c + 2.0 h_c + pi_c\n",
      "0%   0.0191  PRASCS      5aizc_c + asp_L_c + atp_c --> 25aics_c + adp_c ...\n",
      "0%   0.0191  PRFGS       atp_c + fgam_c + gln_L_c + h2o_c --> adp_c + fp...\n",
      "\n",
      "PRODUCING REACTIONS -- Adenosine Triphosphate (atp_m)\n",
      "-----------------------------------------------------\n",
      "%       FLUX  RXN ID    REACTION\n",
      "----  ------  --------  --------------------------------------------------\n",
      "100%  6.75    ATPS4mi   adp_m + 4.0 h_i + pi_m --> atp_m + h2o_m + 3.0 h_m\n",
      "\n",
      "CONSUMING REACTIONS -- Adenosine Triphosphate (atp_m)\n",
      "-----------------------------------------------------\n",
      "%       FLUX  RXN ID    REACTION\n",
      "----  ------  --------  --------------------------------------------------\n",
      "57%   3.84    ATPtm     adp_c + atp_m --> adp_m + atp_c\n",
      "35%   2.35    PCm       atp_m + hco3_m + pyr_m --> adp_m + h_m + oaa_m ...\n",
      "6%    0.387   ACCOACm   accoa_m + atp_m + hco3_m --> adp_m + h_m + malc...\n",
      "2%    0.121   CBPSam    2.0 atp_m + hco3_m + nh4_m --> 2.0 adp_m + cbp_...\n",
      "1%    0.0381  FTHFLm    atp_m + for_m + thf_m --> 10fthf_m + adp_m + pi_m\n"
     ]
    }
   ],
   "source": [
    "model = M.copy()\n",
    "\n",
    "model.optimize()\n",
    "\n",
    "model.summary()\n",
    "print()\n",
    "model.metabolites.atp_c.summary()\n",
    "print()\n",
    "model.metabolites.atp_m.summary()"
   ]
  },
  {
   "cell_type": "markdown",
   "metadata": {},
   "source": [
    "## How does the model behave under oxygen limitation? "
   ]
  },
  {
   "cell_type": "code",
   "execution_count": 9,
   "metadata": {},
   "outputs": [
    {
     "name": "stdout",
     "output_type": "stream",
     "text": [
      "IN FLUXES         OUT FLUXES        OBJECTIVES\n",
      "----------------  ----------------  -----------------------\n",
      "glc_D_e  1        h_e      1.81     biomass_reac...  0.0787\n",
      "nh4_e    0.207    lac_L_e  1.55\n",
      "his_L_e  0.1      h2o_e    0.427\n",
      "o2_e     0.1      co2_e    0.104\n",
      "pi_e     0.0762   acac_e   0.0695\n",
      "lys_L_e  0.0466   ppa_e    0.00367\n",
      "leu_L_e  0.0429\n",
      "phe_L_e  0.033\n",
      "val_L_e  0.0278\n",
      "thr_L_e  0.0246\n",
      "ile_L_e  0.0225\n",
      "ps_hs_e  0.0216\n",
      "met_L_e  0.0157\n",
      "trp_L_e  0.00105\n",
      "\n",
      "PRODUCING REACTIONS -- Adenosine Triphosphate (atp_c)\n",
      "-----------------------------------------------------\n",
      "%      FLUX  RXN ID      REACTION\n",
      "---  ------  ----------  --------------------------------------------------\n",
      "48%  1.92    PGK         3pg_c + atp_c <=> 13dpg_c + adp_c\n",
      "47%  1.87    PYK         adp_c + h_c + pep_c --> atp_c + pyr_c\n",
      "5%   0.221   ATPtm       adp_c + atp_m --> adp_m + atp_c\n",
      "\n",
      "CONSUMING REACTIONS -- Adenosine Triphosphate (atp_c)\n",
      "-----------------------------------------------------\n",
      "%      FLUX  RXN ID      REACTION\n",
      "---  ------  ----------  --------------------------------------------------\n",
      "41%  1.63    biomass...  0.505626 ala_L_c + 0.35926 arg_L_c + 0.279425 a...\n",
      "24%  0.965   TRIOK       atp_c + glyald_c --> adp_c + g3p_c + h_c\n",
      "24%  0.965   KHK         atp_c + fru_c --> adp_c + f1p_c + h_c\n",
      "2%   0.0965  ADK1        amp_c + atp_c <=> 2.0 adp_c\n",
      "2%   0.0745  GLNS        atp_c + glu_L_c + nh4_c --> adp_c + gln_L_c + h...\n",
      "1%   0.0575  NICRNS      atp_c + nicrns_c --> adp_c + h_c + nicrnt_c\n",
      "1%   0.0406  METAT       atp_c + h2o_c + met_L_c --> amet_c + pi_c + ppi_c\n",
      "1%   0.0283  ARGSS       asp_L_c + atp_c + citr_L_c --> amp_c + argsuc_c...\n",
      "1%   0.0235  HEX1        atp_c + glc_D_c --> adp_c + g6p_c + h_c\n",
      "1%   0.022   ASNS1       asp_L_c + atp_c + gln_L_c + h2o_c --> amp_c + a...\n",
      "0%   0.0181  CBPS        2.0 atp_c + gln_L_c + h2o_c + hco3_c --> 2.0 ad...\n",
      "0%   0.012   HEX7        atp_c + fru_c --> adp_c + f6p_c + h_c\n",
      "0%   0.0101  UMPK        atp_c + ump_c <=> adp_c + udp_c\n",
      "\n",
      "PRODUCING REACTIONS -- Adenosine Triphosphate (atp_m)\n",
      "-----------------------------------------------------\n",
      "%       FLUX  RXN ID    REACTION\n",
      "----  ------  --------  --------------------------------------------------\n",
      "100%  0.378   ATPS4mi   adp_m + 4.0 h_i + pi_m --> atp_m + h2o_m + 3.0 h_m\n",
      "\n",
      "CONSUMING REACTIONS -- Adenosine Triphosphate (atp_m)\n",
      "-----------------------------------------------------\n",
      "%       FLUX  RXN ID    REACTION\n",
      "----  ------  --------  --------------------------------------------------\n",
      "58%   0.221   ATPtm     adp_c + atp_m --> adp_m + atp_c\n",
      "23%   0.0855  PCm       atp_m + hco3_m + pyr_m --> adp_m + h_m + oaa_m ...\n",
      "15%   0.0566  CBPSam    2.0 atp_m + hco3_m + nh4_m --> 2.0 adp_m + cbp_...\n"
     ]
    }
   ],
   "source": [
    "model = M.copy()\n",
    "\n",
    "model.reactions.EX_o2_e.lower_bound = -0.1\n",
    "sol = cobra.flux_analysis.pfba(model)\n",
    "\n",
    "model.summary()\n",
    "print()\n",
    "model.metabolites.atp_c.summary()\n",
    "print()\n",
    "model.metabolites.atp_m.summary()"
   ]
  }
 ],
 "metadata": {
  "kernelspec": {
   "display_name": "Python 3",
   "language": "python",
   "name": "python3"
  },
  "language_info": {
   "codemirror_mode": {
    "name": "ipython",
    "version": 3
   },
   "file_extension": ".py",
   "mimetype": "text/x-python",
   "name": "python",
   "nbconvert_exporter": "python",
   "pygments_lexer": "ipython3",
   "version": "3.6.1"
  }
 },
 "nbformat": 4,
 "nbformat_minor": 2
}
