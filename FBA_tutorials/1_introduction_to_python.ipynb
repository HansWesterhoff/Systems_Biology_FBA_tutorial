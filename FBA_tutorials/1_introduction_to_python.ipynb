{
 "cells": [
  {
   "cell_type": "markdown",
   "metadata": {},
   "source": [
    "# A crash course in Python \n",
    "<p>**Authors**: Thierry D.G.A Mondeel, Stefania Astrologo, Ewelina Weglarz-Tomczak & Hans V. Westerhoff <br/>\n",
    "University of Amsterdam <br/>2016 - 2018\n",
    "</p>\n",
    "\n",
    "**Acknowledgements:**\n",
    "This tutorial is inspired in part by a collection of parts from various notebooks on the web. Some links to the originals provided below:\n",
    "\n",
    "* [Learning IPython for Interactive Computing and Data Visualization, second edition](http://ipython-books.github.io/minibook/).**\n",
    "* https://github.com/rajathkumarmp/Python-Lectures\n",
    "* http://nbviewer.jupyter.org/urls/bitbucket.org/amjoconn/watpy-learning-to-code-with-python/raw/3441274a54c7ff6ff3e37285aafcbbd8cb4774f0/notebook/Learn%20to%20Code%20with%20Python.ipynb"
   ]
  },
  {
   "cell_type": "markdown",
   "metadata": {},
   "source": [
    "<span style=\"color:red\">**Assignment (1 sec):**</span> Execute the cell below. Don't worry about what it means."
   ]
  },
  {
   "cell_type": "code",
   "execution_count": null,
   "metadata": {},
   "outputs": [],
   "source": [
    "from IPython.core.interactiveshell import InteractiveShell\n",
    "InteractiveShell.ast_node_interactivity = \"all\""
   ]
  },
  {
   "cell_type": "markdown",
   "metadata": {},
   "source": [
    "## The goal of this notebook\n",
    "The goal here is **not** to give you a complete introduction to python. There are separete university courses for this that fill a semester. \n",
    "\n",
    "We just want you to be familiar enough to be able to interact with prewritten Python code to do FBA calculations later on in the tutorial."
   ]
  },
  {
   "cell_type": "markdown",
   "metadata": {},
   "source": [
    "![title](https://imgs.xkcd.com/comics/python.png)"
   ]
  },
  {
   "cell_type": "markdown",
   "metadata": {},
   "source": [
    "## Some properties of [Python](http://www.python.org)\n",
    "* Python is a modern programming language developed in the early 1990s by Guido van Rossum -> A Dutch guy! (https://en.wikipedia.org/wiki/Guido_van_Rossum) \n",
    "* Beginner Friendly\n",
    "* Easy to understand and read\n",
    "* It is free\n",
    "* Its use is pervasive in computational biology "
   ]
  },
  {
   "cell_type": "markdown",
   "metadata": {
    "heading_collapsed": true
   },
   "source": [
    "## Printing text in python"
   ]
  },
  {
   "cell_type": "code",
   "execution_count": null,
   "metadata": {
    "hidden": true
   },
   "outputs": [],
   "source": [
    "print(\"The classic view of the central dogma of biology states that \\\n",
    "'the coded genetic information hard-wired into DNA is transcribed into \\\n",
    "individual transportable cassettes, composed of messenger RNA (mRNA); \\\n",
    "each mRNA cassette contains the program for synthesis of a particular \\\n",
    "protein (or small number of proteins).'\")"
   ]
  },
  {
   "cell_type": "markdown",
   "metadata": {
    "hidden": true
   },
   "source": [
    "<span style=\"color:red\">**Assignment (1 min):**</span> print the name of your favorite protein below. "
   ]
  },
  {
   "cell_type": "code",
   "execution_count": null,
   "metadata": {},
   "outputs": [],
   "source": []
  },
  {
   "cell_type": "markdown",
   "metadata": {},
   "source": [
    "Congratulations! You are now a Python programmer."
   ]
  },
  {
   "cell_type": "markdown",
   "metadata": {},
   "source": [
    "## Numbers matter in biology\n",
    "<span style=\"color:red\">**Assignment (1 min):**</span> Take a look at the website of [Bionumbers](http://bionumbers.hms.harvard.edu/KeyNumbers.aspx)\n",
    "\n",
    "Luckily we can use Python as a calculator.\n",
    "\n",
    "Below we show some examples. Do you understand what each one does? \n",
    "\n",
    "> TIP (Division): In Python 3, `3 / 2` returns `1.5` (floating-point division). `3 // 2` for integer division."
   ]
  },
  {
   "cell_type": "code",
   "execution_count": null,
   "metadata": {
    "hidden": true
   },
   "outputs": [],
   "source": [
    "2 * 2\n",
    "3/2\n",
    "3//2 # integer division\n",
    "6%2\n",
    "8%3\n",
    "2**5"
   ]
  },
  {
   "cell_type": "markdown",
   "metadata": {
    "hidden": true
   },
   "source": [
    "Python's built-in mathematical operators include `+`, `-`, `*`, `**`, for exponentiation, `/` for division, `//` for integer division (without rest), `%` for division but giving you the rest."
   ]
  },
  {
   "cell_type": "markdown",
   "metadata": {},
   "source": [
    "<span style=\"color:red\">**Assignment (3 min):**</span> \n",
    "According to [Bionumbers](http://bionumbers.hms.harvard.edu/KeyNumbers.aspx) e. coli has a volume of up to $5~\\mu m^3$ and yeast has a volume of up to $160~\\mu m^3$\n",
    "\n",
    "Calculate in the cell below how many times bigger the volume of yeast is compared to e. coli."
   ]
  },
  {
   "cell_type": "code",
   "execution_count": null,
   "metadata": {},
   "outputs": [],
   "source": []
  },
  {
   "cell_type": "markdown",
   "metadata": {},
   "source": [
    "<span style=\"color:red\">**Assignment (3 min):**</span> Using [Bionumbers](http://bionumbers.hms.harvard.edu/KeyNumbers.aspx) find the \"average protein diameter\" and the \"diameter of a yeast cell\". Then calculate how many \"average proteins\" you could theoretically lay side by side in a yeast cell. **Neglect any aspects of folding or interactions.** Just divide one number by the other."
   ]
  },
  {
   "cell_type": "code",
   "execution_count": null,
   "metadata": {},
   "outputs": [],
   "source": []
  },
  {
   "cell_type": "markdown",
   "metadata": {
    "hidden": true
   },
   "source": [
    "## Variables\n",
    "Variables form a fundamental concept of any programming language. A variable has a name and a value. Here is how to create a new variable in Python:"
   ]
  },
  {
   "cell_type": "code",
   "execution_count": null,
   "metadata": {
    "hidden": true
   },
   "outputs": [],
   "source": [
    "avogadro = 6e23\n",
    "print('How many molecules are contained in a mole? Answer:',avogadro,'molecules.')"
   ]
  },
  {
   "cell_type": "markdown",
   "metadata": {
    "hidden": true
   },
   "source": [
    "And here is how to use an existing variable:"
   ]
  },
  {
   "cell_type": "code",
   "execution_count": null,
   "metadata": {
    "hidden": true
   },
   "outputs": [],
   "source": [
    "print('How many molecules in 2 moles? Answer:',2*avogadro,'molecules')"
   ]
  },
  {
   "cell_type": "markdown",
   "metadata": {
    "heading_collapsed": true
   },
   "source": [
    "<span style=\"color:red\">**Assignment (2 min):**</span> \n",
    "* Look up the molar mass of water ($H_2O$) \n",
    "* Use the avogadro number to calculate and print the number of molecules in 1L of water"
   ]
  },
  {
   "cell_type": "code",
   "execution_count": null,
   "metadata": {},
   "outputs": [],
   "source": []
  },
  {
   "cell_type": "markdown",
   "metadata": {},
   "source": [
    "## Getting help in the notebook\n",
    "When you want to know what a command or function does you can type a question mark in front of the command."
   ]
  },
  {
   "cell_type": "code",
   "execution_count": null,
   "metadata": {},
   "outputs": [],
   "source": [
    "import math # load some common mathematical operations\n",
    "math.sqrt"
   ]
  },
  {
   "cell_type": "markdown",
   "metadata": {},
   "source": [
    "When a command requires input arguments, as for math.sqrt(put a number here), a handy keyboard shortcut is Shift-Tab.\n",
    "A tooltip will light up showing you the various arguments you can pass to the command.\n",
    "\n",
    "<span style=\"color:red\">**Assignment (2 min):**</span> Ask for help on the \"math.sqrt\" command using the Shift-Tab method described above. Start by typing math.sqrt below and then press Shift-Tab. "
   ]
  },
  {
   "cell_type": "markdown",
   "metadata": {},
   "source": [
    "## Finding functions that belong to an object or are part of a module: What kind of methods does math contain?\n",
    "When we import a library like \"math\", which we did at the top of the notebook, this library will contain many different functions like sqrt above. If you want to find out which ones type \"math.\" (notice the dot!) and then press \"TAB\". \n",
    "\n",
    "<span style=\"color:red\">**Assignment (3 min):**</span> Use the TAB key to find out some other math functions and play around with them maybe look at the help file."
   ]
  },
  {
   "cell_type": "code",
   "execution_count": null,
   "metadata": {},
   "outputs": [],
   "source": []
  },
  {
   "cell_type": "markdown",
   "metadata": {
    "hidden": true
   },
   "source": [
    "There are different types of variables. Here, we have used a number (more precisely, an **integer**). Other important types include **floating-point numbers** to represent real numbers, **strings** to represent text, and **booleans** to represent `True/False` values. Here are a few examples:"
   ]
  },
  {
   "cell_type": "code",
   "execution_count": null,
   "metadata": {
    "hidden": true
   },
   "outputs": [],
   "source": [
    "somefloat = 3.1415\n",
    "sometext = 'pi is about'  # You can also use double quotes.\n",
    "print(sometext, somefloat)  # Display several variables.\n",
    "I_am_true = False\n",
    "I_am_true "
   ]
  },
  {
   "cell_type": "markdown",
   "metadata": {
    "hidden": true
   },
   "source": [
    "Note how we used the `#` character to write **comments**. Whereas Python discards the comments completely, adding comments in the code is important when the code is to be read by other humans (including yourself in the future)."
   ]
  },
  {
   "cell_type": "markdown",
   "metadata": {},
   "source": [
    "<span style=\"color:red\">**Assignment (3 min):**</span>\n",
    "Make your own piece of text, i.e. your name and age and print it to the screen. Do not just write a string a text, make your age a variable like pi in the example above. "
   ]
  },
  {
   "cell_type": "code",
   "execution_count": null,
   "metadata": {},
   "outputs": [],
   "source": []
  },
  {
   "cell_type": "markdown",
   "metadata": {
    "heading_collapsed": true
   },
   "source": [
    "## Murphy's law: (In a tutorial) Anything that can go wrong will go wrong\n",
    "When you write something Python doesn't understand it throws an exception and tries to explain what went wrong, but it can only speak in a broken Pythonesque english. \n",
    "\n",
    "Let's see some examples by running these code blocks. This is helpful later on because you will likely encounter (and produce) some errors."
   ]
  },
  {
   "cell_type": "code",
   "execution_count": null,
   "metadata": {
    "hidden": true
   },
   "outputs": [],
   "source": [
    "gibberish"
   ]
  },
  {
   "cell_type": "code",
   "execution_count": null,
   "metadata": {
    "hidden": true
   },
   "outputs": [],
   "source": [
    "*adsflf_"
   ]
  },
  {
   "cell_type": "code",
   "execution_count": null,
   "metadata": {
    "hidden": true
   },
   "outputs": [],
   "source": [
    "print('Hello'"
   ]
  },
  {
   "cell_type": "code",
   "execution_count": null,
   "metadata": {
    "hidden": true
   },
   "outputs": [],
   "source": [
    "1_my_variable_starting_with_a_number = 1"
   ]
  },
  {
   "cell_type": "code",
   "execution_count": null,
   "metadata": {
    "hidden": true
   },
   "outputs": [],
   "source": [
    "2000 / 0"
   ]
  },
  {
   "cell_type": "markdown",
   "metadata": {
    "hidden": true
   },
   "source": [
    "Python tries to tell you where it stopped understanding, but in the above examples, each program is only 1 line long.\n",
    "\n",
    "It also tries to show you where on the line the problem happened with caret (\"^\").\n",
    "\n",
    "Finally it tells you the type of thing that went wrong, (NameError, SyntaxError, ZeroDivisionError) and a bit more information like \"name 'gibberish' is not defined\" or \"unexpected EOF while parsing\".\n",
    "\n",
    "Unfortunately you might not find \"unexpected EOF while parsing\" too helpful. EOF stands for End of File, but what file? What is parsing? Python does it's best, but it does take a bit of time to develop a knack for what these messages mean. If you run into an error you don't understand please ask a tutor."
   ]
  },
  {
   "cell_type": "markdown",
   "metadata": {},
   "source": [
    "## Types of variables in python\n",
    "When you define a variable in python it has a type. Above we dealt with numbers which are of type ... Below we briefly introduce the other types you might see in the rest of the tutorial. \n",
    "\n",
    "Simply put there is text, i.e. strings, and two kinds of containers, e.g. lists and dictionaries. "
   ]
  },
  {
   "cell_type": "markdown",
   "metadata": {},
   "source": [
    "### The Written Word, i.e. strings\n",
    "\n",
    "Numbers are great... but most of our day to day computing needs involves text, from emails to tweets to documents. Or in biology: DNA sequences, chemical formulas, hyperlinks between databases etc.\n",
    "\n",
    "We have already seen a couple strings in Python. Programmers call text *strings* because they are weird like that. From now on we will only refer to strings, but we just mean pieces of text inside our code."
   ]
  },
  {
   "cell_type": "code",
   "execution_count": null,
   "metadata": {},
   "outputs": [],
   "source": [
    "\"Hello, World!\""
   ]
  },
  {
   "cell_type": "markdown",
   "metadata": {},
   "source": [
    "Strings are surrounded by quotes. Without the quotes Hello by itself would be viewed as a variable name.\n",
    "\n",
    "You can use either double quotes (\") or single quotes (') for text/strings. As we saw before we can also save text in variables.\n",
    "\n",
    "Let's use strings with variables!"
   ]
  },
  {
   "cell_type": "code",
   "execution_count": null,
   "metadata": {},
   "outputs": [],
   "source": [
    "your_name = \"James Watson\"\n",
    "print(\"Hello,\",your_name)"
   ]
  },
  {
   "cell_type": "markdown",
   "metadata": {},
   "source": [
    "Strings in Python are a bit more complicated because the operations on them aren't just + and * (though those are valid operations)."
   ]
  },
  {
   "cell_type": "markdown",
   "metadata": {},
   "source": [
    "## Dot notation and object oriented programming\n",
    "Python, like many programming languages, supports Object Oriented Programming or OOP for short. In this paradigm, we approach ideas as Objects much as we do in the real world. Each Object is an instance of a Class or a type of object. Such an object may have certain properties or function that can be applied to them. \n",
    "\n",
    "So what does all this have to do with dot notation? Dot notation allows us to tell a instance of a class to use one of the functions inside that class. That is why we access the sqrt function from the math module with the dot. And why we access the 'upper' function of a string as my_string.upper()"
   ]
  },
  {
   "cell_type": "markdown",
   "metadata": {},
   "source": [
    "<span style=\"color:red\">**Assignment (2 min):**</span> Below, after your_string, type a dot and press Tab. You will get a list of function you can apply to the string. Pick any command that seems interesting to you. \n",
    "\n",
    "**Note** that you have to define a string first to be able to get help. So first execute the cell so that the variable your_string is known. Then using the Tab key find one of your choice. \n",
    "\n",
    "**Note:** The point here is just to get you comfortable with the dot notation and finding functions and properties of objects."
   ]
  },
  {
   "cell_type": "code",
   "execution_count": null,
   "metadata": {},
   "outputs": [],
   "source": [
    "your_string = 'something'\n",
    "your_string"
   ]
  },
  {
   "cell_type": "markdown",
   "metadata": {
    "heading_collapsed": true
   },
   "source": [
    "## Lists"
   ]
  },
  {
   "cell_type": "markdown",
   "metadata": {
    "hidden": true
   },
   "source": [
    "A list contains a sequence of items. You can concisely instruct Python to perform repeated actions on the elements of a list. Let's first create a list of numbers:"
   ]
  },
  {
   "cell_type": "code",
   "execution_count": null,
   "metadata": {
    "hidden": true
   },
   "outputs": [],
   "source": [
    "items = [1, 3, 0, 4, 1]"
   ]
  },
  {
   "cell_type": "markdown",
   "metadata": {
    "hidden": true
   },
   "source": [
    "Note the syntax we used to create the list: square brackets `[]`, and commas `,` to separate the items.\n",
    "\n",
    "The *built-in* function `len()` returns the number of elements in a list:"
   ]
  },
  {
   "cell_type": "code",
   "execution_count": null,
   "metadata": {
    "hidden": true
   },
   "outputs": [],
   "source": [
    "len(items)"
   ]
  },
  {
   "cell_type": "markdown",
   "metadata": {
    "hidden": true
   },
   "source": [
    "We can also access individual elements in the list, using the following syntax:"
   ]
  },
  {
   "cell_type": "code",
   "execution_count": null,
   "metadata": {
    "hidden": true
   },
   "outputs": [],
   "source": [
    "items[0]\n",
    "\n",
    "items[-1] "
   ]
  },
  {
   "cell_type": "markdown",
   "metadata": {
    "hidden": true
   },
   "source": [
    "Note that indexing starts at `0` in Python: the first element of the list is indexed by `0`, the second by `1`, and so on. Also, `-1` refers to the last element, `-2`, to the penultimate element, and so on."
   ]
  },
  {
   "cell_type": "markdown",
   "metadata": {
    "hidden": true
   },
   "source": [
    "The same syntax can be used to alter elements in the list:"
   ]
  },
  {
   "cell_type": "code",
   "execution_count": null,
   "metadata": {
    "hidden": true
   },
   "outputs": [],
   "source": [
    "items[1] = 9\n",
    "items"
   ]
  },
  {
   "cell_type": "markdown",
   "metadata": {
    "hidden": true
   },
   "source": [
    "We can access sublists with the following syntax:"
   ]
  },
  {
   "cell_type": "code",
   "execution_count": null,
   "metadata": {
    "hidden": true
   },
   "outputs": [],
   "source": [
    "items[1:3]"
   ]
  },
  {
   "cell_type": "markdown",
   "metadata": {
    "hidden": true
   },
   "source": [
    "Here, `1:3` represents a **slice** going from element `1` _included_ (this is the second element of the list) to element `3` _excluded_. Thus, we get a sublist with the second and third element of the original list. The first-included/last-excluded asymmetry leads to an intuitive treatment of overlaps between consecutive slices. Also, note that a sublist refers to a dynamic *view* of the original list, not a copy; changing elements in the sublist automatically changes them in the original list."
   ]
  },
  {
   "cell_type": "markdown",
   "metadata": {},
   "source": [
    "<span style=\"color:red\">**Assignment (3 min):**</span> In the code cell below make a list of the first 10 prime numbers: https://en.wikipedia.org/wiki/Prime_number. Use the sum() function to figure out the sum of the first 10 prime numbers. "
   ]
  },
  {
   "cell_type": "code",
   "execution_count": null,
   "metadata": {},
   "outputs": [],
   "source": []
  },
  {
   "cell_type": "markdown",
   "metadata": {},
   "source": [
    "<span style=\"color:red\">**Assignment (1 min):**</span>\n",
    "Print the second-to-last prime number from your list to the screen. "
   ]
  },
  {
   "cell_type": "code",
   "execution_count": null,
   "metadata": {},
   "outputs": [],
   "source": []
  },
  {
   "cell_type": "markdown",
   "metadata": {
    "hidden": true
   },
   "source": [
    "## Dictionaries\n",
    "Dictionaries contain key-value pairs. They are extremely useful and common. They allow you to map, or point, **keys** to **values**. In the example below the letters a,b,c are now pointing to the numbers 1,2,3. \n",
    "\n",
    "For a flux balance analysis application of a dictionary, you can think of a dictionary that points each of the reactions in a network to its flux in the FBA solution. \n",
    "\n",
    "You can access the **value** a certain **key** points to with square bracket notation:"
   ]
  },
  {
   "cell_type": "code",
   "execution_count": null,
   "metadata": {
    "hidden": true
   },
   "outputs": [],
   "source": [
    "my_dict = {'a': 1, 'b': 2, 'c': 3}\n",
    "print('a:', my_dict['a'])"
   ]
  },
  {
   "cell_type": "code",
   "execution_count": null,
   "metadata": {
    "hidden": true
   },
   "outputs": [],
   "source": [
    "list(my_dict.keys())"
   ]
  },
  {
   "cell_type": "markdown",
   "metadata": {},
   "source": [
    "The keys in a dictionary can be anything including numbers"
   ]
  },
  {
   "cell_type": "code",
   "execution_count": null,
   "metadata": {},
   "outputs": [],
   "source": [
    "my_dict = {18: 1, 23: 2, 0: 3}\n",
    "my_dict[18]"
   ]
  },
  {
   "cell_type": "markdown",
   "metadata": {},
   "source": [
    "<span style=\"color:red\">**Assignment (1 min):**</span> Make your own dictionary. For yourself and a friend add a 'key' to the dictionary, the name of the person, and a value, the age of the person. Then print the dictionary to the screen."
   ]
  },
  {
   "cell_type": "code",
   "execution_count": null,
   "metadata": {},
   "outputs": [],
   "source": []
  },
  {
   "cell_type": "markdown",
   "metadata": {
    "heading_collapsed": true
   },
   "source": [
    "## for loops"
   ]
  },
  {
   "cell_type": "markdown",
   "metadata": {
    "hidden": true
   },
   "source": [
    "We can run through all elements of a list using a `for` loop:"
   ]
  },
  {
   "cell_type": "code",
   "execution_count": null,
   "metadata": {},
   "outputs": [],
   "source": [
    "a_list = [1,2,3,4,5,6]\n",
    "for number in a_list:\n",
    "    number"
   ]
  },
  {
   "cell_type": "markdown",
   "metadata": {},
   "source": [
    "* Note that the for loop steps in sequence through the numbers in the list. \n",
    "* Every loop, the variable number is assigned the value of the next number in the list\n",
    "* You may call this variable number whatever you wish. As long as you also change it in the third line\n",
    "\n",
    "As a more complex example, we can also loop over the **keys** of a dictionary. "
   ]
  },
  {
   "cell_type": "code",
   "execution_count": null,
   "metadata": {
    "hidden": true
   },
   "outputs": [],
   "source": [
    "genome_sizes = {'e. coli':5,'yeast':12,'human':2.9e3} # dictionary\n",
    "\n",
    "print('A list of genome-sizes in #Mbp:')\n",
    "\n",
    "for organism in genome_sizes.keys():\n",
    "    print(organism,genome_sizes[organism])"
   ]
  },
  {
   "cell_type": "markdown",
   "metadata": {
    "hidden": true
   },
   "source": [
    "There are several things to note here:"
   ]
  },
  {
   "cell_type": "markdown",
   "metadata": {
    "hidden": true
   },
   "source": [
    "* The `for organism in genome_sizes.keys()` syntax means that a temporary variable named `organism` is created at every iteration. This variable contains the value of every item in the list, one at a time.\n",
    "* Note the colon `:` at the end of the `for` statement. Forgetting it will lead to a syntax error!\n",
    "* The  `print` statement will be executed for all items in the list.\n",
    "* Note the four spaces before `print`: this is called the **indentation**. You will find more details about indentation in the next subsection."
   ]
  },
  {
   "cell_type": "markdown",
   "metadata": {},
   "source": [
    "<span style=\"color:red\">**Assignment (3 min):**</span> Write your own for loop that prints each element of your list of 10 prime numbers divided by 2 separately to the screen. "
   ]
  },
  {
   "cell_type": "code",
   "execution_count": null,
   "metadata": {},
   "outputs": [],
   "source": []
  },
  {
   "cell_type": "markdown",
   "metadata": {
    "heading_collapsed": true
   },
   "source": [
    "## List comprehensions: for loops in one line"
   ]
  },
  {
   "cell_type": "markdown",
   "metadata": {
    "hidden": true
   },
   "source": [
    "Python supports a concise syntax to perform a given operation on all elements of a list using for loops:"
   ]
  },
  {
   "cell_type": "code",
   "execution_count": null,
   "metadata": {
    "hidden": true
   },
   "outputs": [],
   "source": [
    "items = [1,2,3,4,5,6]\n",
    "squares = [item * item for item in items]\n",
    "squares"
   ]
  },
  {
   "cell_type": "markdown",
   "metadata": {
    "hidden": true
   },
   "source": [
    "This is called a **list comprehension**. A new list is created here; it contains the squares of all numbers in the list. This concise syntax leads to highly readable and *Pythonic* code."
   ]
  },
  {
   "cell_type": "markdown",
   "metadata": {},
   "source": [
    "<span style=\"color:red\">**Assignment (3 min):**</span> Write a list comprehension that calculates the square of each of the first 10 prime numbers. Start from the example above but loop over the list of prime numbers you defined above."
   ]
  },
  {
   "cell_type": "code",
   "execution_count": null,
   "metadata": {},
   "outputs": [],
   "source": []
  },
  {
   "cell_type": "markdown",
   "metadata": {},
   "source": [
    "# Now that you are a Python genius we can move on to flux balance analysis!"
   ]
  }
 ],
 "metadata": {
  "kernelspec": {
   "display_name": "Python 3",
   "language": "python",
   "name": "python3"
  },
  "language_info": {
   "codemirror_mode": {
    "name": "ipython",
    "version": 3
   },
   "file_extension": ".py",
   "mimetype": "text/x-python",
   "name": "python",
   "nbconvert_exporter": "python",
   "pygments_lexer": "ipython3",
   "version": "3.6.1"
  },
  "toc": {
   "nav_menu": {},
   "number_sections": true,
   "sideBar": true,
   "skip_h1_title": false,
   "toc_cell": false,
   "toc_position": {},
   "toc_section_display": "block",
   "toc_window_display": false
  }
 },
 "nbformat": 4,
 "nbformat_minor": 2
}
