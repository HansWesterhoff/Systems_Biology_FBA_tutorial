{
 "cells": [
  {
   "cell_type": "markdown",
   "metadata": {},
   "source": [
    "## Introduction to the jupyter notebook\n",
    "**Authors**: Thierry D.G.A Mondeel (largely), Stefania Astrologo, Ewelina Weglarz-Tomczak & Hans V. Westerhoff <br/>\n",
    "University of Amsterdam <br/>\n",
    "2016 - 2020 version C <br/>\n",
    "Used successfully in the 2020 Systems Biology and Medicine undergraduate course at VU University Amsterdam by Yanhua-Liu, Ewelina Weglarz-Tomczak & Hans V. Westerhoff <br/>\n",
    "Slightly edited thereafter by Hans V. Westerhoff\n",
    "\n",
    "**Acknowledgements:** This material is heavily based on [Learning IPython for Interactive Computing and Data Visualization, second edition](https://github.com/ipython-books/minibook-2nd-code).\n",
    "\n",
    "# Why are we here?\n",
    "This first notebook is a fast introduction to the user interface of the Jupyter notebook. The point is to get you comfortable with executing cells of code, adding new ones and finding your way around. Do not spend more than 20 minutes on this part of the tutorial."
   ]
  },
  {
   "cell_type": "markdown",
   "metadata": {},
   "source": [
    "# The Jupyter notebook: What is it for?\n",
    "\n",
    "The Jupyter notebook is a flexible tool that helps you create readable analyses. You can keep data, code, images, comments, formulae and plots together."
   ]
  },
  {
   "cell_type": "markdown",
   "metadata": {},
   "source": [
    "# Take the user interface tour\n",
    "\n",
    "<span style=\"color:red\">**Assignment (5 min):**</span> Take the user interface tour by clicking \"Help > User Interface Tour\""
   ]
  },
  {
   "cell_type": "markdown",
   "metadata": {},
   "source": [
    "# Cells and cells\n",
    "\n",
    "Note that Jupyter notebooks have confusing terminology: the boxes of text and code (like this one) are referred to as cells. Not to be confused with biological cells ;)"
   ]
  },
  {
   "cell_type": "markdown",
   "metadata": {},
   "source": [
    "## The most important buttons of the menu at the top of the screen\n",
    "\n",
    "At a minimum familiarize yourself with these buttons and what they do:\n",
    "* The \"Run\" button: run the currently selected cell\n",
    "* The \"+\" button: adds a new empty cell\n",
    "* In the \"Cell\" menu > \"Run all\": runs all cells in the notebook.\n",
    "* In the \"Cell\" menu > \"Run all above\": runs all cells in the notebook prior to where your cursor is.  This will be useful when the connection with the server has crashed (see below)\n",
    "* The \"File > Download as\" menu\n",
    "* The \"Cell type\" toolbar button (The one labeled \"Markdown\" if this cell is selected. This button switches a cell between text (Markdown) and code."
   ]
  },
  {
   "cell_type": "markdown",
   "metadata": {},
   "source": [
    "# Running snippets of code\n",
    "\n",
    "First and foremost, the Jupyter Notebook is an interactive environment for writing and running code. The notebook is capable of running code in a wide range of languages. However, each notebook is associated with a single \"kernel\" for a specific language.  This notebook is associated with the Python kernel, therefore runs Python code.\n",
    "\n",
    "## Code cells allow you to enter and run code\n",
    "\n",
    "Run the \"code cell\" below by selecting it (click on it with your mouse) and using `Shift-Enter` or pressing the <button class='btn btn-default btn-xs'><i class=\"icon-step-forward fa fa-step-forward\"></i></button> button in the toolbar above. \n",
    "\n",
    "The cell defines a variable 'a' assigns a value of 10 to it and prints the variable."
   ]
  },
  {
   "cell_type": "code",
   "execution_count": null,
   "metadata": {},
   "outputs": [],
   "source": [
    "a = 10\n",
    "a"
   ]
  },
  {
   "cell_type": "markdown",
   "metadata": {},
   "source": [
    "# A notebook may have two useful types of cells\n",
    "\n",
    "* A **Markdown cell** contains text (like this one). In addition to  formatting options like bold or italics, we can add links, images, HTML elements, mathematical equations, and more. \n",
    "* A **code cell** contains code to be executed by the Python kernel. There are also kernels for other languages like [R](https://www.r-project.org/).\n",
    "\n",
    "<span style=\"color:red\">**Assignment (2 min):**</span> Try adding a code cell and a markdown cell below. \n",
    "\n",
    "In the toolbar use the \"+\" the add new cells. Focus on one cell and use the toolbar to make it a code or markdown cell. \n",
    "- In the code cell try computing 2*2\n",
    "- Write some text, e.g. your name, in the markdown cell\n",
    "- Then execute both by clicking Run above"
   ]
  },
  {
   "cell_type": "markdown",
   "metadata": {},
   "source": [
    "# Keyboard shortcuts\n",
    "If you are on a Mac replace ctrl by cmd.\n",
    "\n",
    "* `Shift`-`Enter`: run the cell and select the cell below\n",
    "* `Ctrl`-`s`: save the notebook\n",
    "\n",
    "<span style=\"color:red\">**Assignment (1 min):**</span> Try these out on the cells above"
   ]
  },
  {
   "cell_type": "markdown",
   "metadata": {},
   "source": [
    "# Memory and the kernel"
   ]
  },
  {
   "cell_type": "markdown",
   "metadata": {},
   "source": [
    "Code is run in a separate process called the Kernel.  The Kernel can be interrupted or restarted. \n",
    "\n",
    "<span style=\"color:red\">**Assignment (1 min):**</span>\n",
    "Try running the following cell, it contains a sleep command that will do absolutely nothing for 20 seconds. During this time the kernel will be busy. Notice that in the top-right corner the circle will be black to indicate this. Hit the <button class='btn btn-default btn-xs'><i class='icon-stop fa fa-stop'></i></button> button in the toolbar above to interrupt the computation."
   ]
  },
  {
   "cell_type": "code",
   "execution_count": null,
   "metadata": {},
   "outputs": [],
   "source": [
    "import time\n",
    "time.sleep(20)"
   ]
  },
  {
   "cell_type": "markdown",
   "metadata": {},
   "source": [
    "**Key takeaway:** the circular indicator shows you if Jupyter is busy computing something, and you can interrupt this if needed.\n",
    "These two commands are useful later for you to check whether the kernal is still connected (see below)"
   ]
  },
  {
   "cell_type": "markdown",
   "metadata": {},
   "source": [
    "# Plots: The power of powers\n",
    "As a fun introduction to doing science using Python let's look at exponential growth.\n",
    "\n",
    "\n",
    "\"The greatest shortcoming of the human race is our inability to understand the exponential function.\" --Albert Allen Bartlett (https://en.wikipedia.org/wiki/Albert_Allen_Bartlett)\n",
    "\n",
    "Exponential growth is fast. Consider a population of bacteria or cancer cells. Each generation each bacteria in the population divides in two. The code below shows the (perhaps surprising) rate of growth in the number of bacteria."
   ]
  },
  {
   "cell_type": "markdown",
   "metadata": {},
   "source": [
    "<span style=\"color:red\">**Assignment (3 min):**</span>\n",
    "* Execute the two cells below. \n",
    "* Write down the number of bacteria/cells after 25 generations. Look carefully at the y-axis. \n",
    "* Then also calculate the mass of those bacteria in kilogram, using that one bacterium weighs approximately 1 pg (1 picogram = 10^-12 gram). \n",
    "* Change the number of generations in the code cell to 50. Execute the cell again and notice the change on the y-axis. \n",
    "* You doubled the number of generations. By how much did the number of bacteria increase? \n",
    "* Are you surprised or not? "
   ]
  },
  {
   "cell_type": "code",
   "execution_count": null,
   "metadata": {},
   "outputs": [],
   "source": [
    "import matplotlib.pyplot as plt"
   ]
  },
  {
   "cell_type": "code",
   "execution_count": null,
   "metadata": {},
   "outputs": [],
   "source": [
    "population_size = {0:1} # in generation 0 there is one bacteria\n",
    "for generation in range(1,25): # simulation of generations 1-24\n",
    "    population_size[generation] = population_size[generation-1]*2\n",
    "    \n",
    "plt.plot(list(population_size.values()))\n",
    "ax = plt.gca() # plt.gca gets the current figure so that we can alter its properties\n",
    "ax.set_xlabel('Generations')\n",
    "ax.set_ylabel('# bacteria')\n",
    "plt.show()"
   ]
  },
  {
   "cell_type": "markdown",
   "metadata": {},
   "source": [
    "Make a note of the number of bacteria at 24 generations and calculate their total mass in kg."
   ]
  },
  {
   "cell_type": "code",
   "execution_count": null,
   "metadata": {},
   "outputs": [],
   "source": [
    "1.75e7 * 1e-12/1000"
   ]
  },
  {
   "cell_type": "code",
   "execution_count": null,
   "metadata": {},
   "outputs": [],
   "source": [
    "population_size = {0:1} # in generation 0 there is one bacteria\n",
    "for generation in range(1,145): # simulation of generations 1-144\n",
    "    population_size[generation] = population_size[generation-1]*2\n",
    "    \n",
    "plt.plot(list(population_size.values()))\n",
    "ax = plt.gca() # plt.gca gets the current figure so that we can alter its properties\n",
    "ax.set_xlabel('Generations')\n",
    "ax.set_ylabel('# bacteria')\n",
    "plt.show()"
   ]
  },
  {
   "cell_type": "markdown",
   "metadata": {},
   "source": [
    "Make a note of the number of bacteria at 144 generations (48 hours for E. coli) and calculate their total mass.  Aso calculate this relative to the mass of planet earth (which is 6.0 * e24 kg)"
   ]
  },
  {
   "cell_type": "code",
   "execution_count": null,
   "metadata": {},
   "outputs": [],
   "source": [
    "2.2e43 * 1e-12/1000"
   ]
  },
  {
   "cell_type": "code",
   "execution_count": null,
   "metadata": {},
   "outputs": [],
   "source": [
    "# relative to Earth:\n",
    "2.2e+34/6.0e24"
   ]
  },
  {
   "cell_type": "markdown",
   "metadata": {},
   "source": [
    "So next time you will make sure you are ot infected with a pathogenic E. coli!"
   ]
  },
  {
   "cell_type": "markdown",
   "metadata": {},
   "source": [
    "# If the connection with the Kernel breaks down\n",
    "After a relatively brief period of inactivity, the Kernel will protect itself and shut down the connection. \n",
    "* Is the Kernel still working?\n",
    "•If the circle next to 'Python 3' on the right hand upper side is white inside, and if you want to see whether the Kernel is still connected and operative, you may:\n",
    "•Move your pointer over the white circle next to Python 3.0 (upper right). This will show ‘No connection to the Kernel’, if it is not connected. If it shows ‘Kernel idle’ the Kernel may still have disconnected however. Then execute the code below i.e. put it into an exceutabel cell and run it:\n",
    "* import time\n",
    "* time.sleep(4)\n",
    "* and watch the circle turn black for 4 seconds (if this all happens, then the Kernel is still connected).\n",
    "* If Kernel has stopped you can reactivate the Kernel\n",
    "•by clicking on 'Kernel' above the text and selecting 'restart‘ (then you will lose all you have done in the notebook up to that moment, but see below). If this does not work, you should return to the binder: click \n",
    "https://gesis.mybinder.org/binder/v2/gh/HansWesterhoff/Systems_Biology_FBA_tutorial/master , wait a while and then click the desired tutorial file in the directory ‘FBA_tutorials’. This will bring up the instruction notebook again. Then turn to ‘After a crash’ below‘.\n",
    "* If the Kernel did get disconnected you will have lost all results of your previous activities. Unless you:\n",
    "* Regularly make a backup while you are working:\n",
    "•by File > Download as>Notebook (.ipynb) into a directory on your computer; make sure you adjust the filename to something recognizable.\n",
    "* After a crash (disconnection from the server, e.g. after a coffee break):\n",
    "•then go to the binder, wait a minute or so until the directory tree appears. Click ‘upload’, search for your backup file on your computer, click ‘open’, click ‘upload’ and click on the uploaded file. Note that not even this uploaded file will persist on the server (it will persist on your computer) if the connection with the Kernel is lost again.\n",
    "•Sometimes not even this works if you work on the file you backed up. Then you have to start with the initial copy of the file.\n",
    "•In either case you can then skip to the line where you were working: go to that line with your cursor, click and then click ‘Cell’ and then ‘Run All Above’. This will run all cells above where you were. It may take a while for the Kernel to complete this task. You can check that the Kernel is active by noting that the circle on the upper right-hand side is black."
   ]
  },
  {
   "cell_type": "markdown",
   "metadata": {},
   "source": [
    "# The end\n",
    "You should now be comfortable with the interface and running code cells. \n",
    "\n",
    "Return to the \"tutorial hub\" notebook and continue with the next part of the tutorial."
   ]
  },
  {
   "cell_type": "code",
   "execution_count": null,
   "metadata": {},
   "outputs": [],
   "source": []
  }
 ],
 "metadata": {
  "kernel_info": {
   "name": "python3"
  },
  "kernelspec": {
   "display_name": "Python 3",
   "language": "python",
   "name": "python3"
  },
  "language_info": {
   "codemirror_mode": {
    "name": "ipython",
    "version": 3
   },
   "file_extension": ".py",
   "mimetype": "text/x-python",
   "name": "python",
   "nbconvert_exporter": "python",
   "pygments_lexer": "ipython3",
   "version": "3.7.6"
  },
  "nteract": {
   "version": "0.12.3"
  },
  "toc": {
   "base_numbering": 1,
   "nav_menu": {},
   "number_sections": true,
   "sideBar": true,
   "skip_h1_title": false,
   "title_cell": "Table of Contents",
   "title_sidebar": "Contents",
   "toc_cell": false,
   "toc_position": {
    "height": "calc(100% - 180px)",
    "left": "10px",
    "top": "150px",
    "width": "165px"
   },
   "toc_section_display": "block",
   "toc_window_display": true
  }
 },
 "nbformat": 4,
 "nbformat_minor": 2
}
