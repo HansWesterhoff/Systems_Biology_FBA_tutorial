{
 "cells": [
  {
   "cell_type": "markdown",
   "metadata": {},
   "source": [
    "# Introduction to the human metabolic reconstruction and FBA and FVA"
   ]
  },
  {
   "cell_type": "markdown",
   "metadata": {},
   "source": [
    "**Authors**: Thierry D.G.A Mondeel, Stefania Astrologo, Ewelina Weglarz-Tomczak & Hans V. Westerhoff <br/>\n",
    "University of Amsterdam <br/>\n",
    "2016 - 2019\n",
    "\n",
    "**Note:** Some of the material in this tutorial is inspired by and adapted from the cell factory design course from The Novo Nordisk Foundation Center for Biosustainability https://biosustain.github.io/cell-factory-design-course/\n",
    "\n",
    "---\n",
    "\n",
    "**Questions we will explore in this notebook**\n",
    "- How do I explore the content (metabolites, reactions, genes, …) of the genome-wide human metabolic map?\n",
    "- How do I figure out what kinds of metabolic fluxes are possible at steady state?\n",
    "- What kind of questions can I answer by performing computational \"experiments\"?\n",
    "- How can we understand the robustness of such metabolic flux patterns?\n",
    "\n",
    "**Objectives**\n",
    "- Understand the basic data structures of metabolic maps\n",
    "- Set a biological aim and see whether that aim may be achieved in a human metabolic map \n",
    "- Manipulate media conditions and knocking out reactions/genes\n",
    "- Find essential reactions for survival and fitness"
   ]
  },
  {
   "cell_type": "markdown",
   "metadata": {},
   "source": [
    "## Refresher: the human metabolic reconstruction: Recon 2 and Recon 3D\n",
    "\n",
    "See the publication: [Recon 2 (2013)](http://doi.org/10.1038/nbt.2488) and [Recon 3D (2018)](https://www.nature.com/articles/nbt.4072).\n",
    "\n",
    "<span style=\"color:red\">**Assignment (5 min):**</span> Read the abstract of the 2013 publication and the first two paragraphs of the introduction."
   ]
  },
  {
   "cell_type": "markdown",
   "metadata": {},
   "source": [
    "## Loading the human metabolic map\n",
    "<span style=\"color:red\">**Assignment (1 sec):**</span> Execute the cell below. This cell loads the cobrapy computational toolbox and loads the human metabolic map. **The specifics of the code do not matter**"
   ]
  },
  {
   "cell_type": "code",
   "execution_count": null,
   "metadata": {},
   "outputs": [],
   "source": [
    "# load the FBA module\n",
    "import cobra\n",
    "from cobra.flux_analysis import pfba\n",
    "\n",
    "# load the table and data analysis module\n",
    "import pandas as pd # for tables\n",
    "pd.set_option('display.max_colwidth', -1) # don't constrain the content of the tables\n",
    "pd.options.display.max_rows = 9999\n",
    "\n",
    "# load the popular plotting library\n",
    "import matplotlib.pyplot as plt\n",
    "import matplotlib\n",
    "matplotlib.style.use('ggplot')\n",
    "%matplotlib inline\n",
    "\n",
    "# show all output in each cell\n",
    "from IPython.core.interactiveshell import InteractiveShell\n",
    "InteractiveShell.ast_node_interactivity = \"all\"\n",
    "\n",
    "# Load Recon3D with simplified medium for this tutorial\n",
    "M = cobra.io.load_json_model('./models/Recon3D_301/Recon3DModel_301_simple_medium.json')\n",
    "\n",
    "# Copy the model, keep M as the original unaltered model\n",
    "model = M.copy() "
   ]
  },
  {
   "cell_type": "markdown",
   "metadata": {},
   "source": [
    "# What is a human metabolic map (reconstruction) really?\n",
    "Above we loaded the human metabolic reconstruction. An easy way to think about such reconstructions is that they are maps, very much like road maps such as: [Google Maps](http://maps.google.com). Below we depict an example of how to walk from the O2 building to the main VU campus.\n",
    "\n",
    "![Google Maps example](./images/Google_maps_VU_O2.png)\n",
    "\n",
    "You can think of a metabolic map as having three key components:\n",
    "1. Metabolites\n",
    "    > Places you want to go (like the VU campus)\n",
    "2. Reactions\n",
    "    > Roads that connect where you are to where you want to go (like the Boelelaan)\n",
    "3. Reactions are coupled to gene(s) that encode the enzyme catalyzing the reaction.\n",
    "    > Do I need a car to take this road? Or a bike? Or either? Is their construction on the road (i.e. no traffic, i.e. no gene expression), is there high or low traffic capacity on this road (i.e. low or high enzyme expression)\n",
    "\n",
    "We can interact with the map through 3 different kinds of object: metabolites, reactions and genes. We will look at these below."
   ]
  },
  {
   "cell_type": "markdown",
   "metadata": {},
   "source": [
    "## Accessing the contents of the map: metabolites, reactions and genes\n",
    "The model for the human metabolic network contains many different genes, reactions and metabolites.\n",
    "\n",
    "> You can access each of these three sets (genes, reactions and metabolites) through 'dot' notation: \n",
    ">\n",
    "> e.g. model.genes\n",
    "\n",
    "<span style=\"color:red\">**Assignment (5 min):**</span> Find out how many genes, reactions and metabolites the model  contains. **Tip:** use the len() function and use the dot notation (e.g. model.genes) shown above. We already did the genes for you as an example."
   ]
  },
  {
   "cell_type": "code",
   "execution_count": null,
   "metadata": {},
   "outputs": [],
   "source": [
    "# calculate the number of genes here\n",
    "len(model.genes)\n",
    "\n",
    "# calculate the number of reactions here\n",
    "\n",
    "# calculate the number of metabolites here\n"
   ]
  },
  {
   "cell_type": "markdown",
   "metadata": {},
   "source": [
    "<span style=\"color:red\">**Assignment (2 min):**</span> Why are there so few genes associated with this metabolic map? What about all the other human genes? How many genes do humans actually have in total? \n",
    "\n",
    "See the abstract of: http://doi.org/10.1126/science.1058040"
   ]
  },
  {
   "cell_type": "markdown",
   "metadata": {},
   "source": [
    "### Metabolites"
   ]
  },
  {
   "cell_type": "markdown",
   "metadata": {},
   "source": [
    "One can access a specific metabolite using dot notation.\n",
    "\n",
    "> model.metabolites.METABOLITE_ID\n",
    "\n",
    "<span style=\"color:red\">**Assignment (1 min):**</span>\n",
    "* Look at the properties of the metabolite ATP, below. \n",
    "* Notice the dot notation used to access it\n",
    "* What percentage of reactions in the map does ATP partake in?"
   ]
  },
  {
   "cell_type": "code",
   "execution_count": null,
   "metadata": {},
   "outputs": [],
   "source": [
    "model.metabolites.atp_c"
   ]
  },
  {
   "cell_type": "markdown",
   "metadata": {},
   "source": [
    "#### Finding metabolites\n",
    "If you are not sure which ID the metabolite you are looking has, you can use a query to look for it. Suppose we want to find lactate:"
   ]
  },
  {
   "cell_type": "code",
   "execution_count": null,
   "metadata": {},
   "outputs": [],
   "source": [
    "model.metabolites.query('lactate','name')"
   ]
  },
  {
   "cell_type": "markdown",
   "metadata": {},
   "source": [
    "The above doesn't look very user friendly. Let's build a nice table to view these metabolites. You don't need to understand the code below but execute the cell and look at its output."
   ]
  },
  {
   "cell_type": "code",
   "execution_count": null,
   "metadata": {},
   "outputs": [],
   "source": [
    "df = pd.DataFrame(columns=['ID',\"Name\",\"Compartment\",\"Formula\"]) # start empty table\n",
    "\n",
    "for i, metabolite in enumerate(model.metabolites.query('lactate','name')):\n",
    "    df.loc[i] = [metabolite.id, metabolite.name, metabolite.compartment, metabolite.formula]\n",
    "\n",
    "df"
   ]
  },
  {
   "cell_type": "markdown",
   "metadata": {},
   "source": [
    "<span style=\"color:red\">**Assignment (3 min):**</span> \n",
    "* Search for another metabolite of your interest and look at its properties. \n",
    "* To start, copy the code from the cell above and modify the search term"
   ]
  },
  {
   "cell_type": "code",
   "execution_count": null,
   "metadata": {},
   "outputs": [],
   "source": []
  },
  {
   "cell_type": "markdown",
   "metadata": {},
   "source": [
    "#### Properties of metabolites\n",
    "Metabolites are associated with compartments in the cell. Glyceraldehyde 3-phosphate (g3p_c) is associated with the c (Cytosol) compartment.\n"
   ]
  },
  {
   "cell_type": "code",
   "execution_count": null,
   "metadata": {},
   "outputs": [],
   "source": [
    "model.metabolites.g3p_c.compartment"
   ]
  },
  {
   "cell_type": "markdown",
   "metadata": {},
   "source": [
    "The metabolites in the human metabolic reconstruction are categorized in various compartments. "
   ]
  },
  {
   "cell_type": "code",
   "execution_count": null,
   "metadata": {},
   "outputs": [],
   "source": [
    "list(model.compartments.keys())"
   ]
  },
  {
   "cell_type": "markdown",
   "metadata": {},
   "source": [
    "<span style=\"color:red\">**Assignment (3 min):**</span> Can you identify which compartments the identifiers point to? Do you know the biological role of all these compartments?\n",
    "\n",
    "See here for what biochemical functions are associated with each compartment: http://www.ncbi.nlm.nih.gov/books/NBK26907/\n",
    "\n",
    "**Answers:**\n",
    "C = cytosol, m = mitochondria, i = intermembrane space, x = peroxisome, l = lysosome, g = golgi apparatus, e = extracellular"
   ]
  },
  {
   "cell_type": "markdown",
   "metadata": {},
   "source": [
    "<span style=\"color:red\">**Assignment (3 min):**</span> Some metabolites (like Glucose for example) can be associated with multiple compartments. Do they participate in the same reactions? Look at the listed reactions in the tables below."
   ]
  },
  {
   "cell_type": "code",
   "execution_count": null,
   "metadata": {},
   "outputs": [],
   "source": [
    "model.metabolites.glc_D_c\n",
    "model.metabolites.glc_D_g"
   ]
  },
  {
   "cell_type": "markdown",
   "metadata": {},
   "source": [
    "The full name of the metabolite is available via the .name attribute."
   ]
  },
  {
   "cell_type": "code",
   "execution_count": null,
   "metadata": {},
   "outputs": [],
   "source": [
    "model.metabolites.glc_D_c.name"
   ]
  },
  {
   "cell_type": "markdown",
   "metadata": {},
   "source": [
    "One can look up the molecular formula of glucose and its weight.\n",
    "\n",
    "The .elements attribute returns a dictionary representation of the formula."
   ]
  },
  {
   "cell_type": "code",
   "execution_count": null,
   "metadata": {},
   "outputs": [],
   "source": [
    "model.metabolites.glc_D_c.formula\n",
    "model.metabolites.glc_D_c.formula_weight\n",
    "model.metabolites.glc_D_c.elements"
   ]
  },
  {
   "cell_type": "markdown",
   "metadata": {},
   "source": [
    "### Reactions"
   ]
  },
  {
   "cell_type": "markdown",
   "metadata": {},
   "source": [
    "Metabolites are not isolated things. They participate in reactions as substrates and products.\n",
    "\n",
    "\n",
    "Reactions have similar properties as metabolites. Below we show pyruvate kinase, like we showed ATP before.\n",
    "\n",
    "**Note:** metabolite identifiers are usually lowercase, whereas reaction identifiers are usually uppercase."
   ]
  },
  {
   "cell_type": "code",
   "execution_count": null,
   "metadata": {},
   "outputs": [],
   "source": [
    "model.reactions.PYK"
   ]
  },
  {
   "cell_type": "markdown",
   "metadata": {},
   "source": [
    "Let's take a closer look at the reactions associated with Glyceraldehyde 3-phosphate (g3p). Reactions like metabolites have both a short ID, a longer name attribute and an attribute called reaction that contains the chemical reaction equation. Lets see all of these for the reactions g3p engages in."
   ]
  },
  {
   "cell_type": "code",
   "execution_count": null,
   "metadata": {},
   "outputs": [],
   "source": [
    "df = pd.DataFrame(columns=['ID',\"Name\",'Reaction','Subsystem']) # start empty table\n",
    "\n",
    "# add each reaction to the table\n",
    "for i, reaction in enumerate(model.metabolites.g3p_c.reactions):\n",
    "    df.loc[i] = [reaction.id,reaction.name, reaction.reaction, reaction.subsystem]\n",
    "df"
   ]
  },
  {
   "cell_type": "markdown",
   "metadata": {},
   "source": [
    "#### Reaction bounds\n",
    "In constraint-based (FBA) models reactions are associated with two bounds, a lower bound and an upper bound. These constrain the amount of flux that is allowed to run through a certain reaction. \n",
    "\n",
    "The most important way these are used is to take into account thermodynamics of reactions. If a certain reaction has a very high **negative** $\\Delta G^{'0}$ then this reaction is practically irreversible. As such its lower bound is often made zero, meaning that the flux cannot run in the backward direction because it goes against thermodynamics. This makes the model predictions more realistic.\n",
    "\n",
    "##### If you need a refresher on thermodynamics \n",
    "This page has all you need to know: https://www.khanacademy.org/science/chemistry/thermodynamics-chemistry/gibbs-free-energy/a/gibbs-free-energy-and-spontaneity\n",
    "\n",
    "Let's look at an example: pyruvate kinase has a lower bound of zero in our model, i.e. it is irreversible in the direction of pyruvate."
   ]
  },
  {
   "cell_type": "code",
   "execution_count": null,
   "metadata": {},
   "outputs": [],
   "source": [
    "model.reactions.PYK.name\n",
    "model.reactions.PYK.reaction\n",
    "model.reactions.PYK.bounds"
   ]
  },
  {
   "cell_type": "markdown",
   "metadata": {},
   "source": [
    "<span style=\"color:red\">**Assignment (3 min):**</span> Check that this irreversibility makes sense thermodynamically. Go to: http://equilibrator.weizmann.ac.il/ and type in \"pyruvate kinase\". This will return multiple variations but click on the reaction involving ATP.\n",
    "\n",
    "Look at the estimates for the $\\Delta G^{'0}$. Does this match with the model (in terms of the irreversibility)? "
   ]
  },
  {
   "cell_type": "markdown",
   "metadata": {},
   "source": [
    "To get a sense of the size of this dG, compare it with $R*T = 8.3*0.298 = 2.4734~kJ/mole$, which is the energy due to random thermal motion. The dG is about 10x higher than this. "
   ]
  },
  {
   "cell_type": "markdown",
   "metadata": {},
   "source": [
    "### Genes and their link to reactions\n",
    "Remember that the metabolic network is made up of reactions that link together metabolites. The second layer of the model consists of genes coupling to reactions. "
   ]
  },
  {
   "cell_type": "markdown",
   "metadata": {},
   "source": [
    "Glyceraldehyde-3-phosphate dehydrogenase is associated with two genes."
   ]
  },
  {
   "cell_type": "code",
   "execution_count": null,
   "metadata": {},
   "outputs": [],
   "source": [
    "model.reactions.GAPD.gene_reaction_rule"
   ]
  },
  {
   "cell_type": "markdown",
   "metadata": {},
   "source": [
    "These gene identifiers refer to the NCBI database: https://www.ncbi.nlm.nih.gov/gene/?term=2597 \n",
    "\n",
    "Note that the OR logic in the gene rule, implies that only one of the isoenzymes (encoded by either gene) is needed for this reaction. \n",
    "\n",
    "<span style=\"color:red\">**Assignment (3 min):**</span> Is this annotated correctly. Why two genes? If you look this up in NCBI, remove the .1 from the gene identifier."
   ]
  },
  {
   "cell_type": "markdown",
   "metadata": {},
   "source": [
    "### The medium\n",
    "The next key component of the model is the \"medium\", i.e. the set of metabolites that is allowed to be taken up into the cell. For human cells this should entail the essential amino acids, glucose, oxygen etc. The way this is done in the model is by having so-called \"exchange reactions\" that transport such a metabolite into the extracellular space (the \"e\" compartment we came across above) from the outside world. Typically each of these reactions start with 'EX_' which stands for exchange reaction. The word exchange refers to the fact that this is an exchange of metabolites with the environment or the biofluids surrounding the cell. \n",
    "\n",
    "Exchange reactions are defined as: X <=> . So a negative (to the left) flux means uptake of metabolite X into the system. Positive (to the right) flux would mean X is produced by the cell. This would typically be the case for lactate or CO2 etc. \n",
    "\n",
    "<span style=\"color:red\">**Assignment (3 min):**</span> Make sure you understand the difference between an exchange reaction and a transport reaction. They are not the same thing!\n",
    "\n",
    "Exchange $$X <=> $$ Transport $$ X_c <=> X_e$$"
   ]
  },
  {
   "cell_type": "markdown",
   "metadata": {},
   "source": [
    "Below we print the medium of the model. The table shows the bound on each such inward flux. The bounds on these fluxes are actually negative but are here shown as positive values. "
   ]
  },
  {
   "cell_type": "code",
   "execution_count": null,
   "metadata": {
    "scrolled": false
   },
   "outputs": [],
   "source": [
    "pd.DataFrame(list(model.medium.items()),columns=['Reaction','Inward flux']).sort_values('Reaction').set_index('Reaction')"
   ]
  },
  {
   "cell_type": "markdown",
   "metadata": {},
   "source": [
    "<span style=\"color:red\">**Assignment (3 min):**</span> Would you say this is a reasonable medium for a human cell to live in? What are the limiting medium components currently? Is there an oxygen or carbon limitation? What is/are the carbon source(s)? "
   ]
  },
  {
   "cell_type": "markdown",
   "metadata": {},
   "source": [
    "# Performing Flux Balance Analysis\n",
    "\n",
    "## What is FBA?\n",
    "We will use the constraint-based modeling technique called flux balance analysis ([FBA](http://doi.org/10.1038/nbt.1614)). \n",
    "\n",
    "<span style=\"color:red\">**Assignment (5 min):**</span> Open [this publication](http://doi.org/10.1038/nbt.1614) and read the first paragraph of the introduction.\n",
    "\n",
    "<span style=\"color:red\">**Assignment (10 min):**</span> Make sure you globally understand the workflow presented in the images  and the accompanying text below.\n",
    "\n",
    "Look at the image below from Orth et al. FBA starts from a metabolic reconstruction of the network: i.e. listing all possible metabolic functions of an organism (**Step A**). \n",
    "\n",
    "FBA primarily makes use of the stoichiometry matrix $S$ (**Step B**). This matrix is of size $m \\times r$ where $m$ is the number of species or metabolites in the system and $r$ is the number of reactions. Every row of $S$ specifies for a specific metabolite in what quantity it partakes in each reaction. Therefore, each element $(i,j)$ of $S$ contains the stoichiometric coefficient of metabolite $i$ in reaction $j$.\n",
    "\n",
    "Given the metabolic network as summarized by the stoichiometry matrix, FBA aims to computationally calculate a \"flux distribution\", meaning the fluxes through all reactions in the model, **at steady-state**. Steady state implies that all fluxes into and out of each metabolite in the network sum up to zero (**Step C**). In other words, the mass-balance must equal zero for each metabolite. Mathematically, the steady state (mass-balance) condition is written as $Sv=0$ (See the bottom image below). \n",
    "\n",
    "Each reaction in FBA may be assigned a $V_{max}$ in the forward and backward direction. We write this as \"bounds on the flux\" as follows: $\\alpha_i <= v_i <= \\beta_i$ for a particular reaction $i$ (See the bottom image below). If expression data is available for all enzymes, one can set the $\\alpha$ and $\\beta$ proportional to the expression of the enzyme. Here, for simplicity, we will bound all reactions by the same level $1000$. **Note:** the metabolic reconstruction does already account for reactions that are not reversible due to the thermodynamics by making some $\\alpha_i = 0$. \n",
    "\n",
    "Typically, with FBA we predict a flux distribution that is optimal according to a specified \"objective function\", i.e. a purpose or aim the cell is after (**Step D**). In our case, the objective function will usually be the flux through the biomass reaction. The biomass reaction is a proxy for cell growth. This reaction contains (when known) experimentally determined ratio's of metabolites that make up the composition of a cell.\n",
    "\n",
    "Ultimately, FBA then computes the flux distribution that satisfies:\n",
    "- (1) the steady-state condition: based on the assumption that metabolism occurs on a fast time-scale compared to gene regulatory events and thus reaction rates are constant \n",
    "- (2) thermodynamic feasibility, i.e. some reactions are known to be irreversible, \n",
    "- (3) maximal flux constraints when these are known\n",
    "- (4) maximizes some objective like growth\n",
    "\n",
    "![Orth et al., 2010 Figure 2](./images/Orth_2010_Fig2.gif)\n",
    "\n",
    "![Orth et al., 2010 Figure 1](./images/Orth_2010_Fig1.gif)\n",
    "\n",
    "### What you will do\n",
    "We will perform in-silico experiments with genetic manipulations by changing the lower and upper bounds for the reactions. By setting both the lower bound $\\alpha_k$ and the upper bound $\\beta_k$ to zero we in effect knock out a reaction. Similarly, by setting it to a specific value we can fix a certain flux level for a specific reaction.\n",
    "\n",
    "### What is our in-silico cell optimizing? \n",
    "Let us first check what objective is set for our model."
   ]
  },
  {
   "cell_type": "code",
   "execution_count": null,
   "metadata": {},
   "outputs": [],
   "source": [
    "cobra.util.linear_reaction_coefficients(model)"
   ]
  },
  {
   "cell_type": "markdown",
   "metadata": {},
   "source": [
    "So the objective is biomass.\n",
    "\n",
    "<span style=\"color:red\">**Assignment (3 min):**</span> Is optimal growth a realistic assumption for human cells? For bacterial cells? Discuss... "
   ]
  },
  {
   "cell_type": "markdown",
   "metadata": {},
   "source": [
    "### Doing FBA is simple...\n",
    "Actually performing FBA with cobrapy once you have loaded a model is really easy and fast. "
   ]
  },
  {
   "cell_type": "code",
   "execution_count": null,
   "metadata": {},
   "outputs": [],
   "source": [
    "solution = model.optimize()"
   ]
  },
  {
   "cell_type": "markdown",
   "metadata": {},
   "source": [
    "\"solution\" now contains the result of our simulation. Let's see what we can do with this. The most important attributes here are:\n",
    "- status => did we find an optimial solution?\n",
    "- objective_value => what is the biomass flux?\n",
    "- fluxes => the flux through every reaction in the model solution. Below we print the GAPDH flux for example."
   ]
  },
  {
   "cell_type": "code",
   "execution_count": null,
   "metadata": {},
   "outputs": [],
   "source": [
    "solution.status\n",
    "solution.objective_value\n",
    "solution.fluxes['GAPD']"
   ]
  },
  {
   "cell_type": "markdown",
   "metadata": {},
   "source": [
    "A very nice summary of what goes in and out of the cell in this solution can be viewed with the summary attribute of the model object."
   ]
  },
  {
   "cell_type": "code",
   "execution_count": null,
   "metadata": {},
   "outputs": [],
   "source": [
    "model.summary()"
   ]
  },
  {
   "cell_type": "markdown",
   "metadata": {},
   "source": [
    "<span style=\"color:red\">**Assignment (3 min):**</span> Investigate the metabolites that are produced (i.e. in the OUT FLUXES column). Are these what you would have expected? "
   ]
  },
  {
   "cell_type": "markdown",
   "metadata": {},
   "source": [
    "<span style=\"color:red\">**Assignment (3 min):**</span> What would happen if we force the cell to produce lactate (i.e. to ferment) and not respire? Try this by setting the **lower_bound** of the exchange reaction of lactate 'EX_lac_D_e' or 'EX_lac_L_e' to a positive number. Lactate is a C3, and we are taking up 1 unit of glucose C6) so set the minimal lactate production flux (i.e. its lower bound) equal to 2. And block CO2 production by setting its exchange reaction to zero. **We did this below for you already**.\n",
    "\n",
    "What new products have been produced? Did something change in the uptake fluxes? Did the growth rate remain the same? Are there still secondary carbon exits?"
   ]
  },
  {
   "cell_type": "code",
   "execution_count": null,
   "metadata": {},
   "outputs": [],
   "source": [
    "model = M.copy()\n",
    "\n",
    "# We change the lactate lower_bound here\n",
    "model.reactions.EX_lac_D_e.lower_bound = 2\n",
    "model.reactions.EX_co2_e.upper_bound = 0\n",
    "model.reactions.EX_hco3_e.upper_bound = 0 # equivalent to CO2 as an exit\n",
    "\n",
    "solution = model.optimize()\n",
    "model.summary()"
   ]
  },
  {
   "cell_type": "markdown",
   "metadata": {},
   "source": [
    "<span style=\"color:red\">**Assignment (3 min):**</span> Now try simulating a case where some of the additional carbon exit pathways, e.g. the one producing propionate are transcriptionally constrained. Implement this by limiting the production by setting the upper bound of their exchange reactions to zero or a low number. We already provided some code below.\n",
    "\n",
    "What happens to growth? "
   ]
  },
  {
   "cell_type": "code",
   "execution_count": null,
   "metadata": {},
   "outputs": [],
   "source": [
    "model = M.copy()\n",
    "\n",
    "model.reactions.EX_lac_D_e.lower_bound = 2\n",
    "model.reactions.EX_co2_e.upper_bound = 0\n",
    "model.reactions.EX_hco3_e.upper_bound = 0 # equivalent to CO2 as an exit\n",
    "\n",
    "model.reactions.EX_ppa_e.upper_bound = 0.2\n",
    "\n",
    "solution = model.optimize()\n",
    "model.summary()"
   ]
  },
  {
   "cell_type": "markdown",
   "metadata": {},
   "source": [
    "<span style=\"color:red\">**Assignment (3 min):**</span> Below use the code we supplied to simulate a case where lactate production is not allowed and CO2 production is required. "
   ]
  },
  {
   "cell_type": "code",
   "execution_count": null,
   "metadata": {},
   "outputs": [],
   "source": [
    "model = M.copy()\n",
    "\n",
    "model.reactions.EX_lac_D_e.upper_bound = 0\n",
    "model.reactions.EX_lac_L_e.upper_bound = 0\n",
    "model.reactions.EX_co2_e.lower_bound = 6\n",
    "\n",
    "solution = model.optimize()\n",
    "model.summary()"
   ]
  },
  {
   "cell_type": "markdown",
   "metadata": {},
   "source": [
    "<span style=\"color:red\">**Assignment (5 min):**</span> Above you might have realized that the model can grow optimally virtually only producing CO2 and propionate (ppa) as a carbon products. You also observed that it grows optimally by fermentation (lactate production) alone. What does that imply about what is limiting growth? Is it ATP or something else?"
   ]
  },
  {
   "cell_type": "markdown",
   "metadata": {},
   "source": [
    "## How is ATP generated? \n",
    "### When maximizing ATP production using only glucose and o2\n",
    "Below we first remove the amino acids from the medium in order to just ask for ATP production from glucose and oxygen. \n",
    "\n",
    "Then we make the ATP maintenance reaction: atp -> adp + pi, the objective reaction. \n",
    "\n",
    "<span style=\"color:red\">**Assignment (3 min):**</span> Before running the cell below. Based on your textbook knowledge: what would you expect the maximum number of ATP to be given 1 unit of glucose and unlimited oxygen? \n",
    "How much oxygen would be used for this? \n",
    "\n",
    "Now execute the cell and compare the results. "
   ]
  },
  {
   "cell_type": "code",
   "execution_count": null,
   "metadata": {},
   "outputs": [],
   "source": [
    "model = M.copy()\n",
    "\n",
    "# block amino acid uptake\n",
    "for rxn in ['EX_his_L_e','EX_ile_L_e','EX_leu_L_e','EX_lys_L_e','EX_met_L_e','EX_phe_L_e','EX_thr_L_e','EX_trp_L_e','EX_val_L_e','EX_glu_L_e','EX_gln_L_e']:\n",
    "    model.reactions.get_by_id(rxn).lower_bound = 0\n",
    "\n",
    "model.objective = model.reactions.ATPM\n",
    "solution = model.optimize()\n",
    "\n",
    "model.summary()\n",
    "print(\"\\nLet's look at cytosolic ATP production\\n\")\n",
    "model.metabolites.atp_c.summary()\n",
    "print(\"\\nLet's look at mitochondrial ATP production \\n\")\n",
    "model.metabolites.atp_m.summary()\n",
    "print(\"\\nLet's look at proton pumping\\n\")\n",
    "model.metabolites.h_i.summary()"
   ]
  },
  {
   "cell_type": "markdown",
   "metadata": {},
   "source": [
    "### When maximizing biomass\n",
    "Below we do the same again but for biomass as the objective reaction. "
   ]
  },
  {
   "cell_type": "code",
   "execution_count": null,
   "metadata": {},
   "outputs": [],
   "source": [
    "model = M.copy()\n",
    "\n",
    "solution = model.optimize()\n",
    "\n",
    "model.summary()\n",
    "print(\"\\nLet's look at cytosolic ATP production\\n\")\n",
    "model.metabolites.atp_c.summary()\n",
    "print(\"\\nLet's look at mitochondrial ATP production \\n\")\n",
    "model.metabolites.atp_m.summary()\n",
    "print(\"\\nLet's look at proton pumping\\n\")\n",
    "model.metabolites.h_i.summary()"
   ]
  },
  {
   "cell_type": "markdown",
   "metadata": {},
   "source": [
    "<span style=\"color:red\">**Assignment (3 min):**</span> Reflect for a moment on the differences compared to the ATPM objective. Why is the ATPS4 flux down? Why is the oxygen/glucose ratio down? \n",
    "\n",
    "**Answer:** When the objective is biomass production the cell needs to produce more than just ATP: protein, lipids etc. This takes up some of the carbon taken up and therefore less of the carbon can be used to produce ATP. "
   ]
  },
  {
   "cell_type": "markdown",
   "metadata": {},
   "source": [
    "# Flux variability analysis (FVA)\n",
    "**Questions**\n",
    "* How uniquely determined is the flux distribution returned by flux balance analysis?\n",
    "\n",
    "**Objectives**\n",
    "* Learn how to determine flux capacities using flux variability analysis.\n",
    "* Learn how to generate phenotypic phase planes for different fluxes.\n",
    "--- \n",
    "\n",
    "Flux balance analysis gives you one **optimal** steady state solution for the model you are simulating. Above you saw that you could alter the network, e.g. by blocking one lactate exit, and still get an optimal solution. This means that **the FBA solution is not uniquely determined**. \n",
    "\n",
    "## What is flux variability analysis?\n",
    "(Mahadevan and Schilling, 2003) http://doi.org/10.1016/j.ymben.2003.09.002\n",
    "\n",
    "Flux variability analysis is closely related to flux balance analysis. \n",
    "\n",
    "Remember that FBA calculates one **flux distribution** such that the whole network is at steady state, mass-balanced, thermodynamically feasible and optimal. \n",
    "\n",
    "In contrast, FVA calculates for each reaction **the range of feasible flux** that is consistent with these constraints FBA uses. So for a given reaction $v$, FVA will tell you what the minimal and maximal attainable flux is through that reaction while keeping the solution at steady state and optimal. \n",
    "\n",
    "Technically, FVA for one reaction, for instance pyruvate kinase, involves once performing FBA with the objective of maximizing the flux through pyruvate kinase and once performing FBA to minimize its flux. It then returns this interval [minimum_feasible flux, maximum_feasible_flux]. \n",
    "\n",
    "## Why would we perform FVA? \n",
    "* Flux Balance Analysis solutions are not necessariliy unique. Flux Variablity Analysis is a good tool for finding alternative flux patterns while achieving the same growth rate. For instance, the possibility for the cell to grow using fermentation or respiration. We could judge this by looking at O2 uptake, lactate secretion, proton pumping etc. If we find an interval of fluxes for these reactions using FVA it indicates the ability for the cells to shift \n",
    "\n",
    "## How to perform FVA?\n",
    "cobra.io.flux_variability_analysis calculates all the minimum and maximum fluxes that all reactions in a model can attain."
   ]
  },
  {
   "cell_type": "code",
   "execution_count": null,
   "metadata": {},
   "outputs": [],
   "source": [
    "model = M.copy()\n",
    "\n",
    "# a short list of reactions to calculate to reduce computational time. Feel free to adjust the list\n",
    "# the reactions are: lactate uptake/production, phenylalanine hydroxylase \n",
    "# (which has an isoenzyme that performs a similar reaction), Pyruvate dehydrogenase, Succinate dehydrogenase \n",
    "# and ATPase\n",
    "interesting_reactions = ['EX_lac_D_e','PHETHPTOX2','PDHm','SUCD1m','ATPS4mi',]\n",
    "\n",
    "result = cobra.flux_analysis.flux_variability_analysis(model,reaction_list=interesting_reactions)\n",
    "result[['minimum','maximum']]\n",
    "\n",
    "result.plot.bar(stacked=True)"
   ]
  },
  {
   "cell_type": "markdown",
   "metadata": {},
   "source": [
    "<span style=\"color:red\">**Assignment (3 min):**</span> Which of these are reversible? i.e. they can carry flux in either forward or backward direction while the cell is still capable of optimal growth rate. "
   ]
  },
  {
   "cell_type": "markdown",
   "metadata": {},
   "source": [
    "# Are essential amino acids essential?\n",
    "We will now look into which reactions the model predicts to be essential for growth. Are the \"essential\" amino acids predicted to be essential?"
   ]
  },
  {
   "cell_type": "markdown",
   "metadata": {},
   "source": [
    "## Calculating the essential genes using flux variability analysis\n",
    "One of the uses of FVA is to predict essential reactions. If we require growth to be non-zero then reactions that are essential will have an associated FVA interval that does not contain zero.\n",
    "\n",
    "<span style=\"color:red\">**Assignment (3 min):**</span> Make sure you understand the statement made above. Then look back at the plot above and figure out which of the reactions visualized there is essential? \n",
    "\n",
    "A helpful example is to think of glucuse exchange reaction. What would happen to this flux when the cell tries to grow optimally? Does this reaction need to carry flux? What does that say about the FVA interval? \n",
    "\n",
    "The cell below returns a table with essential reactions predicted by FVA. It might take a while to run..."
   ]
  },
  {
   "cell_type": "code",
   "execution_count": null,
   "metadata": {
    "scrolled": false
   },
   "outputs": [],
   "source": [
    "model = M.copy()\n",
    "\n",
    "# first perform pFBA to find a list of potentially essential reactions\n",
    "# reasoning: if reaction v is essential it ALWAYS has to carry flux. So also in this pFBA solution. \n",
    "# doing this first allows us to perform FVA on a smaller set of reactions\n",
    "sol = pfba(model)\n",
    "\n",
    "# take only those reactions that carry flux\n",
    "reactions_with_flux = sol.fluxes[sol.fluxes.abs() > 1e-9].index.tolist()\n",
    "\n",
    "# perform fba on the flux carrying reactions\n",
    "fva_sol = cobra.flux_analysis.flux_variability_analysis(model,reaction_list=reactions_with_flux,fraction_of_optimum=1)\n",
    "\n",
    "# filter out \n",
    "fva_sol = fva_sol.loc[(fva_sol['minimum'] > 1e-9) | (fva_sol['maximum'] < -1e-9) ]\n",
    "df = fva_sol.copy()\n",
    "for r in df.index.tolist():\n",
    "    df = df.set_value(r,'reaction',model.reactions.get_by_id(r).reaction)\n",
    "    df = df.set_value(r,'genes',model.reactions.get_by_id(r).gene_reaction_rule)\n",
    "df"
   ]
  },
  {
   "cell_type": "markdown",
   "metadata": {},
   "source": [
    "<span style=\"color:red\">**Assignment (2 min):**</span> Search to see if the glucose exchange reaction is in the table above. Is it essential? What is the FVA interval allowed under the condition of optimality? \n",
    "\n",
    "<span style=\"color:red\">**Assignment (5 min):**</span> Rerun the cell above but change the 'fraction_of_optimum' parameter to less than 1. 1 means exactly optimal. 0.8 would mean you allow the solution to be at least 80% of the optimal growth rate. etc. What happens to the glucose exchange reaction interval when you decrease the 'fraction_of_optimum' parameter? Is there a point where it becomes non-essential?"
   ]
  },
  {
   "cell_type": "markdown",
   "metadata": {},
   "source": [
    "# Self-check questions\n",
    "Make sure you are able to explain in your own words: \n",
    "1. What the two core components of the human metabolic reconstruction model are\n",
    "2. How thermodynamics of reactions may be taken into account in the reaction bounds\n",
    "3. What flux balance analysis is\n",
    "4. What FBA actually computates\n",
    "6. How FVA is different from FBA \n",
    "7. What you can use FVA for"
   ]
  },
  {
   "cell_type": "code",
   "execution_count": null,
   "metadata": {},
   "outputs": [],
   "source": []
  }
 ],
 "metadata": {
  "kernelspec": {
   "display_name": "Python 3",
   "language": "python",
   "name": "python3"
  },
  "language_info": {
   "codemirror_mode": {
    "name": "ipython",
    "version": 3
   },
   "file_extension": ".py",
   "mimetype": "text/x-python",
   "name": "python",
   "nbconvert_exporter": "python",
   "pygments_lexer": "ipython3",
   "version": "3.6.1"
  },
  "toc": {
   "nav_menu": {},
   "number_sections": true,
   "sideBar": true,
   "skip_h1_title": false,
   "toc_cell": false,
   "toc_position": {},
   "toc_section_display": "block",
   "toc_window_display": false
  }
 },
 "nbformat": 4,
 "nbformat_minor": 2
}
