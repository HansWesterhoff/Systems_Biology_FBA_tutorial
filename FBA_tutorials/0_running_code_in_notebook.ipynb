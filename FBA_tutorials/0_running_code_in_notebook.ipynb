{
 "cells": [
  {
   "cell_type": "markdown",
   "metadata": {},
   "source": [
    "# Introduction to the jupyter notebook\n",
    "**Authors**: Thierry D.G.A Mondeel, Stefania Astrologo, Ewelina Weglarz-Tomczak & Hans V. Westerhoff <br/>\n",
    "University of Amsterdam <br/>\n",
    "2016 - 2018\n",
    "\n",
    "\n",
    "**Acknowledgements:** This material is heavily based on [Learning IPython for Interactive Computing and Data Visualization, second edition](https://github.com/ipython-books/minibook-2nd-code).\n",
    "\n",
    "# Why are we here?\n",
    "This first notebook is a fast introduction to the user interface of the Jupyter notebook. The point is to get you comfortable with executing cells of code, adding new ones and finding your way around. Do not spend more than 20 minutes on this part of the tutorial."
   ]
  },
  {
   "cell_type": "markdown",
   "metadata": {},
   "source": [
    "# The Jupyter notebook: What is it for?\n",
    "\n",
    "The Jupyter notebook is a flexible tool that helps you create readable analyses. You can keep data, code, images, comments, formulae and plots together."
   ]
  },
  {
   "cell_type": "markdown",
   "metadata": {},
   "source": [
    "# Take the user interface tour\n",
    "\n",
    "<span style=\"color:red\">**Assignment (5 min):**</span> Take the user interface tour by clicking \"Help > User Interface Tour\""
   ]
  },
  {
   "cell_type": "markdown",
   "metadata": {},
   "source": [
    "## The most important buttons of the menu at the top of the screen\n",
    "\n",
    "At a minimum familiarize yourself with these buttons and what they do:\n",
    "* The \"Run\" button: run the currently selected cell\n",
    "* The \"+\" button: adds a new empty cell\n",
    "* The cut button (scissors): cuts/removes a cell\n",
    "* In the \"Cell\" menu > \"Run all\": runs all cells in the notebook.\n",
    "* The \"File > Download as\" menu\n",
    "* The \"Cell type\" toolbar button (The only labeled \"Markdown\" if this cell is selected. This button switches a cell between text (Markdown) and code."
   ]
  },
  {
   "cell_type": "markdown",
   "metadata": {},
   "source": [
    "# Running snippets of code\n",
    "\n",
    "First and foremost, the Jupyter Notebook is an interactive environment for writing and running code. The notebook is capable of running code in a wide range of languages. However, each notebook is associated with a single \"kernel\" for a specific language.  This notebook is associated with the Python kernel, therefore runs Python code.\n",
    "\n",
    "## Code cells allow you to enter and run code\n",
    "\n",
    "Run the \"code cell\" below by selecting it (click on it with your mouse) and using `Shift-Enter` or pressing the <button class='btn btn-default btn-xs'><i class=\"icon-step-forward fa fa-step-forward\"></i></button> button in the toolbar above:"
   ]
  },
  {
   "cell_type": "code",
   "execution_count": 2,
   "metadata": {},
   "outputs": [
    {
     "data": {
      "text/plain": [
       "10"
      ]
     },
     "execution_count": 2,
     "metadata": {},
     "output_type": "execute_result"
    }
   ],
   "source": [
    "a = 10\n",
    "a"
   ]
  },
  {
   "cell_type": "markdown",
   "metadata": {},
   "source": [
    "# A notebook may have two useful types of cells\n",
    "\n",
    "* A **Markdown cell** contains text (like this one). In addition to classic formatting options like bold or italics, we can add links, images, HTML elements, LaTeX mathematical equations, and more. \n",
    "* A **code cell** contains code to be executed by the kernel. The programming language corresponds to the kernel's language. We will only use Python here, but you can use many other languages.\n",
    "\n",
    "<span style=\"color:red\">**Assignment (2 min):**</span> Try adding a code cell and a markdown cell below. \n",
    "\n",
    "In the toolbar use the \"+\" the add new cells. Focus on one cell and use the toolbar to make it a code or markdown cell. \n",
    "- In the code cell try computing 2*2\n",
    "- Write some text, e.g. your name, in the markdown cell"
   ]
  },
  {
   "cell_type": "markdown",
   "metadata": {},
   "source": [
    "# Keyboard shortcuts\n",
    "If you are on a Mac replace ctrl by cmd.\n",
    "\n",
    "* `Shift`-`Enter`: run the cell and select the cell below\n",
    "* `Ctrl`-`s`: save the notebook\n",
    "\n",
    "<span style=\"color:red\">**Assignment (1 min):**</span> Try these out on the cells above"
   ]
  },
  {
   "cell_type": "markdown",
   "metadata": {},
   "source": [
    "# Memory and the kernel"
   ]
  },
  {
   "cell_type": "markdown",
   "metadata": {},
   "source": [
    "Code is run in a separate process called the Kernel.  The Kernel can be interrupted or restarted. \n",
    "\n",
    "<span style=\"color:red\">**Assignment (1 min):**</span>\n",
    "Try running the following cell, it contains a sleep command that will do absolutely nothing for 20 seconds. During this time the kernel will be busy. Notice that in the top-right corner the circle will be black to indicate this. Hit the <button class='btn btn-default btn-xs'><i class='icon-stop fa fa-stop'></i></button> button in the toolbar above to interrupt the computation.\n",
    "\n",
    "**Key takeaway:** the circular indicator shows you if Jupyter is busy computing something, and you can interrupt this if needed."
   ]
  },
  {
   "cell_type": "code",
   "execution_count": null,
   "metadata": {},
   "outputs": [],
   "source": [
    "import time\n",
    "time.sleep(20)"
   ]
  },
  {
   "cell_type": "markdown",
   "metadata": {},
   "source": [
    "# Plots: The power of powers\n",
    "\"The greatest shortcoming of the human race is our inability to understand the exponential function.\" --Albert Allen Bartlett (https://en.wikipedia.org/wiki/Albert_Allen_Bartlett)\n",
    "\n",
    "Exponential growth is fast. Consider a population of bacteria or cancer cells. Each generation each bacteria in the population divides in two. The code below shows the (perhaps surprising) rate of growth in the number of bacteria."
   ]
  },
  {
   "cell_type": "markdown",
   "metadata": {},
   "source": [
    "<span style=\"color:red\">**Assignment (3 min):**</span>\n",
    "* Execute the two cells below. \n",
    "* Write down the number of bacteria/cells after 25 generations. Look carefully at the y-axis. \n",
    "* Change the number of generations in the code cell to 50. Execute the cell again and notice the change on the y-axis. \n",
    "* You doubled the number of generations. By how much did the number of bacteria increase? \n",
    "* Are you surprised or not? "
   ]
  },
  {
   "cell_type": "code",
   "execution_count": null,
   "metadata": {},
   "outputs": [],
   "source": [
    "import matplotlib.pyplot as plt"
   ]
  },
  {
   "cell_type": "code",
   "execution_count": null,
   "metadata": {},
   "outputs": [],
   "source": [
    "population_size = {0:1} # in generation 0 there is one bacteria\n",
    "for generation in range(1,25): # simulation of generations 1-24\n",
    "    population_size[generation] = population_size[generation-1]*2\n",
    "    \n",
    "plt.plot(list(population_size.values()))\n",
    "ax = plt.gca() # plt.gca gets the current figure so that we can alter its properties\n",
    "ax.set_xlabel('Generations')\n",
    "ax.set_ylabel('# bacteria')\n",
    "plt.show()"
   ]
  },
  {
   "cell_type": "markdown",
   "metadata": {},
   "source": [
    "# The end: return to the \"tutorial hub\" notebook\n",
    "and continue with the next part of the tutorial."
   ]
  },
  {
   "cell_type": "code",
   "execution_count": null,
   "metadata": {},
   "outputs": [],
   "source": []
  }
 ],
 "metadata": {
  "kernelspec": {
   "display_name": "Python 3",
   "language": "python",
   "name": "python3"
  },
  "language_info": {
   "codemirror_mode": {
    "name": "ipython",
    "version": 3
   },
   "file_extension": ".py",
   "mimetype": "text/x-python",
   "name": "python",
   "nbconvert_exporter": "python",
   "pygments_lexer": "ipython3",
   "version": "3.6.1"
  },
  "toc": {
   "nav_menu": {},
   "number_sections": true,
   "sideBar": true,
   "skip_h1_title": false,
   "toc_cell": false,
   "toc_position": {},
   "toc_section_display": "block",
   "toc_window_display": false
  }
 },
 "nbformat": 4,
 "nbformat_minor": 2
}
