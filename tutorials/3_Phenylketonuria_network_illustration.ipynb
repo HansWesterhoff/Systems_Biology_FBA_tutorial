{
 "cells": [
  {
   "cell_type": "markdown",
   "metadata": {},
   "source": [
    "# Phenylketonuria predictions with the human metabolic map RECON2\n",
    "\n",
    "<p>**Authors**: Thierry D.G.A Mondeel, Stefania Astrologo, Ewelina Weglarz-Tomczak & Hans V. Westerhoff <br/>\n",
    "University of Amsterdam <br/>2017\n",
    "</p>"
   ]
  },
  {
   "cell_type": "markdown",
   "metadata": {},
   "source": [
    "## Aim of this notebook\n",
    "In this notebook we will aim to reproduce the inborn error of metabolism phenylketonuria (PKU) on the human metabolic reconstruction. In patients with PKU the enzyme converting phenylalanine into tyrosine (PAH) is not functional. "
   ]
  },
  {
   "cell_type": "markdown",
   "metadata": {},
   "source": [
    "## Setup\n",
    "We start by setting up the python environment and loading RECON2. This part may take 10 seconds or so. "
   ]
  },
  {
   "cell_type": "code",
   "execution_count": 1,
   "metadata": {},
   "outputs": [],
   "source": [
    "import cobra\n",
    "from cobra.flux_analysis import pfba\n",
    "import pandas as pd # for nice tables\n",
    "pd.set_option('display.max_colwidth', -1)\n",
    "\n",
    "import escher\n",
    "escher_colors = [{'type': 'min', 'color': '#cccccc', 'size': 5},\n",
    "                                       {'type': 'mean', 'color': '#458b74', 'size': 15},\n",
    "                                       {'type': 'max', 'color': '#ff7f24', 'size': 25}]\n",
    "\n",
    "M = cobra.io.load_json_model('models/recon_2_2_simple_medium.json')\n",
    "model = M.copy() # this way we can edit model but leave M unaltered"
   ]
  },
  {
   "cell_type": "markdown",
   "metadata": {},
   "source": [
    "## Preliminary network investigation\n",
    "<span style=\"color:red\">**Assignment (3 min):**</span>\n",
    "Try to print in the cell below all the reactions (not just their names but their reaction equations) that phenylalanine engages in. If you don't remember how to code this, refer back to the previous notebook. \n",
    "\n",
    "**Hint** write a for loop over the reactions attribute of the phenylalanine metabolite..."
   ]
  },
  {
   "cell_type": "code",
   "execution_count": null,
   "metadata": {
    "collapsed": true
   },
   "outputs": [],
   "source": []
  },
  {
   "cell_type": "markdown",
   "metadata": {},
   "source": [
    "<span style=\"color:red\">**Assignment (5 min):**</span>Compare reaction r0399 and the PHETHPTOX2 reaction. What is their relationship? Are they encoded by the same gene or different genes? Check this."
   ]
  },
  {
   "cell_type": "code",
   "execution_count": null,
   "metadata": {
    "collapsed": true
   },
   "outputs": [],
   "source": []
  },
  {
   "cell_type": "markdown",
   "metadata": {},
   "source": [
    "To investigate PKU we will ask the model for growth before and after the mutation in the PHETHPTOX2 gene. \n",
    "\n",
    "We require that there is always a base level of growth (0.5, arbitrary) so that the model is forced to predict a flux distribution in which growth is occuring.\n",
    "\n",
    "We also made a so-called escher map on which to visualize our results. This makes it a bit more intuitive to see what is going on."
   ]
  },
  {
   "cell_type": "markdown",
   "metadata": {},
   "source": [
    "### Question: Are the PHETHPTOX2 and r0399 reactions essential? \n",
    "If yes, why? If not, why not?\n",
    "\n",
    "### Deletions\n",
    "We will now block r0399 and see what happens. "
   ]
  },
  {
   "cell_type": "code",
   "execution_count": null,
   "metadata": {
    "collapsed": true
   },
   "outputs": [],
   "source": [
    "model.reactions.r0399.upper_bound = 0; model.reactions.r0399.lower_bound = 0;\n",
    "\n",
    "ess_rxns2 = model.essential_reactions()\n",
    "\n",
    "print '{} reactions are essential for growth\\n\\n'.format(len(ess_rxns2))\n",
    "\n",
    "fbaTable = pd.DataFrame( { 'ID' : [rxn.id for rxn in ess_rxns2],\n",
    "                'Name' : [rxn.name for rxn in ess_rxns2],\n",
    "                'Reaction' : [rxn.reaction for rxn in ess_rxns2]  } )\n",
    "fbaTable[['ID','Name','Reaction']]\n",
    "\n",
    "### Question: What changed and why?\n",
    "\n",
    "These reactions are newly essential\n",
    "\n",
    "for rxn in ess_rxns2:\n",
    "    if rxn not in ess_rxns :\n",
    "        print '{} \\t {} \\t {}'.format(rxn.id,rxn.name,rxn.reaction)\n",
    "\n",
    "### Assignment\n",
    "Knockout the gene encoding both the PHETHPTOX2 and r0399 reactions and see what happens if you optimize for growth. What do you expect? Is that what you see?\n",
    "\n",
    "We already wrote the code that knocks out the gene for you. You should add the FBA simulation and print the flux through the biomass reaction\n",
    "\n",
    "model = M.copy() # start fresh\n",
    "\n",
    "print model.reactions.PHETHPTOX2.genes # list the gene\n",
    "\n",
    "model.genes.g1573.knock_out() # knock it out\n",
    "\n",
    "# check that it worked\n",
    "model.reactions.PHETHPTOX2.bounds"
   ]
  },
  {
   "cell_type": "markdown",
   "metadata": {},
   "source": [
    "## PKU and brain disorders\n",
    "Take look at the escher map we draw centered around the phenylalanine to tyrosine reaction. \n",
    "\n",
    "Note: This is only a subset of the reactions in RECON2. There are many more side branches we could draw here. We tried to emulate here the classical textbook we of representing the pathway.\n",
    "\n",
    "Can you see from the map how PKU might lead to brain development issues?"
   ]
  },
  {
   "cell_type": "code",
   "execution_count": 2,
   "metadata": {},
   "outputs": [
    {
     "ename": "Exception",
     "evalue": "Could not find the map escher_map_RECON2_AA_metabolism in the cache or on the server",
     "output_type": "error",
     "traceback": [
      "\u001b[0;31m---------------------------------------------------------------------------\u001b[0m",
      "\u001b[0;31mException\u001b[0m                                 Traceback (most recent call last)",
      "\u001b[0;32m<ipython-input-2-c4f760177f02>\u001b[0m in \u001b[0;36m<module>\u001b[0;34m()\u001b[0m\n\u001b[1;32m      1\u001b[0m pathway = escher.Builder(map_name='escher_map_RECON2_AA_metabolism', reaction_scale=escher_colors, \n\u001b[0;32m----> 2\u001b[0;31m                          reaction_data={}, reaction_styles=['color', 'size', 'text','abs'])\n\u001b[0m\u001b[1;32m      3\u001b[0m \u001b[0mpathway\u001b[0m\u001b[0;34m.\u001b[0m\u001b[0msave_html\u001b[0m\u001b[0;34m(\u001b[0m\u001b[0;34m'./predictions/empty_map.html'\u001b[0m\u001b[0;34m,\u001b[0m\u001b[0moverwrite\u001b[0m\u001b[0;34m=\u001b[0m\u001b[0mTrue\u001b[0m\u001b[0;34m,\u001b[0m\u001b[0menable_editing\u001b[0m\u001b[0;34m=\u001b[0m\u001b[0mFalse\u001b[0m\u001b[0;34m)\u001b[0m\u001b[0;34m\u001b[0m\u001b[0m\n\u001b[1;32m      4\u001b[0m \u001b[0mpathway\u001b[0m\u001b[0;34m.\u001b[0m\u001b[0mdisplay_in_notebook\u001b[0m\u001b[0;34m(\u001b[0m\u001b[0;34m)\u001b[0m\u001b[0;34m\u001b[0m\u001b[0m\n",
      "\u001b[0;32m/Users/thierry/anaconda/lib/python2.7/site-packages/escher/plots.pyc\u001b[0m in \u001b[0;36m__init__\u001b[0;34m(self, map_name, map_json, model, model_name, model_json, embedded_css, reaction_data, metabolite_data, gene_data, local_host, id, safe, **kwargs)\u001b[0m\n\u001b[1;32m    356\u001b[0m         \u001b[0;32mif\u001b[0m \u001b[0mmap_name\u001b[0m \u001b[0;32mand\u001b[0m \u001b[0mmap_json\u001b[0m\u001b[0;34m:\u001b[0m\u001b[0;34m\u001b[0m\u001b[0m\n\u001b[1;32m    357\u001b[0m             \u001b[0mwarn\u001b[0m\u001b[0;34m(\u001b[0m\u001b[0;34m'map_json overrides map_name'\u001b[0m\u001b[0;34m)\u001b[0m\u001b[0;34m\u001b[0m\u001b[0m\n\u001b[0;32m--> 358\u001b[0;31m         \u001b[0mself\u001b[0m\u001b[0;34m.\u001b[0m\u001b[0m_load_map\u001b[0m\u001b[0;34m(\u001b[0m\u001b[0;34m)\u001b[0m\u001b[0;34m\u001b[0m\u001b[0m\n\u001b[0m\u001b[1;32m    359\u001b[0m         \u001b[0;31m# load the model\u001b[0m\u001b[0;34m\u001b[0m\u001b[0;34m\u001b[0m\u001b[0m\n\u001b[1;32m    360\u001b[0m         \u001b[0mself\u001b[0m\u001b[0;34m.\u001b[0m\u001b[0mmodel\u001b[0m \u001b[0;34m=\u001b[0m \u001b[0mmodel\u001b[0m\u001b[0;34m\u001b[0m\u001b[0m\n",
      "\u001b[0;32m/Users/thierry/anaconda/lib/python2.7/site-packages/escher/plots.pyc\u001b[0m in \u001b[0;36m_load_map\u001b[0;34m(self)\u001b[0m\n\u001b[1;32m    467\u001b[0m                                                   safe=self.safe)\n\u001b[1;32m    468\u001b[0m         \u001b[0;32melif\u001b[0m \u001b[0mself\u001b[0m\u001b[0;34m.\u001b[0m\u001b[0mmap_name\u001b[0m \u001b[0;32mis\u001b[0m \u001b[0;32mnot\u001b[0m \u001b[0mNone\u001b[0m\u001b[0;34m:\u001b[0m\u001b[0;34m\u001b[0m\u001b[0m\n\u001b[0;32m--> 469\u001b[0;31m             \u001b[0mself\u001b[0m\u001b[0;34m.\u001b[0m\u001b[0mloaded_map_json\u001b[0m \u001b[0;34m=\u001b[0m \u001b[0mmap_json_for_name\u001b[0m\u001b[0;34m(\u001b[0m\u001b[0mself\u001b[0m\u001b[0;34m.\u001b[0m\u001b[0mmap_name\u001b[0m\u001b[0;34m)\u001b[0m\u001b[0;34m\u001b[0m\u001b[0m\n\u001b[0m\u001b[1;32m    470\u001b[0m \u001b[0;34m\u001b[0m\u001b[0m\n\u001b[1;32m    471\u001b[0m \u001b[0;34m\u001b[0m\u001b[0m\n",
      "\u001b[0;32m/Users/thierry/anaconda/lib/python2.7/site-packages/escher/plots.pyc\u001b[0m in \u001b[0;36mmap_json_for_name\u001b[0;34m(map_name, cache_dir)\u001b[0m\n\u001b[1;32m    173\u001b[0m \u001b[0;34m\u001b[0m\u001b[0m\n\u001b[1;32m    174\u001b[0m \u001b[0;32mdef\u001b[0m \u001b[0mmap_json_for_name\u001b[0m\u001b[0;34m(\u001b[0m\u001b[0mmap_name\u001b[0m\u001b[0;34m,\u001b[0m \u001b[0mcache_dir\u001b[0m\u001b[0;34m=\u001b[0m\u001b[0mget_cache_dir\u001b[0m\u001b[0;34m(\u001b[0m\u001b[0;34m)\u001b[0m\u001b[0;34m)\u001b[0m\u001b[0;34m:\u001b[0m\u001b[0;34m\u001b[0m\u001b[0m\n\u001b[0;32m--> 175\u001b[0;31m     \u001b[0;32mreturn\u001b[0m \u001b[0m_json_for_name\u001b[0m\u001b[0;34m(\u001b[0m\u001b[0mmap_name\u001b[0m\u001b[0;34m,\u001b[0m \u001b[0;34m'map'\u001b[0m\u001b[0;34m,\u001b[0m \u001b[0mcache_dir\u001b[0m\u001b[0;34m)\u001b[0m\u001b[0;34m\u001b[0m\u001b[0m\n\u001b[0m\u001b[1;32m    176\u001b[0m \u001b[0;34m\u001b[0m\u001b[0m\n\u001b[1;32m    177\u001b[0m \u001b[0;31m# helper functions\u001b[0m\u001b[0;34m\u001b[0m\u001b[0;34m\u001b[0m\u001b[0m\n",
      "\u001b[0;32m/Users/thierry/anaconda/lib/python2.7/site-packages/escher/plots.pyc\u001b[0m in \u001b[0;36m_json_for_name\u001b[0;34m(name, kind, cache_dir)\u001b[0m\n\u001b[1;32m    149\u001b[0m         \u001b[0mmatch\u001b[0m \u001b[0;34m=\u001b[0m \u001b[0mmatch_in_index\u001b[0m\u001b[0;34m(\u001b[0m\u001b[0mname\u001b[0m\u001b[0;34m,\u001b[0m \u001b[0mserver_index\u001b[0m\u001b[0;34m(\u001b[0m\u001b[0;34m)\u001b[0m\u001b[0;34m,\u001b[0m \u001b[0mkind\u001b[0m\u001b[0;34m)\u001b[0m\u001b[0;34m\u001b[0m\u001b[0m\n\u001b[1;32m    150\u001b[0m         \u001b[0;32mif\u001b[0m \u001b[0mlen\u001b[0m\u001b[0;34m(\u001b[0m\u001b[0mmatch\u001b[0m\u001b[0;34m)\u001b[0m \u001b[0;34m==\u001b[0m \u001b[0;36m0\u001b[0m\u001b[0;34m:\u001b[0m\u001b[0;34m\u001b[0m\u001b[0m\n\u001b[0;32m--> 151\u001b[0;31m             \u001b[0;32mraise\u001b[0m \u001b[0mException\u001b[0m\u001b[0;34m(\u001b[0m\u001b[0;34m'Could not find the %s %s in the cache or on the server'\u001b[0m \u001b[0;34m%\u001b[0m \u001b[0;34m(\u001b[0m\u001b[0mkind\u001b[0m\u001b[0;34m,\u001b[0m \u001b[0mname\u001b[0m\u001b[0;34m)\u001b[0m\u001b[0;34m)\u001b[0m\u001b[0;34m\u001b[0m\u001b[0m\n\u001b[0m\u001b[1;32m    152\u001b[0m         \u001b[0morg\u001b[0m\u001b[0;34m,\u001b[0m \u001b[0mname\u001b[0m \u001b[0;34m=\u001b[0m \u001b[0mmatch\u001b[0m\u001b[0;34m[\u001b[0m\u001b[0;36m0\u001b[0m\u001b[0;34m]\u001b[0m\u001b[0;34m\u001b[0m\u001b[0m\n\u001b[1;32m    153\u001b[0m         url = (get_url(kind + '_download', source='web', protocol='https') +\n",
      "\u001b[0;31mException\u001b[0m: Could not find the map escher_map_RECON2_AA_metabolism in the cache or on the server"
     ]
    }
   ],
   "source": [
    "pathway = escher.Builder(map_name='escher_map_RECON2_AA_metabolism', reaction_scale=escher_colors, \n",
    "                         reaction_data={}, reaction_styles=['color', 'size', 'text','abs'])\n",
    "pathway.save_html('./predictions/empty_map.html',overwrite=True,enable_editing=False)\n",
    "pathway.display_in_notebook()"
   ]
  },
  {
   "cell_type": "markdown",
   "metadata": {},
   "source": [
    "In the following we will make various alterations to the model and visualize te flux distribution it predicts. We will project the results from flux balance analysis onto the escher map and print in text the flux variability analysis results for a couple key reactions.\n",
    "\n",
    "Remember that flux balance analysis gives us one flux distribution that achieves the optimal values for the objective reaction. In contrast, flux variability analysis gives us the minimal and maximal flux possible through the reaction while maintaining steady-state balance. "
   ]
  },
  {
   "cell_type": "markdown",
   "metadata": {},
   "source": [
    "### When the medium includes tyrosine and phenylalanine"
   ]
  },
  {
   "cell_type": "code",
   "execution_count": null,
   "metadata": {
    "collapsed": true
   },
   "outputs": [],
   "source": [
    "model.reactions.biomass_reaction.lower_bound = 0.5\n",
    "model.reactions.EX_tyr_L_e.lower_bound = -1\n",
    "\n",
    "rxnsOfInterest = [ model.reactions.biomass_reaction, model.reactions.EX_phe_L_e, model.reactions.EX_tyr_L_e, model.reactions.PHETHPTOX2, \\\n",
    "                  model.reactions.r0399 ]"
   ]
  },
  {
   "cell_type": "code",
   "execution_count": null,
   "metadata": {
    "collapsed": true
   },
   "outputs": [],
   "source": [
    "fbasol = cameo.pfba(model)\n",
    "fvasol = cameo.flux_variability_analysis(model,reactions=rxnsOfInterest,fraction_of_optimum=0)\n",
    "print fvasol.data_frame\n",
    "\n",
    "pathway = escher.Builder(map_name='escher_map_RECON2_AA_metabolism', reaction_scale=escher_colors, \n",
    "                         reaction_data={reaction: flux for reaction, flux in fbasol.fluxes.items() }, reaction_styles=['color', 'size', 'text','abs'])\n",
    "pathway.save_html('./predictions/PKU_default.html',overwrite=True,enable_editing=False)\n",
    "pathway.display_in_notebook()"
   ]
  },
  {
   "cell_type": "markdown",
   "metadata": {},
   "source": [
    "### Question\n",
    "Do you get why the enzyme catalyzing conversion of phenylalanine to tyrosine is not active here? "
   ]
  },
  {
   "cell_type": "markdown",
   "metadata": {},
   "source": [
    "## Medium without tyrosine \n"
   ]
  },
  {
   "cell_type": "code",
   "execution_count": null,
   "metadata": {
    "collapsed": true
   },
   "outputs": [],
   "source": [
    "model.reactions.EX_tyr_L_e.lower_bound = 0\n",
    "\n",
    "fbasol = cameo.pfba(model)\n",
    "fvasol = cameo.flux_variability_analysis(model,reactions=rxnsOfInterest,fraction_of_optimum=0)\n",
    "print fvasol.data_frame\n",
    "\n",
    "pathway = escher.Builder(map_name='escher_map_RECON2_AA_metabolism', reaction_scale=escher_colors, \n",
    "                         reaction_data={reaction: flux for reaction, flux in fbasol.fluxes.items() }, reaction_styles=['color', 'size', 'text','abs'])\n",
    "pathway.save_html('./predictions/PKU_noTyrosine.html',overwrite=True)\n",
    "pathway.display_in_notebook()"
   ]
  },
  {
   "cell_type": "markdown",
   "metadata": {},
   "source": [
    "### Question \n",
    "* How is it possible that there is still equal biomass reaction flux?\n",
    "* The flux variability result shows us the interval for EX_phe_L_e is entirely negative. What does this mean?\n",
    "* Why is PHETHPTOX2 not essential here? I.e. why does FVA allow its minimu to be zero?\n",
    "\n",
    "Note: The recycling pathway of biopterin."
   ]
  },
  {
   "cell_type": "markdown",
   "metadata": {},
   "source": [
    "## Can we knock  out one of the two conversion enzymes and get the other one?"
   ]
  },
  {
   "cell_type": "code",
   "execution_count": null,
   "metadata": {
    "collapsed": true
   },
   "outputs": [],
   "source": [
    "model.reactions.r0399.upper_bound = 0;\n",
    "\n",
    "fbasol = cameo.pfba(model)\n",
    "fvasol = cameo.flux_variability_analysis(model,reactions=rxnsOfInterest,fraction_of_optimum=0,remove_cycles=True)\n",
    "print fvasol.data_frame\n",
    "\n",
    "pathway = escher.Builder(map_name='escher_map_RECON2_AA_metabolism', reaction_scale=escher_colors, \n",
    "                         reaction_data={reaction: flux for reaction, flux in fbasol.fluxes.items() }, reaction_styles=['color', 'size', 'text','abs'])\n",
    "pathway.save_html('./predictions/PKU_noTyrosine_nor0399.html',overwrite=True)\n",
    "pathway.display_in_notebook()"
   ]
  },
  {
   "cell_type": "markdown",
   "metadata": {},
   "source": [
    "### Question\n",
    "Is PHETHPTOX2 now essential? ie. is it required to carry flux to get growth?"
   ]
  },
  {
   "cell_type": "markdown",
   "metadata": {},
   "source": [
    "## knockout PAH and its alternative reaction by knocking out the gene"
   ]
  },
  {
   "cell_type": "code",
   "execution_count": null,
   "metadata": {
    "collapsed": true
   },
   "outputs": [],
   "source": [
    "model.reactions.PHETHPTOX2.genes"
   ]
  },
  {
   "cell_type": "markdown",
   "metadata": {},
   "source": [
    "### ASSIGNMENT\n",
    "In the cell below add the code to knockout the gene and see what happens. Does the result make sense?"
   ]
  },
  {
   "cell_type": "code",
   "execution_count": null,
   "metadata": {
    "collapsed": true
   },
   "outputs": [],
   "source": [
    "### KNOCKOUT THE GENE HERE\n",
    "\n",
    "fbasol = cameo.pfba(model)\n",
    "fvasol = cameo.flux_variability_analysis(model,reactions=rxnsOfInterest,fraction_of_optimum=0,remove_cycles=True)\n",
    "print fvasol.data_frame\n",
    "\n",
    "pathway = escher.Builder(map_name='escher_map_RECON2_AA_metabolism', reaction_scale=escher_colors, \n",
    "                         reaction_data={reaction: flux for reaction, flux in fbasol.fluxes.items() }, reaction_styles=['color', 'size', 'text','abs'])\n",
    "pathway.save_html('./predictions/PKU_noTyrosine_nor0399_noPhethptox2.html',overwrite=True)\n",
    "pathway.display_in_notebook()"
   ]
  },
  {
   "cell_type": "markdown",
   "metadata": {},
   "source": [
    "## Can we restore life through food?\n",
    "* before we were missing the backward step from 34hpp (hydroxy phenyl pyruvate): it was not present in the medium by assumption\n",
    "* Allowing this metabolite in the medium restores growth capability since the metabolic map allows the side branch pathway to run in reverse\n",
    "* The thermodynamics of this reaction are questionable"
   ]
  },
  {
   "cell_type": "code",
   "execution_count": null,
   "metadata": {
    "collapsed": true
   },
   "outputs": [],
   "source": [
    "model = M.copy()\n",
    "model.reactions.EX_34hpp.lower_bound = -1; \n",
    "rxnsOfInterest = [ model.reactions.biomass_reaction, model.reactions.EX_phe_L_e, model.reactions.EX_tyr_L_e, model.reactions.PHETHPTOX2, \\\n",
    "                  model.reactions.r0399, model.reactions.EX_34hpp]\n",
    "\n",
    "model.genes.g1573.knock_out()\n",
    "\n",
    "fbasol = cameo.pfba(model)\n",
    "fvasol = cameo.flux_variability_analysis(model,reactions=rxnsOfInterest,fraction_of_optimum=0)\n",
    "print fvasol.data_frame\n",
    "\n",
    "pathway = escher.Builder(map_name='escher_map_RECON2_AA_metabolism', reaction_scale=escher_colors, \n",
    "                         reaction_data={reaction: flux for reaction, flux in fbasol.fluxes.items() }, reaction_styles=['color', 'size', 'text','abs'])\n",
    "pathway.save_html('./predictions/PKU_noTyrosine_nor0399_noPhethptox2_34hpp.html',overwrite=True)\n",
    "pathway.display_in_notebook()"
   ]
  },
  {
   "cell_type": "markdown",
   "metadata": {},
   "source": [
    "### Discuss \n",
    "Even though this may be a simple example what does it teach us about the potential utility of the human metabolic map? \n",
    "\n",
    "Can you envision a future in which each individual has his or her genetic mutations mapped onto such a model?\n",
    "Could we use similar tricks like discussed above to find ways (with food and drugs) around the blockages such mutations generatate?"
   ]
  },
  {
   "cell_type": "code",
   "execution_count": null,
   "metadata": {
    "collapsed": true
   },
   "outputs": [],
   "source": []
  }
 ],
 "metadata": {
  "kernelspec": {
   "display_name": "Python 2",
   "language": "python",
   "name": "python2"
  },
  "language_info": {
   "codemirror_mode": {
    "name": "ipython",
    "version": 2
   },
   "file_extension": ".py",
   "mimetype": "text/x-python",
   "name": "python",
   "nbconvert_exporter": "python",
   "pygments_lexer": "ipython2",
   "version": "2.7.12"
  }
 },
 "nbformat": 4,
 "nbformat_minor": 1
}
