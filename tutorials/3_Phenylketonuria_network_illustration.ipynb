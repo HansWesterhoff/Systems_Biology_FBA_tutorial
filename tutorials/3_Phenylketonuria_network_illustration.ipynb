{
 "cells": [
  {
   "cell_type": "markdown",
   "metadata": {},
   "source": [
    "# Phenylketonuria predictions with the human metabolic map RECON2\n",
    "\n",
    "<p>**Authors**: Thierry D.G.A Mondeel, Stefania Astrologo, Ewelina Weglarz-Tomczak & Hans V. Westerhoff <br/>\n",
    "University of Amsterdam <br/>2017\n",
    "</p>\n",
    "\n",
    "## Aim of this notebook\n",
    "In this notebook we will aim to reproduce the inborn error of metabolism phenylketonuria (PKU) on the human metabolic reconstruction. In patients with PKU the enzyme converting phenylalanine into tyrosine (PAH) is not functional. \n",
    "\n",
    "We will aim to show that the human metabolic reconstruction model is able to correctly predict that knockout of the PKU gene leads to problems in growth and neurotransmitter productions.\n",
    "\n",
    "## Setup\n",
    "We start by setting up the python environment and loading RECON2. This part may take 10 seconds or so. "
   ]
  },
  {
   "cell_type": "code",
   "execution_count": null,
   "metadata": {
    "collapsed": true
   },
   "outputs": [],
   "source": [
    "import cobra\n",
    "from cobra.flux_analysis import pfba\n",
    "import pandas as pd # for nice tables\n",
    "pd.set_option('display.max_colwidth', -1)\n",
    "from utils import show_map\n",
    "import escher\n",
    "\n",
    "map_loc = './maps/escher_map_RECON2_AA_metabolism.json' # the escher map used below\n",
    "\n",
    "from IPython.core.interactiveshell import InteractiveShell\n",
    "InteractiveShell.ast_node_interactivity = \"all\"\n",
    "\n",
    "M = cobra.io.load_json_model('models/recon_2_2_simple_medium.json')\n",
    "model = M.copy() # this way we can edit model but leave M unaltered"
   ]
  },
  {
   "cell_type": "markdown",
   "metadata": {},
   "source": [
    "## Phenylalanine Catabolism Is Genetically Defective in Some People}\n",
    "<span style=\"color:red\">**Assignment (10 min):**</span> Read the text below and study the images.\n",
    "\n",
    "The following is taking from Lehninger's principles of biochemistry. \n",
    "\n",
    "Given that many amino acids are either neuro-transmitters or precursors or antagonists of neutrotransmitters, genetic defects of amino acid metabolism can cause defective neural development and mental retardation. In most such diseases specific intermediates accumulate. For example, a genetic defect in phenylalanine hydroxylase, the first enzyme in the catabolic pathway for phenylalanine, is responsible for the disease phenylketonuria (PKU), the most common cause of elevated levels of phenylalanine (hyperphenylalaninemia). Phenylalanine hydroxylase (also called phenylalanine-4-monooxygenase) is one of a general class of enzymes called mixed-function oxidases, all of which catalyze simultaneous hydroxylation of a substrate by an oxygen atom of $O_2$ and reduction of the other oxygen atom to $H_2O$. Phenylalanine hydroxylase requires the cofactor tetrahydrobiopterin, which carries electrons from NADH to $O_2$ and becomes oxidized to dihydrobiopterin in the process. It is subsequently reduced by the enzyme dihydrobiopterin reductase in a reaction that requires NADH.\n",
    "\n",
    "In individuals with PKU, a secondary, normally little-used pathway of phenylalanine metabolism comes into play. In this pathway phenylalanine undergoes transamination with pyruvate to yield phenylpyruvate. Phenylalanine and phenylpyruvate accumulate in the blood and tissues and are excreted in the urine—hence the name “phenylketonuria.” Much of the phenylpyruvate, rather than being excreted as such, is either decarboxylated to phenylacetate or reduced to phenyllactate. Phenylacetate imparts a characteristic odor to the urine, which nurses have traditionally used to detect PKU in infants. The accumulation of phenylalanine or its metabolites in early life impairs normal development of the brain, causing severe mental retardation. This may be caused by excess phenylalanine competing with other amino acids for transport across the blood-brain barrier, resulting in a deficit of required metabolites.\n",
    "\n",
    "Phenylketonuria was among the first inheritable metabolic defects discovered in humans. When this condition is recognized early in infancy, mental retardation can largely be prevented by rigid dietary control. The diet must supply only enough phenylalanine and tyrosine to meet the needs for protein synthesis. Consumption of protein-rich foods must be curtailed. Natural proteins, such as casein of milk, must first be hydrolyzed and much of the phenylalanine removed to provide an appropriate diet, at least through childhood. Because the artificial sweetener aspartame is a dipeptide of aspartate and the methyl ester of phenylalanine, foods sweetened with aspartame bear warnings addressed to individuals on phenylalanine-controlled diets.\n",
    "\n",
    "<img src=\"images/lehninger-IEMs.png\" style=\"width: 650px;\"/>\n",
    "**Figure 1:** Catabolic pathways for phenylalanine and tyrosine. In humans these amino acids are normally converted to acetoacetyl-CoA and fumarate. Genetic defects in many of these enzymes cause inheritable human diseases (shaded yellow). Source: Lehninger. \n",
    "\n",
    "\n",
    "Also see Figure 1 from below for a pathway visualization of some more common IEMs.\n",
    "\n",
    "Phenylketonuria can also be caused by a defect in the enzyme that catalyzes the regeneration of tetrahydrobiopterin. The treatment in this case is more complex than restricting the intake of phenylala- nine and tyrosine.\n",
    "\n",
    "Tetrahydrobiopterin is also required for the formation of L-3,4 dihydroxyphenylalanine (L-dopa) and 5-hydroxytryptophan precursors of the neurotransmitters norepinephrine and serotonin, respectively and in phenylketonuria of this type, these pre- cursors must be supplied in the diet. Supplementing the diet with tetrahydrobiopterin itself is ineffective because it is unstable and does not cross the blood-brain barrier.\n",
    "\n",
    "Also see Figure 2 for the salvage reaction of biopterin.\n",
    "\n",
    "![biopterin_salvage.png](images/biopterin_salvage.png)\n",
    "**Figure 2:** Role of tetrahydrobiopterin in the phenylalanine hydroxylase reaction. Source: Lehninger. "
   ]
  },
  {
   "cell_type": "markdown",
   "metadata": {},
   "source": [
    "<span style=\"color:red\">**Assignment (3 min):**</span> Isn't it strange that in Figure 1 the PAH reaction uses NADH?. Explain this. "
   ]
  },
  {
   "cell_type": "markdown",
   "metadata": {},
   "source": [
    "## Preliminary network investigation\n",
    "\n",
    "Now we will investigate to see if the human metabolic reconstruction implements the network surrounding PAH as described in Lehninger. The image above, is a simplified view of the PAH enzyme and the recycling of the BH4 co-factor."
   ]
  },
  {
   "cell_type": "markdown",
   "metadata": {},
   "source": [
    "<span style=\"color:red\">**Assignment (3 min):**</span>\n",
    "Try to print in the cell below all the reactions (not just their names but their reaction equations) that phenylalanine engages in. If you don't remember how to code this, refer back to the previous notebook. \n",
    "\n",
    "**Hint:** write a for loop over the reactions attribute of the phenylalanine metabolite..."
   ]
  },
  {
   "cell_type": "code",
   "execution_count": null,
   "metadata": {
    "collapsed": true
   },
   "outputs": [],
   "source": [
    "# write a for loop here. \n",
    "# tip: make use of model.reactions and of the .reaction attribute of each reaction"
   ]
  },
  {
   "cell_type": "markdown",
   "metadata": {},
   "source": [
    "<span style=\"color:red\">**Assignment (5 min):**</span> Compare reaction r0399 and the PHETHPTOX2 reaction. What is their relationship? Are they encoded by the same gene or different genes? Check this."
   ]
  },
  {
   "cell_type": "code",
   "execution_count": null,
   "metadata": {
    "collapsed": true
   },
   "outputs": [],
   "source": []
  },
  {
   "cell_type": "markdown",
   "metadata": {},
   "source": [
    "<span style=\"color:red\">**Assignment (5 min):**</span> Investigate the reactions of tetrahydrobiopterin and dihydrobiopterin. How does the recycling occur?"
   ]
  },
  {
   "cell_type": "code",
   "execution_count": null,
   "metadata": {
    "collapsed": true
   },
   "outputs": [],
   "source": []
  },
  {
   "cell_type": "markdown",
   "metadata": {},
   "source": [
    "### A simple representation of the core network surrounding PAH mutation that leads to PKU\n",
    "\n",
    "![PKU_network.png](images/PKU_network.png)\n",
    "\n",
    "<span style=\"color:red\">**Assignment (5 min):**</span> Discuss: is this simplified view of the network surround PAH and the BH4 co-factor correctly describing the RECON 2 network?"
   ]
  },
  {
   "cell_type": "markdown",
   "metadata": {},
   "source": [
    "To investigate PKU we will ask the model for growth before and after the mutation in the PHETHPTOX2 gene. \n",
    "\n",
    "We require that there is always a base level of growth (0.5, arbitrary) so that the model is forced to predict a flux distribution in which growth is occuring."
   ]
  },
  {
   "cell_type": "code",
   "execution_count": null,
   "metadata": {
    "collapsed": true
   },
   "outputs": [],
   "source": [
    "model = M.copy()\n",
    "cobra.flux_analysis.flux_variability_analysis(model,reaction_list=['r0399','PHETHPTOX2'],fraction_of_optimum=0.5)[['minimum','maximum']]"
   ]
  },
  {
   "cell_type": "markdown",
   "metadata": {},
   "source": [
    "<span style=\"color:red\">**Assignment (2 min):**</span> Are the PHETHPTOX2 and r0399 reactions essential? \n",
    "If yes, why? If not, why not?\n",
    "\n",
    "### Deletions\n",
    "We will now block r0399 and see what happens."
   ]
  },
  {
   "cell_type": "code",
   "execution_count": null,
   "metadata": {
    "collapsed": true
   },
   "outputs": [],
   "source": [
    "model = M.copy()\n",
    "\n",
    "model.reactions.r0399.upper_bound = 0; model.reactions.r0399.lower_bound = 0;\n",
    "\n",
    "cobra.flux_analysis.flux_variability_analysis(model,reaction_list=['r0399','PHETHPTOX2'],fraction_of_optimum=0.01)[['minimum','maximum']]"
   ]
  },
  {
   "cell_type": "markdown",
   "metadata": {},
   "source": [
    "<span style=\"color:red\">**Assignment (2 min):**</span> What changed and why?\n"
   ]
  },
  {
   "cell_type": "markdown",
   "metadata": {},
   "source": [
    "<span style=\"color:red\">**Assignment (2 min):**</span>\n",
    "Knockout the gene encoding both the PHETHPTOX2 and r0399 reactions and see what happens if you optimize for growth. What do you expect? Is that what you see?\n",
    "\n",
    "We already wrote the code that knocks out the gene for you. You should add the FBA simulation and print the flux through the biomass reaction. Try using the summary function like we did in the last notebook."
   ]
  },
  {
   "cell_type": "code",
   "execution_count": null,
   "metadata": {
    "collapsed": true
   },
   "outputs": [],
   "source": [
    "model = M.copy() # start fresh\n",
    "\n",
    "model.reactions.PHETHPTOX2.genes # list the genes\n",
    "\n",
    "print('PHETHPTOX2 bounds before knockout:',model.reactions.PHETHPTOX2.bounds) # list the gene\n",
    "print('r0399 bounds before knockout:',model.reactions.r0399.bounds) # list the gene\n",
    "print()\n",
    "\n",
    "cobra.manipulation.delete_model_genes(model,['HGNC:8582']) # knock it out\n",
    "\n",
    "# check that it worked\n",
    "print('PHETHPTOX2 bounds before knockout:',model.reactions.PHETHPTOX2.bounds)\n",
    "print('r0399 bounds before knockout:',model.reactions.r0399.bounds) # list the gene\n",
    "print()\n",
    "\n",
    "## Add the biomass optimization step here!\n"
   ]
  },
  {
   "cell_type": "markdown",
   "metadata": {},
   "source": [
    "## PKU and brain disorders\n",
    "We generated a so-called escher map on which to visualize our results. This makes it a bit more intuitive to see what is going on.\n",
    "Take look at the escher map we draw centered around the phenylalanine to tyrosine reaction. \n",
    "\n",
    "Note: This is only a subset of the reactions in RECON2. There are many more side branches we could draw here. We tried to emulate here the classical textbook we of representing the pathway.\n",
    "\n",
    "Can you see from the map how PKU might lead to brain development issues?"
   ]
  },
  {
   "cell_type": "code",
   "execution_count": null,
   "metadata": {
    "collapsed": true,
    "scrolled": false
   },
   "outputs": [],
   "source": [
    "b = show_map([],map_loc)\n",
    "b.display_in_notebook()"
   ]
  },
  {
   "cell_type": "markdown",
   "metadata": {},
   "source": [
    "In the following we will make various alterations to the model and visualize te flux distribution it predicts. We will project the results from flux balance analysis onto the escher map and print in text the flux variability analysis results for a couple key reactions.\n",
    "\n",
    "Remember that flux balance analysis gives us one flux distribution that achieves the optimal values for the objective reaction. In contrast, flux variability analysis gives us the minimal and maximal flux possible through the reaction while maintaining steady-state balance. "
   ]
  },
  {
   "cell_type": "markdown",
   "metadata": {},
   "source": [
    "### When the medium includes tyrosine and phenylalanine"
   ]
  },
  {
   "cell_type": "code",
   "execution_count": null,
   "metadata": {
    "collapsed": true
   },
   "outputs": [],
   "source": [
    "model.reactions.biomass_reaction.lower_bound = 0.05 # arbitrary but non-zero\n",
    "model.reactions.EX_tyr_L_e.lower_bound = -0.1\n",
    "\n",
    "rxnsOfInterest = [ model.reactions.biomass_reaction, model.reactions.EX_phe_L_e, model.reactions.EX_tyr_L_e, \n",
    "                  model.reactions.PHETHPTOX2, model.reactions.r0399 ]\n",
    "\n",
    "fbasol = pfba(model)\n",
    "fvasol = cobra.flux_analysis.flux_variability_analysis(model,reactions=rxnsOfInterest,fraction_of_optimum=0)\n",
    "fvasol"
   ]
  },
  {
   "cell_type": "code",
   "execution_count": null,
   "metadata": {
    "collapsed": true
   },
   "outputs": [],
   "source": [
    "b = show_map(fbasol,map_loc)\n",
    "b.display_in_notebook()"
   ]
  },
  {
   "cell_type": "markdown",
   "metadata": {},
   "source": [
    "<span style=\"color:red\">**Assignment (2 min):**</span>Do you get why the enzyme catalyzing conversion of phenylalanine to tyrosine is not active here? "
   ]
  },
  {
   "cell_type": "markdown",
   "metadata": {},
   "source": [
    "## Medium without tyrosine \n"
   ]
  },
  {
   "cell_type": "code",
   "execution_count": null,
   "metadata": {
    "collapsed": true
   },
   "outputs": [],
   "source": [
    "model.reactions.EX_tyr_L_e.lower_bound = 0\n",
    "\n",
    "fbasol = pfba(model)\n",
    "fvasol = cobra.flux_analysis.flux_variability_analysis(model,reactions=rxnsOfInterest,fraction_of_optimum=0)\n",
    "fvasol.data_frame\n",
    "\n",
    "b = show_map(fbasol,map_loc)\n",
    "b.display_in_notebook()"
   ]
  },
  {
   "cell_type": "markdown",
   "metadata": {},
   "source": [
    "<span style=\"color:red\">**Assignment (2 min):**</span>\n",
    "* How is it possible that there is still equal biomass reaction flux?\n",
    "* The flux variability result shows us the interval for EX_phe_L_e is entirely negative. What does this mean?\n",
    "* Why is PHETHPTOX2 not essential here? I.e. why does FVA allow its minimu to be zero?\n",
    "\n",
    "Note: The recycling pathway of biopterin."
   ]
  },
  {
   "cell_type": "markdown",
   "metadata": {},
   "source": [
    "## Can we knock  out one of the two conversion enzymes and get the other one?"
   ]
  },
  {
   "cell_type": "code",
   "execution_count": null,
   "metadata": {
    "collapsed": true
   },
   "outputs": [],
   "source": [
    "model.reactions.r0399.upper_bound = 0;\n",
    "\n",
    "fbasol = pfba(model)\n",
    "fvasol = cobra.flux_analysis.flux_variability_analysis(model,reactions=rxnsOfInterest,fraction_of_optimum=0,remove_cycles=True)\n",
    "fvasol.data_frame\n",
    "\n",
    "b = show_map(fbasol,map_loc)\n",
    "b.display_in_notebook()"
   ]
  },
  {
   "cell_type": "markdown",
   "metadata": {},
   "source": [
    "<span style=\"color:red\">**Assignment (2 min):**</span>Is PHETHPTOX2 now essential? ie. is it required to carry flux to get growth?"
   ]
  },
  {
   "cell_type": "markdown",
   "metadata": {},
   "source": [
    "## knockout PAH and its alternative reaction by knocking out the gene"
   ]
  },
  {
   "cell_type": "code",
   "execution_count": null,
   "metadata": {
    "collapsed": true
   },
   "outputs": [],
   "source": [
    "model.reactions.PHETHPTOX2.genes"
   ]
  },
  {
   "cell_type": "markdown",
   "metadata": {},
   "source": [
    "<span style=\"color:red\">**Assignment (2 min):**</span> In the cell below add the code to knockout the gene and see what happens. Does the result make sense?"
   ]
  },
  {
   "cell_type": "code",
   "execution_count": null,
   "metadata": {
    "collapsed": true
   },
   "outputs": [],
   "source": [
    "### KNOCKOUT THE GENE HERE\n",
    "\n",
    "fbasol = pfba(model)\n",
    "fvasol = cobra.flux_analysis.flux_variability_analysis(model,reactions=rxnsOfInterest,fraction_of_optimum=0,remove_cycles=True)\n",
    "print fvasol.data_frame\n",
    "\n",
    "b = show_map(fbasol,map_loc)\n",
    "b.display_in_notebook()"
   ]
  },
  {
   "cell_type": "markdown",
   "metadata": {},
   "source": [
    "## Can we restore life through food?\n",
    "* before we were missing the backward step from 34hpp (hydroxy phenyl pyruvate): it was not present in the medium by assumption\n",
    "* Allowing this metabolite in the medium restores growth capability since the metabolic map allows the side branch pathway to run in reverse\n",
    "* The thermodynamics of this reaction are questionable"
   ]
  },
  {
   "cell_type": "code",
   "execution_count": 1,
   "metadata": {},
   "outputs": [
    {
     "ename": "NameError",
     "evalue": "name 'M' is not defined",
     "output_type": "error",
     "traceback": [
      "\u001b[0;31m---------------------------------------------------------------------------\u001b[0m",
      "\u001b[0;31mNameError\u001b[0m                                 Traceback (most recent call last)",
      "\u001b[0;32m<ipython-input-1-bf1cb4c05455>\u001b[0m in \u001b[0;36m<module>\u001b[0;34m()\u001b[0m\n\u001b[0;32m----> 1\u001b[0;31m \u001b[0mmodel\u001b[0m \u001b[0;34m=\u001b[0m \u001b[0mM\u001b[0m\u001b[0;34m.\u001b[0m\u001b[0mcopy\u001b[0m\u001b[0;34m(\u001b[0m\u001b[0;34m)\u001b[0m\u001b[0;34m\u001b[0m\u001b[0m\n\u001b[0m\u001b[1;32m      2\u001b[0m \u001b[0mmodel\u001b[0m\u001b[0;34m.\u001b[0m\u001b[0mreactions\u001b[0m\u001b[0;34m.\u001b[0m\u001b[0mEX_34hpp_\u001b[0m\u001b[0;34m.\u001b[0m\u001b[0mlower_bound\u001b[0m \u001b[0;34m=\u001b[0m \u001b[0;34m-\u001b[0m\u001b[0;36m1\u001b[0m\u001b[0;34m;\u001b[0m\u001b[0;34m\u001b[0m\u001b[0m\n\u001b[1;32m      3\u001b[0m rxnsOfInterest = [ model.reactions.biomass_reaction, model.reactions.EX_phe_L_e, model.reactions.EX_tyr_L_e, \n\u001b[1;32m      4\u001b[0m                   model.reactions.PHETHPTOX2, model.reactions.r0399, model.reactions.EX_34hpp_]\n\u001b[1;32m      5\u001b[0m \u001b[0;34m\u001b[0m\u001b[0m\n",
      "\u001b[0;31mNameError\u001b[0m: name 'M' is not defined"
     ]
    }
   ],
   "source": [
    "model = M.copy()\n",
    "model.reactions.EX_34hpp_.lower_bound = -1; \n",
    "rxnsOfInterest = [ model.reactions.biomass_reaction, model.reactions.EX_phe_L_e, model.reactions.EX_tyr_L_e, \n",
    "                  model.reactions.PHETHPTOX2, model.reactions.r0399, model.reactions.EX_34hpp_]\n",
    "\n",
    "model.genes.g1573.knock_out()\n",
    "\n",
    "fbasol = pfba(model)\n",
    "fvasol = cobra.flux_analysis.flux_variability_analysis(model,reactions=rxnsOfInterest,fraction_of_optimum=0)\n",
    "fvasol.data_frame\n",
    "\n",
    "b = show_map(fbasol,map_loc)\n",
    "b.display_in_notebook()"
   ]
  },
  {
   "cell_type": "markdown",
   "metadata": {},
   "source": [
    "<span style=\"color:red\">**Assignment (5 min):**</span> Even though this may be a simple example what does it teach us about the potential utility of the human metabolic map? \n",
    "\n",
    "Can you envision a future in which each individual has his or her genetic mutations mapped onto such a model?\n",
    "Could we use similar tricks like discussed above to find ways (with food and drugs) around the blockages such mutations generatate?"
   ]
  },
  {
   "cell_type": "code",
   "execution_count": null,
   "metadata": {
    "collapsed": true
   },
   "outputs": [],
   "source": []
  }
 ],
 "metadata": {
  "kernelspec": {
   "display_name": "Python 3",
   "language": "python",
   "name": "python3"
  },
  "language_info": {
   "codemirror_mode": {
    "name": "ipython",
    "version": 3
   },
   "file_extension": ".py",
   "mimetype": "text/x-python",
   "name": "python",
   "nbconvert_exporter": "python",
   "pygments_lexer": "ipython3",
   "version": "3.5.2"
  }
 },
 "nbformat": 4,
 "nbformat_minor": 1
}
