{
 "cells": [
  {
   "cell_type": "markdown",
   "metadata": {},
   "source": [
    "# Introduction to the jupyter notebook\n",
    "<p>**Authors**: Thierry D.G.A Mondeel, Stefania Astrologo, Ewelina Weglarz-Tomczak & Hans V. Westerhoff <br/>\n",
    "University of Amsterdam <br/>2017\n",
    "</p>\n",
    "\n",
    "This material is heavily based on [Learning IPython for Interactive Computing and Data Visualization, second edition](http://ipython-books.github.io/minibook/).\n",
    "\n",
    "This first notebook is a fast introduction to the user interface of the Jupyter notebook. The point is to get you comfortable with executing cells of code, adding new ones and finding your way around. \n",
    "\n",
    "Do not focus too much on understanding the python code in this document. This is just an introduction to the user interface."
   ]
  },
  {
   "cell_type": "markdown",
   "metadata": {},
   "source": [
    "## The Jupyter notebook\n",
    "\n",
    "Jupyter notebook, formerly known as the IPython notebook, is a flexible tool that helps you create readable analyses, as you can keep code, images, comments, formulae and plots together.\n",
    "\n",
    "For reference and if you are interested\n",
    "* Main documentation of Jupyter at http://jupyter.readthedocs.org/en/latest/\n",
    "* Jupyter Notebook interface explained at http://jupyter-notebook.readthedocs.org/en/latest/notebook.html"
   ]
  },
  {
   "cell_type": "markdown",
   "metadata": {},
   "source": [
    "# Take the tour\n",
    "\n",
    "<span style=\"color:red\">**Assignment (5 min):**</span> Take the user interface tour by clicking help > User Interface Tour "
   ]
  },
  {
   "cell_type": "markdown",
   "metadata": {},
   "source": [
    "## Cell menu\n",
    "\n",
    "The \"Cell\" menu has a number of menu items for running code in different ways. These include:\n",
    "\n",
    "* Run and Select Below\n",
    "* Run and Insert Below\n",
    "* Run All\n",
    "* Run All Above\n",
    "* Run All Below\n",
    "\n",
    "## Edit menu\n",
    "\n",
    "The \"Edit\" menu has some common options to manage your cells. These include:\n",
    "* splitting and merging cells\n",
    "* Find and replace \n",
    "* Moving cells up and down (also notice the arrow keys in the toolbar)\n",
    "* image inserting\n",
    "\n",
    "## Fancy menu interaction\n",
    "Another way to access keyboard shortcuts, and a handy way to learn them is to use the command palette: Cmd + Shift + P (or Ctrl + Shift + P on Linux and Windows). This dialog box helps you run any command by name - useful if you don’t know the keyboard shortcut for an action or if what you want to do does not have a keyboard shortcut. Once you start using it you’ll wonder how you lived without it!"
   ]
  },
  {
   "cell_type": "markdown",
   "metadata": {},
   "source": [
    "# A notebook has two types of cells\n",
    "\n",
    "* A **Markdown cell** contains text. In addition to classic formatting options like bold or italics, we can add links, images, HTML elements, LaTeX mathematical equations, and more. \n",
    "* A **code cell** contains code to be executed by the kernel. The programming language corresponds to the kernel's language. We will only use Python here, but you can use many other languages.\n",
    "\n",
    "<span style=\"color:red\">**Assignment (2 min):**</span>Try adding a code cell and a markdown cell below. \n",
    "\n",
    "In the toolbar use the \"+\" the add new cells. Focus on one cell and use the toolbar to make it a code or markdown cell. \n",
    "- In the code cell try computing 2*2\n",
    "- Write some text in the markdown cell"
   ]
  },
  {
   "cell_type": "markdown",
   "metadata": {},
   "source": [
    "# Keyboard shortcuts\n",
    "If you are on a Mac replace ctrl by cmd.\n",
    "\n",
    "* `Ctrl`-`Enter`: run the cell\n",
    "* `Shift`-`Enter`: run the cell and select the cell below\n",
    "* `Alt`-`Enter`: run the cell and insert a new cell below\n",
    "* `Ctrl`-`s`: save the notebook\n",
    "\n",
    "<span style=\"color:red\">**Assignment (1 min):**</span> Try these out on the cells above"
   ]
  },
  {
   "cell_type": "markdown",
   "metadata": {},
   "source": [
    "# Running Code\n",
    "\n",
    "First and foremost, the Jupyter Notebook is an interactive environment for writing and running code. The notebook is capable of running code in a wide range of languages. However, each notebook is associated with a single kernel.  This notebook is associated with the Python kernel, therefore runs Python code.\n",
    "\n",
    "## Code cells allow you to enter and run code\n",
    "\n",
    "Run a code cell using `Shift-Enter` or pressing the <button class='btn btn-default btn-xs'><i class=\"icon-step-forward fa fa-step-forward\"></i></button> button in the toolbar above:"
   ]
  },
  {
   "cell_type": "code",
   "execution_count": null,
   "metadata": {
    "collapsed": true
   },
   "outputs": [],
   "source": [
    "a = 10\n",
    "a"
   ]
  },
  {
   "cell_type": "markdown",
   "metadata": {},
   "source": [
    "You can show the value of more than one variable by changing the display settings. You might have to run this cell twice to see both results. \n",
    "\n",
    "**Note:** the first two lines of code don't matter for you. We will included this in all subsequent notebooks. "
   ]
  },
  {
   "cell_type": "code",
   "execution_count": null,
   "metadata": {
    "collapsed": true
   },
   "outputs": [],
   "source": [
    "from IPython.core.interactiveshell import InteractiveShell\n",
    "InteractiveShell.ast_node_interactivity = \"all\"\n",
    "\n",
    "a = 1\n",
    "b = 2\n",
    "a\n",
    "b"
   ]
  },
  {
   "cell_type": "markdown",
   "metadata": {},
   "source": [
    "## Managing the Kernel"
   ]
  },
  {
   "cell_type": "markdown",
   "metadata": {},
   "source": [
    "Code is run in a separate process called the Kernel.  The Kernel can be interrupted or restarted. \n",
    "\n",
    "<span style=\"color:red\">**Assignment (1 min):**</span>\n",
    "Try running the following cell, it contains a sleep command that will do absolutely nothing for 20 seconds. During this time the kernal will be busy. Notice that in the top-right corner the circle will be black to indicate this. Hit the <button class='btn btn-default btn-xs'><i class='icon-stop fa fa-stop'></i></button> button in the toolbar above to interrupt the computation."
   ]
  },
  {
   "cell_type": "code",
   "execution_count": null,
   "metadata": {
    "collapsed": true
   },
   "outputs": [],
   "source": [
    "import time\n",
    "time.sleep(20)"
   ]
  },
  {
   "cell_type": "markdown",
   "metadata": {},
   "source": [
    "If the Kernel dies you will be prompted to restart it or it will do so automatically. \n",
    "\n",
    "The code below crashes the Python interpreter (you don't have to understand why!):"
   ]
  },
  {
   "cell_type": "code",
   "execution_count": null,
   "metadata": {
    "collapsed": true
   },
   "outputs": [],
   "source": [
    "import sys\n",
    "from ctypes import CDLL\n",
    "# This will crash a Linux or Mac system\n",
    "# equivalent calls can be made on Windows\n",
    "\n",
    "dll = 'dylib' if sys.platform == 'darwin' else 'so.6'\n",
    "libc = CDLL(\"libc.%s\" % dll) \n",
    "libc.time(-1)  # BOOM!!"
   ]
  },
  {
   "cell_type": "markdown",
   "metadata": {},
   "source": [
    "## Restarting the kernels manually\n",
    "\n",
    "The kernel maintains the state of a notebook's computations. You can reset this state by restarting the kernel. This is done by clicking on the <button class='btn btn-default btn-xs'><i class='fa fa-repeat icon-repeat'></i></button> in the toolbar above. \n",
    "\n",
    "**Note:** Restarting the kernel whipes the memory clean. \n",
    "<span style=\"color:red\">**Assignment (2 min):**</span>\n",
    "1. Execute the cell below. This will save the variable dna_seq, containing a short string of DNA sequence, in the memory. \n",
    "2. Now restart the kernel manually as described above. \n",
    "3. In the second cell below try showing the contents of dna_seq. \n",
    "\n",
    "Does python still know what dna_seq is? "
   ]
  },
  {
   "cell_type": "code",
   "execution_count": null,
   "metadata": {},
   "outputs": [],
   "source": [
    "dna_seq = 'ACCGTCAAA'\n",
    "dna_seq"
   ]
  },
  {
   "cell_type": "markdown",
   "metadata": {},
   "source": [
    "Restart the server using the button at the top of the notebook. "
   ]
  },
  {
   "cell_type": "code",
   "execution_count": null,
   "metadata": {},
   "outputs": [],
   "source": [
    "dna_seq"
   ]
  },
  {
   "cell_type": "markdown",
   "metadata": {},
   "source": [
    "## Large outputs\n",
    "\n",
    "To better handle large outputs, the output area can be collapsed. Run the following cell and then single- or double- click on the active area to the left of the output:"
   ]
  },
  {
   "cell_type": "code",
   "execution_count": null,
   "metadata": {
    "collapsed": true,
    "scrolled": true
   },
   "outputs": [],
   "source": [
    "for i in range(35):\n",
    "    print(i)"
   ]
  },
  {
   "cell_type": "markdown",
   "metadata": {},
   "source": [
    "### Plots: The power of powers\n",
    "\"The greatest shortcoming of the human race is our inability to understand the exponential function.\" --Albert Allen Bartlett (https://en.wikipedia.org/wiki/Albert_Allen_Bartlett)\n",
    "\n",
    "Exponential growth is fast. Consider a population of bacteria or cancer cells. Each generation each bacteria in the population divides in two. The code below shows the (perhaps surprising) rate of growth in the number of bacteria."
   ]
  },
  {
   "cell_type": "code",
   "execution_count": null,
   "metadata": {
    "collapsed": true
   },
   "outputs": [],
   "source": [
    "import matplotlib.pyplot as plt\n",
    "\n",
    "population_size = {0:1} # in generation 0 there is one bacteria\n",
    "for generation in range(1,59): # simulation of generations 1-24\n",
    "    population_size[generation] = population_size[generation-1]*2\n",
    "    \n",
    "plt.plot(list(population_size.values()))\n",
    "plt.show()"
   ]
  },
  {
   "cell_type": "markdown",
   "metadata": {},
   "source": [
    "<span style=\"color:red\">**Assignment (1 min):**</span>\n",
    "Write down the number of bacteria/cells after 25 generations. Change the number of generations in the cell above to 50 and notice the change on the y-axis. \n",
    "\n",
    "You doubled the number of generations. By how much did the number of bacteria increase? Are you surprised or not? "
   ]
  },
  {
   "cell_type": "code",
   "execution_count": null,
   "metadata": {
    "collapsed": true
   },
   "outputs": [],
   "source": []
  }
 ],
 "metadata": {
  "kernelspec": {
   "display_name": "Python 3",
   "language": "python",
   "name": "python3"
  },
  "language_info": {
   "codemirror_mode": {
    "name": "ipython",
    "version": 3
   },
   "file_extension": ".py",
   "mimetype": "text/x-python",
   "name": "python",
   "nbconvert_exporter": "python",
   "pygments_lexer": "ipython3",
   "version": "3.5.2"
  }
 },
 "nbformat": 4,
 "nbformat_minor": 1
}
