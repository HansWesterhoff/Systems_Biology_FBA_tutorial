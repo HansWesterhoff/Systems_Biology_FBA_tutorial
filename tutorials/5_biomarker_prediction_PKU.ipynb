{
 "cells": [
  {
   "cell_type": "markdown",
   "metadata": {},
   "source": [
    "# Applying Shlomi et al's biomarker prediction method to PKU on RECON2\n",
    "\n",
    "<p>**Authors**: Thierry D.G.A Mondeel, Stefania Astrologo, Ewelina Weglarz-Tomczak & Hans V. Westerhoff <br/>\n",
    "University of Amsterdam <br/>2017\n",
    "</p>\n",
    "\n",
    "The original publication looked at RECON2's predecessor RECON1. We will reproduce their analysis on RECON2 instead."
   ]
  },
  {
   "cell_type": "code",
   "execution_count": null,
   "metadata": {},
   "outputs": [],
   "source": [
    "import cobra\n",
    "from utils import findBiomarkers\n",
    "import pandas as pd\n",
    "\n",
    "from IPython.core.interactiveshell import InteractiveShell\n",
    "InteractiveShell.ast_node_interactivity = \"all\"\n",
    "\n",
    "M = cobra.io.load_json_model('models/recon_2_2_simple_medium.json')\n",
    "model = M.copy() # this way we can edit model but leave M unaltered"
   ]
  },
  {
   "cell_type": "markdown",
   "metadata": {},
   "source": [
    "<span style=\"color:red\">**Assignment (10 min):**</span> Take the previous tutorial's last command cell as a template (we already copy-pasted it for you) to do the same analysis here on the full RECON2 model and the PKU disease state. \n",
    "\n",
    "**Tips**\n",
    "- Don't reinvent the wheel, the idea is the same as the last tutorial.\n",
    "- Instead of giving 'R1' as the disease reaction you should now give the PKU gene HGNC:8582 or the two reactions it catalyzes as input. \n",
    "- Also think about the fact that there are two equivalent reactions that you have to account for not just one.\n",
    "- The number of exchange reactions here is much bigger than in the example. The FVA computation will take quite a bit longer as a result. It may take 2 minutes or so. "
   ]
  },
  {
   "cell_type": "code",
   "execution_count": null,
   "metadata": {
    "scrolled": false
   },
   "outputs": [],
   "source": [
    "exchanges = [ rxn for rxn in model.reactions if rxn.products == [] and 'EX_' in rxn.id ]\n",
    "\n",
    "# Shlomi et al suggested using the following medium: everything in (-1), everything out (unlimited)\n",
    "for rxn in exchanges:\n",
    "    rxn.lower_bound = -1\n",
    "    rxn.upper_bound = 999999\n",
    "        \n",
    "# to reduce computation time we check all amino acids + a couple neurotransmitters\n",
    "biomarkers_to_check = ['EX_his_L_e','EX_ile_L_e','EX_leu_L_e','EX_lys_L_e','EX_met_L_e',\n",
    "                       'EX_phe_L_e','EX_thr_L_e','EX_trp_L_e','EX_val_L_e','EX_cys_L_e',\n",
    "                       'EX_glu_L_e','EX_tyr_L_e','EX_ala_L_e','EX_asp_L_e','EX_gly_e',\n",
    "                       'EX_arg_L_e','EX_gln_L_e','EX_pro_L_e','EX_ser_L_e','EX_asn_L_e',\n",
    "                        'EX_dopa_e','EX_adrnl_e','EX_srtn_e']\n",
    "\n",
    "# UNCOMMENT & FIX THE LINE BELOW\n",
    "# findBiomarkers(model,fvaRxns=biomarkers_to_check,mods=[ADD THE PKU GENE HERE],synchronous=True)"
   ]
  },
  {
   "cell_type": "code",
   "execution_count": null,
   "metadata": {
    "collapsed": true
   },
   "outputs": [],
   "source": []
  },
  {
   "cell_type": "markdown",
   "metadata": {},
   "source": [
    "<span style=\"color:red\">**Assignment (3 min):**</span> If you see the prediction of the biofluids/tissue as the brain tissue: does the model correctly predict issues with neurotransmitters in the brain?\n"
   ]
  },
  {
   "cell_type": "markdown",
   "metadata": {},
   "source": [
    "<span style=\"color:red\">**Assignment (10 min):**</span>\n",
    "What biomarkers are predicted when you focus on blocking the cofactor biopterin recycling reactions that also produce PKU? To get you started we included some code below."
   ]
  },
  {
   "cell_type": "code",
   "execution_count": null,
   "metadata": {},
   "outputs": [],
   "source": [
    "model.reactions.DHPR.gene_reaction_rule, model.reactions.DHPR.reaction\n",
    "\n",
    "model.reactions.DHPR2.gene_reaction_rule,model.reactions.DHPR2.reaction\n",
    "\n",
    "model.reactions.r0398.gene_reaction_rule,model.reactions.r0398.reaction"
   ]
  },
  {
   "cell_type": "code",
   "execution_count": null,
   "metadata": {},
   "outputs": [],
   "source": [
    "# UNCOMMENT & FIX THE LINE BELOW\n",
    "# findBiomarkers(model,fvaRxns=biomarkers_to_check,mods=[ADD THE RELEVANT GENES HERE],synchronous=True)"
   ]
  },
  {
   "cell_type": "markdown",
   "metadata": {},
   "source": [
    "<span style=\"color:red\">**Assignment (3 min):**</span> Is this what you expected? If not, is the gene annotation perhaps an issue? Check what would happen if you gave 'findBiomarkers' the full list of reactions as input. "
   ]
  },
  {
   "cell_type": "code",
   "execution_count": null,
   "metadata": {},
   "outputs": [],
   "source": [
    "# Copy what you did above but give reactions as input"
   ]
  },
  {
   "cell_type": "markdown",
   "metadata": {},
   "source": [
    "<span style=\"color:red\">**Assignment (3 min):**</span> Are there any differences between the predictions for the two different ways to get PKU?"
   ]
  },
  {
   "cell_type": "code",
   "execution_count": null,
   "metadata": {
    "collapsed": true
   },
   "outputs": [],
   "source": []
  }
 ],
 "metadata": {
  "kernelspec": {
   "display_name": "Python 3",
   "language": "python",
   "name": "python3"
  },
  "language_info": {
   "codemirror_mode": {
    "name": "ipython",
    "version": 3
   },
   "file_extension": ".py",
   "mimetype": "text/x-python",
   "name": "python",
   "nbconvert_exporter": "python",
   "pygments_lexer": "ipython3",
   "version": "3.5.2"
  }
 },
 "nbformat": 4,
 "nbformat_minor": 1
}
