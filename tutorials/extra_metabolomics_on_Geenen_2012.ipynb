{
 "cells": [
  {
   "cell_type": "markdown",
   "metadata": {},
   "source": [
    "# Biomarkers and metabolomics in the (Geenen, 2012) model\n",
    "\n",
    "This is for advanced students or student projects. \n",
    "\n",
    "<span style=\"color:red\">**Assignment:**</span> Read the (Geenen, 2012) publication. \n",
    "\n",
    "<span style=\"color:red\">**Assignment:**</span> The teaching assistants can supply you with the kinetic model that works in Copasi. Try reproducing some of the results shown in the publication. Especially, the relationship between paracetamol increase and ophthalmic acid and oxoproline. "
   ]
  },
  {
   "cell_type": "markdown",
   "metadata": {},
   "source": [
    "<span style=\"color:red\">**Assignment:**</span> What, if anything, can we say about these biomarkers with FBA? Specifically, given the method by Shlomi et al?"
   ]
  },
  {
   "cell_type": "code",
   "execution_count": null,
   "metadata": {
    "scrolled": false
   },
   "outputs": [],
   "source": [
    "import cobra\n",
    "from cobra.solvers import get_solver_name\n",
    "from cobra import Model, Reaction, Metabolite\n",
    "from cobra.flux_analysis import parsimonious\n",
    "import pandas as pd\n",
    "from utils import show_map, findBiomarkers"
   ]
  },
  {
   "cell_type": "code",
   "execution_count": null,
   "metadata": {
    "collapsed": true
   },
   "outputs": [],
   "source": [
    "# set escher map\n",
    "map_loc = './maps/escher_map_geenen_2012.json'\n",
    "M = cobra.io.load_json_model('./models/Geenen_cobra_model.json')\n",
    "\n",
    "M.reactions.EX_v_v18.lower_bound = -1 # glut\n",
    "M.reactions.EX_v_v20.lower_bound = -1 # gly\n",
    "M.reactions.EX_v_v39.lower_bound = -1 # met\n",
    "M.reactions.EX_v_v41.lower_bound = -1 # bcys\n",
    "M.reactions.EX_v_v32.lower_bound = 0 # OPA\n",
    "M.reactions.EX_v_v38.lower_bound = 0 # OXO\n",
    "M.reactions.EX_v_v37.lower_bound = 0 # cysASG\n",
    "M.reactions.EX_v_v22.lower_bound = 0 # CH2THF\n",
    "\n",
    "exchanges = [rxn.id for rxn in M.reactions if rxn.products == [] or rxn.reactants == []]\n",
    "\n",
    "model = M.copy()"
   ]
  },
  {
   "cell_type": "markdown",
   "metadata": {},
   "source": [
    "## Analyze basic flux distributions"
   ]
  },
  {
   "cell_type": "markdown",
   "metadata": {},
   "source": [
    "When glutamate, glycine, methionine and cysteine are present in the medium paracetamol can be metabolized to an amount equal to the sum of input methionine and cysteine. The glutamate and glycine are recycled in a catabolism loop. "
   ]
  },
  {
   "cell_type": "code",
   "execution_count": null,
   "metadata": {
    "scrolled": false
   },
   "outputs": [],
   "source": [
    "model = M.copy()\n",
    "\n",
    "model.reactions.EX_para.lower_bound = -1000; model.reactions.EX_para.upper_bound = -20\n",
    "model.reactions.EX_v_v41.lower_bound = -10; model.reactions.EX_v_v41.upper_bound = 1000 # cys\n",
    "model.reactions.EX_v_v39.lower_bound = -10; model.reactions.EX_v_v39.upper_bound = 1000 # met\n",
    "model.reactions.EX_v_v18.lower_bound = -10; model.reactions.EX_v_v18.upper_bound = 1000 # glut\n",
    "model.reactions.EX_v_v20.lower_bound = -10; model.reactions.EX_v_v20.upper_bound = 1000 # gly\n",
    "# model.reactions.EX_v_v38.lower_bound = -10; model.reactions.EX_v_v38.upper_bound = 100 # oxo\n",
    "# model.reactions.EX_v_v32.lower_bound = -10; model.reactions.EX_v_v39.upper_bound = 100 # opa\n",
    "\n",
    "sol = cobra.flux_analysis.parsimonious.optimize_minimal_flux(model)\n",
    "b = show_map(sol,map_loc)\n",
    "b.save_html('./predictions/FBA_glu-gly-met-cys_loop.html',overwrite=True)\n",
    "b.display_in_notebook()"
   ]
  },
  {
   "cell_type": "markdown",
   "metadata": {},
   "source": [
    "Cysteine and glutamate are not needed now because of the loop with reactions 31 and 24"
   ]
  },
  {
   "cell_type": "markdown",
   "metadata": {},
   "source": [
    "<span style=\"color:red\">**Assignment:**</span> Can you stop this loop while producing cysASG?"
   ]
  },
  {
   "cell_type": "code",
   "execution_count": null,
   "metadata": {
    "collapsed": true
   },
   "outputs": [],
   "source": []
  },
  {
   "cell_type": "markdown",
   "metadata": {},
   "source": [
    "<span style=\"color:red\">**Assignment:**</span> What happens when we ask for ASG directly? "
   ]
  },
  {
   "cell_type": "code",
   "execution_count": null,
   "metadata": {},
   "outputs": [],
   "source": [
    "\n"
   ]
  },
  {
   "cell_type": "markdown",
   "metadata": {},
   "source": [
    "## Biomarker predictions using Shlomi et al.'s method\n",
    "<span style=\"color:red\">**Assignment:**</span> Use the findBiomarker function to predict changes in extracellular metabolite levels upon paracetamol influx. How does this depend on the medium? Specifically look at the oxoproline and ophthalmic acid predictions. Do they agree with the kinetic model? "
   ]
  },
  {
   "cell_type": "markdown",
   "metadata": {},
   "source": [
    "## Metabolomics predictor\n",
    "<span style=\"color:red\">**Assignment:**</span> Use the metabolomics parameter of findBiomarkers to predict metabolomics changes when varying paracetamol input (i.e. drug mode)."
   ]
  },
  {
   "cell_type": "code",
   "execution_count": null,
   "metadata": {
    "collapsed": true
   },
   "outputs": [],
   "source": []
  },
  {
   "cell_type": "markdown",
   "metadata": {},
   "source": [
    "### Internal bounds lower than external bounds\n",
    "Does this help?\n",
    "\n",
    "<span style=\"color:red\">**Assignment:**</span> Experiment with setting internal reactions bounds lower than external influxes of the virtual reactions. Does this change your results?"
   ]
  },
  {
   "cell_type": "code",
   "execution_count": null,
   "metadata": {
    "collapsed": true
   },
   "outputs": [],
   "source": []
  }
 ],
 "metadata": {
  "kernelspec": {
   "display_name": "Python 2",
   "language": "python",
   "name": "python2"
  },
  "language_info": {
   "codemirror_mode": {
    "name": "ipython",
    "version": 2
   },
   "file_extension": ".py",
   "mimetype": "text/x-python",
   "name": "python",
   "nbconvert_exporter": "python",
   "pygments_lexer": "ipython2",
   "version": "2.7.12"
  }
 },
 "nbformat": 4,
 "nbformat_minor": 1
}
