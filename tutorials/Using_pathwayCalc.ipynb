{
 "metadata": {
  "name": "",
  "signature": "sha256:074900115b1c71a4bd8e8cee70e332b15329efb5d2466c96ccf7358b7134b0dd"
 },
 "nbformat": 3,
 "nbformat_minor": 0,
 "worksheets": [
  {
   "cells": [
    {
     "cell_type": "code",
     "collapsed": false,
     "input": [
      "import cobra, math, pandas as pd, numpy as np\n",
      "from cobra.solvers import get_solver_name\n",
      "from cobra import Model, Reaction, Metabolite\n",
      "from cobra.flux_analysis import parsimonious\n",
      "from pathwayCalc import *\n",
      "\n",
      "# Load Recon2\n",
      "model = cobra.io.load_matlab_model('Recon2.v03_pythonCompatible.mat')"
     ],
     "language": "python",
     "metadata": {},
     "outputs": [],
     "prompt_number": 1
    },
    {
     "cell_type": "code",
     "collapsed": false,
     "input": [
      "# test case, just redo the lines below for a pathway of interest\n",
      "rxndict = {}\n",
      "rxndict[model.reactions.EX_glc_e] = -1\n",
      "rxndict[model.reactions.EX_o2_e] = -1\n",
      "\n",
      "rxndict[model.reactions.GluForTx] = 5\n",
      "\n",
      "pathwaydict = pathwayCalc(model,rxndict)\n"
     ],
     "language": "python",
     "metadata": {},
     "outputs": [
      {
       "output_type": "stream",
       "stream": "stdout",
       "text": [
        "Pathway balance found in: 0.0001380443573 seconds.\n",
        "{'glc_D_e': -1.0, 'glu_L_c': -5.0, 'forglu_c': 5.0, 'o2_e': -1.0, 'h_c': 5.0, '5forthf_c': -5.0, 'thf_c': 5.0}\n",
        "  Metabolites  Balance\n",
        "0     glc_D_e       -1\n",
        "1     glu_L_c       -5\n",
        "2    forglu_c        5\n",
        "3        o2_e       -1\n",
        "4         h_c        5\n",
        "5   5forthf_c       -5\n",
        "6       thf_c        5\n"
       ]
      }
     ],
     "prompt_number": 2
    },
    {
     "cell_type": "code",
     "collapsed": false,
     "input": [],
     "language": "python",
     "metadata": {},
     "outputs": []
    }
   ],
   "metadata": {}
  }
 ]
}