{
 "cells": [
  {
   "cell_type": "markdown",
   "metadata": {},
   "source": [
    "# Tutorial about stochastic gene expression using Gillespie algorithm\n",
    "## From Brownian motion to alterantive HIV treatment\n",
    "\n",
    "\n",
    "In this tutorial you will learn in detail about ..."
   ]
  },
  {
   "cell_type": "markdown",
   "metadata": {},
   "source": [
    "### Glossary\n",
    "\n",
    "> \n",
    "Across the tutorial you will encounter <span style=\"color:blueviolet\">**key words** </span> written in <span style=\"color:red\">**bold-red** </span>. The function  <span style=\"color:blueviolet\">**glossary( )** </span> have been created to allow you to search the definition of these words.\n",
    "> \n",
    "\n",
    "### Structure:\n",
    "> <span style=\"color:blueviolet\">**First section**</span> : short introduction about brownian motion as pardigm of stochatsic process;\n",
    "\n",
    "> <span style=\"color:blueviolet\">**Second section**</span> : introduction of relevant stochastic event in the cell: transcription & traslation\n",
    "\n",
    "> <span style=\"color:blueviolet\">**Third section**</span> : differences between **deterministic** & **stochastic** simulations\n"
   ]
  },
  {
   "cell_type": "code",
   "execution_count": 3,
   "metadata": {},
   "outputs": [],
   "source": [
    "# from glossary_function import glossary\n",
    "# (glossary('Brownian motion'))\n",
    "# print(glossary('Transcriptional bursting'))\n",
    "# print(glossary('HIV'))"
   ]
  },
  {
   "cell_type": "markdown",
   "metadata": {},
   "source": [
    "> **\"Life is a study in contrasts between <span style=\"color:blueviolet\">randomness</span> and <span style=\"color:blueviolet\">determinism</span>: ** from the chaos of biomolecular interactions to the precise coordination of development, living organisms are able to resolve these two seemingly contradictory aspects of their internal workings.\" \n",
    ">\n",
    "[Raj & van Oudenaarden, 2008](https://www.sciencedirect.com/science/article/pii/S0092867408012439?via%3Dihub)"
   ]
  },
  {
   "cell_type": "markdown",
   "metadata": {},
   "source": [
    "### Brownian motion as paradigm of stochastic processes\n",
    " \n",
    "> The discovery of <span style=\"color:red\">**Brownian motion** </span> predates the development of <span style=\"color:red\">**statistical mechanics** </span> and provided important insight to physicists of the early twentieth century in their first formulations of an atomic description of matter. \n",
    "\n",
    "\n",
    " \n",
    "<img src=\"Figures/Brownianmotion.gif\" style=\"width: 300px;\"/>\n",
    "\n",
    "> \n",
    ">Brownian motion was **discovered** somewhat serendipitously in **1828** by botanist **Robert Brown** while he was studying **pollen** under a microscope. Though many others before him had observed the jittery, random motion of fine particles in a fluid, Brown was the first to catalogue his observations and use them to test hypotheses about the nature of the motion.\n",
    "\n",
    ">The **first theoretical explanation** of the Brownian motion was given by A. **Einstein** in **1905** who had the idea to look a the problem from a **probabilistic** point of view by discarding all the microscopic details. He interpreted the Brownian motion as coming from the motion of a mesoscopic particle that continuously experiences collisions with the (much smaller) particles of the surrounding fluid. \n",
    "\n",
    ">Since then the Brownian Motion has become the **paradigm** of a large class of <span style=\"color:red\">**stochastic ** </span> processes and more generally to the statistical mechanics of non-equilibrium. "
   ]
  },
  {
   "cell_type": "code",
   "execution_count": 5,
   "metadata": {
    "collapsed": true
   },
   "outputs": [],
   "source": [
    "import numpy as np\n",
    "from scipy.integrate import odeint\n",
    "import matplotlib.pyplot as plt # package to make plot\n",
    "%matplotlib inline\n",
    "# my functions\n",
    "#     from glossary_function import glossary\n",
    "from brownian_function import brownian"
   ]
  },
  {
   "cell_type": "markdown",
   "metadata": {},
   "source": [
    "## To better grasp the meaning of randomness let's simulate it!"
   ]
  },
  {
   "cell_type": "markdown",
   "metadata": {},
   "source": [
    "><span style=\"color:blueviolet\">**Below** </span> you can find a model to make a stochastic simulation of Brownian motions. \n",
    ">\n",
    "> A **for loop** is used in order to repeat a number of time the simulation!\n",
    ">\n",
    "- <span style=\"color:blueviolet\">**Change** </span> the number of loops (in the cell below) and **observe** the result of multiple simulation using the same combination of parameters.\n",
    "- Can you <span style=\"color:blueviolet\">**reproduce** </span> the same result (plot)at least twice?"
   ]
  },
  {
   "cell_type": "code",
   "execution_count": 25,
   "metadata": {
    "scrolled": true
   },
   "outputs": [],
   "source": [
    "n_loops = 0 # <--- HERE!!\n",
    "\n",
    "# The Wiener process parameter.\n",
    "delta = 0.25 #It determins the speed of th process\n",
    "# Total time.\n",
    "T = 10.0\n",
    "# Number of steps.\n",
    "N = 500\n",
    "# Time step size\n",
    "dt = T/N\n",
    "# Initial values of x.\n",
    "x = np.empty((2,N+1))\n",
    "x[:, 0] = 0.0\n",
    "\n",
    "# --------------------------#\n",
    "\n",
    "# Plot the 2D trajectory.\n",
    "hfont = {'fontname':'Georgia'}\n",
    "\n",
    "for i in range(n_loops):\n",
    "    \n",
    "    brownian(x[:,0], N, dt, delta, out=x[:,1:])\n",
    "    # Plot the trajectory\n",
    "    plt.plot(x[0],x[1], 'k',label = 'tarjectory')\n",
    "    plt.xticks([]), plt.yticks([])\n",
    "    # Mark the start and end points.\n",
    "    plt.plot(x[0,0],x[1,0], 'g^', label = 'starting point')\n",
    "    plt.plot(x[0,-1], x[1,-1], 'r^', label = 'end point')\n",
    "    plt.legend()\n",
    "    # Other plot specifications\n",
    "    plt.rc('font', size = (10))\n",
    "    \n",
    "    plt.title('2D Brownian Motion',fontsize=16, **hfont)\n",
    "    plt.xlabel('x', fontsize=16, **hfont), plt.ylabel('y', fontsize=16,  **hfont)\n",
    "    \n",
    "    plt.axis('equal')\n",
    "    plt.grid(True)\n",
    "    plt.show() "
   ]
  },
  {
   "cell_type": "markdown",
   "metadata": {},
   "source": [
    ">\"Because such binding events are the result of **random** encounters between molecules, \n",
    "some of which are present in **small numbers**, the biochemical processes that regulate transcription initiation are \n",
    "inherently **stochastic**\" [Kærn et al., 2012](http://collinslab.mit.edu/files/stochasticity%20in%20gene.pdf).\n",
    "> "
   ]
  },
  {
   "cell_type": "markdown",
   "metadata": {},
   "source": [
    "\n",
    "<img src=\"Figures/What_is_a_burtsy_transcription.png\" style=\"width: 800px;\"/>\n"
   ]
  },
  {
   "cell_type": "markdown",
   "metadata": {},
   "source": [
    ">\"Because such binding events are the result of **random** encounters between molecules, \n",
    "some of which are present in **small numbers**, the biochemical processes that regulate transcription initiation are \n",
    "inherently **stochastic**\" [Kærn et al., 2012](http://collinslab.mit.edu/files/stochasticity%20in%20gene.pdf).\n",
    "> "
   ]
  },
  {
   "cell_type": "markdown",
   "metadata": {},
   "source": [
    "## <span a style=\"color:blue\">**Deterministic** </span> vs <span a style=\"color:green\">**Stochastic** </span> \n",
    "\n",
    "> <img src=\"Figures/analytical_sol.png\" alt=\"Drawing\" style=\"width: 200px; float:left;\"/> \n",
    "> *****\n",
    "><span a style=\"color:blue\">**Odinary differential equations (ODEs)** </span>\n",
    ">\n",
    "><span a style=\"color:green\">**Master equation** </span>\n",
    "> *****\n",
    "> <img src=\"Figures/numerical_sol.png\" alt=\"Drawing\" style=\"width: 200px; float:left;\"/> \n",
    "> *****\n",
    "><span a style=\"color:blue\">**Odinary differential equations (ODEs)** </span>\n",
    ">\n",
    "><span a style=\"color:green\">**Gillespie Algorithm** </span>"
   ]
  },
  {
   "cell_type": "markdown",
   "metadata": {},
   "source": [
    "><span a style=\"color:blue\">**Concetration of molecules** </span>\n",
    ">\n",
    "><span a style=\"color:green\">**Number of molecules** </span>\n",
    "> *****\n",
    "><span a style=\"color:blue\">**Future is predictable given present knowledge** </span>\n",
    ">\n",
    "><span a style=\"color:green\">**Includes randomness: Every simulation is different** </span>\n",
    "> *****\n",
    "><span a style=\"color:blue\">**Good for a large number of molecules; qualitative analysis** </span>\n",
    ">\n",
    "><span a style=\"color:green\">**Better for simulating dynamics with small numbers of molecules** </span>\n",
    "> *****\n",
    "><span a style=\"color:blue\">Represents population **average** </span>\n",
    ">\n",
    "><span a style=\"color:green\">Represents population **variability** </span>"
   ]
  },
  {
   "cell_type": "markdown",
   "metadata": {},
   "source": [
    "###  We will describe  <span a style=\"color:blueviolet\">**minimal model** </span> for bursty trasncription in both <span style=\"color:red\">**deterministic** </span> & <span style=\"color:red\">**stochastic** </span> mathematical model.\n",
    "<img src=\"Figures/minimal_burst_model.png\" alt=\"Drawing\" style=\"width: 500px;\"/> \n",
    "\n",
    "> \n",
    "**This model has just 3 parameter!** \n",
    "> "
   ]
  },
  {
   "cell_type": "markdown",
   "metadata": {},
   "source": [
    "## Let's start with a <span style=\"color:blueviolet\">deterministic </span> model.\n",
    "###  Calculate analytically the  <span style=\"color:red\">**average** </span> at <span style=\"color:red\">**steady state** </span>\n",
    "<img src=\"Figures/average_mRNA.png\" alt=\"Drawing\" style=\"width: 400px;\"/> \n",
    "> \n",
    "<span style=\"color:blueviolet\">**Solve** </span> the equation above and <span style=\"color:blueviolet\">**calculate** </span> the **average** number of mRNA at steady state:\n",
    "- for k_burst = 10, burst_size = 1, k_deg = 1;\n",
    "- for k_burst = 100, burst_size = 1, k_deg = 0.1;\n",
    "- for k_burst = 1, burst_size = 10, k_deg = 1;\n",
    "> "
   ]
  },
  {
   "cell_type": "code",
   "execution_count": 27,
   "metadata": {},
   "outputs": [
    {
     "name": "stdout",
     "output_type": "stream",
     "text": [
      "For k_burst = 10, burst_size = 1, k_deg = 1 the average number of mRNA is  123456 !\n",
      "\n",
      "For k_burst = 100, burst_size = 1, k_deg = 0.1 the average number of mRNA is  123456 !\n",
      "\n",
      "For k_burst = 1, burst_size = 10, k_deg = 1 the average number of mRNA is  123456 !\n"
     ]
    }
   ],
   "source": [
    "## Calculate and print!\n",
    "#example\n",
    "\n",
    "answer1 = 123456 #here you calculate\n",
    "answer2 = 123456 #here you calculate\n",
    "answer3 = 123456 #here you calculate\n",
    "\n",
    "print('For k_burst = 10, burst_size = 1, k_deg = 1 the average number of mRNA is ', answer1 , '!')\n",
    "print() # This empy line is just to space the answers\n",
    "print('For k_burst = 100, burst_size = 1, k_deg = 0.1 the average number of mRNA is ', answer2 , '!')\n",
    "print()\n",
    "print('For k_burst = 1, burst_size = 10, k_deg = 1 the average number of mRNA is ', answer3 , '!')"
   ]
  },
  {
   "cell_type": "markdown",
   "metadata": {},
   "source": [
    "###  Calculate numerically the  <span style=\"color:red\">**average** </span> at <span style=\"color:red\">**steady state** </span>\n",
    "><span style=\"color:blueviolet\">**odeint( )** </span> is a function that belongs to **scipy.integrate** package and helps **to integrate\n",
    "** a system of ordinary differential equations.\n",
    "- <span style=\"color:blueviolet\">**change** </span> the **parameters** in the following command cell;\n",
    "- <span style=\"color:blueviolet\">****check**** </span> if the **analystical solution** agree with **numerical** one!"
   ]
  },
  {
   "cell_type": "code",
   "execution_count": 81,
   "metadata": {
    "collapsed": true
   },
   "outputs": [],
   "source": [
    "# Parameters\n",
    "k_burst    = 50.0\n",
    "k_deg      = 1.0\n",
    "burst_size = 1.0\n",
    "\n",
    "params = [k_burst,k_deg, burst_size]\n",
    "\n",
    "# Initial conditions\n",
    "mRNA_0 = 0\n",
    "state = (mRNA_0)\n",
    "\n",
    "# Time\n",
    "dt = 0.1 # step size!\n",
    "t = np.arange(0,50,dt)"
   ]
  },
  {
   "cell_type": "code",
   "execution_count": 82,
   "metadata": {},
   "outputs": [
    {
     "data": {
      "image/png": "[encoded data removed]",
      "text/plain": [
       "<matplotlib.figure.Figure at 0x1a1b2adb38>"
      ]
     },
     "metadata": {},
     "output_type": "display_data"
    }
   ],
   "source": [
    "# We define a function ODE system (in format used for odeint)\n",
    "def ODE(state,t,params):\n",
    "    \n",
    "    kb, kd, b_size = params\n",
    "    \n",
    "    mRNA           = state\n",
    "\n",
    "    # rates\n",
    "    vt             = kb*b_size - kd*mRNA\n",
    "    \n",
    "    # equations\n",
    "    dmRNA_dt       = vt\n",
    "        \n",
    "    return (dmRNA_dt)\n",
    "\n",
    "# Solve using odeint\n",
    "solution = odeint(ODE,state,t,args=(params,)) \n",
    "tmRNA = solution[:,0]\n",
    "\n",
    "# Show over time\n",
    "plt.rc('font', size = (14))\n",
    "plt.figure(figsize=(14,5))\n",
    "plt.plot(t, tmRNA, 'b-', label='mRNA')\n",
    "plt.xlabel('Time') , plt.ylabel('# mRNA')\n",
    "plt.legend(loc='upper right', shadow=True)\n",
    "plt.show()\n",
    "\n",
    "# IF you want to save the plot use the following function!\n",
    "# plt.savefig(\"myplot.pdf\") "
   ]
  },
  {
   "cell_type": "markdown",
   "metadata": {},
   "source": [
    "## And now the <span style=\"color:blueviolet\">stochastic </span> counterpart.\n",
    "#### To do this we need to implement the <span style=\"color:red\">Gillespie algorithm </span>  that is stochastic simulation algorithm (SSA).\n",
    "#### It is used in probability theory generates a statistically correct <span style=\"color:red\">trajectory </span>  (possible solution) of a stochastic equation.\n",
    "\n",
    ">It was created by Joseph L. Doob and others (circa 1945), presented by Dan Gillespie in 1976, and popularized in 1977 in a [paper](https://pubs.acs.org/doi/abs/10.1021/j100540a008) where he uses it to simulate chemical or biochemical systems of reactions efficiently and accurately using limited computational power.\n",
    "#### Canonical steps of this algorithm are the following (math omitted):\n",
    "><span style=\"color:blueviolet\">**Initialization:** </span> \n",
    ">\n",
    "Initialise the number of molecules in the system, reaction constants, and random number generators.\n",
    ">\n",
    "<span style=\"color:blueviolet\">**Monte Carlo step:** </span>\n",
    ">\n",
    "\n",
    ">Generate **2 random numbers** to determine the next reaction to occur as well as the time interval. \n",
    "> \n",
    "The <span style=\"color:blueviolet\">**first** </span> random number is drawn from an **uniform distribution** (between 0-1).\n",
    "> \n",
    "This will allow to choose which reaction will take place in each iteration (bursting or degradation?).\n",
    ">\n",
    "**NB!** \n",
    ">The probability of a given reaction to be chosen is proportional to the number of substrate molecules.\n",
    ">\n",
    "- If the number of mRNA molecules is ZERO also the Probability to degrade them is ZERO!\n",
    ">\n",
    "> \n",
    "The <span style=\"color:blueviolet\">**second** </span> random number is drawn from an **exponential distribution** in which the parameter  **lambda** is the SUM of the propensities.\n",
    ">\n",
    "The time interval is exponentially distributed with mean.\n",
    ">\n",
    "<span style=\"color:blueviolet\">**Update:** </span>\n",
    ">\n",
    "Increase the time step by the randomly generated time in **Step 2**. Update the molecule count based on the reaction that occurred.\n",
    ">\n",
    "<span style=\"color:blueviolet\">**Iterate:** </span>\n",
    ">\n",
    "Go back to Step 2 unless the number of reactants is zero or the simulation time has been exceeded."
   ]
  },
  {
   "cell_type": "markdown",
   "metadata": {},
   "source": [
    "> Use <span style=\"color:blueviolet\">**Below** </span> you can find the implementation of the Gillespie algorithm <span style=\"color:blueviolet\">**calculate** </span> the **average** number of mRNA at steady state (you can see it from the plot!).\n",
    "- for k_burst = 10, burst_size = 1, k_deg = 1;\n",
    "- for k_burst = 100, burst_size = 1, k_deg = 0.1;\n",
    "- for k_burst = 1, burst_size = 10, k_deg = 1;"
   ]
  },
  {
   "cell_type": "markdown",
   "metadata": {},
   "source": [
    "<span style=\"color:blueviolet\">**Below** </span> you can find the implementation of the Gillespie algorithm <span style=\"color:blueviolet\">**calculate** </span> the **average** number of mRNA at steady state (you can see it from the plot!).\n",
    "- for k_burst = 10, burst_size = 1, k_deg = 1;\n",
    "- for k_burst = 100, burst_size = 1, k_deg = 0.1;\n",
    "- for k_burst = 1, burst_size = 10, k_deg = 1;"
   ]
  },
  {
   "cell_type": "code",
   "execution_count": 15,
   "metadata": {
    "collapsed": true
   },
   "outputs": [],
   "source": [
    "from gillespie_time_average_function import gillespie_time_average"
   ]
  },
  {
   "cell_type": "code",
   "execution_count": 16,
   "metadata": {
    "collapsed": true
   },
   "outputs": [],
   "source": [
    "# the output of this function are 2 lists: time_steps(time points) &  mRNA_trajectory (mRNA content for each of them)\n",
    "\n",
    "time_steps, mRNA_trajectory = gillespie_time_average(N_RUNS = 5000, k_burst = 50.0, k_deg = 1.0, burst_size = 1.0) "
   ]
  },
  {
   "cell_type": "code",
   "execution_count": 17,
   "metadata": {},
   "outputs": [
    {
     "data": {
      "image/png": "[encoded data removed]",
      "text/plain": [
       "<matplotlib.figure.Figure at 0x1a17f9a320>"
      ]
     },
     "metadata": {},
     "output_type": "display_data"
    }
   ],
   "source": [
    "#PLOT the trajectory\n",
    "\n",
    "average_line = len(mRNA_trajectory)*[np.mean(mRNA_trajectory)]\n",
    "plt.rc('font', size = (14))\n",
    "plt.figure(figsize=(14,5))\n",
    "hfont = {'fontname':'Georgia'}\n",
    "plt.plot(time_steps, mRNA_trajectory, 'b-', label='mRNA')\n",
    "plt.plot(time_steps, average_line, 'k--', label='average')\n",
    "plt.xlabel('Time') , plt.ylabel('# mRNA')\n",
    "plt.legend(loc='upper right', shadow=True)\n",
    "plt.xlim(0.0,50)\n",
    "plt.show()"
   ]
  },
  {
   "cell_type": "code",
   "execution_count": 18,
   "metadata": {},
   "outputs": [
    {
     "data": {
      "image/png": "[encoded data removed]",
      "text/plain": [
       "<matplotlib.figure.Figure at 0x1a181263c8>"
      ]
     },
     "metadata": {},
     "output_type": "display_data"
    }
   ],
   "source": [
    "# PLOT the distribution using plt.hist()\n",
    "plt.rc('font', size = (12))\n",
    "plt.figure(figsize=(5,5))\n",
    "plt.hist(mRNA_trajectory[100:], color= 'blue',normed =True,label='mRNA', bins = np.arange(max(mRNA_trajectory)*1.4));\n",
    "plt.xlabel('# mRNA') , plt.ylabel('Probability')\n",
    "plt.xlim(0, max(mRNA_trajectory)*1.4)\n",
    "plt.legend(loc='upper right')\n",
    "plt.title('Time average distribution')\n",
    "plt.show()"
   ]
  },
  {
   "cell_type": "markdown",
   "metadata": {},
   "source": [
    "### A feature of some stochastic process is the  <span style=\"color:red\">**ergodicity** </span>\n",
    "> \n",
    "A random process is ergodic if its <span style=\"color:red\">**time average** </span>  is the same as its average over the probability space, known in the field of thermodynamics as its <span style=\"color:red\">**ensemble average** </span>\" (Feller, 2008)\n",
    ">\n",
    "> The following illustration shows 4 tarjectories of the mRNA content in 4 cells.\n",
    ">\n",
    "> The **probability distribution** of one cell across a window of time **recapitulate** the probability distribution of an ensable of cells in each time point.\n",
    ">\n",
    "> **NB** Obviusly the N of cells have to be bigger than 4 :)\n",
    "\n",
    "<img src=\"Figures/ergodicity.png\" style=\"width: 600px;\"/>"
   ]
  },
  {
   "cell_type": "markdown",
   "metadata": {},
   "source": [
    "><span style=\"color:blueviolet\">**gillespie_ensemble( )** </span> is a function that has the same **core gillespie steps**, but it iterates across a large number of cells.\n",
    ">\n",
    "><span style=\"color:blueviolet\">**Adapt** </span> the code above:\n",
    "- <span style=\"color:blueviolet\">**to plot** </span> in **histogram** of the ensemble distribution;\n",
    "- <span style=\"color:blueviolet\">**to calculate** </span> the **moments** (mean, variance & Fano factor);\n",
    "- <span style=\"color:blueviolet\">**to reply to the following question:** </span> is this stochatsic system **ergodic**?"
   ]
  },
  {
   "cell_type": "code",
   "execution_count": 8,
   "metadata": {
    "collapsed": true
   },
   "outputs": [],
   "source": [
    "from gillespie_ensemble_function import gillespie_ensemble\n",
    "ensemble_distr = gillespie_ensemble(N_CELLS=1000, k_burst=50.0, k_deg=1.0, burst_size=1.0)"
   ]
  },
  {
   "cell_type": "code",
   "execution_count": 23,
   "metadata": {},
   "outputs": [],
   "source": [
    "# ensemble_distr_mean  = ?\n",
    "# ensemble_distr_var   = ?\n",
    "# ensemble_distr_Fano  = ?\n",
    "\n",
    "# *************************\n",
    "\n",
    "# print('This is the mean of the ensemble distribution: ', ensemble_distr_mean)\n",
    "# write the code to print also the other!!\n",
    "\n",
    "# *************************\n",
    "\n",
    "# PLOT the distribution using plt.hist()   \n",
    "# You can adapt the code above, from the MENU/Edit use 'Find and Replace'\n",
    "# This option will allow you to replace in the previuos code 'mRNA_trajectory' with 'ensemble_distr'!!\n"
   ]
  },
  {
   "cell_type": "markdown",
   "metadata": {},
   "source": [
    "## **HIV cell cycle and current treatmnets** "
   ]
  },
  {
   "cell_type": "markdown",
   "metadata": {},
   "source": [
    "<img src=\"Figures/HIV-lifecylce.png\" alt=\"Drawing\" style=\"width: 400px;\"/>"
   ]
  }
 ],
 "metadata": {
  "kernelspec": {
   "display_name": "py36",
   "language": "python",
   "name": "py36"
  },
  "language_info": {
   "codemirror_mode": {
    "name": "ipython",
    "version": 3
   },
   "file_extension": ".py",
   "mimetype": "text/x-python",
   "name": "python",
   "nbconvert_exporter": "python",
   "pygments_lexer": "ipython3",
   "version": "3.6.4"
  }
 },
 "nbformat": 4,
 "nbformat_minor": 2
}
