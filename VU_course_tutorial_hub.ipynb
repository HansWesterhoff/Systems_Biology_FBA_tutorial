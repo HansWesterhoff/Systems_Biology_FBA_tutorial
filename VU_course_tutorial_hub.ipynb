{
  "cells": [
    {
      "cell_type": "markdown",
      "source": [
        "# Systems Biology and Medicine Practical: Flux Balance Analysis in Python\n",
        "**Authors**: Thierry D.G.A Mondeel, Stefania Astrologo, Ewelina Weglarz-Tomczak & Hans V. Westerhoff <br/>\n",
        "University of Amsterdam <br/>2016-2019\n",
        "\n",
        "## Important notes before we begin\n",
        "\n",
        "- These notebooks will remain online during the course (and after). \n",
        "\n",
        "- <span style=\"color:red\">**Note:** ONCE YOU LOG OUT (or click away the tab in your browser), or if the system crashes, YOUR WORK IS NOT SAVED!</span>\n",
        "\n",
        "### How to save your work\n",
        "Whenever you take a break, stop for the day, or every half hour or so save your notebook to your local computer storage:\n",
        "- \"File -> Download as -> Notebook\". \n",
        "\n",
        "When you open this tutorial again at a later date you can upload your saved notebooks in the \"Tree view\" (where you end up after clicking the Binder image on the initial website). Simply click the \"Upload\" button in the top-right corner in Tree view and upload your saved notebook. \n",
        "\n",
        "### Table of Contents and Assignments\n",
        "At the bottom of this page you will find a the table of contents linking to all the notebooks. **Return here when you finish each one**. \n",
        "\n",
        "Through the various notebooks we have set up some assignments for you to complete. These are highlighted in red, with a time estimate for how long you should roughly spend on this, as follows:\n",
        "\n",
        "<span style=\"color:red\">**Assignment (3 min):**</span> Read the sections below.\n",
        "\n",
        "### Golden rule\n",
        "**<span style=\"color:red\">Golden rule:</span>** Ask one of the teaching assistants if anything is unclear!\n",
        "\n",
        "## FBA with Python and CobraPy\n",
        "The aim of this tutorial is to bring your conceptual understanding of constraint-based modeling (flux balance analysis or \"FBA\") into practice and to apply it to the human metabolic reconstruction \"Recon\". \n",
        "\n",
        "There are various software packages that enable the user to perform COnstraint-Based Reconstruction and Analysis (COBRA). We will use: [Cobrapy](https://opencobra.github.io/cobrapy/). \n",
        "\n",
        "<span style=\"color:red\">**Assignment (3 min):**</span> Visit the [COBRA website](https://opencobra.github.io/), scroll down and read the \"What is COBRA?\" section.\n",
        "\n",
        "To perform flux balance analysis with Cobrapy you need to understand at least the basics of the [Python](https://www.python.org/) programming language. \n",
        "\n",
        "As an introduction, the first two tutorials will cover the basics of the Jupyter notebook interface and Python. If you already have experience with Python feel free to skim (not skip) the first part. Even if you already have some experience there may be some tips and tricks in the first part that will come in handy later.\n",
        "\n",
        "After the Python introduction we will introduce Cobrapy and how to do computational analysis on the human metabolic reconstruction.\n",
        "\n",
        "Happy learning!\n",
        "\n\n",
        "## Table of Contents\n",
        "The links below will take you to various parts of this tutorial. \n",
        "\n",
        "**Tutorial Day 1**\n",
        "- [Getting to know the Jupyter notebook interface](./FBA_tutorials/0_running_code_in_notebook.ipynb) ~ 30 min\n",
        "- [Python essentials](./FBA_tutorials/1_introduction_to_python.ipynb) ~ 45 min\n",
        "- [A crash course on flux balance analysis](./FBA_tutorials/2_introduction_to_FBA_FVA_RECON2.ipynb) ~ 90 min\n",
        "\n",
        "**Tutorial Day 2**\n",
        "- [Investigating phenylketonuria on the human metabolic map](./FBA_tutorials/3_Phenylketonuria_network_illustration.ipynb) ~ 60 min\n",
        "\n",
        "**Additional material / Project: biomarker prediction using flux variability analysis**\n",
        "- [The biomarker prediction method by Shlomi et al.](./FBA_tutorials/4_biomarker_prediction_Schlomi_example.ipynb) ~ 30 min\n",
        "- [Predicting biomarkers for phenylketonuria](./FBA_tutorials/5_biomarker_prediction_PKU.ipynb) ~ 60 min\n",
        "\n\n",
        "**Additional material / Project: Metabolism of e. coli and rhodospirillum rubrum**\n",
        "- [Playing with the e. coli core model](./FBA_tutorials/extra_exploring_ecoli_core.ipynb) **Note:** this may also be performed with a core model for rhodospirillum rubrum (ask your TA!)"
      ],
      "metadata": {}
    },
    {
      "cell_type": "markdown",
      "source": [],
      "metadata": {}
    }
  ],
  "metadata": {
    "kernelspec": {
      "name": "python3",
      "language": "python",
      "display_name": "Python 3"
    },
    "language_info": {
      "name": "python",
      "version": "3.6.1",
      "mimetype": "text/x-python",
      "codemirror_mode": {
        "name": "ipython",
        "version": 3
      },
      "pygments_lexer": "ipython3",
      "nbconvert_exporter": "python",
      "file_extension": ".py"
    },
    "toc": {
      "nav_menu": {},
      "number_sections": true,
      "sideBar": true,
      "skip_h1_title": false,
      "toc_cell": false,
      "toc_position": {},
      "toc_section_display": "block",
      "toc_window_display": false
    },
    "kernel_info": {
      "name": "python3"
    },
    "nteract": {
      "version": "0.12.3"
    }
  },
  "nbformat": 4,
  "nbformat_minor": 2
}