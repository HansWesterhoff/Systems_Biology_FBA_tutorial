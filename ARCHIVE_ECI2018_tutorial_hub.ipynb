{
 "cells": [
  {
   "cell_type": "markdown",
   "metadata": {},
   "source": [
    "# Systems Biology and Medicine Practical: Flux Balance Analysis in Python\n",
    "**Authors**: Thierry D.G.A Mondeel, Stefania Astrologo, Ewelina Weglarz-Tomczak & Hans V. Westerhoff <br/>\n",
    "University of Amsterdam <br/>2016-2018\n",
    "\n",
    "\n",
    "## Your work is not automatically saved!\n",
    "These notebooks will remain available online before, during and after the practicals. \n",
    "\n",
    "<span style=\"color:red\">**Note:** ONCE YOU LOG OUT (or click away the tab in your browser) YOUR WORK IS NOT SAVED!</span>\n",
    "\n",
    "## Two ways to save your work\n",
    "If you wish to keep these notebooks with the adjustments you make, do this: \n",
    "- \"File -> Download as -> Notebook\". When you open this tutorial at a later date you can upload your saved notebooks in the \"Tree view\" (where you end up after clicking the Binder image on the initial website). Simply click the \"Upload\" button in the top-right corner in Tree view and upload your saved notebook. \n",
    "\n",
    "## Assignments\n",
    "Through the various notebooks we have set up some assignments for you to complete. These will be highlighted in red, occasionally including a time estimate for how long you should maximally spend on this, as follows:\n",
    "\n",
    "<span style=\"color:red\">**Assignment (2 min):**</span> Read the introduction section below.\n",
    "\n",
    "## Introduction\n",
    "This notebook serves as the hub for the flux balance analysis practicals. The aim of this tutorial is to introduce you to constraint-based modeling and the applications of the human metabolic reconstruction RECON2. At the bottom you will find the table of contents linking to all the various subjects and assignments spread over various notebooks. Return here when you finish each one. \n",
    "\n",
    "**<span style=\"color:red\">Golden rule:</span>** Ask one of the teaching assistants if anything is unclear!\n",
    "\n",
    "There are various software packages that enable the user to perform COnstraint-Based Reconstruction and Analysis (COBRA). We will use the Python based: [Cobrapy](https://github.com/opencobra/cobrapy). \n",
    "\n",
    "<span style=\"color:red\">**Assignment (3 min):**</span> Visit the [COBRA website](https://opencobra.github.io/) and read the secion \"What is COBRA?\".\n",
    "\n",
    "To perform flux balance analysis with Cobrapy you need to understand at least the basics of python. Therefore, the first two tutorials will cover the basics of the Jupyter interface and Python. If you already have experience with Python feel free to skim (not skip) the first part. Even if you already have some experience there may be some tips and tricks in the first part that will come in handy later.\n",
    "\n",
    "After the Python introduction we will introduce Cobrapy and how to do computational analysis on the human metabolic reconstruction.\n",
    "\n",
    "Happy learning!\n",
    "\n",
    "\n",
    "## Table of Contents\n",
    "The links below will take you to various parts of this tutorial. \n",
    "\n",
    "- [Getting to know the Jupyter notebook interface](./FBA_tutorials/0_running_code_in_notebook.ipynb) ~ < 20 min\n",
    "- [Python essentials](./FBA_tutorials/1_introduction_to_python.ipynb) ~ 40 min\n",
    "- [A crash course on flux balance analysis](./FBA_tutorials/2_introduction_to_FBA_FVA_RECON2.ipynb) ~ 60 min\n",
    "- [Integrating cancer cell line transcriptomics on the human metabolic map](./FBA_tutorials/6_Cancer_cell_line_models.ipynb) ~ 60 min"
   ]
  },
  {
   "cell_type": "markdown",
   "metadata": {},
   "source": [
    "## Concluding remarks\n",
    "We hope this tutorial achieved its aims to:\n",
    "* Introduce you to programming with Python\n",
    "* Illustrate the uses and pitfalls of flux balance analysis\n",
    "* Show you some real life examples of using metabolic maps and flux balance analysis\n",
    "* Illustrate how genome-wide metabolic maps may be used to go beyond \"textbook understanding\" of pathways and show novel unexpected alternative ways to achieve metabolic tasks.\n",
    "* Highlight one interesting way to use metabolic maps by integrating transcriptomics data of cancer cell lines"
   ]
  },
  {
   "cell_type": "code",
   "execution_count": null,
   "metadata": {},
   "outputs": [],
   "source": []
  }
 ],
 "metadata": {
  "kernelspec": {
   "display_name": "Python 3",
   "language": "python",
   "name": "python3"
  },
  "language_info": {
   "codemirror_mode": {
    "name": "ipython",
    "version": 3
   },
   "file_extension": ".py",
   "mimetype": "text/x-python",
   "name": "python",
   "nbconvert_exporter": "python",
   "pygments_lexer": "ipython3",
   "version": "3.6.1"
  },
  "toc": {
   "nav_menu": {},
   "number_sections": true,
   "sideBar": true,
   "skip_h1_title": false,
   "toc_cell": false,
   "toc_position": {},
   "toc_section_display": "block",
   "toc_window_display": false
  }
 },
 "nbformat": 4,
 "nbformat_minor": 2
}
