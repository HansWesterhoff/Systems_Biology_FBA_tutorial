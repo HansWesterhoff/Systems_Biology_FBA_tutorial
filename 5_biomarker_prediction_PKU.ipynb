{
 "cells": [
  {
   "cell_type": "markdown",
   "metadata": {},
   "source": [
    "### Applying Shlomi et al's biomarker prediction method to PKU on RECON2\n",
    "The original publication looked at RECON2's predecessor RECON1. We will reproduce their analysis on RECON2 instead."
   ]
  },
  {
   "cell_type": "code",
   "execution_count": null,
   "metadata": {
    "collapsed": false
   },
   "outputs": [],
   "source": [
    "import cobra\n",
    "from cobra import Model, Reaction, Metabolite\n",
    "from cobrapyTools import * # collection of my own scripts\n",
    "import pandas as pd\n",
    "pd.set_option('display.max_colwidth', -1)\n",
    "\n",
    "model = cobra.io.read_sbml_model(\"models/Recon2.v04_pythonComp.xml\")"
   ]
  },
  {
   "cell_type": "markdown",
   "metadata": {},
   "source": [
    "### Assignment: biomarker prediction do it yourself\n",
    "Take the previous tutorial's last command cell as a template (we already copy-pasted it for you) to do the same analysis here on the full RECON2 model and the PKU disease state. \n",
    "\n",
    "**Tips**\n",
    "- Don't reinvent the wheel, the idea is the same as the last tutorial.\n",
    "- Instead of giving 'R1' as the disease reaction you should now give the PKU enzyme reactions. \n",
    "- Also think about the fact that there are two equivalent reactions that you have to account for not just one.\n",
    "- The number of exchange reactions here is much bigger than in the example. The FVA computation will take quite a bit longer as a result. It may take 2 minutes or so. "
   ]
  },
  {
   "cell_type": "code",
   "execution_count": null,
   "metadata": {
    "collapsed": false,
    "scrolled": false
   },
   "outputs": [],
   "source": [
    "exchanges = [ rxn for rxn in model.reactions if rxn.products == [] \n",
    "             and rxn.boundary == 'system_boundary']\n",
    "for rxn in exchanges:\n",
    "    if rxn.lower_bound < 0:\n",
    "        rxn.lower_bound = -999999\n",
    "    if rxn.upper_bound > 0:\n",
    "        rxn.upper_bound = 999999\n",
    "        \n",
    "exchangesIds = [rxn.id for rxn in exchanges]\n",
    "T = findBiomarkers(model,[??Do something here??],exchangesIds,eps=1); T"
   ]
  },
  {
   "cell_type": "markdown",
   "metadata": {},
   "source": [
    "### Question\n",
    "If you see the prediction of the biofluids/tissue as the brain tissue: does the model correctly predict issues with neurotransmitters in the brain? "
   ]
  },
  {
   "cell_type": "markdown",
   "metadata": {},
   "source": [
    "### Bonus assignment\n",
    "What biomarkers are predicted when you focus on blocking the cofactor biopterin recycling reactions that also produce PKU? To get you started we included some code below."
   ]
  },
  {
   "cell_type": "code",
   "execution_count": null,
   "metadata": {
    "collapsed": false
   },
   "outputs": [],
   "source": [
    "print model.reactions.DHPR.genes\n",
    "print model.reactions.DHPR2.genes\n",
    "print model.reactions.r0398.genes\n",
    "\n",
    "T = findBiomarkers(model,[??Do something here??],exchangesIds,eps=1); T"
   ]
  },
  {
   "cell_type": "markdown",
   "metadata": {},
   "source": [
    "### Question\n",
    "Are there any differences between the predictions for the two different ways to get PKU?"
   ]
  },
  {
   "cell_type": "code",
   "execution_count": null,
   "metadata": {
    "collapsed": true
   },
   "outputs": [],
   "source": []
  }
 ],
 "metadata": {
  "kernelspec": {
   "display_name": "Python 2",
   "language": "python",
   "name": "python2"
  },
  "language_info": {
   "codemirror_mode": {
    "name": "ipython",
    "version": 2
   },
   "file_extension": ".py",
   "mimetype": "text/x-python",
   "name": "python",
   "nbconvert_exporter": "python",
   "pygments_lexer": "ipython2",
   "version": "2.7.12"
  }
 },
 "nbformat": 4,
 "nbformat_minor": 0
}
