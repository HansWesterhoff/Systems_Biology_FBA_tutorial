{
 "cells": [
  {
   "cell_type": "markdown",
   "metadata": {},
   "source": [
    "# Getting to know RECON2 with FBA and FVA"
   ]
  },
  {
   "cell_type": "markdown",
   "metadata": {},
   "source": [
    "Authors: Thierry D.G.A. Mondeel & Hans V. Westerhoff  <br/>\n",
    "University of Amsterdam <br/>2016"
   ]
  },
  {
   "cell_type": "markdown",
   "metadata": {},
   "source": [
    "Loading the model may take 10 seconds. "
   ]
  },
  {
   "cell_type": "code",
   "execution_count": null,
   "metadata": {
    "collapsed": false
   },
   "outputs": [],
   "source": [
    "import cameo # the constraint-based modeling package\n",
    "from cobrapyTools import * # a collection of useful scripts by Thierry\n",
    "import pandas as pd # for nice tables\n",
    "pd.set_option('display.max_colwidth', -1)\n",
    "\n",
    "%time M = cameo.load_model(\"models/Recon2.v04_pythonComp.json\",sanitize=False)\n",
    "model = M.copy() # this way we can edit model but leave M unaltered\n",
    "model"
   ]
  },
  {
   "cell_type": "markdown",
   "metadata": {},
   "source": [
    "## Model properties"
   ]
  },
  {
   "cell_type": "code",
   "execution_count": null,
   "metadata": {
    "collapsed": false,
    "scrolled": true
   },
   "outputs": [],
   "source": [
    "model.medium"
   ]
  },
  {
   "cell_type": "markdown",
   "metadata": {},
   "source": [
    "The reactions in RECON2 are categorized in various compartments. "
   ]
  },
  {
   "cell_type": "code",
   "execution_count": null,
   "metadata": {
    "collapsed": false
   },
   "outputs": [],
   "source": [
    "model.compartments"
   ]
  },
  {
   "cell_type": "markdown",
   "metadata": {},
   "source": [
    "### Question\n",
    "Do you know the biological role of all these compartments?\n",
    "\n",
    "See here for more information: http://www.ncbi.nlm.nih.gov/books/NBK26907/"
   ]
  },
  {
   "cell_type": "markdown",
   "metadata": {},
   "source": [
    "### Assignment\n",
    "Write a for loop that prints the number of metabolites in each compartment.\n",
    "\n",
    "**Tip:** Within the for loop make use of a list comprehension that finds metabolites in a specific compartment."
   ]
  },
  {
   "cell_type": "code",
   "execution_count": null,
   "metadata": {
    "collapsed": true
   },
   "outputs": [],
   "source": []
  },
  {
   "cell_type": "markdown",
   "metadata": {},
   "source": [
    "## Enzyme encoding genes"
   ]
  },
  {
   "cell_type": "markdown",
   "metadata": {},
   "source": [
    "Find the gene encoding the enzyme for a particular reaction (if it is known). We will take the reaction converting phenylalanine to tyrosine."
   ]
  },
  {
   "cell_type": "code",
   "execution_count": null,
   "metadata": {
    "collapsed": false
   },
   "outputs": [],
   "source": [
    "model.reactions.PHETHPTOX2"
   ]
  },
  {
   "cell_type": "code",
   "execution_count": null,
   "metadata": {
    "collapsed": false
   },
   "outputs": [],
   "source": [
    "print model.reactions.PHETHPTOX2.gene_name_reaction_rule"
   ]
  },
  {
   "cell_type": "markdown",
   "metadata": {},
   "source": [
    "### Assignment\n",
    "Look this gene ID 5053 up in the uniprot database and check that it is correctly annotated. URL: http://www.uniprot.org\n",
    "\n",
    "Also check that the reaction itself is correct."
   ]
  },
  {
   "cell_type": "markdown",
   "metadata": {},
   "source": [
    "## Flux bounds and printing reaction properties"
   ]
  },
  {
   "cell_type": "code",
   "execution_count": null,
   "metadata": {
    "collapsed": false
   },
   "outputs": [],
   "source": [
    "model.reactions.r0399"
   ]
  },
  {
   "cell_type": "markdown",
   "metadata": {},
   "source": [
    "### Assignment\n",
    "Compare reaction r0399 and the earlier PHETHPTOX2 reaction. What is their relationship? Are they encoded by the same gene or different genes? Check this."
   ]
  },
  {
   "cell_type": "code",
   "execution_count": null,
   "metadata": {
    "collapsed": true
   },
   "outputs": [],
   "source": []
  },
  {
   "cell_type": "markdown",
   "metadata": {},
   "source": [
    "### Assignment\n",
    "Try to print in the cell below all the reactions (not just their names but their reaction equations) that phenylalanine engages in"
   ]
  },
  {
   "cell_type": "code",
   "execution_count": null,
   "metadata": {
    "collapsed": true
   },
   "outputs": [],
   "source": []
  },
  {
   "cell_type": "markdown",
   "metadata": {},
   "source": [
    "## Performing Flux Balance Analysis"
   ]
  },
  {
   "cell_type": "code",
   "execution_count": null,
   "metadata": {
    "collapsed": false
   },
   "outputs": [],
   "source": [
    "model.objective.expression"
   ]
  },
  {
   "cell_type": "code",
   "execution_count": null,
   "metadata": {
    "collapsed": false
   },
   "outputs": [],
   "source": [
    "sol = cameo.pfba(model)\n",
    "print 'Solution status: {}'.format(model.solution.status) # see if everything went OK\n",
    "print 'Objective value: {}'.format(model.solution.fluxes['biomass_reaction'])"
   ]
  },
  {
   "cell_type": "markdown",
   "metadata": {},
   "source": [
    "### Assignment\n",
    "Write a list comprehension in the cell below that calculates the total flux, i.e. the sum of all fluxes. We already added the print command for you.\n",
    "\n",
    "You can check that you did it right by asking for the value of sol.objective_value"
   ]
  },
  {
   "cell_type": "code",
   "execution_count": null,
   "metadata": {
    "collapsed": false
   },
   "outputs": [],
   "source": [
    "total_flux = sum([]) # write a list comprehension here, make use of sol.data_frame.flux\n",
    "# make sure you take the absolute value of the flux (use abs()) so that negative fluxes (going in the backward direction) \n",
    "# are not reducing the total flux value\n",
    "print 'Total flux: {}'.format(total_flux)"
   ]
  },
  {
   "cell_type": "markdown",
   "metadata": {},
   "source": [
    "### Are essential amino acids essential?"
   ]
  },
  {
   "cell_type": "markdown",
   "metadata": {},
   "source": [
    "We will now look into which reactions the model predicts to be essential for growth. "
   ]
  },
  {
   "cell_type": "markdown",
   "metadata": {},
   "source": [
    "### Assignment method 1: look at the output of pFBA.\n",
    "Use the cell below to print all non-zero flux values. Try to look at the exchange reactions (starting with \"EX_\") in particular. They represent what medium components were used. Are all 9 essential amino acids actually predicted to be needed by the model?"
   ]
  },
  {
   "cell_type": "code",
   "execution_count": null,
   "metadata": {
    "collapsed": false,
    "scrolled": true
   },
   "outputs": [],
   "source": [
    "fbaTable = pd.DataFrame( { 'Name' : list( model.reactions ),\n",
    "                'Lb' : [model.reactions[i].lower_bound for i in range(len(model.reactions)) ],\n",
    "                'Ub' : [model.reactions[i].upper_bound for i in range(len(model.reactions)) ],\n",
    "                'Flux' : model.solution.x  } )\n",
    "fbaTable = fbaTable[['Name','Flux','Lb','Ub']]\n",
    "fbaTable[abs(fbaTable.Flux) > 0]"
   ]
  },
  {
   "cell_type": "markdown",
   "metadata": {},
   "source": [
    "### Assignment Method 2: Calculating the essential genes using flux variability analysis\n",
    "This is built-in in cameo under the model.essential_reactions() function. See the code cell below.\n",
    "\n",
    "Are the \"essential\" amino acids predicted to be essential?\n",
    "\n",
    "Compare the number of essential reactions predicted here, with the number of reactions you got when doing pFBA? \n",
    "Why did pFBA give you more reactions?"
   ]
  },
  {
   "cell_type": "code",
   "execution_count": null,
   "metadata": {
    "collapsed": false,
    "scrolled": true
   },
   "outputs": [],
   "source": [
    "model = M.copy()\n",
    "ess_rxns = model.essential_reactions()\n",
    "\n",
    "print '{} reactions are essential for growth\\n\\n'.format(len(ess_rxns))\n",
    "\n",
    "fbaTable = pd.DataFrame( { 'ID' : [rxn.id for rxn in ess_rxns],\n",
    "                'Name' : [rxn.name for rxn in ess_rxns],\n",
    "                'Reaction' : [rxn.reaction for rxn in ess_rxns]  } )\n",
    "fbaTable[['ID','Name','Reaction']]"
   ]
  },
  {
   "cell_type": "markdown",
   "metadata": {},
   "source": [
    "### Question: Are the PHETHPTOX2 and r0399 reactions essential? \n",
    "If yes, why? If not, why not?"
   ]
  },
  {
   "cell_type": "markdown",
   "metadata": {},
   "source": [
    "### Deletions\n",
    "We will now block r0399 and see what happens. "
   ]
  },
  {
   "cell_type": "code",
   "execution_count": null,
   "metadata": {
    "collapsed": false,
    "scrolled": true
   },
   "outputs": [],
   "source": [
    "model.reactions.r0399.upper_bound = 0; model.reactions.r0399.lower_bound = 0;\n",
    "\n",
    "ess_rxns2 = model.essential_reactions()\n",
    "\n",
    "print '{} reactions are essential for growth\\n\\n'.format(len(ess_rxns2))\n",
    "\n",
    "fbaTable = pd.DataFrame( { 'ID' : [rxn.id for rxn in ess_rxns2],\n",
    "                'Name' : [rxn.name for rxn in ess_rxns2],\n",
    "                'Reaction' : [rxn.reaction for rxn in ess_rxns2]  } )\n",
    "fbaTable[['ID','Name','Reaction']]"
   ]
  },
  {
   "cell_type": "markdown",
   "metadata": {},
   "source": [
    "### Question: What changed and why?"
   ]
  },
  {
   "cell_type": "markdown",
   "metadata": {},
   "source": [
    "These reactions are newly essential"
   ]
  },
  {
   "cell_type": "code",
   "execution_count": null,
   "metadata": {
    "collapsed": false
   },
   "outputs": [],
   "source": [
    "for rxn in ess_rxns2:\n",
    "    if rxn not in ess_rxns :\n",
    "        print '{} \\t {} \\t {}'.format(rxn.id,rxn.name,rxn.reaction)"
   ]
  },
  {
   "cell_type": "markdown",
   "metadata": {
    "collapsed": false
   },
   "source": [
    "### Assignment\n",
    "Knockout the gene encoding both the PHETHPTOX2 and r0399 reactions and see what happens if you optimize for growth. What do you expect? Is that what you see?\n",
    "\n",
    "We already wrote the code that knocks out the gene for you. You should add the FBA simulation and print the flux through the biomass reaction"
   ]
  },
  {
   "cell_type": "code",
   "execution_count": null,
   "metadata": {
    "collapsed": false
   },
   "outputs": [],
   "source": [
    "model = M.copy() # start fresh\n",
    "\n",
    "print model.reactions.PHETHPTOX2.genes # list the gene\n",
    "\n",
    "model.genes.g1573.knock_out() # knock it out\n",
    "\n",
    "# check that it worked\n",
    "model.reactions.PHETHPTOX2.upper_bound "
   ]
  },
  {
   "cell_type": "code",
   "execution_count": null,
   "metadata": {
    "collapsed": true
   },
   "outputs": [],
   "source": []
  }
 ],
 "metadata": {
  "kernelspec": {
   "display_name": "Python 2 (Ubuntu, plain)",
   "language": "python",
   "name": "python2-ubuntu"
  },
  "language_info": {
   "codemirror_mode": {
    "name": "ipython",
    "version": 2
   },
   "file_extension": ".py",
   "mimetype": "text/x-python",
   "name": "python",
   "nbconvert_exporter": "python",
   "pygments_lexer": "ipython2",
   "version": "2.7.10"
  }
 },
 "nbformat": 4,
 "nbformat_minor": 0
}
